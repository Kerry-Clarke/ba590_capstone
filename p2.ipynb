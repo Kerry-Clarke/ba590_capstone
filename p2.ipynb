{
 "cells": [
  {
   "cell_type": "code",
   "execution_count": 1,
   "metadata": {},
   "outputs": [],
   "source": [
    "# import data preprocessing and visualization packages \n",
    "import numpy as np\n",
    "import pandas as pd\n",
    "import matplotlib.pyplot as plt\n",
    "%matplotlib inline\n",
    "plt.style.use('ggplot')\n",
    "import seaborn as sns\n",
    "sns.set(style=\"darkgrid\")"
   ]
  },
  {
   "cell_type": "code",
   "execution_count": 2,
   "metadata": {},
   "outputs": [
    {
     "data": {
      "text/html": [
       "<div>\n",
       "<style scoped>\n",
       "    .dataframe tbody tr th:only-of-type {\n",
       "        vertical-align: middle;\n",
       "    }\n",
       "\n",
       "    .dataframe tbody tr th {\n",
       "        vertical-align: top;\n",
       "    }\n",
       "\n",
       "    .dataframe thead th {\n",
       "        text-align: right;\n",
       "    }\n",
       "</style>\n",
       "<table border=\"1\" class=\"dataframe\">\n",
       "  <thead>\n",
       "    <tr style=\"text-align: right;\">\n",
       "      <th></th>\n",
       "      <th>ACT</th>\n",
       "      <th>SAT Math USE</th>\n",
       "      <th>SAT Reading USE</th>\n",
       "      <th>SAT Total USE</th>\n",
       "      <th>RGPA</th>\n",
       "      <th>High School GPA</th>\n",
       "      <th>IR Score</th>\n",
       "      <th>Class Rank</th>\n",
       "      <th>Class Size</th>\n",
       "      <th>Class Percentile</th>\n",
       "    </tr>\n",
       "  </thead>\n",
       "  <tbody>\n",
       "    <tr>\n",
       "      <th>0</th>\n",
       "      <td>NaN</td>\n",
       "      <td>NaN</td>\n",
       "      <td>NaN</td>\n",
       "      <td>NaN</td>\n",
       "      <td>2.15</td>\n",
       "      <td>NaN</td>\n",
       "      <td>NaN</td>\n",
       "      <td>213.0</td>\n",
       "      <td>213.0</td>\n",
       "      <td>0.00</td>\n",
       "    </tr>\n",
       "    <tr>\n",
       "      <th>1</th>\n",
       "      <td>NaN</td>\n",
       "      <td>450.0</td>\n",
       "      <td>440.0</td>\n",
       "      <td>890.0</td>\n",
       "      <td>2.52</td>\n",
       "      <td>NaN</td>\n",
       "      <td>NaN</td>\n",
       "      <td>137.0</td>\n",
       "      <td>138.0</td>\n",
       "      <td>0.01</td>\n",
       "    </tr>\n",
       "    <tr>\n",
       "      <th>2</th>\n",
       "      <td>18.0</td>\n",
       "      <td>NaN</td>\n",
       "      <td>NaN</td>\n",
       "      <td>NaN</td>\n",
       "      <td>1.24</td>\n",
       "      <td>NaN</td>\n",
       "      <td>NaN</td>\n",
       "      <td>65.0</td>\n",
       "      <td>66.0</td>\n",
       "      <td>0.02</td>\n",
       "    </tr>\n",
       "    <tr>\n",
       "      <th>3</th>\n",
       "      <td>NaN</td>\n",
       "      <td>NaN</td>\n",
       "      <td>NaN</td>\n",
       "      <td>NaN</td>\n",
       "      <td>1.90</td>\n",
       "      <td>NaN</td>\n",
       "      <td>NaN</td>\n",
       "      <td>121.0</td>\n",
       "      <td>125.0</td>\n",
       "      <td>0.03</td>\n",
       "    </tr>\n",
       "    <tr>\n",
       "      <th>4</th>\n",
       "      <td>NaN</td>\n",
       "      <td>NaN</td>\n",
       "      <td>NaN</td>\n",
       "      <td>NaN</td>\n",
       "      <td>NaN</td>\n",
       "      <td>NaN</td>\n",
       "      <td>NaN</td>\n",
       "      <td>109.0</td>\n",
       "      <td>113.0</td>\n",
       "      <td>0.04</td>\n",
       "    </tr>\n",
       "  </tbody>\n",
       "</table>\n",
       "</div>"
      ],
      "text/plain": [
       "    ACT  SAT Math USE  SAT Reading USE  SAT Total USE  RGPA  High School GPA  \\\n",
       "0   NaN           NaN              NaN            NaN  2.15              NaN   \n",
       "1   NaN         450.0            440.0          890.0  2.52              NaN   \n",
       "2  18.0           NaN              NaN            NaN  1.24              NaN   \n",
       "3   NaN           NaN              NaN            NaN  1.90              NaN   \n",
       "4   NaN           NaN              NaN            NaN   NaN              NaN   \n",
       "\n",
       "   IR Score  Class Rank  Class Size  Class Percentile  \n",
       "0       NaN       213.0       213.0              0.00  \n",
       "1       NaN       137.0       138.0              0.01  \n",
       "2       NaN        65.0        66.0              0.02  \n",
       "3       NaN       121.0       125.0              0.03  \n",
       "4       NaN       109.0       113.0              0.04  "
      ]
     },
     "execution_count": 2,
     "metadata": {},
     "output_type": "execute_result"
    }
   ],
   "source": [
    "# read in the file that has the continuous variables \n",
    "df = pd.read_csv('data/continuous.csv')\n",
    "df.head()"
   ]
  },
  {
   "cell_type": "code",
   "execution_count": 3,
   "metadata": {},
   "outputs": [
    {
     "name": "stdout",
     "output_type": "stream",
     "text": [
      "[0, 0, 0, 0, 0, 0, 0, 0, 0, 0]\n"
     ]
    }
   ],
   "source": [
    "# replace null value using the mean\n",
    "for value in df.columns:\n",
    "    df.fillna(df.mean(), inplace=True)\n",
    "print(df.isnull().sum(axis=0).tolist())"
   ]
  },
  {
   "cell_type": "markdown",
   "metadata": {},
   "source": [
    "## Skew Handling"
   ]
  },
  {
   "cell_type": "code",
   "execution_count": 4,
   "metadata": {},
   "outputs": [
    {
     "data": {
      "image/png": "[encoded data removed]",
      "text/plain": [
       "<Figure size 432x288 with 12 Axes>"
      ]
     },
     "metadata": {
      "needs_background": "light"
     },
     "output_type": "display_data"
    }
   ],
   "source": [
    "# examine distribution of each column\n",
    "for col in df.columns:\n",
    "    df.hist(color='blue')\n",
    "    break\n",
    "plt.show()"
   ]
  },
  {
   "cell_type": "code",
   "execution_count": 5,
   "metadata": {},
   "outputs": [
    {
     "data": {
      "text/plain": [
       "ACT                -0.922700\n",
       "SAT Math USE       -0.441862\n",
       "SAT Reading USE    -1.043565\n",
       "SAT Total USE      -0.985630\n",
       "RGPA               -0.556218\n",
       "High School GPA    -1.426204\n",
       "IR Score           -1.159820\n",
       "Class Rank          6.881370\n",
       "Class Size          3.690420\n",
       "Class Percentile    3.828382\n",
       "dtype: float64"
      ]
     },
     "execution_count": 5,
     "metadata": {},
     "output_type": "execute_result"
    }
   ],
   "source": [
    "# examine the skew of each column\n",
    "df.skew()"
   ]
  },
  {
   "cell_type": "code",
   "execution_count": 8,
   "metadata": {},
   "outputs": [
    {
     "data": {
      "text/plain": [
       "0.3218699386882305"
      ]
     },
     "execution_count": 8,
     "metadata": {},
     "output_type": "execute_result"
    }
   ],
   "source": [
    "df['Class Rank'] = np.sqrt(df['Class Rank'])\n",
    "df['Class Rank'].skew()"
   ]
  },
  {
   "cell_type": "code",
   "execution_count": 9,
   "metadata": {},
   "outputs": [
    {
     "data": {
      "text/plain": [
       "-0.08107096882802513"
      ]
     },
     "execution_count": 9,
     "metadata": {},
     "output_type": "execute_result"
    }
   ],
   "source": [
    "df['Class Size'] = np.sqrt(df['Class Size'])\n",
    "df['Class Size'].skew()"
   ]
  },
  {
   "cell_type": "code",
   "execution_count": 10,
   "metadata": {},
   "outputs": [
    {
     "data": {
      "text/plain": [
       "-0.33115333121391183"
      ]
     },
     "execution_count": 10,
     "metadata": {},
     "output_type": "execute_result"
    }
   ],
   "source": [
    "df['Class Percentile'] = np.sqrt(df['Class Percentile'])\n",
    "df['Class Percentile'].skew()"
   ]
  },
  {
   "cell_type": "code",
   "execution_count": 11,
   "metadata": {},
   "outputs": [
    {
     "data": {
      "text/plain": [
       "ACT                -0.922700\n",
       "SAT Math USE       -0.441862\n",
       "SAT Reading USE    -1.043565\n",
       "SAT Total USE      -0.985630\n",
       "RGPA               -0.556218\n",
       "High School GPA    -1.426204\n",
       "IR Score           -1.159820\n",
       "Class Rank          0.321870\n",
       "Class Size         -0.081071\n",
       "Class Percentile   -0.331153\n",
       "dtype: float64"
      ]
     },
     "execution_count": 11,
     "metadata": {},
     "output_type": "execute_result"
    }
   ],
   "source": [
    "# re-exmaine skew for each column\n",
    "df.skew()"
   ]
  },
  {
   "cell_type": "code",
   "execution_count": 12,
   "metadata": {},
   "outputs": [
    {
     "data": {
      "image/png": "[encoded data removed]",
      "text/plain": [
       "<Figure size 432x288 with 12 Axes>"
      ]
     },
     "metadata": {
      "needs_background": "light"
     },
     "output_type": "display_data"
    }
   ],
   "source": [
    "# examine distribution of each column\n",
    "for col in df.columns:\n",
    "    df.hist(color='blue')\n",
    "    break\n",
    "plt.show()"
   ]
  },
  {
   "cell_type": "markdown",
   "metadata": {},
   "source": [
    "## Outlier Handling using Upper and Lower Bounds of 3 Standard Deviations"
   ]
  },
  {
   "cell_type": "code",
   "execution_count": 13,
   "metadata": {},
   "outputs": [],
   "source": [
    "# write a for loop that replaces any upper outlier value with the defined upper bound value \n",
    "for col in df.columns:\n",
    "    u_bound = df[col].mean() + 3* df[col].std()\n",
    "    df[col][df[col] > u_bound] = u_bound"
   ]
  },
  {
   "cell_type": "code",
   "execution_count": 14,
   "metadata": {},
   "outputs": [
    {
     "data": {
      "text/plain": [
       "False    59305\n",
       "Name: Class Percentile, dtype: int64"
      ]
     },
     "execution_count": 14,
     "metadata": {},
     "output_type": "execute_result"
    }
   ],
   "source": [
    "# check\n",
    "pd.Series(df[col][df[col]] > u_bound).value_counts()"
   ]
  },
  {
   "cell_type": "code",
   "execution_count": 15,
   "metadata": {},
   "outputs": [],
   "source": [
    "# write a for loop that replaces any lower outlier value with the defined lower bound value \n",
    "for col in df.columns:\n",
    "    l_bound = df[col].mean() - 3* df[col].std()\n",
    "    df[col][df[col] < l_bound] = l_bound"
   ]
  },
  {
   "cell_type": "code",
   "execution_count": 16,
   "metadata": {},
   "outputs": [
    {
     "data": {
      "text/plain": [
       "False    59305\n",
       "Name: Class Percentile, dtype: int64"
      ]
     },
     "execution_count": 16,
     "metadata": {},
     "output_type": "execute_result"
    }
   ],
   "source": [
    "# check\n",
    "pd.Series(df[col][df[col]] < l_bound).value_counts()"
   ]
  },
  {
   "cell_type": "code",
   "execution_count": 18,
   "metadata": {},
   "outputs": [
    {
     "data": {
      "image/png": "[encoded data removed]",
      "text/plain": [
       "<Figure size 432x288 with 1 Axes>"
      ]
     },
     "metadata": {
      "needs_background": "light"
     },
     "output_type": "display_data"
    }
   ],
   "source": [
    "# boxplot of the ACT feature\n",
    "plt.boxplot(df['ACT'], whis='range')\n",
    "plt.show()"
   ]
  },
  {
   "cell_type": "code",
   "execution_count": 17,
   "metadata": {},
   "outputs": [
    {
     "data": {
      "text/plain": [
       "Text(0.5, 1.0, 'RGPA')"
      ]
     },
     "execution_count": 17,
     "metadata": {},
     "output_type": "execute_result"
    },
    {
     "data": {
      "image/png": "[encoded data removed]",
      "text/plain": [
       "<Figure size 1080x360 with 2 Axes>"
      ]
     },
     "metadata": {
      "needs_background": "light"
     },
     "output_type": "display_data"
    }
   ],
   "source": [
    "# boxplots for the High School GPA and RGPA features \n",
    "fig = plt.figure(figsize=(15,5))\n",
    "plt.tight_layout()\n",
    "\n",
    "# specify the subplots \n",
    "ax1 = fig.add_subplot(1,2,1)\n",
    "ax2 = fig.add_subplot(1,2,2)\n",
    "\n",
    "# specify graphs for each plot \n",
    "ax1.boxplot(df['High School GPA'], whis='range')\n",
    "ax2.boxplot(df['RGPA'], whis='range')\n",
    "\n",
    "# set titles for each plot \n",
    "ax1.set_title('High School GPA')\n",
    "ax2.set_title('RGPA')"
   ]
  },
  {
   "cell_type": "code",
   "execution_count": 19,
   "metadata": {},
   "outputs": [
    {
     "data": {
      "text/plain": [
       "{'whiskers': [<matplotlib.lines.Line2D at 0x7f838de12b00>,\n",
       "  <matplotlib.lines.Line2D at 0x7f838de12e80>],\n",
       " 'caps': [<matplotlib.lines.Line2D at 0x7f838de21240>,\n",
       "  <matplotlib.lines.Line2D at 0x7f838de215c0>],\n",
       " 'boxes': [<matplotlib.lines.Line2D at 0x7f838de127b8>],\n",
       " 'medians': [<matplotlib.lines.Line2D at 0x7f838de21940>],\n",
       " 'fliers': [<matplotlib.lines.Line2D at 0x7f838de21cc0>],\n",
       " 'means': []}"
      ]
     },
     "execution_count": 19,
     "metadata": {},
     "output_type": "execute_result"
    },
    {
     "data": {
      "image/png": "[encoded data removed]",
      "text/plain": [
       "<Figure size 432x288 with 1 Axes>"
      ]
     },
     "metadata": {
      "needs_background": "light"
     },
     "output_type": "display_data"
    }
   ],
   "source": [
    "# boxplot for IR Score feature \n",
    "plt.boxplot(df['IR Score'], whis='range')"
   ]
  },
  {
   "cell_type": "code",
   "execution_count": 20,
   "metadata": {},
   "outputs": [
    {
     "data": {
      "text/plain": [
       "{'whiskers': [<matplotlib.lines.Line2D at 0x7f838df4e438>,\n",
       "  <matplotlib.lines.Line2D at 0x7f838df4e7b8>],\n",
       " 'caps': [<matplotlib.lines.Line2D at 0x7f838df4eb38>,\n",
       "  <matplotlib.lines.Line2D at 0x7f838df4eeb8>],\n",
       " 'boxes': [<matplotlib.lines.Line2D at 0x7f838df4e0f0>],\n",
       " 'medians': [<matplotlib.lines.Line2D at 0x7f838df5a278>],\n",
       " 'fliers': [<matplotlib.lines.Line2D at 0x7f838df5a5f8>],\n",
       " 'means': []}"
      ]
     },
     "execution_count": 20,
     "metadata": {},
     "output_type": "execute_result"
    },
    {
     "data": {
      "image/png": "[encoded data removed]",
      "text/plain": [
       "<Figure size 432x288 with 1 Axes>"
      ]
     },
     "metadata": {
      "needs_background": "light"
     },
     "output_type": "display_data"
    }
   ],
   "source": [
    "# boxplot for Class Percentile feature \n",
    "plt.boxplot(df['Class Percentile'], whis='range')"
   ]
  },
  {
   "cell_type": "code",
   "execution_count": 21,
   "metadata": {},
   "outputs": [
    {
     "data": {
      "text/plain": [
       "Text(0.5, 1.0, 'Class Size')"
      ]
     },
     "execution_count": 21,
     "metadata": {},
     "output_type": "execute_result"
    },
    {
     "data": {
      "image/png": "[encoded data removed]",
      "text/plain": [
       "<Figure size 1080x360 with 2 Axes>"
      ]
     },
     "metadata": {
      "needs_background": "light"
     },
     "output_type": "display_data"
    }
   ],
   "source": [
    "# boxplots for Class Rank and Class Size features \n",
    "fig = plt.figure(figsize=(15,5))\n",
    "plt.tight_layout()\n",
    "\n",
    "# specify subplots \n",
    "ax1 = fig.add_subplot(1,2,1)\n",
    "ax2 = fig.add_subplot(1,2,2)\n",
    "\n",
    "# specify graphs for each plot \n",
    "ax1.boxplot(df['Class Rank'], whis='range')\n",
    "ax2.boxplot(df['Class Size'], whis='range')\n",
    "\n",
    "# add titles to each plot \n",
    "ax1.set_title('Class Rank')\n",
    "ax2.set_title('Class Size')"
   ]
  },
  {
   "cell_type": "code",
   "execution_count": 22,
   "metadata": {},
   "outputs": [
    {
     "data": {
      "text/plain": [
       "Text(0.5, 1.0, 'SAT Total')"
      ]
     },
     "execution_count": 22,
     "metadata": {},
     "output_type": "execute_result"
    },
    {
     "data": {
      "image/png": "[encoded data removed]",
      "text/plain": [
       "<Figure size 1080x720 with 3 Axes>"
      ]
     },
     "metadata": {
      "needs_background": "light"
     },
     "output_type": "display_data"
    }
   ],
   "source": [
    "# boxplots for SAT features \n",
    "fig = plt.figure(figsize=(15,10))\n",
    "plt.tight_layout()\n",
    "\n",
    "# specify subplots \n",
    "ax1 = fig.add_subplot(2,2,1)\n",
    "ax2 = fig.add_subplot(2,2,2)\n",
    "ax3 = fig.add_subplot(2,2,3)\n",
    "\n",
    "# specify graphs for each plot \n",
    "ax1.boxplot(df['SAT Math USE'], whis='range')\n",
    "ax2.boxplot(df['SAT Reading USE'], whis='range')\n",
    "ax3.boxplot(df['SAT Total USE'], whis='range')\n",
    "\n",
    "# add title for each plot \n",
    "ax1.set_title('SAT Math')\n",
    "ax2.set_title('SAT Reading')\n",
    "ax3.set_title('SAT Total')"
   ]
  },
  {
   "cell_type": "markdown",
   "metadata": {},
   "source": [
    "## Scaling using Z-Score"
   ]
  },
  {
   "cell_type": "code",
   "execution_count": 23,
   "metadata": {},
   "outputs": [
    {
     "data": {
      "text/html": [
       "<div>\n",
       "<style scoped>\n",
       "    .dataframe tbody tr th:only-of-type {\n",
       "        vertical-align: middle;\n",
       "    }\n",
       "\n",
       "    .dataframe tbody tr th {\n",
       "        vertical-align: top;\n",
       "    }\n",
       "\n",
       "    .dataframe thead th {\n",
       "        text-align: right;\n",
       "    }\n",
       "</style>\n",
       "<table border=\"1\" class=\"dataframe\">\n",
       "  <thead>\n",
       "    <tr style=\"text-align: right;\">\n",
       "      <th></th>\n",
       "      <th>ACT</th>\n",
       "      <th>SAT Math USE</th>\n",
       "      <th>SAT Reading USE</th>\n",
       "      <th>SAT Total USE</th>\n",
       "      <th>RGPA</th>\n",
       "      <th>High School GPA</th>\n",
       "      <th>IR Score</th>\n",
       "      <th>Class Rank</th>\n",
       "      <th>Class Size</th>\n",
       "      <th>Class Percentile</th>\n",
       "    </tr>\n",
       "  </thead>\n",
       "  <tbody>\n",
       "    <tr>\n",
       "      <th>count</th>\n",
       "      <td>5.930500e+04</td>\n",
       "      <td>5.930500e+04</td>\n",
       "      <td>5.930500e+04</td>\n",
       "      <td>5.930500e+04</td>\n",
       "      <td>5.930500e+04</td>\n",
       "      <td>5.930500e+04</td>\n",
       "      <td>5.930500e+04</td>\n",
       "      <td>5.930500e+04</td>\n",
       "      <td>5.930500e+04</td>\n",
       "      <td>5.930500e+04</td>\n",
       "    </tr>\n",
       "    <tr>\n",
       "      <th>mean</th>\n",
       "      <td>-3.940843e-15</td>\n",
       "      <td>-5.061441e-16</td>\n",
       "      <td>-2.541444e-15</td>\n",
       "      <td>5.720765e-15</td>\n",
       "      <td>-5.427466e-16</td>\n",
       "      <td>-1.866377e-14</td>\n",
       "      <td>1.495249e-16</td>\n",
       "      <td>-4.591181e-16</td>\n",
       "      <td>2.328179e-15</td>\n",
       "      <td>1.303550e-16</td>\n",
       "    </tr>\n",
       "    <tr>\n",
       "      <th>std</th>\n",
       "      <td>1.000008e+00</td>\n",
       "      <td>1.000008e+00</td>\n",
       "      <td>1.000008e+00</td>\n",
       "      <td>1.000008e+00</td>\n",
       "      <td>1.000008e+00</td>\n",
       "      <td>1.000008e+00</td>\n",
       "      <td>1.000008e+00</td>\n",
       "      <td>1.000008e+00</td>\n",
       "      <td>1.000008e+00</td>\n",
       "      <td>1.000008e+00</td>\n",
       "    </tr>\n",
       "    <tr>\n",
       "      <th>min</th>\n",
       "      <td>-3.456857e+00</td>\n",
       "      <td>-3.182200e+00</td>\n",
       "      <td>-3.260786e+00</td>\n",
       "      <td>-3.270119e+00</td>\n",
       "      <td>-3.064933e+00</td>\n",
       "      <td>-4.285455e+00</td>\n",
       "      <td>-4.247275e+00</td>\n",
       "      <td>-3.637981e+00</td>\n",
       "      <td>-3.701231e+00</td>\n",
       "      <td>-3.011022e+00</td>\n",
       "    </tr>\n",
       "    <tr>\n",
       "      <th>25%</th>\n",
       "      <td>-1.820966e-02</td>\n",
       "      <td>-1.043258e-02</td>\n",
       "      <td>-1.839892e-02</td>\n",
       "      <td>-1.827863e-02</td>\n",
       "      <td>-3.655563e-01</td>\n",
       "      <td>-2.423055e-02</td>\n",
       "      <td>-2.065985e-02</td>\n",
       "      <td>1.000040e-01</td>\n",
       "      <td>5.450826e-02</td>\n",
       "      <td>1.746246e-01</td>\n",
       "    </tr>\n",
       "    <tr>\n",
       "      <th>50%</th>\n",
       "      <td>-1.820966e-02</td>\n",
       "      <td>-1.043258e-02</td>\n",
       "      <td>-1.839892e-02</td>\n",
       "      <td>-1.827863e-02</td>\n",
       "      <td>-5.294679e-03</td>\n",
       "      <td>-2.423055e-02</td>\n",
       "      <td>-2.065985e-02</td>\n",
       "      <td>1.000040e-01</td>\n",
       "      <td>5.450826e-02</td>\n",
       "      <td>1.746246e-01</td>\n",
       "    </tr>\n",
       "    <tr>\n",
       "      <th>75%</th>\n",
       "      <td>-1.820966e-02</td>\n",
       "      <td>-1.043258e-02</td>\n",
       "      <td>-1.839892e-02</td>\n",
       "      <td>-1.827863e-02</td>\n",
       "      <td>5.399697e-01</td>\n",
       "      <td>-2.423055e-02</td>\n",
       "      <td>-2.065985e-02</td>\n",
       "      <td>1.000040e-01</td>\n",
       "      <td>5.450826e-02</td>\n",
       "      <td>1.746246e-01</td>\n",
       "    </tr>\n",
       "    <tr>\n",
       "      <th>max</th>\n",
       "      <td>3.543256e+00</td>\n",
       "      <td>3.193580e+00</td>\n",
       "      <td>3.237655e+00</td>\n",
       "      <td>3.252288e+00</td>\n",
       "      <td>3.056205e+00</td>\n",
       "      <td>4.752290e+00</td>\n",
       "      <td>4.758976e+00</td>\n",
       "      <td>4.079933e+00</td>\n",
       "      <td>4.082211e+00</td>\n",
       "      <td>3.231471e+00</td>\n",
       "    </tr>\n",
       "  </tbody>\n",
       "</table>\n",
       "</div>"
      ],
      "text/plain": [
       "                ACT  SAT Math USE  SAT Reading USE  SAT Total USE  \\\n",
       "count  5.930500e+04  5.930500e+04     5.930500e+04   5.930500e+04   \n",
       "mean  -3.940843e-15 -5.061441e-16    -2.541444e-15   5.720765e-15   \n",
       "std    1.000008e+00  1.000008e+00     1.000008e+00   1.000008e+00   \n",
       "min   -3.456857e+00 -3.182200e+00    -3.260786e+00  -3.270119e+00   \n",
       "25%   -1.820966e-02 -1.043258e-02    -1.839892e-02  -1.827863e-02   \n",
       "50%   -1.820966e-02 -1.043258e-02    -1.839892e-02  -1.827863e-02   \n",
       "75%   -1.820966e-02 -1.043258e-02    -1.839892e-02  -1.827863e-02   \n",
       "max    3.543256e+00  3.193580e+00     3.237655e+00   3.252288e+00   \n",
       "\n",
       "               RGPA  High School GPA      IR Score    Class Rank  \\\n",
       "count  5.930500e+04     5.930500e+04  5.930500e+04  5.930500e+04   \n",
       "mean  -5.427466e-16    -1.866377e-14  1.495249e-16 -4.591181e-16   \n",
       "std    1.000008e+00     1.000008e+00  1.000008e+00  1.000008e+00   \n",
       "min   -3.064933e+00    -4.285455e+00 -4.247275e+00 -3.637981e+00   \n",
       "25%   -3.655563e-01    -2.423055e-02 -2.065985e-02  1.000040e-01   \n",
       "50%   -5.294679e-03    -2.423055e-02 -2.065985e-02  1.000040e-01   \n",
       "75%    5.399697e-01    -2.423055e-02 -2.065985e-02  1.000040e-01   \n",
       "max    3.056205e+00     4.752290e+00  4.758976e+00  4.079933e+00   \n",
       "\n",
       "         Class Size  Class Percentile  \n",
       "count  5.930500e+04      5.930500e+04  \n",
       "mean   2.328179e-15      1.303550e-16  \n",
       "std    1.000008e+00      1.000008e+00  \n",
       "min   -3.701231e+00     -3.011022e+00  \n",
       "25%    5.450826e-02      1.746246e-01  \n",
       "50%    5.450826e-02      1.746246e-01  \n",
       "75%    5.450826e-02      1.746246e-01  \n",
       "max    4.082211e+00      3.231471e+00  "
      ]
     },
     "execution_count": 23,
     "metadata": {},
     "output_type": "execute_result"
    }
   ],
   "source": [
    "# import the preprocessing package from sklearn \n",
    "from sklearn import preprocessing\n",
    "\n",
    "# define column names\n",
    "names = df.columns\n",
    "\n",
    "# create scaler variable \n",
    "scaler = preprocessing.StandardScaler()\n",
    "\n",
    "# fit and scale data \n",
    "dfstandard = scaler.fit_transform(df)\n",
    "dfstandard = pd.DataFrame(dfstandard, columns=names)\n",
    "\n",
    "# check if data was scaled correctly\n",
    "# mean and stdev should be equal to or almost equal to 0 and 1 respectively \n",
    "dfstandard.describe()"
   ]
  },
  {
   "cell_type": "code",
   "execution_count": 26,
   "metadata": {},
   "outputs": [],
   "source": [
    "# export final file to csv to be used for modeling \n",
    "dfstandard.to_csv('data/dfc.csv', index=0)"
   ]
  },
  {
   "cell_type": "code",
   "execution_count": null,
   "metadata": {},
   "outputs": [],
   "source": []
  }
 ],
 "metadata": {
  "kernelspec": {
   "display_name": "Python 3",
   "language": "python",
   "name": "python3"
  },
  "language_info": {
   "codemirror_mode": {
    "name": "ipython",
    "version": 3
   },
   "file_extension": ".py",
   "mimetype": "text/x-python",
   "name": "python",
   "nbconvert_exporter": "python",
   "pygments_lexer": "ipython3",
   "version": "3.6.7"
  }
 },
 "nbformat": 4,
 "nbformat_minor": 2
}
