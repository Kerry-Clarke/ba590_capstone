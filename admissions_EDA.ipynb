{
 "cells": [
  {
   "cell_type": "code",
   "execution_count": 1,
   "metadata": {},
   "outputs": [],
   "source": [
    "# import data processing & visualization packages \n",
    "import numpy as np\n",
    "import pandas as pd\n",
    "import matplotlib.pyplot as plt\n",
    "%matplotlib inline\n",
    "plt.style.use('ggplot')\n",
    "import seaborn as sns\n",
    "sns.set(style=\"darkgrid\")"
   ]
  },
  {
   "cell_type": "markdown",
   "metadata": {},
   "source": [
    "## ACYR 14-15"
   ]
  },
  {
   "cell_type": "code",
   "execution_count": 2,
   "metadata": {},
   "outputs": [
    {
     "data": {
      "text/html": [
       "<div>\n",
       "<style scoped>\n",
       "    .dataframe tbody tr th:only-of-type {\n",
       "        vertical-align: middle;\n",
       "    }\n",
       "\n",
       "    .dataframe tbody tr th {\n",
       "        vertical-align: top;\n",
       "    }\n",
       "\n",
       "    .dataframe thead th {\n",
       "        text-align: right;\n",
       "    }\n",
       "</style>\n",
       "<table border=\"1\" class=\"dataframe\">\n",
       "  <thead>\n",
       "    <tr style=\"text-align: right;\">\n",
       "      <th></th>\n",
       "      <th>ID</th>\n",
       "      <th>Active Region</th>\n",
       "      <th>ADMIT_TYPE</th>\n",
       "      <th>ADMT_DESC</th>\n",
       "      <th>DEC</th>\n",
       "      <th>APP_DESC</th>\n",
       "      <th>COMP</th>\n",
       "      <th>APP_ENTRY_TERM</th>\n",
       "      <th>College Code</th>\n",
       "      <th>College</th>\n",
       "      <th>...</th>\n",
       "      <th>SAT Math OLD</th>\n",
       "      <th>SAT Verbal OLD</th>\n",
       "      <th>SAT WRI OLD</th>\n",
       "      <th>Sum Ver &amp; Wri</th>\n",
       "      <th>Total SAT OLD</th>\n",
       "      <th>Class Percentile</th>\n",
       "      <th>Citizen</th>\n",
       "      <th>Legacy</th>\n",
       "      <th>Ethnicity</th>\n",
       "      <th>Test Optional</th>\n",
       "    </tr>\n",
       "  </thead>\n",
       "  <tbody>\n",
       "    <tr>\n",
       "      <th>0</th>\n",
       "      <td>135594</td>\n",
       "      <td>NY</td>\n",
       "      <td>FY</td>\n",
       "      <td>Freshman Applicant</td>\n",
       "      <td>A1</td>\n",
       "      <td>Admit</td>\n",
       "      <td>Y</td>\n",
       "      <td>201409</td>\n",
       "      <td>AS</td>\n",
       "      <td>College of Arts &amp; Sciences</td>\n",
       "      <td>...</td>\n",
       "      <td>NaN</td>\n",
       "      <td>NaN</td>\n",
       "      <td>NaN</td>\n",
       "      <td>NaN</td>\n",
       "      <td>NaN</td>\n",
       "      <td>NaN</td>\n",
       "      <td>Citizen</td>\n",
       "      <td>NaN</td>\n",
       "      <td>White,Including Spain/Portugal</td>\n",
       "      <td>N</td>\n",
       "    </tr>\n",
       "    <tr>\n",
       "      <th>1</th>\n",
       "      <td>136110</td>\n",
       "      <td>NY</td>\n",
       "      <td>FY</td>\n",
       "      <td>Freshman Applicant</td>\n",
       "      <td>A7</td>\n",
       "      <td>Deny</td>\n",
       "      <td>Y</td>\n",
       "      <td>201409</td>\n",
       "      <td>AS</td>\n",
       "      <td>College of Arts &amp; Sciences</td>\n",
       "      <td>...</td>\n",
       "      <td>NaN</td>\n",
       "      <td>NaN</td>\n",
       "      <td>NaN</td>\n",
       "      <td>NaN</td>\n",
       "      <td>NaN</td>\n",
       "      <td>NaN</td>\n",
       "      <td>Citizen</td>\n",
       "      <td>NaN</td>\n",
       "      <td>White,Including Spain/Portugal</td>\n",
       "      <td>N</td>\n",
       "    </tr>\n",
       "    <tr>\n",
       "      <th>2</th>\n",
       "      <td>136113</td>\n",
       "      <td>NY</td>\n",
       "      <td>FY</td>\n",
       "      <td>Freshman Applicant</td>\n",
       "      <td>A1</td>\n",
       "      <td>Admit</td>\n",
       "      <td>Y</td>\n",
       "      <td>201409</td>\n",
       "      <td>AS</td>\n",
       "      <td>College of Arts &amp; Sciences</td>\n",
       "      <td>...</td>\n",
       "      <td>NaN</td>\n",
       "      <td>NaN</td>\n",
       "      <td>NaN</td>\n",
       "      <td>NaN</td>\n",
       "      <td>NaN</td>\n",
       "      <td>NaN</td>\n",
       "      <td>Citizen</td>\n",
       "      <td>NaN</td>\n",
       "      <td>White,Including Spain/Portugal</td>\n",
       "      <td>N</td>\n",
       "    </tr>\n",
       "    <tr>\n",
       "      <th>3</th>\n",
       "      <td>135572</td>\n",
       "      <td>CT</td>\n",
       "      <td>FY</td>\n",
       "      <td>Freshman Applicant</td>\n",
       "      <td>NaN</td>\n",
       "      <td>NaN</td>\n",
       "      <td>N</td>\n",
       "      <td>201409</td>\n",
       "      <td>NS</td>\n",
       "      <td>Egan School of Nursing &amp; Health Sciences</td>\n",
       "      <td>...</td>\n",
       "      <td>NaN</td>\n",
       "      <td>NaN</td>\n",
       "      <td>NaN</td>\n",
       "      <td>NaN</td>\n",
       "      <td>NaN</td>\n",
       "      <td>NaN</td>\n",
       "      <td>Permanent Resident Alien</td>\n",
       "      <td>NaN</td>\n",
       "      <td>Asian</td>\n",
       "      <td>N</td>\n",
       "    </tr>\n",
       "    <tr>\n",
       "      <th>4</th>\n",
       "      <td>135579</td>\n",
       "      <td>NaN</td>\n",
       "      <td>FY</td>\n",
       "      <td>Freshman Applicant</td>\n",
       "      <td>A2</td>\n",
       "      <td>Admit Withdraw</td>\n",
       "      <td>Y</td>\n",
       "      <td>201409</td>\n",
       "      <td>BU</td>\n",
       "      <td>Dolan School of Business</td>\n",
       "      <td>...</td>\n",
       "      <td>NaN</td>\n",
       "      <td>NaN</td>\n",
       "      <td>NaN</td>\n",
       "      <td>NaN</td>\n",
       "      <td>NaN</td>\n",
       "      <td>NaN</td>\n",
       "      <td>Foreign</td>\n",
       "      <td>NaN</td>\n",
       "      <td>International/No ethnicity</td>\n",
       "      <td>N</td>\n",
       "    </tr>\n",
       "  </tbody>\n",
       "</table>\n",
       "<p>5 rows × 39 columns</p>\n",
       "</div>"
      ],
      "text/plain": [
       "       ID Active Region ADMIT_TYPE           ADMT_DESC  DEC        APP_DESC  \\\n",
       "0  135594            NY         FY  Freshman Applicant   A1           Admit   \n",
       "1  136110            NY         FY  Freshman Applicant   A7            Deny   \n",
       "2  136113            NY         FY  Freshman Applicant   A1           Admit   \n",
       "3  135572            CT         FY  Freshman Applicant  NaN             NaN   \n",
       "4  135579           NaN         FY  Freshman Applicant   A2  Admit Withdraw   \n",
       "\n",
       "  COMP  APP_ENTRY_TERM College Code                                   College  \\\n",
       "0    Y          201409           AS                College of Arts & Sciences   \n",
       "1    Y          201409           AS                College of Arts & Sciences   \n",
       "2    Y          201409           AS                College of Arts & Sciences   \n",
       "3    N          201409           NS  Egan School of Nursing & Health Sciences   \n",
       "4    Y          201409           BU                  Dolan School of Business   \n",
       "\n",
       "       ...      SAT Math OLD SAT Verbal OLD SAT WRI OLD Sum Ver & Wri  \\\n",
       "0      ...               NaN            NaN         NaN           NaN   \n",
       "1      ...               NaN            NaN         NaN           NaN   \n",
       "2      ...               NaN            NaN         NaN           NaN   \n",
       "3      ...               NaN            NaN         NaN           NaN   \n",
       "4      ...               NaN            NaN         NaN           NaN   \n",
       "\n",
       "  Total SAT OLD Class Percentile                   Citizen Legacy  \\\n",
       "0           NaN              NaN                   Citizen    NaN   \n",
       "1           NaN              NaN                   Citizen    NaN   \n",
       "2           NaN              NaN                   Citizen    NaN   \n",
       "3           NaN              NaN  Permanent Resident Alien    NaN   \n",
       "4           NaN              NaN                   Foreign    NaN   \n",
       "\n",
       "                        Ethnicity Test Optional  \n",
       "0  White,Including Spain/Portugal             N  \n",
       "1  White,Including Spain/Portugal             N  \n",
       "2  White,Including Spain/Portugal             N  \n",
       "3                           Asian             N  \n",
       "4      International/No ethnicity             N  \n",
       "\n",
       "[5 rows x 39 columns]"
      ]
     },
     "execution_count": 2,
     "metadata": {},
     "output_type": "execute_result"
    }
   ],
   "source": [
    "# read in the first file\n",
    "df14 = pd.read_excel('data/Apps_2014_15.xlsx', sheet_name='Admissions Tab - MASTER')\n",
    "df14.head()"
   ]
  },
  {
   "cell_type": "code",
   "execution_count": 3,
   "metadata": {},
   "outputs": [
    {
     "name": "stdout",
     "output_type": "stream",
     "text": [
      "<class 'pandas.core.frame.DataFrame'>\n",
      "RangeIndex: 9977 entries, 0 to 9976\n",
      "Data columns (total 39 columns):\n",
      "ID                  9977 non-null int64\n",
      "Active Region       9705 non-null object\n",
      "ADMIT_TYPE          9977 non-null object\n",
      "ADMT_DESC           9977 non-null object\n",
      "DEC                 9592 non-null object\n",
      "APP_DESC            9592 non-null object\n",
      "COMP                9977 non-null object\n",
      "APP_ENTRY_TERM      9977 non-null int64\n",
      "College Code        9977 non-null object\n",
      "College             9977 non-null object\n",
      "DEGREE_TYPE         9977 non-null object\n",
      "MAJOR_CODE          9977 non-null object\n",
      "Major               9977 non-null object\n",
      "RESIDENT_CODE       9977 non-null object\n",
      "ACCP                7137 non-null object\n",
      "CONF                1056 non-null object\n",
      "ENROLL              0 non-null float64\n",
      "JESUIT              512 non-null object\n",
      "HSCity              9934 non-null object\n",
      "HST                 9706 non-null object\n",
      "HSNATION            228 non-null object\n",
      "Sex                 9977 non-null object\n",
      "RELIGION            9166 non-null object\n",
      "APPLIED             9977 non-null object\n",
      "First_GEN           1900 non-null object\n",
      "ACT                 2169 non-null float64\n",
      "SAT Reading USE     5599 non-null float64\n",
      "SAT Math USE        5599 non-null float64\n",
      "SAT Total USE       5599 non-null float64\n",
      "SAT Math OLD        5600 non-null float64\n",
      "SAT Verbal OLD      5600 non-null float64\n",
      "SAT WRI OLD         5600 non-null float64\n",
      "Sum Ver & Wri       5600 non-null float64\n",
      "Total SAT OLD       5600 non-null float64\n",
      "Class Percentile    1838 non-null float64\n",
      "Citizen             9973 non-null object\n",
      "Legacy              561 non-null object\n",
      "Ethnicity           9938 non-null object\n",
      "Test Optional       9977 non-null object\n",
      "dtypes: float64(11), int64(2), object(26)\n",
      "memory usage: 3.0+ MB\n"
     ]
    }
   ],
   "source": [
    "# examine the columns and data types of the first file\n",
    "df14.info()"
   ]
  },
  {
   "cell_type": "code",
   "execution_count": 4,
   "metadata": {},
   "outputs": [
    {
     "data": {
      "image/png": "[encoded data removed]",
      "text/plain": [
       "<Figure size 576x432 with 1 Axes>"
      ]
     },
     "metadata": {
      "needs_background": "light"
     },
     "output_type": "display_data"
    }
   ],
   "source": [
    "# create bar graph that shows 2014 Application Outcomes \n",
    "fig = plt.figure(figsize=(8,6))\n",
    "ax = sns.countplot(y=\"APP_DESC\", data=df14, palette='Set1',hue_order='APP_DESC', \n",
    "                   order=['Admit','Admit Withdraw','Confirm','Withdraw Waitlist','Waitlist Offer','Deny','Application Withdraw',\n",
    "                            'Confirm Withdraw','Conditional Admit','Waitlist Reserve/Withdraw','Waitlist Reservation'])\n",
    "plt.title('2014 Application Outcomes')\n",
    "plt.savefig('images/2014_DESC.PNG')"
   ]
  },
  {
   "cell_type": "code",
   "execution_count": 5,
   "metadata": {
    "scrolled": true
   },
   "outputs": [
    {
     "data": {
      "text/plain": [
       "0    Y\n",
       "1    N\n",
       "2    Y\n",
       "3    N\n",
       "4    Y\n",
       "Name: ACCP, dtype: object"
      ]
     },
     "execution_count": 5,
     "metadata": {},
     "output_type": "execute_result"
    }
   ],
   "source": [
    "# do a bit of cleaning on the target for graphing purposes\n",
    "df14['ACCP'].replace(to_replace=' ', value=np.nan, inplace=True)\n",
    "df14['ACCP'].fillna('N', inplace=True)\n",
    "df14['ACCP'].head()"
   ]
  },
  {
   "cell_type": "code",
   "execution_count": 6,
   "metadata": {},
   "outputs": [
    {
     "data": {
      "text/plain": [
       "0    N\n",
       "1    N\n",
       "2    N\n",
       "3    N\n",
       "4    N\n",
       "Name: CONF, dtype: object"
      ]
     },
     "execution_count": 6,
     "metadata": {},
     "output_type": "execute_result"
    }
   ],
   "source": [
    "# some cleaning on target 2\n",
    "df14['CONF'].replace(to_replace=' ', value='N', inplace=True)\n",
    "df14['CONF'].fillna('N', inplace=True)\n",
    "df14['CONF'].head()"
   ]
  },
  {
   "cell_type": "code",
   "execution_count": 7,
   "metadata": {},
   "outputs": [
    {
     "data": {
      "image/png": "[encoded data removed]",
      "text/plain": [
       "<Figure size 1080x288 with 2 Axes>"
      ]
     },
     "metadata": {
      "needs_background": "light"
     },
     "output_type": "display_data"
    }
   ],
   "source": [
    "# 2014 graphs of the target 1 and target 2: Accepted and Enrolled \n",
    "fig = plt.figure(figsize=(15,4))\n",
    "plt.tight_layout()\n",
    "\n",
    "ax1 = fig.add_subplot(1,2,1)\n",
    "ax2 = fig.add_subplot(1,2,2)\n",
    "\n",
    "ax1 = sns.countplot(x=df14['ACCP'], data=df14, palette='Set1', ax=ax1, order=['Y', 'N'])\n",
    "ax2 = sns.countplot(x=df14['CONF'], data=df14, palette='Set1', ax=ax2, order=['Y', 'N'])\n",
    "\n",
    "ax1.set_title('Accepted Students for the 2014-2015 Academic Year')\n",
    "ax2.set_title('Enrolled Students for the 2014-2015 Academic Year')\n",
    "\n",
    "plt.savefig('images/14_admit_enroll.PNG')"
   ]
  },
  {
   "cell_type": "markdown",
   "metadata": {},
   "source": [
    "## ACYR 15-16"
   ]
  },
  {
   "cell_type": "code",
   "execution_count": 8,
   "metadata": {},
   "outputs": [
    {
     "data": {
      "text/html": [
       "<div>\n",
       "<style scoped>\n",
       "    .dataframe tbody tr th:only-of-type {\n",
       "        vertical-align: middle;\n",
       "    }\n",
       "\n",
       "    .dataframe tbody tr th {\n",
       "        vertical-align: top;\n",
       "    }\n",
       "\n",
       "    .dataframe thead th {\n",
       "        text-align: right;\n",
       "    }\n",
       "</style>\n",
       "<table border=\"1\" class=\"dataframe\">\n",
       "  <thead>\n",
       "    <tr style=\"text-align: right;\">\n",
       "      <th></th>\n",
       "      <th>ID</th>\n",
       "      <th>HSCity</th>\n",
       "      <th>HST</th>\n",
       "      <th>DEGREE_TYPE</th>\n",
       "      <th>College Code</th>\n",
       "      <th>College</th>\n",
       "      <th>MAJOR_CODE</th>\n",
       "      <th>Major</th>\n",
       "      <th>First_GEN</th>\n",
       "      <th>RGPA</th>\n",
       "      <th>...</th>\n",
       "      <th>Test Optional</th>\n",
       "      <th>Total SAT OLD</th>\n",
       "      <th>SAT Verbal OLD</th>\n",
       "      <th>SAT Math OLD</th>\n",
       "      <th>SAT WRI OLD</th>\n",
       "      <th>Sum Ver &amp; Wri</th>\n",
       "      <th>SAT Reading USE</th>\n",
       "      <th>SAT Math USE</th>\n",
       "      <th>SAT Total USE</th>\n",
       "      <th>Legacy</th>\n",
       "    </tr>\n",
       "  </thead>\n",
       "  <tbody>\n",
       "    <tr>\n",
       "      <th>0</th>\n",
       "      <td>154306</td>\n",
       "      <td>Hurley</td>\n",
       "      <td>NY</td>\n",
       "      <td>BS</td>\n",
       "      <td>AS</td>\n",
       "      <td>College of Arts and Sciences</td>\n",
       "      <td>BIOL</td>\n",
       "      <td>Biology</td>\n",
       "      <td>N</td>\n",
       "      <td>3.11</td>\n",
       "      <td>...</td>\n",
       "      <td>N</td>\n",
       "      <td>NaN</td>\n",
       "      <td>NaN</td>\n",
       "      <td>NaN</td>\n",
       "      <td>NaN</td>\n",
       "      <td>NaN</td>\n",
       "      <td>NaN</td>\n",
       "      <td>NaN</td>\n",
       "      <td>NaN</td>\n",
       "      <td>NaN</td>\n",
       "    </tr>\n",
       "    <tr>\n",
       "      <th>1</th>\n",
       "      <td>156038</td>\n",
       "      <td>Faisalabad</td>\n",
       "      <td>NaN</td>\n",
       "      <td>BS</td>\n",
       "      <td>BU</td>\n",
       "      <td>Dolan School of Business</td>\n",
       "      <td>INBU</td>\n",
       "      <td>International Business</td>\n",
       "      <td>Y</td>\n",
       "      <td>NaN</td>\n",
       "      <td>...</td>\n",
       "      <td>TOP</td>\n",
       "      <td>NaN</td>\n",
       "      <td>NaN</td>\n",
       "      <td>NaN</td>\n",
       "      <td>NaN</td>\n",
       "      <td>NaN</td>\n",
       "      <td>NaN</td>\n",
       "      <td>NaN</td>\n",
       "      <td>NaN</td>\n",
       "      <td>NaN</td>\n",
       "    </tr>\n",
       "    <tr>\n",
       "      <th>2</th>\n",
       "      <td>154625</td>\n",
       "      <td>Islamabad</td>\n",
       "      <td>NaN</td>\n",
       "      <td>BS</td>\n",
       "      <td>EG</td>\n",
       "      <td>School of Engineering</td>\n",
       "      <td>MEEN</td>\n",
       "      <td>Mechanical Engineering</td>\n",
       "      <td>Y</td>\n",
       "      <td>NaN</td>\n",
       "      <td>...</td>\n",
       "      <td>TOP</td>\n",
       "      <td>NaN</td>\n",
       "      <td>NaN</td>\n",
       "      <td>NaN</td>\n",
       "      <td>NaN</td>\n",
       "      <td>NaN</td>\n",
       "      <td>NaN</td>\n",
       "      <td>NaN</td>\n",
       "      <td>NaN</td>\n",
       "      <td>NaN</td>\n",
       "    </tr>\n",
       "    <tr>\n",
       "      <th>3</th>\n",
       "      <td>148401</td>\n",
       "      <td>Manhasset</td>\n",
       "      <td>NY</td>\n",
       "      <td>BA</td>\n",
       "      <td>AS</td>\n",
       "      <td>College of Arts and Sciences</td>\n",
       "      <td>0000</td>\n",
       "      <td>Undeclared</td>\n",
       "      <td>N</td>\n",
       "      <td>3.67</td>\n",
       "      <td>...</td>\n",
       "      <td>TOP</td>\n",
       "      <td>NaN</td>\n",
       "      <td>NaN</td>\n",
       "      <td>NaN</td>\n",
       "      <td>NaN</td>\n",
       "      <td>NaN</td>\n",
       "      <td>NaN</td>\n",
       "      <td>NaN</td>\n",
       "      <td>NaN</td>\n",
       "      <td>N</td>\n",
       "    </tr>\n",
       "    <tr>\n",
       "      <th>4</th>\n",
       "      <td>149482</td>\n",
       "      <td>South Hamilton</td>\n",
       "      <td>MA</td>\n",
       "      <td>BA</td>\n",
       "      <td>AS</td>\n",
       "      <td>College of Arts and Sciences</td>\n",
       "      <td>0000</td>\n",
       "      <td>Undeclared</td>\n",
       "      <td>N</td>\n",
       "      <td>2.86</td>\n",
       "      <td>...</td>\n",
       "      <td>N</td>\n",
       "      <td>1760.0</td>\n",
       "      <td>610.0</td>\n",
       "      <td>530.0</td>\n",
       "      <td>620.0</td>\n",
       "      <td>1230.0</td>\n",
       "      <td>670.0</td>\n",
       "      <td>560.0</td>\n",
       "      <td>1230.0</td>\n",
       "      <td>N</td>\n",
       "    </tr>\n",
       "  </tbody>\n",
       "</table>\n",
       "<p>5 rows × 39 columns</p>\n",
       "</div>"
      ],
      "text/plain": [
       "       ID          HSCity  HST DEGREE_TYPE College Code  \\\n",
       "0  154306          Hurley   NY          BS           AS   \n",
       "1  156038      Faisalabad  NaN          BS           BU   \n",
       "2  154625       Islamabad  NaN          BS           EG   \n",
       "3  148401       Manhasset   NY          BA           AS   \n",
       "4  149482  South Hamilton   MA          BA           AS   \n",
       "\n",
       "                        College MAJOR_CODE                   Major First_GEN  \\\n",
       "0  College of Arts and Sciences       BIOL                 Biology         N   \n",
       "1      Dolan School of Business       INBU  International Business         Y   \n",
       "2         School of Engineering       MEEN  Mechanical Engineering         Y   \n",
       "3  College of Arts and Sciences       0000              Undeclared         N   \n",
       "4  College of Arts and Sciences       0000              Undeclared         N   \n",
       "\n",
       "   RGPA  ...    Test Optional Total SAT OLD SAT Verbal OLD SAT Math OLD  \\\n",
       "0  3.11  ...                N           NaN            NaN          NaN   \n",
       "1   NaN  ...              TOP           NaN            NaN          NaN   \n",
       "2   NaN  ...              TOP           NaN            NaN          NaN   \n",
       "3  3.67  ...              TOP           NaN            NaN          NaN   \n",
       "4  2.86  ...                N        1760.0          610.0        530.0   \n",
       "\n",
       "  SAT WRI OLD Sum Ver & Wri SAT Reading USE SAT Math USE SAT Total USE Legacy  \n",
       "0         NaN           NaN             NaN          NaN           NaN    NaN  \n",
       "1         NaN           NaN             NaN          NaN           NaN    NaN  \n",
       "2         NaN           NaN             NaN          NaN           NaN    NaN  \n",
       "3         NaN           NaN             NaN          NaN           NaN      N  \n",
       "4       620.0        1230.0           670.0        560.0        1230.0      N  \n",
       "\n",
       "[5 rows x 39 columns]"
      ]
     },
     "execution_count": 8,
     "metadata": {},
     "output_type": "execute_result"
    }
   ],
   "source": [
    "# read in the second file\n",
    "df15 = pd.read_excel('data/Apps_2015_16.xlsx', sheet_name='All Apps')\n",
    "df15.head()"
   ]
  },
  {
   "cell_type": "code",
   "execution_count": 9,
   "metadata": {},
   "outputs": [
    {
     "name": "stdout",
     "output_type": "stream",
     "text": [
      "<class 'pandas.core.frame.DataFrame'>\n",
      "RangeIndex: 10767 entries, 0 to 10766\n",
      "Data columns (total 39 columns):\n",
      "ID                 10767 non-null int64\n",
      "HSCity             10735 non-null object\n",
      "HST                10520 non-null object\n",
      "DEGREE_TYPE        10767 non-null object\n",
      "College Code       10767 non-null object\n",
      "College            10767 non-null object\n",
      "MAJOR_CODE         10767 non-null object\n",
      "Major              10767 non-null object\n",
      "First_GEN          10763 non-null object\n",
      "RGPA               10022 non-null float64\n",
      "Rating             10157 non-null float64\n",
      "P_M                5930 non-null object\n",
      "Merit              6637 non-null object\n",
      "DEC                10272 non-null object\n",
      "APP_DESC           10272 non-null object\n",
      "ACCP               6928 non-null object\n",
      "CONF               966 non-null object\n",
      "Citizen            10766 non-null object\n",
      "Sex                10767 non-null object\n",
      "RES                10766 non-null object\n",
      "ACT                2534 non-null float64\n",
      "Class Rank         2464 non-null float64\n",
      "Class Size         2464 non-null float64\n",
      "Active City        10765 non-null object\n",
      "Active Region      10653 non-null object\n",
      "Active Postal      10678 non-null object\n",
      "Active Country     10765 non-null object\n",
      "Ethnicity Code     10767 non-null object\n",
      "Ethnicity          10545 non-null object\n",
      "Test Optional      10767 non-null object\n",
      "Total SAT OLD      5738 non-null float64\n",
      "SAT Verbal OLD     5738 non-null float64\n",
      "SAT Math OLD       5738 non-null float64\n",
      "SAT WRI OLD        5738 non-null float64\n",
      "Sum Ver & Wri      5738 non-null float64\n",
      "SAT Reading USE    5738 non-null float64\n",
      "SAT Math USE       5738 non-null float64\n",
      "SAT Total USE      5738 non-null float64\n",
      "Legacy             6296 non-null object\n",
      "dtypes: float64(13), int64(1), object(25)\n",
      "memory usage: 3.2+ MB\n"
     ]
    }
   ],
   "source": [
    "# examine the columns and datatypes in this file \n",
    "df15.info()"
   ]
  },
  {
   "cell_type": "code",
   "execution_count": 10,
   "metadata": {},
   "outputs": [
    {
     "data": {
      "image/png": "[encoded data removed]",
      "text/plain": [
       "<Figure size 576x432 with 1 Axes>"
      ]
     },
     "metadata": {
      "needs_background": "light"
     },
     "output_type": "display_data"
    }
   ],
   "source": [
    "# create graph that shows 2015 Application Outcomes \n",
    "fig = plt.figure(figsize=(8,6))\n",
    "ax = sns.countplot(y=\"APP_DESC\", data=df15, palette='Set1',hue_order='APP_DESC', \n",
    "                   order=['Admit','Admit Withdraw','Confirm','Withdraw Waitlist','Waitlist Offer','Deny','Application Withdraw',\n",
    "                            'Confirm Withdraw','Conditional Admit','Waitlist Reserve/Withdraw','Waitlist Reservation'])\n",
    "plt.title('2015 Application Outcomes')\n",
    "plt.savefig('images/2015_DESC.PNG')"
   ]
  },
  {
   "cell_type": "code",
   "execution_count": 11,
   "metadata": {},
   "outputs": [
    {
     "data": {
      "text/plain": [
       "0    N\n",
       "1    N\n",
       "2    N\n",
       "3    Y\n",
       "4    N\n",
       "Name: ACCP, dtype: object"
      ]
     },
     "execution_count": 11,
     "metadata": {},
     "output_type": "execute_result"
    }
   ],
   "source": [
    "# same cleaning on target 1 as before\n",
    "df15['ACCP'].replace(to_replace=' ', value=np.nan, inplace=True)\n",
    "df15['ACCP'].fillna('N', inplace=True)\n",
    "df15['ACCP'].head()"
   ]
  },
  {
   "cell_type": "code",
   "execution_count": 12,
   "metadata": {},
   "outputs": [
    {
     "data": {
      "text/plain": [
       "0    N\n",
       "1    N\n",
       "2    N\n",
       "3    N\n",
       "4    N\n",
       "Name: CONF, dtype: object"
      ]
     },
     "execution_count": 12,
     "metadata": {},
     "output_type": "execute_result"
    }
   ],
   "source": [
    "# same cleaning on target 2 as before\n",
    "df15['CONF'].replace(to_replace=' ', value=np.nan, inplace=True)\n",
    "df15['CONF'].fillna('N', inplace=True)\n",
    "df15['CONF'].head()"
   ]
  },
  {
   "cell_type": "code",
   "execution_count": 13,
   "metadata": {},
   "outputs": [
    {
     "data": {
      "image/png": "[encoded data removed]",
      "text/plain": [
       "<Figure size 1080x288 with 2 Axes>"
      ]
     },
     "metadata": {
      "needs_background": "light"
     },
     "output_type": "display_data"
    }
   ],
   "source": [
    "# 2015 graphs of the target 1 and target 2: Accepted and Enrolled \n",
    "fig = plt.figure(figsize=(15,4))\n",
    "plt.tight_layout()\n",
    "\n",
    "ax1 = fig.add_subplot(1,2,1)\n",
    "ax2 = fig.add_subplot(1,2,2)\n",
    "\n",
    "ax1 = sns.countplot(x=df15['ACCP'], data=df15, palette='Set1', ax=ax1, order=['Y', 'N'])\n",
    "ax2 = sns.countplot(x=df15['CONF'], data=df15, palette='Set1', ax=ax2, order=['Y', 'N'])\n",
    "\n",
    "ax1.set_title('Accepted Students for the 2015-2016 Academic Year')\n",
    "ax2.set_title('Enrolled Students for the 2015-2016 Academic Year')\n",
    "\n",
    "plt.savefig('images/15_admit_enroll.PNG')"
   ]
  },
  {
   "cell_type": "markdown",
   "metadata": {},
   "source": [
    "## ACYR 16-17"
   ]
  },
  {
   "cell_type": "code",
   "execution_count": 14,
   "metadata": {},
   "outputs": [
    {
     "data": {
      "text/html": [
       "<div>\n",
       "<style scoped>\n",
       "    .dataframe tbody tr th:only-of-type {\n",
       "        vertical-align: middle;\n",
       "    }\n",
       "\n",
       "    .dataframe tbody tr th {\n",
       "        vertical-align: top;\n",
       "    }\n",
       "\n",
       "    .dataframe thead th {\n",
       "        text-align: right;\n",
       "    }\n",
       "</style>\n",
       "<table border=\"1\" class=\"dataframe\">\n",
       "  <thead>\n",
       "    <tr style=\"text-align: right;\">\n",
       "      <th></th>\n",
       "      <th>ID</th>\n",
       "      <th>Accept</th>\n",
       "      <th>Enroll</th>\n",
       "      <th>HSCity</th>\n",
       "      <th>HST</th>\n",
       "      <th>College Code</th>\n",
       "      <th>DEGREE_TYPE</th>\n",
       "      <th>College</th>\n",
       "      <th>MAJOR_CODE</th>\n",
       "      <th>Major</th>\n",
       "      <th>...</th>\n",
       "      <th>Test Optional</th>\n",
       "      <th>Total SAT OLD</th>\n",
       "      <th>SAT Verbal OLD</th>\n",
       "      <th>SAT Math OLD</th>\n",
       "      <th>SAT WRI OLD</th>\n",
       "      <th>Sum Ver &amp; Wri</th>\n",
       "      <th>SAT Reading USE</th>\n",
       "      <th>SAT Math USE</th>\n",
       "      <th>SAT Total USE</th>\n",
       "      <th>Legacy</th>\n",
       "    </tr>\n",
       "  </thead>\n",
       "  <tbody>\n",
       "    <tr>\n",
       "      <th>0</th>\n",
       "      <td>173714</td>\n",
       "      <td>NaN</td>\n",
       "      <td>NaN</td>\n",
       "      <td>Wolcott</td>\n",
       "      <td>CT</td>\n",
       "      <td>BU</td>\n",
       "      <td>BS</td>\n",
       "      <td>Dolan School of Business</td>\n",
       "      <td>INBU</td>\n",
       "      <td>International Business</td>\n",
       "      <td>...</td>\n",
       "      <td>N</td>\n",
       "      <td>1600.0</td>\n",
       "      <td>550.0</td>\n",
       "      <td>470.0</td>\n",
       "      <td>580.0</td>\n",
       "      <td>1130.0</td>\n",
       "      <td>620.0</td>\n",
       "      <td>510.0</td>\n",
       "      <td>1130.0</td>\n",
       "      <td>B</td>\n",
       "    </tr>\n",
       "    <tr>\n",
       "      <th>1</th>\n",
       "      <td>170325</td>\n",
       "      <td>NaN</td>\n",
       "      <td>NaN</td>\n",
       "      <td>Chatham</td>\n",
       "      <td>NJ</td>\n",
       "      <td>AS</td>\n",
       "      <td>BA</td>\n",
       "      <td>College of Arts &amp; Sciences</td>\n",
       "      <td>VPFT</td>\n",
       "      <td>Film, Television and Media Arts</td>\n",
       "      <td>...</td>\n",
       "      <td>N</td>\n",
       "      <td>NaN</td>\n",
       "      <td>NaN</td>\n",
       "      <td>NaN</td>\n",
       "      <td>NaN</td>\n",
       "      <td>NaN</td>\n",
       "      <td>NaN</td>\n",
       "      <td>NaN</td>\n",
       "      <td>NaN</td>\n",
       "      <td>NaN</td>\n",
       "    </tr>\n",
       "    <tr>\n",
       "      <th>2</th>\n",
       "      <td>171363</td>\n",
       "      <td>NaN</td>\n",
       "      <td>NaN</td>\n",
       "      <td>NORTHPORT</td>\n",
       "      <td>NY</td>\n",
       "      <td>AS</td>\n",
       "      <td>BA</td>\n",
       "      <td>College of Arts &amp; Sciences</td>\n",
       "      <td>COMM</td>\n",
       "      <td>Communications</td>\n",
       "      <td>...</td>\n",
       "      <td>N</td>\n",
       "      <td>1680.0</td>\n",
       "      <td>580.0</td>\n",
       "      <td>520.0</td>\n",
       "      <td>580.0</td>\n",
       "      <td>1160.0</td>\n",
       "      <td>640.0</td>\n",
       "      <td>550.0</td>\n",
       "      <td>1190.0</td>\n",
       "      <td>NaN</td>\n",
       "    </tr>\n",
       "    <tr>\n",
       "      <th>3</th>\n",
       "      <td>174914</td>\n",
       "      <td>NaN</td>\n",
       "      <td>NaN</td>\n",
       "      <td>Guaynabo</td>\n",
       "      <td>PR</td>\n",
       "      <td>AS</td>\n",
       "      <td>BA</td>\n",
       "      <td>College of Arts &amp; Sciences</td>\n",
       "      <td>MLLF</td>\n",
       "      <td>French</td>\n",
       "      <td>...</td>\n",
       "      <td>N</td>\n",
       "      <td>1500.0</td>\n",
       "      <td>560.0</td>\n",
       "      <td>400.0</td>\n",
       "      <td>540.0</td>\n",
       "      <td>1100.0</td>\n",
       "      <td>610.0</td>\n",
       "      <td>440.0</td>\n",
       "      <td>1050.0</td>\n",
       "      <td>NaN</td>\n",
       "    </tr>\n",
       "    <tr>\n",
       "      <th>4</th>\n",
       "      <td>175221</td>\n",
       "      <td>NaN</td>\n",
       "      <td>NaN</td>\n",
       "      <td>Bridgeport</td>\n",
       "      <td>CT</td>\n",
       "      <td>AS</td>\n",
       "      <td>BS</td>\n",
       "      <td>College of Arts &amp; Sciences</td>\n",
       "      <td>BIOL</td>\n",
       "      <td>Biology</td>\n",
       "      <td>...</td>\n",
       "      <td>TOP</td>\n",
       "      <td>NaN</td>\n",
       "      <td>NaN</td>\n",
       "      <td>NaN</td>\n",
       "      <td>NaN</td>\n",
       "      <td>NaN</td>\n",
       "      <td>NaN</td>\n",
       "      <td>NaN</td>\n",
       "      <td>NaN</td>\n",
       "      <td>NaN</td>\n",
       "    </tr>\n",
       "  </tbody>\n",
       "</table>\n",
       "<p>5 rows × 42 columns</p>\n",
       "</div>"
      ],
      "text/plain": [
       "       ID Accept Enroll      HSCity HST College Code DEGREE_TYPE  \\\n",
       "0  173714    NaN    NaN     Wolcott  CT           BU          BS   \n",
       "1  170325    NaN    NaN     Chatham  NJ           AS          BA   \n",
       "2  171363    NaN    NaN   NORTHPORT  NY           AS          BA   \n",
       "3  174914    NaN    NaN    Guaynabo  PR           AS          BA   \n",
       "4  175221    NaN    NaN  Bridgeport  CT           AS          BS   \n",
       "\n",
       "                      College MAJOR_CODE                            Major  \\\n",
       "0    Dolan School of Business       INBU           International Business   \n",
       "1  College of Arts & Sciences       VPFT  Film, Television and Media Arts   \n",
       "2  College of Arts & Sciences       COMM                   Communications   \n",
       "3  College of Arts & Sciences       MLLF                           French   \n",
       "4  College of Arts & Sciences       BIOL                          Biology   \n",
       "\n",
       "   ...   Test Optional Total SAT OLD  SAT Verbal OLD  SAT Math OLD  \\\n",
       "0  ...               N        1600.0           550.0         470.0   \n",
       "1  ...               N           NaN             NaN           NaN   \n",
       "2  ...               N        1680.0           580.0         520.0   \n",
       "3  ...               N        1500.0           560.0         400.0   \n",
       "4  ...             TOP           NaN             NaN           NaN   \n",
       "\n",
       "  SAT WRI OLD Sum Ver & Wri SAT Reading USE SAT Math USE SAT Total USE Legacy  \n",
       "0       580.0        1130.0           620.0        510.0        1130.0      B  \n",
       "1         NaN           NaN             NaN          NaN           NaN    NaN  \n",
       "2       580.0        1160.0           640.0        550.0        1190.0    NaN  \n",
       "3       540.0        1100.0           610.0        440.0        1050.0    NaN  \n",
       "4         NaN           NaN             NaN          NaN           NaN    NaN  \n",
       "\n",
       "[5 rows x 42 columns]"
      ]
     },
     "execution_count": 14,
     "metadata": {},
     "output_type": "execute_result"
    }
   ],
   "source": [
    "# read in the third file\n",
    "df16 = pd.read_excel('data/Apps_2016_17.xlsx', sheet_name='Full Population')\n",
    "df16.head()"
   ]
  },
  {
   "cell_type": "code",
   "execution_count": 15,
   "metadata": {},
   "outputs": [
    {
     "name": "stdout",
     "output_type": "stream",
     "text": [
      "<class 'pandas.core.frame.DataFrame'>\n",
      "RangeIndex: 11055 entries, 0 to 11054\n",
      "Data columns (total 42 columns):\n",
      "ID                   11055 non-null int64\n",
      "Accept               6795 non-null object\n",
      "Enroll               1058 non-null object\n",
      "HSCity               11034 non-null object\n",
      "HST                  10781 non-null object\n",
      "College Code         11055 non-null object\n",
      "DEGREE_TYPE          11055 non-null object\n",
      "College              11055 non-null object\n",
      "MAJOR_CODE           11055 non-null object\n",
      "Major                11055 non-null object\n",
      "Major Description    11055 non-null object\n",
      "First_GEN            11054 non-null object\n",
      "RGPA                 10195 non-null float64\n",
      "Rating               10387 non-null float64\n",
      "P_M                  6009 non-null object\n",
      "Merit                6560 non-null object\n",
      "DEC                  10532 non-null object\n",
      "APP_DESC             10532 non-null object\n",
      "ACCP                 6795 non-null object\n",
      "CONF                 1058 non-null object\n",
      "Citizen              11055 non-null object\n",
      "Sex                  11055 non-null object\n",
      "RES                  11055 non-null object\n",
      "ACT                  2817 non-null float64\n",
      "Class Rank           1734 non-null float64\n",
      "Class Size           1734 non-null float64\n",
      "Class Percentile     1734 non-null float64\n",
      "Active City          11054 non-null object\n",
      "Active Region        10882 non-null object\n",
      "Active Postal        10982 non-null object\n",
      "Active Country       11054 non-null object\n",
      "Ethnicity            11055 non-null object\n",
      "Test Optional        11055 non-null object\n",
      "Total SAT OLD        5359 non-null float64\n",
      "SAT Verbal OLD       5359 non-null float64\n",
      "SAT Math OLD         5359 non-null float64\n",
      "SAT WRI OLD          5359 non-null float64\n",
      "Sum Ver & Wri        5359 non-null float64\n",
      "SAT Reading USE      5359 non-null float64\n",
      "SAT Math USE         5358 non-null float64\n",
      "SAT Total USE        5358 non-null float64\n",
      "Legacy               672 non-null object\n",
      "dtypes: float64(14), int64(1), object(27)\n",
      "memory usage: 3.5+ MB\n"
     ]
    },
    {
     "data": {
      "text/plain": [
       "(Index(['ID', 'Accept', 'Enroll', 'HSCity', 'HST', 'College Code',\n",
       "        'DEGREE_TYPE', 'College', 'MAJOR_CODE', 'Major', 'Major Description',\n",
       "        'First_GEN', 'RGPA', 'Rating', 'P_M', 'Merit', 'DEC', 'APP_DESC',\n",
       "        'ACCP', 'CONF', 'Citizen', 'Sex', 'RES', 'ACT', 'Class Rank',\n",
       "        'Class Size', 'Class Percentile', 'Active City', 'Active Region',\n",
       "        'Active Postal', 'Active Country', 'Ethnicity', 'Test Optional',\n",
       "        'Total SAT OLD', 'SAT Verbal OLD', 'SAT Math OLD', 'SAT WRI OLD',\n",
       "        'Sum Ver & Wri', 'SAT Reading USE', 'SAT Math USE', 'SAT Total USE',\n",
       "        'Legacy'],\n",
       "       dtype='object'), None)"
      ]
     },
     "execution_count": 15,
     "metadata": {},
     "output_type": "execute_result"
    }
   ],
   "source": [
    "# examine the columns and datatype in this file\n",
    "df16.info()"
   ]
  },
  {
   "cell_type": "code",
   "execution_count": 16,
   "metadata": {},
   "outputs": [
    {
     "data": {
      "image/png": "[encoded data removed]",
      "text/plain": [
       "<Figure size 576x432 with 1 Axes>"
      ]
     },
     "metadata": {
      "needs_background": "light"
     },
     "output_type": "display_data"
    }
   ],
   "source": [
    "# create graph for 2016 Application Outcomes \n",
    "# for some reason the order argument doesn't work on this one\n",
    "fig = plt.figure(figsize=(8,6))\n",
    "ax = sns.countplot(y=\"APP_DESC\", data=df16, palette='Set1',hue_order='APP_DESC')\n",
    "                 # order=['Admit','Admit Withdraw','Confirm','Withdraw Waitlist','Waitlist Offer','Deny','Application Withdraw',\n",
    "                  #          'Confirm Withdraw','Conditional Admit','Waitlist Reserve/Withdraw','Waitlist Reservation'])  \n",
    "plt.title('2016 Application Outcomes')\n",
    "plt.savefig('images/2016_DESC.PNG')"
   ]
  },
  {
   "cell_type": "code",
   "execution_count": 17,
   "metadata": {},
   "outputs": [
    {
     "data": {
      "text/plain": [
       "0    N\n",
       "1    N\n",
       "2    N\n",
       "3    N\n",
       "4    N\n",
       "Name: ACCP, dtype: object"
      ]
     },
     "execution_count": 17,
     "metadata": {},
     "output_type": "execute_result"
    }
   ],
   "source": [
    "# cleaning target 1, same as before \n",
    "df16['ACCP'].replace(to_replace=' ', value=np.nan, inplace=True)\n",
    "df16['ACCP'].fillna('N', inplace=True)\n",
    "df16['ACCP'].head()"
   ]
  },
  {
   "cell_type": "code",
   "execution_count": 18,
   "metadata": {},
   "outputs": [
    {
     "data": {
      "text/plain": [
       "0    N\n",
       "1    N\n",
       "2    N\n",
       "3    N\n",
       "4    N\n",
       "Name: CONF, dtype: object"
      ]
     },
     "execution_count": 18,
     "metadata": {},
     "output_type": "execute_result"
    }
   ],
   "source": [
    "# cleaning target 2, same as before\n",
    "df16['CONF'].replace(to_replace=' ', value='N', inplace=True)\n",
    "df16['CONF'].fillna('N', inplace=True)\n",
    "df16['CONF'].head()"
   ]
  },
  {
   "cell_type": "code",
   "execution_count": 19,
   "metadata": {},
   "outputs": [
    {
     "data": {
      "image/png": "[encoded data removed]",
      "text/plain": [
       "<Figure size 1080x288 with 2 Axes>"
      ]
     },
     "metadata": {
      "needs_background": "light"
     },
     "output_type": "display_data"
    }
   ],
   "source": [
    "# 2016 graphs of the target 1 and target 2: Accepted and Enrolled \n",
    "fig = plt.figure(figsize=(15,4))\n",
    "plt.tight_layout()\n",
    "\n",
    "ax1 = fig.add_subplot(1,2,1)\n",
    "ax2 = fig.add_subplot(1,2,2)\n",
    "\n",
    "ax1 = sns.countplot(x=df16['ACCP'], data=df16, palette='Set1', ax=ax1, order=['Y', 'N'])\n",
    "ax2 = sns.countplot(x=df16['CONF'], data=df16, palette='Set1', ax=ax2, order=['Y', 'N'])\n",
    "\n",
    "ax1.set_title('Accepted Students for the 2016-2017 Academic Year')\n",
    "ax2.set_title('Enrolled Students for the 2016-2017 Academic Year')\n",
    "\n",
    "plt.savefig('images/16_admit_enroll.PNG')"
   ]
  },
  {
   "cell_type": "markdown",
   "metadata": {},
   "source": [
    "## ACYR 17-18"
   ]
  },
  {
   "cell_type": "code",
   "execution_count": 20,
   "metadata": {},
   "outputs": [
    {
     "data": {
      "text/html": [
       "<div>\n",
       "<style scoped>\n",
       "    .dataframe tbody tr th:only-of-type {\n",
       "        vertical-align: middle;\n",
       "    }\n",
       "\n",
       "    .dataframe tbody tr th {\n",
       "        vertical-align: top;\n",
       "    }\n",
       "\n",
       "    .dataframe thead th {\n",
       "        text-align: right;\n",
       "    }\n",
       "</style>\n",
       "<table border=\"1\" class=\"dataframe\">\n",
       "  <thead>\n",
       "    <tr style=\"text-align: right;\">\n",
       "      <th></th>\n",
       "      <th>ID</th>\n",
       "      <th>Accept</th>\n",
       "      <th>Enroll</th>\n",
       "      <th>HSCity</th>\n",
       "      <th>HST</th>\n",
       "      <th>College Code</th>\n",
       "      <th>College</th>\n",
       "      <th>DEGREE_TYPE</th>\n",
       "      <th>MAJOR_CODE</th>\n",
       "      <th>Major</th>\n",
       "      <th>...</th>\n",
       "      <th>Sum Ver &amp; Wri</th>\n",
       "      <th>SAT Reading USE</th>\n",
       "      <th>SAT Math USE</th>\n",
       "      <th>SAT Total USE</th>\n",
       "      <th>Legacy</th>\n",
       "      <th>SAT Critical Reading - conversion</th>\n",
       "      <th>SAT Math - conversion</th>\n",
       "      <th>SAT Reading NEW</th>\n",
       "      <th>SAT Math NEW</th>\n",
       "      <th>SAT Total NEW</th>\n",
       "    </tr>\n",
       "  </thead>\n",
       "  <tbody>\n",
       "    <tr>\n",
       "      <th>0</th>\n",
       "      <td>194600</td>\n",
       "      <td>NaN</td>\n",
       "      <td>NaN</td>\n",
       "      <td>Bridgeport</td>\n",
       "      <td>CT</td>\n",
       "      <td>NS</td>\n",
       "      <td>Egan School of Nursing &amp; Health Sciences</td>\n",
       "      <td>BS</td>\n",
       "      <td>NURS</td>\n",
       "      <td>Nursing</td>\n",
       "      <td>...</td>\n",
       "      <td>NaN</td>\n",
       "      <td>NaN</td>\n",
       "      <td>NaN</td>\n",
       "      <td>NaN</td>\n",
       "      <td>NaN</td>\n",
       "      <td>NaN</td>\n",
       "      <td>NaN</td>\n",
       "      <td>NaN</td>\n",
       "      <td>NaN</td>\n",
       "      <td>NaN</td>\n",
       "    </tr>\n",
       "    <tr>\n",
       "      <th>1</th>\n",
       "      <td>192063</td>\n",
       "      <td>A1</td>\n",
       "      <td>NaN</td>\n",
       "      <td>Southwick</td>\n",
       "      <td>MA</td>\n",
       "      <td>AS</td>\n",
       "      <td>College of Arts &amp; Sciences</td>\n",
       "      <td>BS</td>\n",
       "      <td>BIOL</td>\n",
       "      <td>Biology</td>\n",
       "      <td>...</td>\n",
       "      <td>NaN</td>\n",
       "      <td>NaN</td>\n",
       "      <td>NaN</td>\n",
       "      <td>NaN</td>\n",
       "      <td>NaN</td>\n",
       "      <td>NaN</td>\n",
       "      <td>NaN</td>\n",
       "      <td>570.0</td>\n",
       "      <td>640.0</td>\n",
       "      <td>1210.0</td>\n",
       "    </tr>\n",
       "    <tr>\n",
       "      <th>2</th>\n",
       "      <td>196995</td>\n",
       "      <td>NaN</td>\n",
       "      <td>NaN</td>\n",
       "      <td>Bridgeport</td>\n",
       "      <td>CT</td>\n",
       "      <td>AS</td>\n",
       "      <td>College of Arts &amp; Sciences</td>\n",
       "      <td>BA</td>\n",
       "      <td>HIST</td>\n",
       "      <td>History</td>\n",
       "      <td>...</td>\n",
       "      <td>NaN</td>\n",
       "      <td>NaN</td>\n",
       "      <td>NaN</td>\n",
       "      <td>NaN</td>\n",
       "      <td>NaN</td>\n",
       "      <td>NaN</td>\n",
       "      <td>NaN</td>\n",
       "      <td>630.0</td>\n",
       "      <td>610.0</td>\n",
       "      <td>1240.0</td>\n",
       "    </tr>\n",
       "    <tr>\n",
       "      <th>3</th>\n",
       "      <td>196162</td>\n",
       "      <td>NaN</td>\n",
       "      <td>NaN</td>\n",
       "      <td>Tolland</td>\n",
       "      <td>CT</td>\n",
       "      <td>EG</td>\n",
       "      <td>NaN</td>\n",
       "      <td>BS</td>\n",
       "      <td>MEEN</td>\n",
       "      <td>Mechanical Engineering</td>\n",
       "      <td>...</td>\n",
       "      <td>NaN</td>\n",
       "      <td>NaN</td>\n",
       "      <td>NaN</td>\n",
       "      <td>NaN</td>\n",
       "      <td>NaN</td>\n",
       "      <td>NaN</td>\n",
       "      <td>NaN</td>\n",
       "      <td>540.0</td>\n",
       "      <td>540.0</td>\n",
       "      <td>1080.0</td>\n",
       "    </tr>\n",
       "    <tr>\n",
       "      <th>4</th>\n",
       "      <td>194619</td>\n",
       "      <td>NaN</td>\n",
       "      <td>NaN</td>\n",
       "      <td>Bridgeport</td>\n",
       "      <td>CT</td>\n",
       "      <td>NS</td>\n",
       "      <td>Egan School of Nursing &amp; Health Sciences</td>\n",
       "      <td>BS</td>\n",
       "      <td>NURS</td>\n",
       "      <td>Nursing</td>\n",
       "      <td>...</td>\n",
       "      <td>NaN</td>\n",
       "      <td>NaN</td>\n",
       "      <td>NaN</td>\n",
       "      <td>NaN</td>\n",
       "      <td>NaN</td>\n",
       "      <td>NaN</td>\n",
       "      <td>NaN</td>\n",
       "      <td>NaN</td>\n",
       "      <td>NaN</td>\n",
       "      <td>NaN</td>\n",
       "    </tr>\n",
       "  </tbody>\n",
       "</table>\n",
       "<p>5 rows × 47 columns</p>\n",
       "</div>"
      ],
      "text/plain": [
       "       ID Accept Enroll      HSCity HST College Code  \\\n",
       "0  194600    NaN    NaN  Bridgeport  CT           NS   \n",
       "1  192063     A1    NaN   Southwick  MA           AS   \n",
       "2  196995    NaN    NaN  Bridgeport  CT           AS   \n",
       "3  196162    NaN    NaN     Tolland  CT           EG   \n",
       "4  194619    NaN    NaN  Bridgeport  CT           NS   \n",
       "\n",
       "                                    College DEGREE_TYPE MAJOR_CODE  \\\n",
       "0  Egan School of Nursing & Health Sciences          BS       NURS   \n",
       "1                College of Arts & Sciences          BS       BIOL   \n",
       "2                College of Arts & Sciences          BA       HIST   \n",
       "3                                       NaN          BS       MEEN   \n",
       "4  Egan School of Nursing & Health Sciences          BS       NURS   \n",
       "\n",
       "                    Major      ...      Sum Ver & Wri SAT Reading USE  \\\n",
       "0                 Nursing      ...                NaN             NaN   \n",
       "1                 Biology      ...                NaN             NaN   \n",
       "2                 History      ...                NaN             NaN   \n",
       "3  Mechanical Engineering      ...                NaN             NaN   \n",
       "4                 Nursing      ...                NaN             NaN   \n",
       "\n",
       "   SAT Math USE  SAT Total USE Legacy SAT Critical Reading - conversion  \\\n",
       "0           NaN            NaN    NaN                               NaN   \n",
       "1           NaN            NaN    NaN                               NaN   \n",
       "2           NaN            NaN    NaN                               NaN   \n",
       "3           NaN            NaN    NaN                               NaN   \n",
       "4           NaN            NaN    NaN                               NaN   \n",
       "\n",
       "  SAT Math - conversion SAT Reading NEW SAT Math NEW SAT Total NEW  \n",
       "0                   NaN             NaN          NaN           NaN  \n",
       "1                   NaN           570.0        640.0        1210.0  \n",
       "2                   NaN           630.0        610.0        1240.0  \n",
       "3                   NaN           540.0        540.0        1080.0  \n",
       "4                   NaN             NaN          NaN           NaN  \n",
       "\n",
       "[5 rows x 47 columns]"
      ]
     },
     "execution_count": 20,
     "metadata": {},
     "output_type": "execute_result"
    }
   ],
   "source": [
    "# read in the fourth file\n",
    "df17 = pd.read_excel('data/Apps_2017_18.xlsx', sheet_name='Initial Pop - TEST OPT')\n",
    "df17.head()"
   ]
  },
  {
   "cell_type": "code",
   "execution_count": 21,
   "metadata": {},
   "outputs": [
    {
     "name": "stdout",
     "output_type": "stream",
     "text": [
      "<class 'pandas.core.frame.DataFrame'>\n",
      "RangeIndex: 11218 entries, 0 to 11217\n",
      "Data columns (total 47 columns):\n",
      "ID                                   11218 non-null int64\n",
      "Accept                               6794 non-null object\n",
      "Enroll                               994 non-null object\n",
      "HSCity                               11178 non-null object\n",
      "HST                                  10898 non-null object\n",
      "College Code                         11218 non-null object\n",
      "College                              11217 non-null object\n",
      "DEGREE_TYPE                          11218 non-null object\n",
      "MAJOR_CODE                           11218 non-null object\n",
      "Major                                11218 non-null object\n",
      "Major Description                    11218 non-null object\n",
      "First_GEN                            11218 non-null object\n",
      "RGPA                                 10420 non-null float64\n",
      "Rating                               10632 non-null float64\n",
      "P_M                                  5465 non-null object\n",
      "Merit                                6532 non-null object\n",
      "DEC                                  10694 non-null object\n",
      "APP_DESC                             10694 non-null object\n",
      "ACCP                                 6794 non-null object\n",
      "CONF                                 994 non-null object\n",
      "Citizen                              11218 non-null object\n",
      "Sex                                  11218 non-null object\n",
      "RES                                  11218 non-null object\n",
      "Class Rank                           1692 non-null float64\n",
      "Class Size                           1691 non-null float64\n",
      "Class Percentile                     1691 non-null float64\n",
      "Active City                          11215 non-null object\n",
      "Active Region                        11091 non-null object\n",
      "Active Postal                        11140 non-null object\n",
      "Active Country                       11215 non-null object\n",
      "Ethnicity                            11218 non-null object\n",
      "Test Optional                        11218 non-null object\n",
      "ACT                                  3142 non-null float64\n",
      "Total SAT OLD                        903 non-null float64\n",
      "SAT Verbal OLD                       905 non-null float64\n",
      "SAT Math OLD                         905 non-null float64\n",
      "SAT WRI OLD                          903 non-null float64\n",
      "Sum Ver & Wri                        903 non-null float64\n",
      "SAT Reading USE                      903 non-null float64\n",
      "SAT Math USE                         903 non-null float64\n",
      "SAT Total USE                        903 non-null float64\n",
      "Legacy                               739 non-null object\n",
      "SAT Critical Reading - conversion    905 non-null float64\n",
      "SAT Math - conversion                905 non-null float64\n",
      "SAT Reading NEW                      5612 non-null float64\n",
      "SAT Math NEW                         5612 non-null float64\n",
      "SAT Total NEW                        5612 non-null float64\n",
      "dtypes: float64(19), int64(1), object(27)\n",
      "memory usage: 4.0+ MB\n"
     ]
    }
   ],
   "source": [
    "# exmaine the columns and datatypes \n",
    "df17.info()"
   ]
  },
  {
   "cell_type": "code",
   "execution_count": 22,
   "metadata": {},
   "outputs": [
    {
     "data": {
      "image/png": "[encoded data removed]",
      "text/plain": [
       "<Figure size 576x432 with 1 Axes>"
      ]
     },
     "metadata": {
      "needs_background": "light"
     },
     "output_type": "display_data"
    }
   ],
   "source": [
    "# create graph for 2017 Application Outcomes \n",
    "fig = plt.figure(figsize=(8,6))\n",
    "ax = sns.countplot(y=\"APP_DESC\", data=df17, palette='Set1',hue_order='APP_DESC', \n",
    "                   order=['Admit','Admit Withdraw','Confirm','Withdraw Waitlist','Waitlist Offer','Deny','Application Withdraw',\n",
    "                            'Confirm Withdraw','Conditional Admit','Waitlist Reserve/Withdraw','Waitlist Reservation'])\n",
    "plt.title('2017 Application Outcomes')\n",
    "plt.savefig('images/2017_DESC.PNG')"
   ]
  },
  {
   "cell_type": "code",
   "execution_count": 23,
   "metadata": {},
   "outputs": [
    {
     "data": {
      "text/plain": [
       "0    N\n",
       "1    Y\n",
       "2    N\n",
       "3    N\n",
       "4    N\n",
       "Name: ACCP, dtype: object"
      ]
     },
     "execution_count": 23,
     "metadata": {},
     "output_type": "execute_result"
    }
   ],
   "source": [
    "# cleaning target 1, same as before\n",
    "df17['ACCP'].replace(to_replace=' ', value=np.nan, inplace=True)\n",
    "df17['ACCP'].fillna('N', inplace=True)\n",
    "df17['ACCP'].head()"
   ]
  },
  {
   "cell_type": "code",
   "execution_count": 24,
   "metadata": {},
   "outputs": [
    {
     "data": {
      "text/plain": [
       "0    N\n",
       "1    N\n",
       "2    N\n",
       "3    N\n",
       "4    N\n",
       "Name: CONF, dtype: object"
      ]
     },
     "execution_count": 24,
     "metadata": {},
     "output_type": "execute_result"
    }
   ],
   "source": [
    "# cleaning target 2, same as before \n",
    "df17['CONF'].replace(to_replace=' ', value='N', inplace=True)\n",
    "df17['CONF'].fillna('N', inplace=True)\n",
    "df17['CONF'].head(5)"
   ]
  },
  {
   "cell_type": "code",
   "execution_count": 25,
   "metadata": {},
   "outputs": [
    {
     "data": {
      "image/png": "[encoded data removed]",
      "text/plain": [
       "<Figure size 1080x288 with 2 Axes>"
      ]
     },
     "metadata": {
      "needs_background": "light"
     },
     "output_type": "display_data"
    }
   ],
   "source": [
    "# 2017 graphs of the target 1 and target 2: Accepted and Enrolled \n",
    "fig = plt.figure(figsize=(15,4))\n",
    "plt.tight_layout()\n",
    "\n",
    "ax1 = fig.add_subplot(1,2,1)\n",
    "ax2 = fig.add_subplot(1,2,2)\n",
    "\n",
    "ax1 = sns.countplot(x=df17['ACCP'], data=df17, palette='Set1', ax=ax1, order=['Y', 'N'])\n",
    "ax2 = sns.countplot(x=df17['CONF'], data=df17, palette='Set1', ax=ax2, order=['Y', 'N'])\n",
    "\n",
    "ax1.set_title('Accepted Students for the 2017-2018 Academic Year')\n",
    "ax2.set_title('Enrolled Students for the 2017-2018 Academic Year')\n",
    "\n",
    "plt.savefig('images/17_admit_enroll.PNG')"
   ]
  },
  {
   "cell_type": "markdown",
   "metadata": {},
   "source": [
    "## ACYR 18-19"
   ]
  },
  {
   "cell_type": "code",
   "execution_count": 26,
   "metadata": {},
   "outputs": [
    {
     "data": {
      "text/html": [
       "<div>\n",
       "<style scoped>\n",
       "    .dataframe tbody tr th:only-of-type {\n",
       "        vertical-align: middle;\n",
       "    }\n",
       "\n",
       "    .dataframe tbody tr th {\n",
       "        vertical-align: top;\n",
       "    }\n",
       "\n",
       "    .dataframe thead th {\n",
       "        text-align: right;\n",
       "    }\n",
       "</style>\n",
       "<table border=\"1\" class=\"dataframe\">\n",
       "  <thead>\n",
       "    <tr style=\"text-align: right;\">\n",
       "      <th></th>\n",
       "      <th>ID</th>\n",
       "      <th>Accept</th>\n",
       "      <th>HSCity</th>\n",
       "      <th>HST</th>\n",
       "      <th>College</th>\n",
       "      <th>DEGREE_TYPE</th>\n",
       "      <th>MAJOR_CODE</th>\n",
       "      <th>Major</th>\n",
       "      <th>Major Description</th>\n",
       "      <th>Unnamed: 9</th>\n",
       "      <th>...</th>\n",
       "      <th>Test Optional</th>\n",
       "      <th>Legacy</th>\n",
       "      <th>SAT Math OLD</th>\n",
       "      <th>SAT WRI OLD</th>\n",
       "      <th>SAT Verbal OLD</th>\n",
       "      <th>Total SAT OLD</th>\n",
       "      <th>ACT</th>\n",
       "      <th>SAT Reading USE</th>\n",
       "      <th>SAT Math USE</th>\n",
       "      <th>SAT Total USE</th>\n",
       "    </tr>\n",
       "  </thead>\n",
       "  <tbody>\n",
       "    <tr>\n",
       "      <th>0</th>\n",
       "      <td>214717</td>\n",
       "      <td>NaN</td>\n",
       "      <td>North Eastham</td>\n",
       "      <td>MA</td>\n",
       "      <td>Dolan School of Business</td>\n",
       "      <td>BS</td>\n",
       "      <td>Business Undeclared</td>\n",
       "      <td>Business Undeclared</td>\n",
       "      <td>Business Undeclared</td>\n",
       "      <td>NaN</td>\n",
       "      <td>...</td>\n",
       "      <td>TOP</td>\n",
       "      <td>NaN</td>\n",
       "      <td>NaN</td>\n",
       "      <td>NaN</td>\n",
       "      <td>NaN</td>\n",
       "      <td>NaN</td>\n",
       "      <td>NaN</td>\n",
       "      <td>NaN</td>\n",
       "      <td>NaN</td>\n",
       "      <td>NaN</td>\n",
       "    </tr>\n",
       "    <tr>\n",
       "      <th>1</th>\n",
       "      <td>214861</td>\n",
       "      <td>NaN</td>\n",
       "      <td>Bridgeport</td>\n",
       "      <td>CT</td>\n",
       "      <td>Dolan School of Business</td>\n",
       "      <td>BS</td>\n",
       "      <td>Marketing</td>\n",
       "      <td>Marketing</td>\n",
       "      <td>Marketing</td>\n",
       "      <td>NaN</td>\n",
       "      <td>...</td>\n",
       "      <td>N</td>\n",
       "      <td>NaN</td>\n",
       "      <td>NaN</td>\n",
       "      <td>NaN</td>\n",
       "      <td>NaN</td>\n",
       "      <td>NaN</td>\n",
       "      <td>NaN</td>\n",
       "      <td>440.0</td>\n",
       "      <td>450.0</td>\n",
       "      <td>890.0</td>\n",
       "    </tr>\n",
       "    <tr>\n",
       "      <th>2</th>\n",
       "      <td>211022</td>\n",
       "      <td>NaN</td>\n",
       "      <td>Newark</td>\n",
       "      <td>NJ</td>\n",
       "      <td>Dolan School of Business</td>\n",
       "      <td>BS</td>\n",
       "      <td>Marketing</td>\n",
       "      <td>Marketing</td>\n",
       "      <td>Marketing</td>\n",
       "      <td>NaN</td>\n",
       "      <td>...</td>\n",
       "      <td>N</td>\n",
       "      <td>NaN</td>\n",
       "      <td>NaN</td>\n",
       "      <td>NaN</td>\n",
       "      <td>NaN</td>\n",
       "      <td>NaN</td>\n",
       "      <td>18.0</td>\n",
       "      <td>NaN</td>\n",
       "      <td>NaN</td>\n",
       "      <td>NaN</td>\n",
       "    </tr>\n",
       "    <tr>\n",
       "      <th>3</th>\n",
       "      <td>211015</td>\n",
       "      <td>NaN</td>\n",
       "      <td>New York</td>\n",
       "      <td>NY</td>\n",
       "      <td>College of Arts and Sciences</td>\n",
       "      <td>BA</td>\n",
       "      <td>Undeclared</td>\n",
       "      <td>Undeclared</td>\n",
       "      <td>Undeclared</td>\n",
       "      <td>NaN</td>\n",
       "      <td>...</td>\n",
       "      <td>TOP</td>\n",
       "      <td>NaN</td>\n",
       "      <td>NaN</td>\n",
       "      <td>NaN</td>\n",
       "      <td>NaN</td>\n",
       "      <td>NaN</td>\n",
       "      <td>NaN</td>\n",
       "      <td>NaN</td>\n",
       "      <td>NaN</td>\n",
       "      <td>NaN</td>\n",
       "    </tr>\n",
       "    <tr>\n",
       "      <th>4</th>\n",
       "      <td>204374</td>\n",
       "      <td>NaN</td>\n",
       "      <td>Danbury</td>\n",
       "      <td>CT</td>\n",
       "      <td>Dolan School of Business</td>\n",
       "      <td>BS</td>\n",
       "      <td>Management</td>\n",
       "      <td>Management</td>\n",
       "      <td>Management</td>\n",
       "      <td>NaN</td>\n",
       "      <td>...</td>\n",
       "      <td>N</td>\n",
       "      <td>NaN</td>\n",
       "      <td>NaN</td>\n",
       "      <td>NaN</td>\n",
       "      <td>NaN</td>\n",
       "      <td>NaN</td>\n",
       "      <td>NaN</td>\n",
       "      <td>NaN</td>\n",
       "      <td>NaN</td>\n",
       "      <td>NaN</td>\n",
       "    </tr>\n",
       "  </tbody>\n",
       "</table>\n",
       "<p>5 rows × 40 columns</p>\n",
       "</div>"
      ],
      "text/plain": [
       "       ID Accept         HSCity HST                       College DEGREE_TYPE  \\\n",
       "0  214717    NaN  North Eastham  MA      Dolan School of Business          BS   \n",
       "1  214861    NaN     Bridgeport  CT      Dolan School of Business          BS   \n",
       "2  211022    NaN         Newark  NJ      Dolan School of Business          BS   \n",
       "3  211015    NaN       New York  NY  College of Arts and Sciences          BA   \n",
       "4  204374    NaN        Danbury  CT      Dolan School of Business          BS   \n",
       "\n",
       "            MAJOR_CODE                Major    Major Description  Unnamed: 9  \\\n",
       "0  Business Undeclared  Business Undeclared  Business Undeclared         NaN   \n",
       "1            Marketing            Marketing            Marketing         NaN   \n",
       "2            Marketing            Marketing            Marketing         NaN   \n",
       "3           Undeclared           Undeclared           Undeclared         NaN   \n",
       "4           Management           Management           Management         NaN   \n",
       "\n",
       "       ...      Test Optional  Legacy  SAT Math OLD SAT WRI OLD  \\\n",
       "0      ...                TOP     NaN           NaN         NaN   \n",
       "1      ...                  N     NaN           NaN         NaN   \n",
       "2      ...                  N     NaN           NaN         NaN   \n",
       "3      ...                TOP     NaN           NaN         NaN   \n",
       "4      ...                  N     NaN           NaN         NaN   \n",
       "\n",
       "  SAT Verbal OLD Total SAT OLD   ACT SAT Reading USE SAT Math USE  \\\n",
       "0            NaN           NaN   NaN             NaN          NaN   \n",
       "1            NaN           NaN   NaN           440.0        450.0   \n",
       "2            NaN           NaN  18.0             NaN          NaN   \n",
       "3            NaN           NaN   NaN             NaN          NaN   \n",
       "4            NaN           NaN   NaN             NaN          NaN   \n",
       "\n",
       "  SAT Total USE  \n",
       "0           NaN  \n",
       "1         890.0  \n",
       "2           NaN  \n",
       "3           NaN  \n",
       "4           NaN  \n",
       "\n",
       "[5 rows x 40 columns]"
      ]
     },
     "execution_count": 26,
     "metadata": {},
     "output_type": "execute_result"
    }
   ],
   "source": [
    "# read in the fifth and final admissions file \n",
    "df18 = pd.read_excel('data/Apps_2018_19.xlsx', sheet_name='Apps')\n",
    "df18.head()"
   ]
  },
  {
   "cell_type": "code",
   "execution_count": 27,
   "metadata": {},
   "outputs": [
    {
     "name": "stdout",
     "output_type": "stream",
     "text": [
      "<class 'pandas.core.frame.DataFrame'>\n",
      "RangeIndex: 11361 entries, 0 to 11360\n",
      "Data columns (total 40 columns):\n",
      "ID                   11361 non-null int64\n",
      "Accept               6851 non-null object\n",
      "HSCity               11335 non-null object\n",
      "HST                  11021 non-null object\n",
      "College              11361 non-null object\n",
      "DEGREE_TYPE          11361 non-null object\n",
      "MAJOR_CODE           11361 non-null object\n",
      "Major                11361 non-null object\n",
      "Major Description    11293 non-null object\n",
      "Unnamed: 9           0 non-null float64\n",
      "First_GEN            11361 non-null object\n",
      "RGPA                 10596 non-null float64\n",
      "Rating               10840 non-null float64\n",
      "P_M                  5571 non-null object\n",
      "Merit                6694 non-null object\n",
      "DEC                  10898 non-null object\n",
      "APP_DESC             10898 non-null object\n",
      "ACCP                 6851 non-null object\n",
      "CONF                 1100 non-null object\n",
      "Citizen              11361 non-null object\n",
      "Sex                  11361 non-null object\n",
      "RES                  11361 non-null object\n",
      "Class Rank           1640 non-null float64\n",
      "Class Size           1640 non-null float64\n",
      "Class Percentile     1640 non-null float64\n",
      "Active City          11359 non-null object\n",
      "Active Region        11213 non-null object\n",
      "Active Postal        11268 non-null object\n",
      "Active Country       11359 non-null object\n",
      "Ethnicity            11361 non-null object\n",
      "Test Optional        11361 non-null object\n",
      "Legacy               749 non-null object\n",
      "SAT Math OLD         14 non-null float64\n",
      "SAT WRI OLD          14 non-null float64\n",
      "SAT Verbal OLD       14 non-null float64\n",
      "Total SAT OLD        12 non-null float64\n",
      "ACT                  2237 non-null float64\n",
      "SAT Reading USE      5839 non-null float64\n",
      "SAT Math USE         5839 non-null float64\n",
      "SAT Total USE        5839 non-null float64\n",
      "dtypes: float64(14), int64(1), object(25)\n",
      "memory usage: 3.5+ MB\n"
     ]
    }
   ],
   "source": [
    "# examine the columns and datatypes \n",
    "df18.info()"
   ]
  },
  {
   "cell_type": "code",
   "execution_count": 28,
   "metadata": {},
   "outputs": [
    {
     "data": {
      "image/png": "[encoded data removed]",
      "text/plain": [
       "<Figure size 576x432 with 1 Axes>"
      ]
     },
     "metadata": {
      "needs_background": "light"
     },
     "output_type": "display_data"
    }
   ],
   "source": [
    "# creat graph for 2018 Application Outcomes \n",
    "fig = plt.figure(figsize=(8,6))\n",
    "ax = sns.countplot(y=\"APP_DESC\", data=df18, palette='Set1',hue_order='APP_DESC', \n",
    "                   order=['Admit','Admit Withdraw','Confirm','Withdraw Waitlist','Waitlist Offer','Deny','Application Withdraw',\n",
    "                            'Confirm Withdraw','Conditional Admit','Waitlist Reserve/Withdraw','Waitlist Reservation'])\n",
    "plt.title('2018 Application Outcomes')\n",
    "plt.savefig('images/2018_DESC.PNG')"
   ]
  },
  {
   "cell_type": "code",
   "execution_count": 29,
   "metadata": {},
   "outputs": [
    {
     "data": {
      "text/plain": [
       "0    N\n",
       "1    N\n",
       "2    N\n",
       "3    N\n",
       "4    N\n",
       "Name: ACCP, dtype: object"
      ]
     },
     "execution_count": 29,
     "metadata": {},
     "output_type": "execute_result"
    }
   ],
   "source": [
    "# cleaning target 1, same as before \n",
    "df18['ACCP'].replace(to_replace=' ', value=np.nan, inplace=True)\n",
    "df18['ACCP'].fillna('N', inplace=True)\n",
    "df18['ACCP'].head()"
   ]
  },
  {
   "cell_type": "code",
   "execution_count": 30,
   "metadata": {},
   "outputs": [
    {
     "data": {
      "text/plain": [
       "0    N\n",
       "1    N\n",
       "2    N\n",
       "3    N\n",
       "4    N\n",
       "Name: CONF, dtype: object"
      ]
     },
     "execution_count": 30,
     "metadata": {},
     "output_type": "execute_result"
    }
   ],
   "source": [
    "# cleaning target 2, same as before \n",
    "df18['CONF'].replace(to_replace=' ', value='N', inplace=True)\n",
    "df18['CONF'].fillna('N', inplace=True)\n",
    "df18['CONF'].head()"
   ]
  },
  {
   "cell_type": "code",
   "execution_count": 31,
   "metadata": {},
   "outputs": [
    {
     "data": {
      "image/png": "[encoded data removed]",
      "text/plain": [
       "<Figure size 1080x288 with 2 Axes>"
      ]
     },
     "metadata": {
      "needs_background": "light"
     },
     "output_type": "display_data"
    }
   ],
   "source": [
    "# 2018 graphs of the target 1 and target 2: Accepted and Enrolled \n",
    "fig = plt.figure(figsize=(15,4))\n",
    "plt.tight_layout()\n",
    "\n",
    "ax1 = fig.add_subplot(1,2,1)\n",
    "ax2 = fig.add_subplot(1,2,2)\n",
    "\n",
    "ax1 = sns.countplot(x=df18['ACCP'], data=df18, palette='Set1', ax=ax1, order=['Y', 'N'])\n",
    "ax2 = sns.countplot(x=df18['CONF'], data=df18, palette='Set1', ax=ax2, order=['Y', 'N'])\n",
    "\n",
    "ax1.set_title('Accepted Students for the 2018-2019 Academic Year')\n",
    "ax2.set_title('Enrolled Students for the 2018-2019 Academic Year')\n",
    "\n",
    "plt.savefig('images/18_admit_enroll.PNG')"
   ]
  },
  {
   "cell_type": "markdown",
   "metadata": {},
   "source": [
    "## Summary DF"
   ]
  },
  {
   "cell_type": "code",
   "execution_count": 32,
   "metadata": {},
   "outputs": [
    {
     "data": {
      "text/html": [
       "<div>\n",
       "<style scoped>\n",
       "    .dataframe tbody tr th:only-of-type {\n",
       "        vertical-align: middle;\n",
       "    }\n",
       "\n",
       "    .dataframe tbody tr th {\n",
       "        vertical-align: top;\n",
       "    }\n",
       "\n",
       "    .dataframe thead th {\n",
       "        text-align: right;\n",
       "    }\n",
       "</style>\n",
       "<table border=\"1\" class=\"dataframe\">\n",
       "  <thead>\n",
       "    <tr style=\"text-align: right;\">\n",
       "      <th></th>\n",
       "      <th>Applications</th>\n",
       "      <th>Acceptances</th>\n",
       "      <th>Enrolls</th>\n",
       "    </tr>\n",
       "    <tr>\n",
       "      <th>Year</th>\n",
       "      <th></th>\n",
       "      <th></th>\n",
       "      <th></th>\n",
       "    </tr>\n",
       "  </thead>\n",
       "  <tbody>\n",
       "    <tr>\n",
       "      <th>2014</th>\n",
       "      <td>9978</td>\n",
       "      <td>7137</td>\n",
       "      <td>1056</td>\n",
       "    </tr>\n",
       "    <tr>\n",
       "      <th>2015</th>\n",
       "      <td>10767</td>\n",
       "      <td>6995</td>\n",
       "      <td>966</td>\n",
       "    </tr>\n",
       "    <tr>\n",
       "      <th>2016</th>\n",
       "      <td>11055</td>\n",
       "      <td>6795</td>\n",
       "      <td>1058</td>\n",
       "    </tr>\n",
       "    <tr>\n",
       "      <th>2017</th>\n",
       "      <td>11218</td>\n",
       "      <td>6794</td>\n",
       "      <td>994</td>\n",
       "    </tr>\n",
       "    <tr>\n",
       "      <th>2018</th>\n",
       "      <td>11361</td>\n",
       "      <td>6851</td>\n",
       "      <td>1091</td>\n",
       "    </tr>\n",
       "  </tbody>\n",
       "</table>\n",
       "</div>"
      ],
      "text/plain": [
       "      Applications  Acceptances  Enrolls\n",
       "Year                                    \n",
       "2014          9978         7137     1056\n",
       "2015         10767         6995      966\n",
       "2016         11055         6795     1058\n",
       "2017         11218         6794      994\n",
       "2018         11361         6851     1091"
      ]
     },
     "execution_count": 32,
     "metadata": {},
     "output_type": "execute_result"
    }
   ],
   "source": [
    "# read in the small summary file \n",
    "df_sum = pd.read_excel('data/admission_summary.xlsx', index_col=0)\n",
    "df_sum.head()"
   ]
  },
  {
   "cell_type": "code",
   "execution_count": 33,
   "metadata": {},
   "outputs": [
    {
     "name": "stdout",
     "output_type": "stream",
     "text": [
      "<class 'pandas.core.frame.DataFrame'>\n",
      "Int64Index: 5 entries, 2014 to 2018\n",
      "Data columns (total 3 columns):\n",
      "Applications    5 non-null int64\n",
      "Acceptances     5 non-null int64\n",
      "Enrolls         5 non-null int64\n",
      "dtypes: int64(3)\n",
      "memory usage: 160.0 bytes\n"
     ]
    }
   ],
   "source": [
    "# exmaine its columns and datatypes \n",
    "df_sum.info()"
   ]
  },
  {
   "cell_type": "code",
   "execution_count": 34,
   "metadata": {},
   "outputs": [
    {
     "data": {
      "image/png": "[encoded data removed]",
      "text/plain": [
       "<Figure size 1080x720 with 4 Axes>"
      ]
     },
     "metadata": {
      "needs_background": "light"
     },
     "output_type": "display_data"
    }
   ],
   "source": [
    "# graphs that show the application, acceptance and enroll trends betweeen the years 2014-2018\n",
    "fig = plt.figure(figsize=(15,10))\n",
    "plt.tight_layout()\n",
    "\n",
    "ax1 = fig.add_subplot(2,2,1)\n",
    "ax2 = fig.add_subplot(2,2,2)\n",
    "ax3 = fig.add_subplot(2,2,3)\n",
    "ax4 = fig.add_subplot(2,2,4)\n",
    "\n",
    "ax1.plot(df_sum)\n",
    "ax2.plot(df_sum['Applications'])\n",
    "ax3.plot(df_sum['Acceptances'])\n",
    "ax4.plot(df_sum['Enrolls'])\n",
    "\n",
    "ax1.set_title('Applications, Acceptances & Enrolls 2014-2018')\n",
    "ax2.set_title('Applications 2014-2018')\n",
    "ax3.set_title('Acceptances 2014-2018')\n",
    "ax4.set_title('Enrolls 2014-2018')\n",
    "\n",
    "plt.savefig('images/apps_admits_enrolls_breakdown.PNG')"
   ]
  },
  {
   "cell_type": "code",
   "execution_count": null,
   "metadata": {},
   "outputs": [],
   "source": []
  }
 ],
 "metadata": {
  "kernelspec": {
   "display_name": "Python 3",
   "language": "python",
   "name": "python3"
  },
  "language_info": {
   "codemirror_mode": {
    "name": "ipython",
    "version": 3
   },
   "file_extension": ".py",
   "mimetype": "text/x-python",
   "name": "python",
   "nbconvert_exporter": "python",
   "pygments_lexer": "ipython3",
   "version": "3.6.7"
  }
 },
 "nbformat": 4,
 "nbformat_minor": 2
}
