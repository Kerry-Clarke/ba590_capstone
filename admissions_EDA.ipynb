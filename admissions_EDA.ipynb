{
 "cells": [
  {
   "cell_type": "code",
   "execution_count": 1,
   "metadata": {},
   "outputs": [],
   "source": [
    "import numpy as np\n",
    "import pandas as pd\n",
    "import matplotlib.pyplot as plt\n",
    "%matplotlib inline\n",
    "plt.style.use('ggplot')"
   ]
  },
  {
   "cell_type": "markdown",
   "metadata": {},
   "source": [
    "## ACYR 14-15"
   ]
  },
  {
   "cell_type": "code",
   "execution_count": 2,
   "metadata": {},
   "outputs": [
    {
     "data": {
      "text/html": [
       "<div>\n",
       "<style scoped>\n",
       "    .dataframe tbody tr th:only-of-type {\n",
       "        vertical-align: middle;\n",
       "    }\n",
       "\n",
       "    .dataframe tbody tr th {\n",
       "        vertical-align: top;\n",
       "    }\n",
       "\n",
       "    .dataframe thead th {\n",
       "        text-align: right;\n",
       "    }\n",
       "</style>\n",
       "<table border=\"1\" class=\"dataframe\">\n",
       "  <thead>\n",
       "    <tr style=\"text-align: right;\">\n",
       "      <th></th>\n",
       "      <th>ID</th>\n",
       "      <th>STATE</th>\n",
       "      <th>ADMIT_TYPE</th>\n",
       "      <th>ADMT_DESC</th>\n",
       "      <th>DECISION</th>\n",
       "      <th>APDC_DESC</th>\n",
       "      <th>COMP</th>\n",
       "      <th>APP_ENTRY_TERM</th>\n",
       "      <th>COLLEGE_CODE</th>\n",
       "      <th>DEGREE</th>\n",
       "      <th>...</th>\n",
       "      <th>ACT</th>\n",
       "      <th>HIGH_MATH</th>\n",
       "      <th>HIGH_VERBAL</th>\n",
       "      <th>HIGH_WRITING</th>\n",
       "      <th>TOTAL_SAT</th>\n",
       "      <th>PERCENTILE</th>\n",
       "      <th>CITZ_DESC</th>\n",
       "      <th>LGCY_DESC</th>\n",
       "      <th>ETHN_DESC</th>\n",
       "      <th>TESTOPT</th>\n",
       "    </tr>\n",
       "  </thead>\n",
       "  <tbody>\n",
       "    <tr>\n",
       "      <th>0</th>\n",
       "      <td>135594</td>\n",
       "      <td>NY</td>\n",
       "      <td>FY</td>\n",
       "      <td>Freshman Applicant</td>\n",
       "      <td>A1</td>\n",
       "      <td>Admit</td>\n",
       "      <td>Y</td>\n",
       "      <td>201409</td>\n",
       "      <td>AS</td>\n",
       "      <td>BA</td>\n",
       "      <td>...</td>\n",
       "      <td>28.0</td>\n",
       "      <td>NaN</td>\n",
       "      <td>NaN</td>\n",
       "      <td>NaN</td>\n",
       "      <td>NaN</td>\n",
       "      <td>NaN</td>\n",
       "      <td>Citizen</td>\n",
       "      <td>NaN</td>\n",
       "      <td>White,Including Spain/Portugal</td>\n",
       "      <td>N</td>\n",
       "    </tr>\n",
       "    <tr>\n",
       "      <th>1</th>\n",
       "      <td>136110</td>\n",
       "      <td>NY</td>\n",
       "      <td>FY</td>\n",
       "      <td>Freshman Applicant</td>\n",
       "      <td>A7</td>\n",
       "      <td>Deny</td>\n",
       "      <td>Y</td>\n",
       "      <td>201409</td>\n",
       "      <td>AS</td>\n",
       "      <td>BA</td>\n",
       "      <td>...</td>\n",
       "      <td>22.0</td>\n",
       "      <td>NaN</td>\n",
       "      <td>NaN</td>\n",
       "      <td>NaN</td>\n",
       "      <td>NaN</td>\n",
       "      <td>NaN</td>\n",
       "      <td>Citizen</td>\n",
       "      <td>NaN</td>\n",
       "      <td>White,Including Spain/Portugal</td>\n",
       "      <td>N</td>\n",
       "    </tr>\n",
       "    <tr>\n",
       "      <th>2</th>\n",
       "      <td>136113</td>\n",
       "      <td>NY</td>\n",
       "      <td>FY</td>\n",
       "      <td>Freshman Applicant</td>\n",
       "      <td>A1</td>\n",
       "      <td>Admit</td>\n",
       "      <td>Y</td>\n",
       "      <td>201409</td>\n",
       "      <td>AS</td>\n",
       "      <td>BA</td>\n",
       "      <td>...</td>\n",
       "      <td>31.0</td>\n",
       "      <td>NaN</td>\n",
       "      <td>NaN</td>\n",
       "      <td>NaN</td>\n",
       "      <td>NaN</td>\n",
       "      <td>NaN</td>\n",
       "      <td>Citizen</td>\n",
       "      <td>NaN</td>\n",
       "      <td>White,Including Spain/Portugal</td>\n",
       "      <td>N</td>\n",
       "    </tr>\n",
       "    <tr>\n",
       "      <th>3</th>\n",
       "      <td>135572</td>\n",
       "      <td>CT</td>\n",
       "      <td>FY</td>\n",
       "      <td>Freshman Applicant</td>\n",
       "      <td>NaN</td>\n",
       "      <td>NaN</td>\n",
       "      <td>N</td>\n",
       "      <td>201409</td>\n",
       "      <td>NS</td>\n",
       "      <td>BS</td>\n",
       "      <td>...</td>\n",
       "      <td>NaN</td>\n",
       "      <td>NaN</td>\n",
       "      <td>NaN</td>\n",
       "      <td>NaN</td>\n",
       "      <td>NaN</td>\n",
       "      <td>NaN</td>\n",
       "      <td>Permanent Resident Alien</td>\n",
       "      <td>NaN</td>\n",
       "      <td>Asian</td>\n",
       "      <td>N</td>\n",
       "    </tr>\n",
       "    <tr>\n",
       "      <th>4</th>\n",
       "      <td>135579</td>\n",
       "      <td>NaN</td>\n",
       "      <td>FY</td>\n",
       "      <td>Freshman Applicant</td>\n",
       "      <td>A2</td>\n",
       "      <td>Admit Withdraw</td>\n",
       "      <td>Y</td>\n",
       "      <td>201409</td>\n",
       "      <td>BU</td>\n",
       "      <td>BS</td>\n",
       "      <td>...</td>\n",
       "      <td>NaN</td>\n",
       "      <td>NaN</td>\n",
       "      <td>NaN</td>\n",
       "      <td>NaN</td>\n",
       "      <td>NaN</td>\n",
       "      <td>NaN</td>\n",
       "      <td>Foreign</td>\n",
       "      <td>NaN</td>\n",
       "      <td>International/No ethnicity</td>\n",
       "      <td>N</td>\n",
       "    </tr>\n",
       "  </tbody>\n",
       "</table>\n",
       "<p>5 rows × 34 columns</p>\n",
       "</div>"
      ],
      "text/plain": [
       "       ID STATE ADMIT_TYPE           ADMT_DESC DECISION       APDC_DESC COMP  \\\n",
       "0  135594    NY         FY  Freshman Applicant       A1           Admit    Y   \n",
       "1  136110    NY         FY  Freshman Applicant       A7            Deny    Y   \n",
       "2  136113    NY         FY  Freshman Applicant       A1           Admit    Y   \n",
       "3  135572    CT         FY  Freshman Applicant      NaN             NaN    N   \n",
       "4  135579   NaN         FY  Freshman Applicant       A2  Admit Withdraw    Y   \n",
       "\n",
       "   APP_ENTRY_TERM COLLEGE_CODE DEGREE   ...     ACT HIGH_MATH HIGH_VERBAL  \\\n",
       "0          201409           AS     BA   ...    28.0       NaN         NaN   \n",
       "1          201409           AS     BA   ...    22.0       NaN         NaN   \n",
       "2          201409           AS     BA   ...    31.0       NaN         NaN   \n",
       "3          201409           NS     BS   ...     NaN       NaN         NaN   \n",
       "4          201409           BU     BS   ...     NaN       NaN         NaN   \n",
       "\n",
       "  HIGH_WRITING  TOTAL_SAT PERCENTILE                 CITZ_DESC LGCY_DESC  \\\n",
       "0          NaN        NaN        NaN                   Citizen       NaN   \n",
       "1          NaN        NaN        NaN                   Citizen       NaN   \n",
       "2          NaN        NaN        NaN                   Citizen       NaN   \n",
       "3          NaN        NaN        NaN  Permanent Resident Alien       NaN   \n",
       "4          NaN        NaN        NaN                   Foreign       NaN   \n",
       "\n",
       "                        ETHN_DESC TESTOPT  \n",
       "0  White,Including Spain/Portugal       N  \n",
       "1  White,Including Spain/Portugal       N  \n",
       "2  White,Including Spain/Portugal       N  \n",
       "3                           Asian       N  \n",
       "4      International/No ethnicity       N  \n",
       "\n",
       "[5 rows x 34 columns]"
      ]
     },
     "execution_count": 2,
     "metadata": {},
     "output_type": "execute_result"
    }
   ],
   "source": [
    "df14 = pd.read_excel('Apps_2014_15.xlsx', sheet_name='Admissions Tab - MASTER')\n",
    "df14.head()"
   ]
  },
  {
   "cell_type": "code",
   "execution_count": 3,
   "metadata": {},
   "outputs": [
    {
     "name": "stdout",
     "output_type": "stream",
     "text": [
      "<class 'pandas.core.frame.DataFrame'>\n",
      "RangeIndex: 9978 entries, 0 to 9977\n",
      "Data columns (total 34 columns):\n",
      "ID                9978 non-null int64\n",
      "STATE             9706 non-null object\n",
      "ADMIT_TYPE        9978 non-null object\n",
      "ADMT_DESC         9978 non-null object\n",
      "DECISION          9593 non-null object\n",
      "APDC_DESC         9593 non-null object\n",
      "COMP              9978 non-null object\n",
      "APP_ENTRY_TERM    9978 non-null int64\n",
      "COLLEGE_CODE      9977 non-null object\n",
      "DEGREE            9977 non-null object\n",
      "MAJOR             9977 non-null object\n",
      "RESIDENT_CODE     9978 non-null object\n",
      "ACCP              7137 non-null object\n",
      "CONF              1056 non-null object\n",
      "ENROLL            0 non-null float64\n",
      "JESUIT            512 non-null object\n",
      "HSCITY            9935 non-null object\n",
      "HSSTATE           9707 non-null object\n",
      "HSNATION          228 non-null object\n",
      "GENDER            9978 non-null object\n",
      "RELIGION          9166 non-null object\n",
      "APPLIED           9978 non-null object\n",
      "APPLIED_DATE      9978 non-null datetime64[ns]\n",
      "FIRSTGEN          1900 non-null object\n",
      "ACT               2169 non-null float64\n",
      "HIGH_MATH         5600 non-null float64\n",
      "HIGH_VERBAL       5600 non-null float64\n",
      "HIGH_WRITING      5600 non-null float64\n",
      "TOTAL_SAT         5600 non-null float64\n",
      "PERCENTILE        1839 non-null float64\n",
      "CITZ_DESC         9974 non-null object\n",
      "LGCY_DESC         562 non-null object\n",
      "ETHN_DESC         9939 non-null object\n",
      "TESTOPT           9978 non-null object\n",
      "dtypes: datetime64[ns](1), float64(7), int64(2), object(24)\n",
      "memory usage: 2.6+ MB\n"
     ]
    },
    {
     "data": {
      "text/plain": [
       "(Index(['ID', 'STATE', 'ADMIT_TYPE', 'ADMT_DESC', 'DECISION', 'APDC_DESC',\n",
       "        'COMP', 'APP_ENTRY_TERM', 'COLLEGE_CODE', 'DEGREE', 'MAJOR',\n",
       "        'RESIDENT_CODE', 'ACCP', 'CONF', 'ENROLL', 'JESUIT', 'HSCITY',\n",
       "        'HSSTATE', 'HSNATION', 'GENDER', 'RELIGION', 'APPLIED', 'APPLIED_DATE',\n",
       "        'FIRSTGEN', 'ACT', 'HIGH_MATH', 'HIGH_VERBAL', 'HIGH_WRITING',\n",
       "        'TOTAL_SAT', 'PERCENTILE', 'CITZ_DESC', 'LGCY_DESC', 'ETHN_DESC',\n",
       "        'TESTOPT'],\n",
       "       dtype='object'), None)"
      ]
     },
     "execution_count": 3,
     "metadata": {},
     "output_type": "execute_result"
    }
   ],
   "source": [
    "df14.columns, df14.info()"
   ]
  },
  {
   "cell_type": "code",
   "execution_count": 60,
   "metadata": {
    "scrolled": true
   },
   "outputs": [
    {
     "data": {
      "image/png": "[encoded data removed]",
      "text/plain": [
       "<Figure size 432x288 with 1 Axes>"
      ]
     },
     "metadata": {
      "needs_background": "light"
     },
     "output_type": "display_data"
    },
    {
     "data": {
      "text/plain": [
       "<Figure size 432x288 with 0 Axes>"
      ]
     },
     "metadata": {},
     "output_type": "display_data"
    }
   ],
   "source": [
    "# show the different application outcomes for ACYR 14-15\n",
    "#fig = plt.figure(figsize=(8,6))\n",
    "df14['DECISION'].value_counts().plot(kind='bar')\n",
    "plt.title('Application Outcomes for the 2014-15 Academic Year')\n",
    "plt.show()\n",
    "plt.savefig('14_decis.png')"
   ]
  },
  {
   "cell_type": "code",
   "execution_count": 6,
   "metadata": {
    "scrolled": true
   },
   "outputs": [
    {
     "data": {
      "text/plain": [
       "0    Y\n",
       "1    N\n",
       "2    Y\n",
       "3    N\n",
       "4    Y\n",
       "Name: ACCP, dtype: object"
      ]
     },
     "execution_count": 6,
     "metadata": {},
     "output_type": "execute_result"
    }
   ],
   "source": [
    "# do a bit of cleaning on the target for graphing purposes\n",
    "df14['ACCP'].replace(to_replace=' ', value=np.nan, inplace=True)\n",
    "df14['ACCP'].fillna('N', inplace=True)\n",
    "df14['ACCP'].head()"
   ]
  },
  {
   "cell_type": "code",
   "execution_count": 43,
   "metadata": {},
   "outputs": [
    {
     "data": {
      "image/png": "[encoded data removed]",
      "text/plain": [
       "<Figure size 576x432 with 1 Axes>"
      ]
     },
     "metadata": {
      "needs_background": "light"
     },
     "output_type": "display_data"
    },
    {
     "data": {
      "text/plain": [
       "<Figure size 432x288 with 0 Axes>"
      ]
     },
     "metadata": {},
     "output_type": "display_data"
    }
   ],
   "source": [
    "# target 1 - Accepted\n",
    "fig = plt.figure(figsize=(8,6))\n",
    "df14['ACCP'].value_counts().plot(kind='bar')\n",
    "plt.title('Admitted Students for the 2014-15 Academic Year')\n",
    "plt.xticks(rotation='horizontal')\n",
    "plt.show()\n",
    "plt.savefig('14_admits.png')"
   ]
  },
  {
   "cell_type": "code",
   "execution_count": 8,
   "metadata": {},
   "outputs": [
    {
     "data": {
      "text/plain": [
       "0    N\n",
       "1    N\n",
       "2    N\n",
       "3    N\n",
       "4    N\n",
       "5    N\n",
       "6    N\n",
       "7    N\n",
       "8    N\n",
       "9    N\n",
       "Name: CONF, dtype: object"
      ]
     },
     "execution_count": 8,
     "metadata": {},
     "output_type": "execute_result"
    }
   ],
   "source": [
    "# some cleaning on target 2\n",
    "df14['CONF'].replace(to_replace=' ', value='N', inplace=True)\n",
    "df14['CONF'].fillna('N', inplace=True)\n",
    "df14['CONF'].head(10)"
   ]
  },
  {
   "cell_type": "code",
   "execution_count": 44,
   "metadata": {},
   "outputs": [
    {
     "data": {
      "image/png": "[encoded data removed]",
      "text/plain": [
       "<Figure size 576x432 with 1 Axes>"
      ]
     },
     "metadata": {
      "needs_background": "light"
     },
     "output_type": "display_data"
    },
    {
     "data": {
      "text/plain": [
       "<Figure size 432x288 with 0 Axes>"
      ]
     },
     "metadata": {},
     "output_type": "display_data"
    }
   ],
   "source": [
    "# target 2 - Enrolled\n",
    "fig = plt.figure(figsize=(8,6))\n",
    "df14['CONF'].value_counts().plot(kind='bar')\n",
    "plt.title('Enrolled Students for the 2014-15 Academic Year')\n",
    "plt.xticks(rotation='horizontal')\n",
    "plt.show()\n",
    "plt.savefig('14_enroll.png')"
   ]
  },
  {
   "cell_type": "markdown",
   "metadata": {},
   "source": [
    "## ACYR 15-16"
   ]
  },
  {
   "cell_type": "code",
   "execution_count": 10,
   "metadata": {},
   "outputs": [
    {
     "data": {
      "text/html": [
       "<div>\n",
       "<style scoped>\n",
       "    .dataframe tbody tr th:only-of-type {\n",
       "        vertical-align: middle;\n",
       "    }\n",
       "\n",
       "    .dataframe tbody tr th {\n",
       "        vertical-align: top;\n",
       "    }\n",
       "\n",
       "    .dataframe thead th {\n",
       "        text-align: right;\n",
       "    }\n",
       "</style>\n",
       "<table border=\"1\" class=\"dataframe\">\n",
       "  <thead>\n",
       "    <tr style=\"text-align: right;\">\n",
       "      <th></th>\n",
       "      <th>ID</th>\n",
       "      <th>HSCity</th>\n",
       "      <th>HST</th>\n",
       "      <th>College</th>\n",
       "      <th>MAJR</th>\n",
       "      <th>1ST GEN</th>\n",
       "      <th>RGPA</th>\n",
       "      <th>Rating</th>\n",
       "      <th>P_M</th>\n",
       "      <th>Merit</th>\n",
       "      <th>...</th>\n",
       "      <th>Active Region</th>\n",
       "      <th>Active Postal</th>\n",
       "      <th>Active Country</th>\n",
       "      <th>Ethnicity</th>\n",
       "      <th>Test Optional</th>\n",
       "      <th>TSAT</th>\n",
       "      <th>VER</th>\n",
       "      <th>MAT</th>\n",
       "      <th>WRI</th>\n",
       "      <th>Legacy</th>\n",
       "    </tr>\n",
       "  </thead>\n",
       "  <tbody>\n",
       "    <tr>\n",
       "      <th>0</th>\n",
       "      <td>154306</td>\n",
       "      <td>Hurley</td>\n",
       "      <td>NY</td>\n",
       "      <td>AS</td>\n",
       "      <td>BIOL</td>\n",
       "      <td>N</td>\n",
       "      <td>3.11</td>\n",
       "      <td>5.0</td>\n",
       "      <td>NaN</td>\n",
       "      <td>NaN</td>\n",
       "      <td>...</td>\n",
       "      <td>NY</td>\n",
       "      <td>12449-5010</td>\n",
       "      <td>United States</td>\n",
       "      <td>W</td>\n",
       "      <td>N</td>\n",
       "      <td>NaN</td>\n",
       "      <td>NaN</td>\n",
       "      <td>NaN</td>\n",
       "      <td>NaN</td>\n",
       "      <td>NaN</td>\n",
       "    </tr>\n",
       "    <tr>\n",
       "      <th>1</th>\n",
       "      <td>156038</td>\n",
       "      <td>Faisalabad</td>\n",
       "      <td>NaN</td>\n",
       "      <td>BU</td>\n",
       "      <td>INBU</td>\n",
       "      <td>Y</td>\n",
       "      <td>NaN</td>\n",
       "      <td>NaN</td>\n",
       "      <td>NaN</td>\n",
       "      <td>NaN</td>\n",
       "      <td>...</td>\n",
       "      <td>Punjab</td>\n",
       "      <td>38000</td>\n",
       "      <td>Pakistan</td>\n",
       "      <td>F</td>\n",
       "      <td>TOP</td>\n",
       "      <td>NaN</td>\n",
       "      <td>NaN</td>\n",
       "      <td>NaN</td>\n",
       "      <td>NaN</td>\n",
       "      <td>NaN</td>\n",
       "    </tr>\n",
       "    <tr>\n",
       "      <th>2</th>\n",
       "      <td>154625</td>\n",
       "      <td>Islamabad</td>\n",
       "      <td>NaN</td>\n",
       "      <td>EG</td>\n",
       "      <td>MEEN</td>\n",
       "      <td>Y</td>\n",
       "      <td>NaN</td>\n",
       "      <td>NaN</td>\n",
       "      <td>NaN</td>\n",
       "      <td>NaN</td>\n",
       "      <td>...</td>\n",
       "      <td>capital tertiorry</td>\n",
       "      <td>44000</td>\n",
       "      <td>Pakistan</td>\n",
       "      <td>F</td>\n",
       "      <td>TOP</td>\n",
       "      <td>NaN</td>\n",
       "      <td>NaN</td>\n",
       "      <td>NaN</td>\n",
       "      <td>NaN</td>\n",
       "      <td>NaN</td>\n",
       "    </tr>\n",
       "    <tr>\n",
       "      <th>3</th>\n",
       "      <td>148401</td>\n",
       "      <td>Manhasset</td>\n",
       "      <td>NY</td>\n",
       "      <td>AS</td>\n",
       "      <td>0000</td>\n",
       "      <td>N</td>\n",
       "      <td>3.67</td>\n",
       "      <td>4.0</td>\n",
       "      <td>NaN</td>\n",
       "      <td>LOY</td>\n",
       "      <td>...</td>\n",
       "      <td>NY</td>\n",
       "      <td>11563-1952</td>\n",
       "      <td>United States</td>\n",
       "      <td>U</td>\n",
       "      <td>TOP</td>\n",
       "      <td>NaN</td>\n",
       "      <td>NaN</td>\n",
       "      <td>NaN</td>\n",
       "      <td>NaN</td>\n",
       "      <td>N</td>\n",
       "    </tr>\n",
       "    <tr>\n",
       "      <th>4</th>\n",
       "      <td>149482</td>\n",
       "      <td>South Hamilton</td>\n",
       "      <td>MA</td>\n",
       "      <td>AS</td>\n",
       "      <td>0000</td>\n",
       "      <td>N</td>\n",
       "      <td>2.86</td>\n",
       "      <td>7.0</td>\n",
       "      <td>PLUS</td>\n",
       "      <td>NaN</td>\n",
       "      <td>...</td>\n",
       "      <td>MA</td>\n",
       "      <td>01982-2254</td>\n",
       "      <td>United States</td>\n",
       "      <td>W</td>\n",
       "      <td>N</td>\n",
       "      <td>1760.0</td>\n",
       "      <td>610.0</td>\n",
       "      <td>530.0</td>\n",
       "      <td>620.0</td>\n",
       "      <td>N</td>\n",
       "    </tr>\n",
       "  </tbody>\n",
       "</table>\n",
       "<p>5 rows × 30 columns</p>\n",
       "</div>"
      ],
      "text/plain": [
       "       ID          HSCity  HST College  MAJR 1ST GEN  RGPA  Rating   P_M  \\\n",
       "0  154306          Hurley   NY      AS  BIOL       N  3.11     5.0   NaN   \n",
       "1  156038      Faisalabad  NaN      BU  INBU       Y   NaN     NaN   NaN   \n",
       "2  154625       Islamabad  NaN      EG  MEEN       Y   NaN     NaN   NaN   \n",
       "3  148401       Manhasset   NY      AS  0000       N  3.67     4.0   NaN   \n",
       "4  149482  South Hamilton   MA      AS  0000       N  2.86     7.0  PLUS   \n",
       "\n",
       "  Merit  ...        Active Region Active Postal Active Country Ethnicity  \\\n",
       "0   NaN  ...                   NY    12449-5010  United States         W   \n",
       "1   NaN  ...               Punjab         38000       Pakistan         F   \n",
       "2   NaN  ...    capital tertiorry         44000       Pakistan         F   \n",
       "3   LOY  ...                   NY    11563-1952  United States         U   \n",
       "4   NaN  ...                   MA    01982-2254  United States         W   \n",
       "\n",
       "  Test Optional    TSAT    VER    MAT    WRI Legacy  \n",
       "0             N     NaN    NaN    NaN    NaN    NaN  \n",
       "1           TOP     NaN    NaN    NaN    NaN    NaN  \n",
       "2           TOP     NaN    NaN    NaN    NaN    NaN  \n",
       "3           TOP     NaN    NaN    NaN    NaN      N  \n",
       "4             N  1760.0  610.0  530.0  620.0      N  \n",
       "\n",
       "[5 rows x 30 columns]"
      ]
     },
     "execution_count": 10,
     "metadata": {},
     "output_type": "execute_result"
    }
   ],
   "source": [
    "df15 = pd.read_excel('Apps_2015_16.xlsx', sheet_name='All Apps')\n",
    "df15.head()"
   ]
  },
  {
   "cell_type": "code",
   "execution_count": 11,
   "metadata": {},
   "outputs": [
    {
     "name": "stdout",
     "output_type": "stream",
     "text": [
      "<class 'pandas.core.frame.DataFrame'>\n",
      "RangeIndex: 10767 entries, 0 to 10766\n",
      "Data columns (total 30 columns):\n",
      "ID                10767 non-null int64\n",
      "HSCity            10735 non-null object\n",
      "HST               10520 non-null object\n",
      "College           10767 non-null object\n",
      "MAJR              10767 non-null object\n",
      "1ST GEN           10763 non-null object\n",
      "RGPA              10022 non-null float64\n",
      "Rating            10157 non-null float64\n",
      "P_M               5930 non-null object\n",
      "Merit             6637 non-null object\n",
      "DEC               10272 non-null object\n",
      "Accept            6928 non-null object\n",
      "Enroll            966 non-null object\n",
      "Citizen           10766 non-null object\n",
      "Sex               10767 non-null object\n",
      "RES               10766 non-null object\n",
      "ACT               2534 non-null float64\n",
      "Class Rank        2464 non-null float64\n",
      "Class Size        2464 non-null float64\n",
      "Active City       10765 non-null object\n",
      "Active Region     10653 non-null object\n",
      "Active Postal     10678 non-null object\n",
      "Active Country    10765 non-null object\n",
      "Ethnicity         10767 non-null object\n",
      "Test Optional     10767 non-null object\n",
      "TSAT              5738 non-null float64\n",
      "VER               5738 non-null float64\n",
      "MAT               5738 non-null float64\n",
      "WRI               5738 non-null float64\n",
      "Legacy            6296 non-null object\n",
      "dtypes: float64(9), int64(1), object(20)\n",
      "memory usage: 2.5+ MB\n"
     ]
    },
    {
     "data": {
      "text/plain": [
       "(Index(['ID', 'HSCity', 'HST', 'College', 'MAJR', '1ST GEN', 'RGPA', 'Rating',\n",
       "        'P_M', 'Merit', 'DEC', 'Accept', 'Enroll', 'Citizen', 'Sex', 'RES',\n",
       "        'ACT', 'Class Rank', 'Class Size', 'Active City', 'Active Region',\n",
       "        'Active Postal', 'Active Country', 'Ethnicity', 'Test Optional', 'TSAT',\n",
       "        'VER', 'MAT', 'WRI', 'Legacy'],\n",
       "       dtype='object'), None)"
      ]
     },
     "execution_count": 11,
     "metadata": {},
     "output_type": "execute_result"
    }
   ],
   "source": [
    "df15.columns, df15.info()"
   ]
  },
  {
   "cell_type": "code",
   "execution_count": 45,
   "metadata": {},
   "outputs": [
    {
     "data": {
      "image/png": "[encoded data removed]",
      "text/plain": [
       "<Figure size 576x432 with 1 Axes>"
      ]
     },
     "metadata": {
      "needs_background": "light"
     },
     "output_type": "display_data"
    },
    {
     "data": {
      "text/plain": [
       "<Figure size 432x288 with 0 Axes>"
      ]
     },
     "metadata": {},
     "output_type": "display_data"
    }
   ],
   "source": [
    "# the different application outcomes for ACYR 15-16\n",
    "fig = plt.figure(figsize=(8,6))\n",
    "df15['DEC'].value_counts().plot(kind='bar')\n",
    "plt.title('Application Outcomes for the 2015-16 Academic Year')\n",
    "plt.xticks(rotation='horizontal')\n",
    "plt.show()\n",
    "plt.savefig('15_decis.png')"
   ]
  },
  {
   "cell_type": "code",
   "execution_count": 13,
   "metadata": {},
   "outputs": [
    {
     "data": {
      "text/plain": [
       "0    N\n",
       "1    N\n",
       "2    N\n",
       "3    Y\n",
       "4    N\n",
       "Name: Accept, dtype: object"
      ]
     },
     "execution_count": 13,
     "metadata": {},
     "output_type": "execute_result"
    }
   ],
   "source": [
    "df15['Accept'].replace(to_replace=' ', value=np.nan, inplace=True)\n",
    "df15['Accept'].fillna('N', inplace=True)\n",
    "df15['Accept'].head()"
   ]
  },
  {
   "cell_type": "code",
   "execution_count": 46,
   "metadata": {
    "scrolled": true
   },
   "outputs": [
    {
     "data": {
      "image/png": "[encoded data removed]",
      "text/plain": [
       "<Figure size 576x432 with 1 Axes>"
      ]
     },
     "metadata": {
      "needs_background": "light"
     },
     "output_type": "display_data"
    },
    {
     "data": {
      "text/plain": [
       "<Figure size 432x288 with 0 Axes>"
      ]
     },
     "metadata": {},
     "output_type": "display_data"
    }
   ],
   "source": [
    "# target 1 - Accepted\n",
    "fig = plt.figure(figsize=(8,6))\n",
    "df15['Accept'].value_counts().plot(kind='bar')\n",
    "plt.title('Admitted Students for the 2015-16 Academic Year')\n",
    "plt.xticks(rotation='horizontal')\n",
    "plt.show()\n",
    "plt.savefig('15_admits.png')"
   ]
  },
  {
   "cell_type": "code",
   "execution_count": 15,
   "metadata": {},
   "outputs": [
    {
     "data": {
      "text/plain": [
       "0    N\n",
       "1    N\n",
       "2    N\n",
       "3    N\n",
       "4    N\n",
       "Name: Enroll, dtype: object"
      ]
     },
     "execution_count": 15,
     "metadata": {},
     "output_type": "execute_result"
    }
   ],
   "source": [
    "df15['Enroll'].replace(to_replace=' ', value=np.nan, inplace=True)\n",
    "df15['Enroll'].fillna('N', inplace=True)\n",
    "df15['Enroll'].head()"
   ]
  },
  {
   "cell_type": "code",
   "execution_count": 47,
   "metadata": {},
   "outputs": [
    {
     "data": {
      "image/png": "[encoded data removed]",
      "text/plain": [
       "<Figure size 576x432 with 1 Axes>"
      ]
     },
     "metadata": {
      "needs_background": "light"
     },
     "output_type": "display_data"
    },
    {
     "data": {
      "text/plain": [
       "<Figure size 432x288 with 0 Axes>"
      ]
     },
     "metadata": {},
     "output_type": "display_data"
    }
   ],
   "source": [
    "# target 2 - Enrolled\n",
    "fig = plt.figure(figsize=(8,6))\n",
    "df15['Enroll'].value_counts().plot(kind='bar')\n",
    "plt.title('Admitted Students for the 2015-16 Academic Year')\n",
    "plt.xticks(rotation='horizontal')\n",
    "plt.show()\n",
    "plt.savefig('15_enroll.png')"
   ]
  },
  {
   "cell_type": "markdown",
   "metadata": {},
   "source": [
    "## ACYR 16-17"
   ]
  },
  {
   "cell_type": "code",
   "execution_count": 17,
   "metadata": {},
   "outputs": [
    {
     "data": {
      "text/html": [
       "<div>\n",
       "<style scoped>\n",
       "    .dataframe tbody tr th:only-of-type {\n",
       "        vertical-align: middle;\n",
       "    }\n",
       "\n",
       "    .dataframe tbody tr th {\n",
       "        vertical-align: top;\n",
       "    }\n",
       "\n",
       "    .dataframe thead th {\n",
       "        text-align: right;\n",
       "    }\n",
       "</style>\n",
       "<table border=\"1\" class=\"dataframe\">\n",
       "  <thead>\n",
       "    <tr style=\"text-align: right;\">\n",
       "      <th></th>\n",
       "      <th>ID</th>\n",
       "      <th>Accept</th>\n",
       "      <th>Enroll</th>\n",
       "      <th>HSCity</th>\n",
       "      <th>HST</th>\n",
       "      <th>College</th>\n",
       "      <th>MAJR</th>\n",
       "      <th>Major Description</th>\n",
       "      <th>1ST GEN</th>\n",
       "      <th>RGPA</th>\n",
       "      <th>...</th>\n",
       "      <th>Active Region</th>\n",
       "      <th>Active Postal</th>\n",
       "      <th>Active Country</th>\n",
       "      <th>Ethnicity</th>\n",
       "      <th>TOP</th>\n",
       "      <th>TSAT</th>\n",
       "      <th>VER</th>\n",
       "      <th>MAT</th>\n",
       "      <th>WRI</th>\n",
       "      <th>Legacy</th>\n",
       "    </tr>\n",
       "  </thead>\n",
       "  <tbody>\n",
       "    <tr>\n",
       "      <th>0</th>\n",
       "      <td>173714</td>\n",
       "      <td>NaN</td>\n",
       "      <td>NaN</td>\n",
       "      <td>Wolcott</td>\n",
       "      <td>CT</td>\n",
       "      <td>BU</td>\n",
       "      <td>INBU</td>\n",
       "      <td>International Business</td>\n",
       "      <td>34</td>\n",
       "      <td>3.19</td>\n",
       "      <td>...</td>\n",
       "      <td>CT</td>\n",
       "      <td>06716-2306</td>\n",
       "      <td>United States</td>\n",
       "      <td>White</td>\n",
       "      <td>N</td>\n",
       "      <td>1600.0</td>\n",
       "      <td>550.0</td>\n",
       "      <td>470.0</td>\n",
       "      <td>580.0</td>\n",
       "      <td>B</td>\n",
       "    </tr>\n",
       "    <tr>\n",
       "      <th>1</th>\n",
       "      <td>170325</td>\n",
       "      <td>NaN</td>\n",
       "      <td>NaN</td>\n",
       "      <td>Chatham</td>\n",
       "      <td>NJ</td>\n",
       "      <td>AS</td>\n",
       "      <td>VPFT</td>\n",
       "      <td>Film, Television and Media Arts</td>\n",
       "      <td>N</td>\n",
       "      <td>2.33</td>\n",
       "      <td>...</td>\n",
       "      <td>NJ</td>\n",
       "      <td>07928-1118</td>\n",
       "      <td>United States</td>\n",
       "      <td>White</td>\n",
       "      <td>N</td>\n",
       "      <td>NaN</td>\n",
       "      <td>NaN</td>\n",
       "      <td>NaN</td>\n",
       "      <td>NaN</td>\n",
       "      <td>NaN</td>\n",
       "    </tr>\n",
       "    <tr>\n",
       "      <th>2</th>\n",
       "      <td>171363</td>\n",
       "      <td>NaN</td>\n",
       "      <td>NaN</td>\n",
       "      <td>NORTHPORT</td>\n",
       "      <td>NY</td>\n",
       "      <td>AS</td>\n",
       "      <td>COMM</td>\n",
       "      <td>Communication</td>\n",
       "      <td>N</td>\n",
       "      <td>1.98</td>\n",
       "      <td>...</td>\n",
       "      <td>NY</td>\n",
       "      <td>11768-1939</td>\n",
       "      <td>United States</td>\n",
       "      <td>White</td>\n",
       "      <td>N</td>\n",
       "      <td>1680.0</td>\n",
       "      <td>580.0</td>\n",
       "      <td>520.0</td>\n",
       "      <td>580.0</td>\n",
       "      <td>NaN</td>\n",
       "    </tr>\n",
       "    <tr>\n",
       "      <th>3</th>\n",
       "      <td>174914</td>\n",
       "      <td>NaN</td>\n",
       "      <td>NaN</td>\n",
       "      <td>Guaynabo</td>\n",
       "      <td>PR</td>\n",
       "      <td>AS</td>\n",
       "      <td>MLLF</td>\n",
       "      <td>Modern Languages and Literatures - French</td>\n",
       "      <td>N</td>\n",
       "      <td>2.50</td>\n",
       "      <td>...</td>\n",
       "      <td>PR</td>\n",
       "      <td>00926-5545</td>\n",
       "      <td>United States</td>\n",
       "      <td>Hispanic</td>\n",
       "      <td>N</td>\n",
       "      <td>1500.0</td>\n",
       "      <td>560.0</td>\n",
       "      <td>400.0</td>\n",
       "      <td>540.0</td>\n",
       "      <td>NaN</td>\n",
       "    </tr>\n",
       "    <tr>\n",
       "      <th>4</th>\n",
       "      <td>175221</td>\n",
       "      <td>NaN</td>\n",
       "      <td>NaN</td>\n",
       "      <td>Bridgeport</td>\n",
       "      <td>CT</td>\n",
       "      <td>AS</td>\n",
       "      <td>BIOL</td>\n",
       "      <td>Biology</td>\n",
       "      <td>34</td>\n",
       "      <td>1.42</td>\n",
       "      <td>...</td>\n",
       "      <td>CT</td>\n",
       "      <td>06608-1046</td>\n",
       "      <td>United States</td>\n",
       "      <td>Hispanic</td>\n",
       "      <td>TOP</td>\n",
       "      <td>NaN</td>\n",
       "      <td>NaN</td>\n",
       "      <td>NaN</td>\n",
       "      <td>NaN</td>\n",
       "      <td>NaN</td>\n",
       "    </tr>\n",
       "  </tbody>\n",
       "</table>\n",
       "<p>5 rows × 34 columns</p>\n",
       "</div>"
      ],
      "text/plain": [
       "       ID Accept Enroll      HSCity HST College  MAJR  \\\n",
       "0  173714    NaN    NaN     Wolcott  CT      BU  INBU   \n",
       "1  170325    NaN    NaN     Chatham  NJ      AS  VPFT   \n",
       "2  171363    NaN    NaN   NORTHPORT  NY      AS  COMM   \n",
       "3  174914    NaN    NaN    Guaynabo  PR      AS  MLLF   \n",
       "4  175221    NaN    NaN  Bridgeport  CT      AS  BIOL   \n",
       "\n",
       "                           Major Description 1ST GEN  RGPA   ...    \\\n",
       "0                     International Business      34  3.19   ...     \n",
       "1            Film, Television and Media Arts       N  2.33   ...     \n",
       "2                              Communication       N  1.98   ...     \n",
       "3  Modern Languages and Literatures - French       N  2.50   ...     \n",
       "4                                    Biology      34  1.42   ...     \n",
       "\n",
       "   Active Region Active Postal Active Country Ethnicity  TOP    TSAT    VER  \\\n",
       "0             CT    06716-2306  United States     White    N  1600.0  550.0   \n",
       "1             NJ    07928-1118  United States     White    N     NaN    NaN   \n",
       "2             NY    11768-1939  United States     White    N  1680.0  580.0   \n",
       "3             PR    00926-5545  United States  Hispanic    N  1500.0  560.0   \n",
       "4             CT    06608-1046  United States  Hispanic  TOP     NaN    NaN   \n",
       "\n",
       "     MAT    WRI  Legacy  \n",
       "0  470.0  580.0       B  \n",
       "1    NaN    NaN     NaN  \n",
       "2  520.0  580.0     NaN  \n",
       "3  400.0  540.0     NaN  \n",
       "4    NaN    NaN     NaN  \n",
       "\n",
       "[5 rows x 34 columns]"
      ]
     },
     "execution_count": 17,
     "metadata": {},
     "output_type": "execute_result"
    }
   ],
   "source": [
    "df16 = pd.read_excel('Apps_2016_17.xlsx', sheet_name='Full Population')\n",
    "df16.head()"
   ]
  },
  {
   "cell_type": "code",
   "execution_count": 18,
   "metadata": {},
   "outputs": [
    {
     "name": "stdout",
     "output_type": "stream",
     "text": [
      "<class 'pandas.core.frame.DataFrame'>\n",
      "RangeIndex: 11055 entries, 0 to 11054\n",
      "Data columns (total 34 columns):\n",
      "ID                   11055 non-null int64\n",
      "Accept               6795 non-null object\n",
      "Enroll               1058 non-null object\n",
      "HSCity               11034 non-null object\n",
      "HST                  10781 non-null object\n",
      "College              11055 non-null object\n",
      "MAJR                 11055 non-null object\n",
      "Major Description    11055 non-null object\n",
      "1ST GEN              11054 non-null object\n",
      "RGPA                 10195 non-null float64\n",
      "Rating               10387 non-null float64\n",
      "P_M                  6009 non-null object\n",
      "Merit                6560 non-null object\n",
      "DEC                  10532 non-null object\n",
      "ACCT                 6795 non-null object\n",
      "CONF                 1058 non-null object\n",
      "Citzen               11055 non-null object\n",
      "Sex                  11055 non-null object\n",
      "RES                  11055 non-null object\n",
      "ACT                  2817 non-null float64\n",
      "Class Rank           1734 non-null float64\n",
      "Class Size           1734 non-null float64\n",
      "Percentile           1734 non-null float64\n",
      "Active City          11054 non-null object\n",
      "Active Region        10882 non-null object\n",
      "Active Postal        10982 non-null object\n",
      "Active Country       11054 non-null object\n",
      "Ethnicity            11055 non-null object\n",
      "TOP                  11055 non-null object\n",
      "TSAT                 5359 non-null float64\n",
      "VER                  5359 non-null float64\n",
      "MAT                  5359 non-null float64\n",
      "WRI                  5359 non-null float64\n",
      "Legacy               672 non-null object\n",
      "dtypes: float64(10), int64(1), object(23)\n",
      "memory usage: 2.9+ MB\n"
     ]
    },
    {
     "data": {
      "text/plain": [
       "(Index(['ID', 'Accept', 'Enroll', 'HSCity', 'HST', 'College', 'MAJR',\n",
       "        'Major Description', '1ST GEN', 'RGPA', 'Rating', 'P_M', 'Merit', 'DEC',\n",
       "        'ACCT', 'CONF', 'Citzen', 'Sex', 'RES', 'ACT', 'Class Rank',\n",
       "        'Class Size', 'Percentile', 'Active City', 'Active Region',\n",
       "        'Active Postal', 'Active Country', 'Ethnicity', 'TOP', 'TSAT', 'VER',\n",
       "        'MAT', 'WRI', 'Legacy'],\n",
       "       dtype='object'), None)"
      ]
     },
     "execution_count": 18,
     "metadata": {},
     "output_type": "execute_result"
    }
   ],
   "source": [
    "df16.columns, df16.info()"
   ]
  },
  {
   "cell_type": "code",
   "execution_count": 48,
   "metadata": {},
   "outputs": [
    {
     "data": {
      "image/png": "[encoded data removed]",
      "text/plain": [
       "<Figure size 576x432 with 1 Axes>"
      ]
     },
     "metadata": {
      "needs_background": "light"
     },
     "output_type": "display_data"
    },
    {
     "data": {
      "text/plain": [
       "<Figure size 432x288 with 0 Axes>"
      ]
     },
     "metadata": {},
     "output_type": "display_data"
    }
   ],
   "source": [
    "# show the different application outcomes for ACYR 16-17\n",
    "fig = plt.figure(figsize=(8,6))\n",
    "df16['DEC'].value_counts().plot(kind='bar')\n",
    "plt.title('Application Outcomes for the 2016-17 Academic Year')\n",
    "plt.xticks(rotation='horizontal')\n",
    "plt.show()\n",
    "plt.savefig('16_decis.png')"
   ]
  },
  {
   "cell_type": "code",
   "execution_count": 20,
   "metadata": {},
   "outputs": [
    {
     "data": {
      "text/plain": [
       "0    N\n",
       "1    N\n",
       "2    N\n",
       "3    N\n",
       "4    N\n",
       "Name: ACCT, dtype: object"
      ]
     },
     "execution_count": 20,
     "metadata": {},
     "output_type": "execute_result"
    }
   ],
   "source": [
    "df16['ACCT'].replace(to_replace=' ', value=np.nan, inplace=True)\n",
    "df16['ACCT'].fillna('N', inplace=True)\n",
    "df16['ACCT'].head()"
   ]
  },
  {
   "cell_type": "code",
   "execution_count": 49,
   "metadata": {},
   "outputs": [
    {
     "data": {
      "image/png": "[encoded data removed]",
      "text/plain": [
       "<Figure size 576x432 with 1 Axes>"
      ]
     },
     "metadata": {
      "needs_background": "light"
     },
     "output_type": "display_data"
    },
    {
     "data": {
      "text/plain": [
       "<Figure size 432x288 with 0 Axes>"
      ]
     },
     "metadata": {},
     "output_type": "display_data"
    }
   ],
   "source": [
    "# target 1 - Accepted\n",
    "fig = plt.figure(figsize=(8,6))\n",
    "df16['ACCT'].value_counts().plot(kind='bar')\n",
    "plt.title('Admitted Students for the 2016-17 Academic Year')\n",
    "plt.xticks(rotation='horizontal')\n",
    "plt.show()\n",
    "plt.savefig('16_admits.png')"
   ]
  },
  {
   "cell_type": "code",
   "execution_count": 22,
   "metadata": {},
   "outputs": [
    {
     "data": {
      "text/plain": [
       "0    N\n",
       "1    N\n",
       "2    N\n",
       "3    N\n",
       "4    N\n",
       "5    N\n",
       "6    N\n",
       "7    N\n",
       "8    N\n",
       "9    N\n",
       "Name: CONF, dtype: object"
      ]
     },
     "execution_count": 22,
     "metadata": {},
     "output_type": "execute_result"
    }
   ],
   "source": [
    "df16['CONF'].replace(to_replace=' ', value='N', inplace=True)\n",
    "df16['CONF'].fillna('N', inplace=True)\n",
    "df16['CONF'].head(10)"
   ]
  },
  {
   "cell_type": "code",
   "execution_count": 50,
   "metadata": {},
   "outputs": [
    {
     "data": {
      "image/png": "[encoded data removed]",
      "text/plain": [
       "<Figure size 576x432 with 1 Axes>"
      ]
     },
     "metadata": {
      "needs_background": "light"
     },
     "output_type": "display_data"
    },
    {
     "data": {
      "text/plain": [
       "<Figure size 432x288 with 0 Axes>"
      ]
     },
     "metadata": {},
     "output_type": "display_data"
    }
   ],
   "source": [
    "# target 2 - Enrolled\n",
    "fig = plt.figure(figsize=(8,6))\n",
    "df16['CONF'].value_counts().plot(kind='bar')\n",
    "plt.title('Enrolled Students for the 2016-17 Academic Year')\n",
    "plt.xticks(rotation='horizontal')\n",
    "plt.show()\n",
    "plt.savefig('16_enroll.png')"
   ]
  },
  {
   "cell_type": "markdown",
   "metadata": {},
   "source": [
    "## ACYR 17-18"
   ]
  },
  {
   "cell_type": "code",
   "execution_count": 24,
   "metadata": {},
   "outputs": [
    {
     "data": {
      "text/html": [
       "<div>\n",
       "<style scoped>\n",
       "    .dataframe tbody tr th:only-of-type {\n",
       "        vertical-align: middle;\n",
       "    }\n",
       "\n",
       "    .dataframe tbody tr th {\n",
       "        vertical-align: top;\n",
       "    }\n",
       "\n",
       "    .dataframe thead th {\n",
       "        text-align: right;\n",
       "    }\n",
       "</style>\n",
       "<table border=\"1\" class=\"dataframe\">\n",
       "  <thead>\n",
       "    <tr style=\"text-align: right;\">\n",
       "      <th></th>\n",
       "      <th>ID</th>\n",
       "      <th>Accept</th>\n",
       "      <th>Enroll</th>\n",
       "      <th>HSCity</th>\n",
       "      <th>HST</th>\n",
       "      <th>College</th>\n",
       "      <th>MAJR</th>\n",
       "      <th>Major Description</th>\n",
       "      <th>1ST GEN</th>\n",
       "      <th>RGPA</th>\n",
       "      <th>...</th>\n",
       "      <th>Total SAT</th>\n",
       "      <th>SAT VER OLD</th>\n",
       "      <th>SAT MATH OLD</th>\n",
       "      <th>SAT WRI OLD</th>\n",
       "      <th>Legacy</th>\n",
       "      <th>SAT Critical Reading - conversion</th>\n",
       "      <th>SAT Math - conversion</th>\n",
       "      <th>SAT CRITICAL READING NEW</th>\n",
       "      <th>SAT MATH NEW</th>\n",
       "      <th>SAT COMP NEW</th>\n",
       "    </tr>\n",
       "  </thead>\n",
       "  <tbody>\n",
       "    <tr>\n",
       "      <th>0</th>\n",
       "      <td>194600</td>\n",
       "      <td>NaN</td>\n",
       "      <td>NaN</td>\n",
       "      <td>Bridgeport</td>\n",
       "      <td>CT</td>\n",
       "      <td>NS</td>\n",
       "      <td>NURS</td>\n",
       "      <td>Nursing</td>\n",
       "      <td>34</td>\n",
       "      <td>NaN</td>\n",
       "      <td>...</td>\n",
       "      <td>NaN</td>\n",
       "      <td>NaN</td>\n",
       "      <td>NaN</td>\n",
       "      <td>NaN</td>\n",
       "      <td>NaN</td>\n",
       "      <td>NaN</td>\n",
       "      <td>NaN</td>\n",
       "      <td>NaN</td>\n",
       "      <td>NaN</td>\n",
       "      <td>NaN</td>\n",
       "    </tr>\n",
       "    <tr>\n",
       "      <th>1</th>\n",
       "      <td>192063</td>\n",
       "      <td>A1</td>\n",
       "      <td>NaN</td>\n",
       "      <td>Southwick</td>\n",
       "      <td>MA</td>\n",
       "      <td>AS</td>\n",
       "      <td>BIOL</td>\n",
       "      <td>Biology</td>\n",
       "      <td>N</td>\n",
       "      <td>4.00</td>\n",
       "      <td>...</td>\n",
       "      <td>NaN</td>\n",
       "      <td>NaN</td>\n",
       "      <td>NaN</td>\n",
       "      <td>NaN</td>\n",
       "      <td>NaN</td>\n",
       "      <td>NaN</td>\n",
       "      <td>NaN</td>\n",
       "      <td>570.0</td>\n",
       "      <td>640.0</td>\n",
       "      <td>1210.0</td>\n",
       "    </tr>\n",
       "    <tr>\n",
       "      <th>2</th>\n",
       "      <td>196995</td>\n",
       "      <td>NaN</td>\n",
       "      <td>NaN</td>\n",
       "      <td>Bridgeport</td>\n",
       "      <td>CT</td>\n",
       "      <td>AS</td>\n",
       "      <td>HIST</td>\n",
       "      <td>History</td>\n",
       "      <td>N</td>\n",
       "      <td>1.16</td>\n",
       "      <td>...</td>\n",
       "      <td>NaN</td>\n",
       "      <td>NaN</td>\n",
       "      <td>NaN</td>\n",
       "      <td>NaN</td>\n",
       "      <td>NaN</td>\n",
       "      <td>NaN</td>\n",
       "      <td>NaN</td>\n",
       "      <td>630.0</td>\n",
       "      <td>610.0</td>\n",
       "      <td>1240.0</td>\n",
       "    </tr>\n",
       "    <tr>\n",
       "      <th>3</th>\n",
       "      <td>196162</td>\n",
       "      <td>NaN</td>\n",
       "      <td>NaN</td>\n",
       "      <td>Tolland</td>\n",
       "      <td>CT</td>\n",
       "      <td>EG</td>\n",
       "      <td>MEEN</td>\n",
       "      <td>Mechanical Engineering</td>\n",
       "      <td>N</td>\n",
       "      <td>1.77</td>\n",
       "      <td>...</td>\n",
       "      <td>NaN</td>\n",
       "      <td>NaN</td>\n",
       "      <td>NaN</td>\n",
       "      <td>NaN</td>\n",
       "      <td>NaN</td>\n",
       "      <td>NaN</td>\n",
       "      <td>NaN</td>\n",
       "      <td>540.0</td>\n",
       "      <td>540.0</td>\n",
       "      <td>1080.0</td>\n",
       "    </tr>\n",
       "    <tr>\n",
       "      <th>4</th>\n",
       "      <td>194619</td>\n",
       "      <td>NaN</td>\n",
       "      <td>NaN</td>\n",
       "      <td>Bridgeport</td>\n",
       "      <td>CT</td>\n",
       "      <td>NS</td>\n",
       "      <td>NURS</td>\n",
       "      <td>Nursing</td>\n",
       "      <td>N</td>\n",
       "      <td>0.61</td>\n",
       "      <td>...</td>\n",
       "      <td>NaN</td>\n",
       "      <td>NaN</td>\n",
       "      <td>NaN</td>\n",
       "      <td>NaN</td>\n",
       "      <td>NaN</td>\n",
       "      <td>NaN</td>\n",
       "      <td>NaN</td>\n",
       "      <td>NaN</td>\n",
       "      <td>NaN</td>\n",
       "      <td>NaN</td>\n",
       "    </tr>\n",
       "  </tbody>\n",
       "</table>\n",
       "<p>5 rows × 39 columns</p>\n",
       "</div>"
      ],
      "text/plain": [
       "       ID Accept Enroll      HSCity HST College  MAJR       Major Description  \\\n",
       "0  194600    NaN    NaN  Bridgeport  CT      NS  NURS                 Nursing   \n",
       "1  192063     A1    NaN   Southwick  MA      AS  BIOL                 Biology   \n",
       "2  196995    NaN    NaN  Bridgeport  CT      AS  HIST                 History   \n",
       "3  196162    NaN    NaN     Tolland  CT      EG  MEEN  Mechanical Engineering   \n",
       "4  194619    NaN    NaN  Bridgeport  CT      NS  NURS                 Nursing   \n",
       "\n",
       "  1ST GEN  RGPA      ...       Total SAT SAT VER OLD SAT MATH OLD SAT WRI OLD  \\\n",
       "0      34   NaN      ...             NaN         NaN          NaN         NaN   \n",
       "1       N  4.00      ...             NaN         NaN          NaN         NaN   \n",
       "2       N  1.16      ...             NaN         NaN          NaN         NaN   \n",
       "3       N  1.77      ...             NaN         NaN          NaN         NaN   \n",
       "4       N  0.61      ...             NaN         NaN          NaN         NaN   \n",
       "\n",
       "  Legacy SAT Critical Reading - conversion SAT Math - conversion  \\\n",
       "0    NaN                               NaN                   NaN   \n",
       "1    NaN                               NaN                   NaN   \n",
       "2    NaN                               NaN                   NaN   \n",
       "3    NaN                               NaN                   NaN   \n",
       "4    NaN                               NaN                   NaN   \n",
       "\n",
       "  SAT CRITICAL READING NEW SAT MATH NEW  SAT COMP NEW  \n",
       "0                      NaN          NaN           NaN  \n",
       "1                    570.0        640.0        1210.0  \n",
       "2                    630.0        610.0        1240.0  \n",
       "3                    540.0        540.0        1080.0  \n",
       "4                      NaN          NaN           NaN  \n",
       "\n",
       "[5 rows x 39 columns]"
      ]
     },
     "execution_count": 24,
     "metadata": {},
     "output_type": "execute_result"
    }
   ],
   "source": [
    "df17 = pd.read_excel('Apps_2017_18.xlsx', sheet_name='Initial Pop - TEST OPT')\n",
    "df17.head()"
   ]
  },
  {
   "cell_type": "code",
   "execution_count": 25,
   "metadata": {},
   "outputs": [
    {
     "name": "stdout",
     "output_type": "stream",
     "text": [
      "<class 'pandas.core.frame.DataFrame'>\n",
      "RangeIndex: 11218 entries, 0 to 11217\n",
      "Data columns (total 39 columns):\n",
      "ID                                   11218 non-null int64\n",
      "Accept                               6794 non-null object\n",
      "Enroll                               994 non-null object\n",
      "HSCity                               11178 non-null object\n",
      "HST                                  10898 non-null object\n",
      "College                              11218 non-null object\n",
      "MAJR                                 11218 non-null object\n",
      "Major Description                    11218 non-null object\n",
      "1ST GEN                              11218 non-null object\n",
      "RGPA                                 10420 non-null float64\n",
      "Rating                               10632 non-null float64\n",
      "P_M                                  5465 non-null object\n",
      "Merit                                6532 non-null object\n",
      "DEC                                  10694 non-null object\n",
      "ACCP                                 6794 non-null object\n",
      "CONF                                 994 non-null object\n",
      "Citizen                              11218 non-null object\n",
      "Sex                                  11218 non-null object\n",
      "RES                                  11218 non-null object\n",
      "Class Rank                           1692 non-null float64\n",
      "Class Size                           1691 non-null float64\n",
      "Percentile                           1691 non-null float64\n",
      "Active City                          11215 non-null object\n",
      "Active Region                        11091 non-null object\n",
      "Active Postal                        11140 non-null object\n",
      "Active Country                       11215 non-null object\n",
      "Ethnicity                            11218 non-null object\n",
      "TOP                                  11218 non-null object\n",
      "ACT                                  3142 non-null float64\n",
      "Total SAT                            903 non-null float64\n",
      "SAT VER OLD                          905 non-null float64\n",
      "SAT MATH OLD                         905 non-null float64\n",
      "SAT WRI OLD                          903 non-null float64\n",
      "Legacy                               739 non-null object\n",
      "SAT Critical Reading - conversion    905 non-null float64\n",
      "SAT Math - conversion                905 non-null float64\n",
      "SAT CRITICAL READING NEW             5612 non-null float64\n",
      "SAT MATH NEW                         5612 non-null float64\n",
      "SAT COMP NEW                         5612 non-null float64\n",
      "dtypes: float64(15), int64(1), object(23)\n",
      "memory usage: 3.3+ MB\n"
     ]
    },
    {
     "data": {
      "text/plain": [
       "(Index(['ID', 'Accept', 'Enroll', 'HSCity', 'HST', 'College', 'MAJR',\n",
       "        'Major Description', '1ST GEN', 'RGPA', 'Rating', 'P_M', 'Merit', 'DEC',\n",
       "        'ACCP', 'CONF', 'Citizen', 'Sex', 'RES', 'Class Rank', 'Class Size',\n",
       "        'Percentile', 'Active City', 'Active Region', 'Active Postal',\n",
       "        'Active Country', 'Ethnicity', 'TOP', 'ACT', 'Total SAT', 'SAT VER OLD',\n",
       "        'SAT MATH OLD', 'SAT WRI OLD', 'Legacy',\n",
       "        'SAT Critical Reading - conversion', 'SAT Math - conversion',\n",
       "        'SAT CRITICAL READING NEW', 'SAT MATH NEW', 'SAT COMP NEW'],\n",
       "       dtype='object'), None)"
      ]
     },
     "execution_count": 25,
     "metadata": {},
     "output_type": "execute_result"
    }
   ],
   "source": [
    "df17.columns, df17.info()"
   ]
  },
  {
   "cell_type": "code",
   "execution_count": 51,
   "metadata": {},
   "outputs": [
    {
     "data": {
      "image/png": "[encoded data removed]",
      "text/plain": [
       "<Figure size 576x432 with 1 Axes>"
      ]
     },
     "metadata": {
      "needs_background": "light"
     },
     "output_type": "display_data"
    },
    {
     "data": {
      "text/plain": [
       "<Figure size 432x288 with 0 Axes>"
      ]
     },
     "metadata": {},
     "output_type": "display_data"
    }
   ],
   "source": [
    "# show the different application outcomes for ACYR 17-18\n",
    "fig = plt.figure(figsize=(8,6))\n",
    "df17['DEC'].value_counts().plot(kind='bar')\n",
    "plt.title('Application Outcomes for the 2017-18 Academic Year')\n",
    "plt.xticks(rotation='horizontal')\n",
    "plt.show()\n",
    "plt.savefig('17_decis.png')"
   ]
  },
  {
   "cell_type": "code",
   "execution_count": 27,
   "metadata": {},
   "outputs": [
    {
     "data": {
      "text/plain": [
       "0    N\n",
       "1    Y\n",
       "2    N\n",
       "3    N\n",
       "4    N\n",
       "Name: ACCP, dtype: object"
      ]
     },
     "execution_count": 27,
     "metadata": {},
     "output_type": "execute_result"
    }
   ],
   "source": [
    "df17['ACCP'].replace(to_replace=' ', value=np.nan, inplace=True)\n",
    "df17['ACCP'].fillna('N', inplace=True)\n",
    "df17['ACCP'].head()"
   ]
  },
  {
   "cell_type": "code",
   "execution_count": 52,
   "metadata": {},
   "outputs": [
    {
     "data": {
      "image/png": "[encoded data removed]",
      "text/plain": [
       "<Figure size 576x432 with 1 Axes>"
      ]
     },
     "metadata": {
      "needs_background": "light"
     },
     "output_type": "display_data"
    },
    {
     "data": {
      "text/plain": [
       "<Figure size 432x288 with 0 Axes>"
      ]
     },
     "metadata": {},
     "output_type": "display_data"
    }
   ],
   "source": [
    "# target 1 - Accepeted\n",
    "fig = plt.figure(figsize=(8,6))\n",
    "df17['ACCP'].value_counts().plot(kind='bar')\n",
    "plt.title('Admitted Students for the 2017-18 Academic Year')\n",
    "plt.xticks(rotation='horizontal')\n",
    "plt.show()\n",
    "plt.savefig('17_admits.png')"
   ]
  },
  {
   "cell_type": "code",
   "execution_count": 29,
   "metadata": {},
   "outputs": [
    {
     "data": {
      "text/plain": [
       "0    N\n",
       "1    N\n",
       "2    N\n",
       "3    N\n",
       "4    N\n",
       "5    N\n",
       "6    N\n",
       "7    N\n",
       "8    N\n",
       "9    N\n",
       "Name: CONF, dtype: object"
      ]
     },
     "execution_count": 29,
     "metadata": {},
     "output_type": "execute_result"
    }
   ],
   "source": [
    "df17['CONF'].replace(to_replace=' ', value='N', inplace=True)\n",
    "df17['CONF'].fillna('N', inplace=True)\n",
    "df17['CONF'].head(10)"
   ]
  },
  {
   "cell_type": "code",
   "execution_count": 53,
   "metadata": {},
   "outputs": [
    {
     "data": {
      "image/png": "[encoded data removed]",
      "text/plain": [
       "<Figure size 576x432 with 1 Axes>"
      ]
     },
     "metadata": {
      "needs_background": "light"
     },
     "output_type": "display_data"
    },
    {
     "data": {
      "text/plain": [
       "<Figure size 432x288 with 0 Axes>"
      ]
     },
     "metadata": {},
     "output_type": "display_data"
    }
   ],
   "source": [
    "# Target 2 - Enrolled\n",
    "fig = plt.figure(figsize=(8,6))\n",
    "df17['CONF'].value_counts().plot(kind='bar')\n",
    "plt.title('Enrolled Students for the 2017-18 Academic Year')\n",
    "plt.xticks(rotation='horizontal')\n",
    "plt.show()\n",
    "plt.savefig('17_enroll.png')"
   ]
  },
  {
   "cell_type": "markdown",
   "metadata": {},
   "source": [
    "## ACYR 18-19"
   ]
  },
  {
   "cell_type": "code",
   "execution_count": 31,
   "metadata": {},
   "outputs": [
    {
     "data": {
      "text/html": [
       "<div>\n",
       "<style scoped>\n",
       "    .dataframe tbody tr th:only-of-type {\n",
       "        vertical-align: middle;\n",
       "    }\n",
       "\n",
       "    .dataframe tbody tr th {\n",
       "        vertical-align: top;\n",
       "    }\n",
       "\n",
       "    .dataframe thead th {\n",
       "        text-align: right;\n",
       "    }\n",
       "</style>\n",
       "<table border=\"1\" class=\"dataframe\">\n",
       "  <thead>\n",
       "    <tr style=\"text-align: right;\">\n",
       "      <th></th>\n",
       "      <th>ID</th>\n",
       "      <th>Accept</th>\n",
       "      <th>HSCity</th>\n",
       "      <th>HST</th>\n",
       "      <th>College</th>\n",
       "      <th>MAJR</th>\n",
       "      <th>Major Description</th>\n",
       "      <th>1ST GEN</th>\n",
       "      <th>RGPA</th>\n",
       "      <th>Rating</th>\n",
       "      <th>...</th>\n",
       "      <th>TOP</th>\n",
       "      <th>Legacy</th>\n",
       "      <th>SAT Math OLD</th>\n",
       "      <th>SAT WRI OLD</th>\n",
       "      <th>SAT Verbal OLD</th>\n",
       "      <th>Total SAT OLD</th>\n",
       "      <th>ACT</th>\n",
       "      <th>SAT Reading NEW</th>\n",
       "      <th>SAT Math NEW</th>\n",
       "      <th>SAT Total NEW</th>\n",
       "    </tr>\n",
       "  </thead>\n",
       "  <tbody>\n",
       "    <tr>\n",
       "      <th>0</th>\n",
       "      <td>214717</td>\n",
       "      <td>NaN</td>\n",
       "      <td>North Eastham</td>\n",
       "      <td>MA</td>\n",
       "      <td>Dolan School of Business</td>\n",
       "      <td>Business Undeclared</td>\n",
       "      <td>Business Undeclared</td>\n",
       "      <td>34</td>\n",
       "      <td>2.15</td>\n",
       "      <td>9.0</td>\n",
       "      <td>...</td>\n",
       "      <td>TOP</td>\n",
       "      <td>NaN</td>\n",
       "      <td>NaN</td>\n",
       "      <td>NaN</td>\n",
       "      <td>NaN</td>\n",
       "      <td>NaN</td>\n",
       "      <td>NaN</td>\n",
       "      <td>NaN</td>\n",
       "      <td>NaN</td>\n",
       "      <td>NaN</td>\n",
       "    </tr>\n",
       "    <tr>\n",
       "      <th>1</th>\n",
       "      <td>214861</td>\n",
       "      <td>NaN</td>\n",
       "      <td>Bridgeport</td>\n",
       "      <td>CT</td>\n",
       "      <td>Dolan School of Business</td>\n",
       "      <td>Marketing</td>\n",
       "      <td>Marketing</td>\n",
       "      <td>34</td>\n",
       "      <td>2.52</td>\n",
       "      <td>9.0</td>\n",
       "      <td>...</td>\n",
       "      <td>N</td>\n",
       "      <td>NaN</td>\n",
       "      <td>NaN</td>\n",
       "      <td>NaN</td>\n",
       "      <td>NaN</td>\n",
       "      <td>NaN</td>\n",
       "      <td>NaN</td>\n",
       "      <td>440.0</td>\n",
       "      <td>450.0</td>\n",
       "      <td>890.0</td>\n",
       "    </tr>\n",
       "    <tr>\n",
       "      <th>2</th>\n",
       "      <td>211022</td>\n",
       "      <td>NaN</td>\n",
       "      <td>Newark</td>\n",
       "      <td>NJ</td>\n",
       "      <td>Dolan School of Business</td>\n",
       "      <td>Marketing</td>\n",
       "      <td>Marketing</td>\n",
       "      <td>N</td>\n",
       "      <td>1.24</td>\n",
       "      <td>9.0</td>\n",
       "      <td>...</td>\n",
       "      <td>N</td>\n",
       "      <td>NaN</td>\n",
       "      <td>NaN</td>\n",
       "      <td>NaN</td>\n",
       "      <td>NaN</td>\n",
       "      <td>NaN</td>\n",
       "      <td>18.0</td>\n",
       "      <td>NaN</td>\n",
       "      <td>NaN</td>\n",
       "      <td>NaN</td>\n",
       "    </tr>\n",
       "    <tr>\n",
       "      <th>3</th>\n",
       "      <td>211015</td>\n",
       "      <td>NaN</td>\n",
       "      <td>New York</td>\n",
       "      <td>NY</td>\n",
       "      <td>College of Arts and Sciences</td>\n",
       "      <td>Undeclared</td>\n",
       "      <td>Undeclared</td>\n",
       "      <td>N</td>\n",
       "      <td>1.90</td>\n",
       "      <td>9.0</td>\n",
       "      <td>...</td>\n",
       "      <td>TOP</td>\n",
       "      <td>NaN</td>\n",
       "      <td>NaN</td>\n",
       "      <td>NaN</td>\n",
       "      <td>NaN</td>\n",
       "      <td>NaN</td>\n",
       "      <td>NaN</td>\n",
       "      <td>NaN</td>\n",
       "      <td>NaN</td>\n",
       "      <td>NaN</td>\n",
       "    </tr>\n",
       "    <tr>\n",
       "      <th>4</th>\n",
       "      <td>204374</td>\n",
       "      <td>NaN</td>\n",
       "      <td>Danbury</td>\n",
       "      <td>CT</td>\n",
       "      <td>Dolan School of Business</td>\n",
       "      <td>Management</td>\n",
       "      <td>Management</td>\n",
       "      <td>34</td>\n",
       "      <td>NaN</td>\n",
       "      <td>NaN</td>\n",
       "      <td>...</td>\n",
       "      <td>N</td>\n",
       "      <td>NaN</td>\n",
       "      <td>NaN</td>\n",
       "      <td>NaN</td>\n",
       "      <td>NaN</td>\n",
       "      <td>NaN</td>\n",
       "      <td>NaN</td>\n",
       "      <td>NaN</td>\n",
       "      <td>NaN</td>\n",
       "      <td>NaN</td>\n",
       "    </tr>\n",
       "  </tbody>\n",
       "</table>\n",
       "<p>5 rows × 36 columns</p>\n",
       "</div>"
      ],
      "text/plain": [
       "       ID Accept         HSCity HST                       College  \\\n",
       "0  214717    NaN  North Eastham  MA      Dolan School of Business   \n",
       "1  214861    NaN     Bridgeport  CT      Dolan School of Business   \n",
       "2  211022    NaN         Newark  NJ      Dolan School of Business   \n",
       "3  211015    NaN       New York  NY  College of Arts and Sciences   \n",
       "4  204374    NaN        Danbury  CT      Dolan School of Business   \n",
       "\n",
       "                  MAJR    Major Description 1ST GEN  RGPA  Rating  \\\n",
       "0  Business Undeclared  Business Undeclared      34  2.15     9.0   \n",
       "1            Marketing            Marketing      34  2.52     9.0   \n",
       "2            Marketing            Marketing       N  1.24     9.0   \n",
       "3           Undeclared           Undeclared       N  1.90     9.0   \n",
       "4           Management           Management      34   NaN     NaN   \n",
       "\n",
       "       ...        TOP Legacy SAT Math OLD SAT WRI OLD SAT Verbal OLD  \\\n",
       "0      ...        TOP    NaN          NaN         NaN            NaN   \n",
       "1      ...          N    NaN          NaN         NaN            NaN   \n",
       "2      ...          N    NaN          NaN         NaN            NaN   \n",
       "3      ...        TOP    NaN          NaN         NaN            NaN   \n",
       "4      ...          N    NaN          NaN         NaN            NaN   \n",
       "\n",
       "  Total SAT OLD   ACT SAT Reading NEW  SAT Math NEW  SAT Total NEW  \n",
       "0           NaN   NaN             NaN           NaN            NaN  \n",
       "1           NaN   NaN           440.0         450.0          890.0  \n",
       "2           NaN  18.0             NaN           NaN            NaN  \n",
       "3           NaN   NaN             NaN           NaN            NaN  \n",
       "4           NaN   NaN             NaN           NaN            NaN  \n",
       "\n",
       "[5 rows x 36 columns]"
      ]
     },
     "execution_count": 31,
     "metadata": {},
     "output_type": "execute_result"
    }
   ],
   "source": [
    "df18 = pd.read_excel('Apps_2018_19.xlsx', sheet_name='Apps')\n",
    "df18.head()"
   ]
  },
  {
   "cell_type": "code",
   "execution_count": 32,
   "metadata": {},
   "outputs": [
    {
     "name": "stdout",
     "output_type": "stream",
     "text": [
      "<class 'pandas.core.frame.DataFrame'>\n",
      "RangeIndex: 11361 entries, 0 to 11360\n",
      "Data columns (total 36 columns):\n",
      "ID                   11361 non-null int64\n",
      "Accept               6851 non-null object\n",
      "HSCity               11335 non-null object\n",
      "HST                  11021 non-null object\n",
      "College              11361 non-null object\n",
      "MAJR                 11361 non-null object\n",
      "Major Description    11293 non-null object\n",
      "1ST GEN              11361 non-null object\n",
      "RGPA                 10596 non-null float64\n",
      "Rating               10840 non-null float64\n",
      "P_M                  5571 non-null object\n",
      "Merit                6694 non-null object\n",
      "DEC                  10898 non-null object\n",
      "ACCP                 6851 non-null object\n",
      "CONF                 1100 non-null object\n",
      "Citizen              11361 non-null object\n",
      "Sex                  11361 non-null object\n",
      "RES                  11361 non-null object\n",
      "Class Rank           1640 non-null float64\n",
      "Class Size           1640 non-null float64\n",
      "Class Percentile     1640 non-null float64\n",
      "Active City          11359 non-null object\n",
      "Active Region        11213 non-null object\n",
      "Active Postal        11268 non-null object\n",
      "Active Country       11359 non-null object\n",
      "Ethnicity            11361 non-null object\n",
      "TOP                  11361 non-null object\n",
      "Legacy               749 non-null object\n",
      "SAT Math OLD         14 non-null float64\n",
      "SAT WRI OLD          14 non-null float64\n",
      "SAT Verbal OLD       14 non-null float64\n",
      "Total SAT OLD        12 non-null float64\n",
      "ACT                  2237 non-null float64\n",
      "SAT Reading NEW      5839 non-null float64\n",
      "SAT Math NEW         5839 non-null float64\n",
      "SAT Total NEW        5839 non-null float64\n",
      "dtypes: float64(13), int64(1), object(22)\n",
      "memory usage: 3.1+ MB\n"
     ]
    },
    {
     "data": {
      "text/plain": [
       "(Index(['ID', 'Accept', 'HSCity', 'HST', 'College', 'MAJR', 'Major Description',\n",
       "        '1ST GEN', 'RGPA', 'Rating', 'P_M', 'Merit', 'DEC', 'ACCP', 'CONF',\n",
       "        'Citizen', 'Sex', 'RES', 'Class Rank', 'Class Size', 'Class Percentile',\n",
       "        'Active City', 'Active Region', 'Active Postal', 'Active Country',\n",
       "        'Ethnicity', 'TOP', 'Legacy', 'SAT Math OLD', 'SAT WRI OLD',\n",
       "        'SAT Verbal OLD', 'Total SAT OLD', 'ACT', 'SAT Reading NEW',\n",
       "        'SAT Math NEW', 'SAT Total NEW'],\n",
       "       dtype='object'), None)"
      ]
     },
     "execution_count": 32,
     "metadata": {},
     "output_type": "execute_result"
    }
   ],
   "source": [
    "df18.columns, df18.info()"
   ]
  },
  {
   "cell_type": "code",
   "execution_count": 54,
   "metadata": {},
   "outputs": [
    {
     "data": {
      "image/png": "[encoded data removed]",
      "text/plain": [
       "<Figure size 576x432 with 1 Axes>"
      ]
     },
     "metadata": {
      "needs_background": "light"
     },
     "output_type": "display_data"
    },
    {
     "data": {
      "text/plain": [
       "<Figure size 432x288 with 0 Axes>"
      ]
     },
     "metadata": {},
     "output_type": "display_data"
    }
   ],
   "source": [
    "# show the different application outcomes for ACYR 18-19\n",
    "fig = plt.figure(figsize=(8,6))\n",
    "df18['DEC'].value_counts().plot(kind='bar')\n",
    "plt.title('Application Outcomes for the 2018-19 Academic Year')\n",
    "plt.xticks(rotation='horizontal')\n",
    "plt.show()\n",
    "plt.savefig('18_decis.png')"
   ]
  },
  {
   "cell_type": "code",
   "execution_count": 34,
   "metadata": {},
   "outputs": [
    {
     "data": {
      "text/plain": [
       "0    N\n",
       "1    N\n",
       "2    N\n",
       "3    N\n",
       "4    N\n",
       "Name: ACCP, dtype: object"
      ]
     },
     "execution_count": 34,
     "metadata": {},
     "output_type": "execute_result"
    }
   ],
   "source": [
    "df18['ACCP'].replace(to_replace=' ', value=np.nan, inplace=True)\n",
    "df18['ACCP'].fillna('N', inplace=True)\n",
    "df18['ACCP'].head()"
   ]
  },
  {
   "cell_type": "code",
   "execution_count": 55,
   "metadata": {},
   "outputs": [
    {
     "data": {
      "image/png": "[encoded data removed]",
      "text/plain": [
       "<Figure size 576x432 with 1 Axes>"
      ]
     },
     "metadata": {
      "needs_background": "light"
     },
     "output_type": "display_data"
    },
    {
     "data": {
      "text/plain": [
       "<Figure size 432x288 with 0 Axes>"
      ]
     },
     "metadata": {},
     "output_type": "display_data"
    }
   ],
   "source": [
    "# target 1 - Accepted\n",
    "fig = plt.figure(figsize=(8,6))\n",
    "df18['ACCP'].value_counts().plot(kind='bar')\n",
    "plt.title('Admitted Students for the 2018-19 Academic Year')\n",
    "plt.xticks(rotation='horizontal')\n",
    "plt.show()\n",
    "plt.savefig('18_admits.png')"
   ]
  },
  {
   "cell_type": "code",
   "execution_count": 36,
   "metadata": {},
   "outputs": [
    {
     "data": {
      "text/plain": [
       "0    N\n",
       "1    N\n",
       "2    N\n",
       "3    N\n",
       "4    N\n",
       "5    N\n",
       "6    N\n",
       "7    N\n",
       "8    N\n",
       "9    N\n",
       "Name: CONF, dtype: object"
      ]
     },
     "execution_count": 36,
     "metadata": {},
     "output_type": "execute_result"
    }
   ],
   "source": [
    "df18['CONF'].replace(to_replace=' ', value='N', inplace=True)\n",
    "df18['CONF'].fillna('N', inplace=True)\n",
    "df18['CONF'].head(10)"
   ]
  },
  {
   "cell_type": "code",
   "execution_count": 56,
   "metadata": {},
   "outputs": [
    {
     "data": {
      "image/png": "[encoded data removed]",
      "text/plain": [
       "<Figure size 576x432 with 1 Axes>"
      ]
     },
     "metadata": {
      "needs_background": "light"
     },
     "output_type": "display_data"
    },
    {
     "data": {
      "text/plain": [
       "<Figure size 432x288 with 0 Axes>"
      ]
     },
     "metadata": {},
     "output_type": "display_data"
    }
   ],
   "source": [
    "# target 2 - Enrolled\n",
    "fig = plt.figure(figsize=(8,6))\n",
    "df18['CONF'].value_counts().plot(kind='bar')\n",
    "plt.title('Enrolled Students for the 2018-19 Academic Year')\n",
    "plt.xticks(rotation='horizontal')\n",
    "plt.show()\n",
    "plt.savefig('18_enroll.png')"
   ]
  },
  {
   "cell_type": "markdown",
   "metadata": {},
   "source": [
    "## Summary DF"
   ]
  },
  {
   "cell_type": "code",
   "execution_count": 38,
   "metadata": {},
   "outputs": [
    {
     "data": {
      "text/html": [
       "<div>\n",
       "<style scoped>\n",
       "    .dataframe tbody tr th:only-of-type {\n",
       "        vertical-align: middle;\n",
       "    }\n",
       "\n",
       "    .dataframe tbody tr th {\n",
       "        vertical-align: top;\n",
       "    }\n",
       "\n",
       "    .dataframe thead th {\n",
       "        text-align: right;\n",
       "    }\n",
       "</style>\n",
       "<table border=\"1\" class=\"dataframe\">\n",
       "  <thead>\n",
       "    <tr style=\"text-align: right;\">\n",
       "      <th></th>\n",
       "      <th>Applications</th>\n",
       "      <th>Acceptances</th>\n",
       "      <th>Enrolls</th>\n",
       "    </tr>\n",
       "    <tr>\n",
       "      <th>Year</th>\n",
       "      <th></th>\n",
       "      <th></th>\n",
       "      <th></th>\n",
       "    </tr>\n",
       "  </thead>\n",
       "  <tbody>\n",
       "    <tr>\n",
       "      <th>2014</th>\n",
       "      <td>9978</td>\n",
       "      <td>7137</td>\n",
       "      <td>1056</td>\n",
       "    </tr>\n",
       "    <tr>\n",
       "      <th>2015</th>\n",
       "      <td>10767</td>\n",
       "      <td>6995</td>\n",
       "      <td>966</td>\n",
       "    </tr>\n",
       "    <tr>\n",
       "      <th>2016</th>\n",
       "      <td>11055</td>\n",
       "      <td>6795</td>\n",
       "      <td>1058</td>\n",
       "    </tr>\n",
       "    <tr>\n",
       "      <th>2017</th>\n",
       "      <td>11218</td>\n",
       "      <td>6794</td>\n",
       "      <td>994</td>\n",
       "    </tr>\n",
       "    <tr>\n",
       "      <th>2018</th>\n",
       "      <td>11361</td>\n",
       "      <td>6851</td>\n",
       "      <td>1091</td>\n",
       "    </tr>\n",
       "  </tbody>\n",
       "</table>\n",
       "</div>"
      ],
      "text/plain": [
       "      Applications  Acceptances  Enrolls\n",
       "Year                                    \n",
       "2014          9978         7137     1056\n",
       "2015         10767         6995      966\n",
       "2016         11055         6795     1058\n",
       "2017         11218         6794      994\n",
       "2018         11361         6851     1091"
      ]
     },
     "execution_count": 38,
     "metadata": {},
     "output_type": "execute_result"
    }
   ],
   "source": [
    "df_sum = pd.read_excel('admission_summary.xlsx', index_col=0)\n",
    "df_sum.head()"
   ]
  },
  {
   "cell_type": "code",
   "execution_count": 39,
   "metadata": {},
   "outputs": [
    {
     "name": "stdout",
     "output_type": "stream",
     "text": [
      "<class 'pandas.core.frame.DataFrame'>\n",
      "Int64Index: 5 entries, 2014 to 2018\n",
      "Data columns (total 3 columns):\n",
      "Applications    5 non-null int64\n",
      "Acceptances     5 non-null int64\n",
      "Enrolls         5 non-null int64\n",
      "dtypes: int64(3)\n",
      "memory usage: 160.0 bytes\n"
     ]
    }
   ],
   "source": [
    "df_sum.info()"
   ]
  },
  {
   "cell_type": "code",
   "execution_count": 40,
   "metadata": {},
   "outputs": [
    {
     "data": {
      "image/png": "[encoded data removed]",
      "text/plain": [
       "<Figure size 1080x720 with 4 Axes>"
      ]
     },
     "metadata": {
      "needs_background": "light"
     },
     "output_type": "display_data"
    }
   ],
   "source": [
    "fig = plt.figure(figsize=(15,10))\n",
    "plt.tight_layout()\n",
    "\n",
    "ax1 = fig.add_subplot(2,2,1)\n",
    "ax2 = fig.add_subplot(2,2,2)\n",
    "ax3 = fig.add_subplot(2,2,3)\n",
    "ax4 = fig.add_subplot(2,2,4)\n",
    "\n",
    "ax1.plot(df_sum)\n",
    "ax2.plot(df_sum['Applications'])\n",
    "ax3.plot(df_sum['Acceptances'])\n",
    "ax4.plot(df_sum['Enrolls'])\n",
    "\n",
    "ax1.set_title('Applications, Acceptances & Enrolls 2014-2018')\n",
    "ax2.set_title('Applications 2014-2018')\n",
    "ax3.set_title('Acceptances 2014-2018')\n",
    "ax4.set_title('Enrolls 2014-2018')\n",
    "\n",
    "plt.savefig('apps_admits_enrolls_breakdown.png')"
   ]
  },
  {
   "cell_type": "code",
   "execution_count": 41,
   "metadata": {},
   "outputs": [
    {
     "data": {
      "image/png": "[encoded data removed]",
      "text/plain": [
       "<Figure size 432x288 with 1 Axes>"
      ]
     },
     "metadata": {
      "needs_background": "light"
     },
     "output_type": "display_data"
    },
    {
     "data": {
      "text/plain": [
       "<Figure size 432x288 with 0 Axes>"
      ]
     },
     "metadata": {},
     "output_type": "display_data"
    }
   ],
   "source": [
    "# showing how applications, acceptances and enrolls compare to one another \n",
    "df_sum.plot(kind='bar', stacked=True)\n",
    "plt.title('Total Number of Students who: Applied, were Admitted and chose to Enroll between 2014-2018')\n",
    "plt.show()\n",
    "\n",
    "plt.savefig('total_apps_admits_enrolls.png')"
   ]
  },
  {
   "cell_type": "code",
   "execution_count": null,
   "metadata": {},
   "outputs": [],
   "source": []
  },
  {
   "cell_type": "code",
   "execution_count": null,
   "metadata": {},
   "outputs": [],
   "source": []
  }
 ],
 "metadata": {
  "kernelspec": {
   "display_name": "Python 3",
   "language": "python",
   "name": "python3"
  },
  "language_info": {
   "codemirror_mode": {
    "name": "ipython",
    "version": 3
   },
   "file_extension": ".py",
   "mimetype": "text/x-python",
   "name": "python",
   "nbconvert_exporter": "python",
   "pygments_lexer": "ipython3",
   "version": "3.7.1"
  }
 },
 "nbformat": 4,
 "nbformat_minor": 2
}
