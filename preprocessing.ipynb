{
 "cells": [
  {
   "cell_type": "markdown",
   "metadata": {},
   "source": [
    "# Preprocessing "
   ]
  },
  {
   "cell_type": "code",
   "execution_count": 1,
   "metadata": {},
   "outputs": [],
   "source": [
    "# import preprocessing packages \n",
    "import numpy as np\n",
    "import pandas as pd\n",
    "import matplotlib.pyplot as plt\n",
    "%matplotlib inline\n",
    "plt.style.use('ggplot')\n",
    "import seaborn as sns\n",
    "sns.set(style=\"darkgrid\")"
   ]
  },
  {
   "cell_type": "code",
   "execution_count": 2,
   "metadata": {},
   "outputs": [
    {
     "data": {
      "text/html": [
       "<div>\n",
       "<style scoped>\n",
       "    .dataframe tbody tr th:only-of-type {\n",
       "        vertical-align: middle;\n",
       "    }\n",
       "\n",
       "    .dataframe tbody tr th {\n",
       "        vertical-align: top;\n",
       "    }\n",
       "\n",
       "    .dataframe thead th {\n",
       "        text-align: right;\n",
       "    }\n",
       "</style>\n",
       "<table border=\"1\" class=\"dataframe\">\n",
       "  <thead>\n",
       "    <tr style=\"text-align: right;\">\n",
       "      <th></th>\n",
       "      <th>ID</th>\n",
       "      <th>Accept</th>\n",
       "      <th>HSCity</th>\n",
       "      <th>HST</th>\n",
       "      <th>College</th>\n",
       "      <th>DEGREE_TYPE</th>\n",
       "      <th>MAJOR_CODE</th>\n",
       "      <th>Major</th>\n",
       "      <th>Major Description</th>\n",
       "      <th>First_GEN</th>\n",
       "      <th>...</th>\n",
       "      <th>Ethnicity Code</th>\n",
       "      <th>ADMIT_TYPE</th>\n",
       "      <th>ADMT_DESC</th>\n",
       "      <th>COMP</th>\n",
       "      <th>APP_ENTRY_TERM</th>\n",
       "      <th>ENROLL</th>\n",
       "      <th>JESUIT</th>\n",
       "      <th>HSNATION</th>\n",
       "      <th>RELIGION</th>\n",
       "      <th>APPLIED</th>\n",
       "    </tr>\n",
       "  </thead>\n",
       "  <tbody>\n",
       "    <tr>\n",
       "      <th>0</th>\n",
       "      <td>214717</td>\n",
       "      <td>NaN</td>\n",
       "      <td>North Eastham</td>\n",
       "      <td>MA</td>\n",
       "      <td>Dolan School of Business</td>\n",
       "      <td>BS</td>\n",
       "      <td>Business Undeclared</td>\n",
       "      <td>Business Undeclared</td>\n",
       "      <td>Business Undeclared</td>\n",
       "      <td>34</td>\n",
       "      <td>...</td>\n",
       "      <td>NaN</td>\n",
       "      <td>NaN</td>\n",
       "      <td>NaN</td>\n",
       "      <td>NaN</td>\n",
       "      <td>NaN</td>\n",
       "      <td>NaN</td>\n",
       "      <td>NaN</td>\n",
       "      <td>NaN</td>\n",
       "      <td>NaN</td>\n",
       "      <td>NaN</td>\n",
       "    </tr>\n",
       "    <tr>\n",
       "      <th>1</th>\n",
       "      <td>214861</td>\n",
       "      <td>NaN</td>\n",
       "      <td>Bridgeport</td>\n",
       "      <td>CT</td>\n",
       "      <td>Dolan School of Business</td>\n",
       "      <td>BS</td>\n",
       "      <td>Marketing</td>\n",
       "      <td>Marketing</td>\n",
       "      <td>Marketing</td>\n",
       "      <td>34</td>\n",
       "      <td>...</td>\n",
       "      <td>NaN</td>\n",
       "      <td>NaN</td>\n",
       "      <td>NaN</td>\n",
       "      <td>NaN</td>\n",
       "      <td>NaN</td>\n",
       "      <td>NaN</td>\n",
       "      <td>NaN</td>\n",
       "      <td>NaN</td>\n",
       "      <td>NaN</td>\n",
       "      <td>NaN</td>\n",
       "    </tr>\n",
       "  </tbody>\n",
       "</table>\n",
       "<p>2 rows × 57 columns</p>\n",
       "</div>"
      ],
      "text/plain": [
       "       ID Accept         HSCity HST                   College DEGREE_TYPE  \\\n",
       "0  214717    NaN  North Eastham  MA  Dolan School of Business          BS   \n",
       "1  214861    NaN     Bridgeport  CT  Dolan School of Business          BS   \n",
       "\n",
       "            MAJOR_CODE                Major    Major Description First_GEN  \\\n",
       "0  Business Undeclared  Business Undeclared  Business Undeclared        34   \n",
       "1            Marketing            Marketing            Marketing        34   \n",
       "\n",
       "    ...    Ethnicity Code  ADMIT_TYPE ADMT_DESC COMP APP_ENTRY_TERM ENROLL  \\\n",
       "0   ...               NaN         NaN       NaN  NaN            NaN    NaN   \n",
       "1   ...               NaN         NaN       NaN  NaN            NaN    NaN   \n",
       "\n",
       "  JESUIT HSNATION RELIGION APPLIED  \n",
       "0    NaN      NaN      NaN     NaN  \n",
       "1    NaN      NaN      NaN     NaN  \n",
       "\n",
       "[2 rows x 57 columns]"
      ]
     },
     "execution_count": 2,
     "metadata": {},
     "output_type": "execute_result"
    }
   ],
   "source": [
    "# read in the data file\n",
    "df = pd.read_csv('data/admission_master.csv', low_memory=False)\n",
    "df.head(2)"
   ]
  },
  {
   "cell_type": "code",
   "execution_count": 3,
   "metadata": {},
   "outputs": [
    {
     "data": {
      "text/html": [
       "<div>\n",
       "<style scoped>\n",
       "    .dataframe tbody tr th:only-of-type {\n",
       "        vertical-align: middle;\n",
       "    }\n",
       "\n",
       "    .dataframe tbody tr th {\n",
       "        vertical-align: top;\n",
       "    }\n",
       "\n",
       "    .dataframe thead th {\n",
       "        text-align: right;\n",
       "    }\n",
       "</style>\n",
       "<table border=\"1\" class=\"dataframe\">\n",
       "  <thead>\n",
       "    <tr style=\"text-align: right;\">\n",
       "      <th></th>\n",
       "      <th>SID</th>\n",
       "      <th>ID</th>\n",
       "      <th>FIRST_NAME</th>\n",
       "      <th>LAST_NAME</th>\n",
       "      <th>Academic Term</th>\n",
       "      <th>Initial Term</th>\n",
       "      <th>Term Indicator</th>\n",
       "      <th>Cohort</th>\n",
       "      <th>Ethnicity</th>\n",
       "      <th>Students of Color Indicator</th>\n",
       "      <th>...</th>\n",
       "      <th>SAT Math (old)</th>\n",
       "      <th>SAT Verbal (old)</th>\n",
       "      <th>SAT Writing (old)</th>\n",
       "      <th>SAT Comp (old)</th>\n",
       "      <th>Admission Rating</th>\n",
       "      <th>IR Score</th>\n",
       "      <th>High School GPA</th>\n",
       "      <th>HS Zip</th>\n",
       "      <th>HS Type</th>\n",
       "      <th>First_Gen</th>\n",
       "    </tr>\n",
       "  </thead>\n",
       "  <tbody>\n",
       "    <tr>\n",
       "      <th>0</th>\n",
       "      <td>10416</td>\n",
       "      <td>10416</td>\n",
       "      <td>Caleb</td>\n",
       "      <td>Blagys</td>\n",
       "      <td>2015-16</td>\n",
       "      <td>201509</td>\n",
       "      <td>Fall</td>\n",
       "      <td>201509F</td>\n",
       "      <td>White</td>\n",
       "      <td>Non-Students of Color</td>\n",
       "      <td>...</td>\n",
       "      <td>580.0</td>\n",
       "      <td>550.0</td>\n",
       "      <td>560.0</td>\n",
       "      <td>1130.0</td>\n",
       "      <td>7</td>\n",
       "      <td>0.521500</td>\n",
       "      <td>2.79</td>\n",
       "      <td>06430</td>\n",
       "      <td>Private</td>\n",
       "      <td>0</td>\n",
       "    </tr>\n",
       "    <tr>\n",
       "      <th>1</th>\n",
       "      <td>10417</td>\n",
       "      <td>10417</td>\n",
       "      <td>Dylan</td>\n",
       "      <td>Freeman</td>\n",
       "      <td>2015-16</td>\n",
       "      <td>201509</td>\n",
       "      <td>Fall</td>\n",
       "      <td>201509F</td>\n",
       "      <td>White</td>\n",
       "      <td>Non-Students of Color</td>\n",
       "      <td>...</td>\n",
       "      <td>NaN</td>\n",
       "      <td>NaN</td>\n",
       "      <td>NaN</td>\n",
       "      <td>NaN</td>\n",
       "      <td>7</td>\n",
       "      <td>0.456947</td>\n",
       "      <td>2.23</td>\n",
       "      <td>06430</td>\n",
       "      <td>Private</td>\n",
       "      <td>0</td>\n",
       "    </tr>\n",
       "  </tbody>\n",
       "</table>\n",
       "<p>2 rows × 50 columns</p>\n",
       "</div>"
      ],
      "text/plain": [
       "     SID     ID FIRST_NAME LAST_NAME Academic Term  Initial Term  \\\n",
       "0  10416  10416      Caleb    Blagys       2015-16        201509   \n",
       "1  10417  10417      Dylan   Freeman       2015-16        201509   \n",
       "\n",
       "  Term Indicator   Cohort Ethnicity Students of Color Indicator    ...     \\\n",
       "0           Fall  201509F     White       Non-Students of Color    ...      \n",
       "1           Fall  201509F     White       Non-Students of Color    ...      \n",
       "\n",
       "  SAT Math (old) SAT Verbal (old) SAT Writing (old)  SAT Comp (old)  \\\n",
       "0          580.0            550.0             560.0          1130.0   \n",
       "1            NaN              NaN               NaN             NaN   \n",
       "\n",
       "  Admission Rating  IR Score High School GPA HS Zip  HS Type First_Gen  \n",
       "0                7  0.521500            2.79  06430  Private         0  \n",
       "1                7  0.456947            2.23  06430  Private         0  \n",
       "\n",
       "[2 rows x 50 columns]"
      ]
     },
     "execution_count": 3,
     "metadata": {},
     "output_type": "execute_result"
    }
   ],
   "source": [
    "# read in census file to get other features\n",
    "df_census = pd.read_excel('data/Census.xlsx', sheet_name='2014-2018')\n",
    "df_census.head(2)"
   ]
  },
  {
   "cell_type": "code",
   "execution_count": 4,
   "metadata": {},
   "outputs": [
    {
     "data": {
      "text/html": [
       "<div>\n",
       "<style scoped>\n",
       "    .dataframe tbody tr th:only-of-type {\n",
       "        vertical-align: middle;\n",
       "    }\n",
       "\n",
       "    .dataframe tbody tr th {\n",
       "        vertical-align: top;\n",
       "    }\n",
       "\n",
       "    .dataframe thead th {\n",
       "        text-align: right;\n",
       "    }\n",
       "</style>\n",
       "<table border=\"1\" class=\"dataframe\">\n",
       "  <thead>\n",
       "    <tr style=\"text-align: right;\">\n",
       "      <th></th>\n",
       "      <th>High School GPA</th>\n",
       "      <th>IR Score</th>\n",
       "      <th>Students of Color Indicator</th>\n",
       "    </tr>\n",
       "  </thead>\n",
       "  <tbody>\n",
       "    <tr>\n",
       "      <th>0</th>\n",
       "      <td>2.79</td>\n",
       "      <td>0.521500</td>\n",
       "      <td>Non-Students of Color</td>\n",
       "    </tr>\n",
       "    <tr>\n",
       "      <th>1</th>\n",
       "      <td>2.23</td>\n",
       "      <td>0.456947</td>\n",
       "      <td>Non-Students of Color</td>\n",
       "    </tr>\n",
       "    <tr>\n",
       "      <th>2</th>\n",
       "      <td>3.42</td>\n",
       "      <td>0.620750</td>\n",
       "      <td>Non-Students of Color</td>\n",
       "    </tr>\n",
       "    <tr>\n",
       "      <th>3</th>\n",
       "      <td>3.35</td>\n",
       "      <td>0.725000</td>\n",
       "      <td>Non-Students of Color</td>\n",
       "    </tr>\n",
       "    <tr>\n",
       "      <th>4</th>\n",
       "      <td>3.40</td>\n",
       "      <td>0.739118</td>\n",
       "      <td>Students of Color</td>\n",
       "    </tr>\n",
       "  </tbody>\n",
       "</table>\n",
       "</div>"
      ],
      "text/plain": [
       "   High School GPA  IR Score Students of Color Indicator\n",
       "0             2.79  0.521500       Non-Students of Color\n",
       "1             2.23  0.456947       Non-Students of Color\n",
       "2             3.42  0.620750       Non-Students of Color\n",
       "3             3.35  0.725000       Non-Students of Color\n",
       "4             3.40  0.739118           Students of Color"
      ]
     },
     "execution_count": 4,
     "metadata": {},
     "output_type": "execute_result"
    }
   ],
   "source": [
    "# filter out desired features\n",
    "df_gpa = df_census.filter(['High School GPA','IR Score','Students of Color Indicator'],axis=1)\n",
    "df_gpa.head()"
   ]
  },
  {
   "cell_type": "code",
   "execution_count": 5,
   "metadata": {},
   "outputs": [
    {
     "name": "stdout",
     "output_type": "stream",
     "text": [
      "<class 'pandas.core.frame.DataFrame'>\n",
      "Int64Index: 59305 entries, 0 to 4926\n",
      "Data columns (total 60 columns):\n",
      "ID                                   54378 non-null float64\n",
      "Accept                               20440 non-null object\n",
      "HSCity                               54216 non-null object\n",
      "HST                                  52926 non-null object\n",
      "College                              54377 non-null object\n",
      "DEGREE_TYPE                          54378 non-null object\n",
      "MAJOR_CODE                           54378 non-null object\n",
      "Major                                54378 non-null object\n",
      "Major Description                    33566 non-null object\n",
      "First_GEN                            46296 non-null object\n",
      "RGPA                                 41233 non-null float64\n",
      "Rating                               42016 non-null float64\n",
      "P_M                                  22975 non-null object\n",
      "Merit                                26423 non-null object\n",
      "DEC                                  51988 non-null object\n",
      "APP_DESC                             51988 non-null object\n",
      "ACCP                                 34505 non-null object\n",
      "CONF                                 5174 non-null object\n",
      "Citizen                              54373 non-null object\n",
      "Sex                                  54378 non-null object\n",
      "RES                                  54377 non-null object\n",
      "Class Rank                           7530 non-null float64\n",
      "Class Size                           7529 non-null float64\n",
      "Class Percentile                     6903 non-null float64\n",
      "Active City                          44393 non-null object\n",
      "Active Region                        53544 non-null object\n",
      "Active Postal                        44068 non-null object\n",
      "Active Country                       44393 non-null object\n",
      "Ethnicity                            54117 non-null object\n",
      "Test Optional                        54378 non-null object\n",
      "Legacy                               9017 non-null object\n",
      "SAT Math OLD                         17616 non-null float64\n",
      "SAT WRI OLD                          17614 non-null float64\n",
      "SAT Verbal OLD                       17616 non-null float64\n",
      "Total SAT OLD                        17612 non-null float64\n",
      "ACT                                  12899 non-null float64\n",
      "SAT Reading USE                      23438 non-null float64\n",
      "SAT Math USE                         23437 non-null float64\n",
      "SAT Total USE                        23437 non-null float64\n",
      "Enroll                               2052 non-null object\n",
      "College Code                         43017 non-null object\n",
      "Sum Ver & Wri                        17600 non-null float64\n",
      "SAT Critical Reading - conversion    905 non-null float64\n",
      "SAT Math - conversion                905 non-null float64\n",
      "SAT Reading NEW                      5612 non-null float64\n",
      "SAT Math NEW                         5612 non-null float64\n",
      "SAT Total NEW                        5612 non-null float64\n",
      "Ethnicity Code                       10767 non-null object\n",
      "ADMIT_TYPE                           9977 non-null object\n",
      "ADMT_DESC                            9977 non-null object\n",
      "COMP                                 9977 non-null object\n",
      "APP_ENTRY_TERM                       9977 non-null float64\n",
      "ENROLL                               0 non-null float64\n",
      "JESUIT                               512 non-null object\n",
      "HSNATION                             228 non-null object\n",
      "RELIGION                             9166 non-null object\n",
      "APPLIED                              9977 non-null object\n",
      "High School GPA                      4613 non-null float64\n",
      "IR Score                             4927 non-null float64\n",
      "Students of Color Indicator          4927 non-null object\n",
      "dtypes: float64(24), object(36)\n",
      "memory usage: 27.6+ MB\n"
     ]
    }
   ],
   "source": [
    "# join df and df_gpa \n",
    "df = df.append(df_gpa, sort=False)\n",
    "df.info()"
   ]
  },
  {
   "cell_type": "code",
   "execution_count": 6,
   "metadata": {},
   "outputs": [
    {
     "data": {
      "text/plain": [
       "Index(['ID', 'Accept', 'HSCity', 'HST', 'College', 'DEGREE_TYPE', 'MAJOR_CODE',\n",
       "       'Major', 'Major Description', 'First_GEN', 'RGPA', 'Rating', 'P_M',\n",
       "       'Merit', 'DEC', 'APP_DESC', 'ACCP', 'CONF', 'Citizen', 'Sex', 'RES',\n",
       "       'Class Rank', 'Class Size', 'Class Percentile', 'Active City',\n",
       "       'Active Region', 'Active Postal', 'Active Country', 'Ethnicity',\n",
       "       'Test Optional', 'Legacy', 'SAT Math OLD', 'SAT WRI OLD',\n",
       "       'SAT Verbal OLD', 'Total SAT OLD', 'ACT', 'SAT Reading USE',\n",
       "       'SAT Math USE', 'SAT Total USE', 'Enroll', 'College Code',\n",
       "       'Sum Ver & Wri', 'SAT Critical Reading - conversion',\n",
       "       'SAT Math - conversion', 'SAT Reading NEW', 'SAT Math NEW',\n",
       "       'SAT Total NEW', 'Ethnicity Code', 'ADMIT_TYPE', 'ADMT_DESC', 'COMP',\n",
       "       'APP_ENTRY_TERM', 'ENROLL', 'JESUIT', 'HSNATION', 'RELIGION', 'APPLIED',\n",
       "       'High School GPA', 'IR Score', 'Students of Color Indicator'],\n",
       "      dtype='object')"
      ]
     },
     "execution_count": 6,
     "metadata": {},
     "output_type": "execute_result"
    }
   ],
   "source": [
    "# examine columns, determine which ones will need to be imputed/binned/dropped\n",
    "df.columns"
   ]
  },
  {
   "cell_type": "code",
   "execution_count": 7,
   "metadata": {},
   "outputs": [
    {
     "data": {
      "text/plain": [
       "Index(['HSCity', 'HST', 'College', 'DEGREE_TYPE', 'Major', 'First_GEN', 'RGPA',\n",
       "       'Rating', 'P_M', 'Merit', 'DEC', 'APP_DESC', 'ACCP', 'CONF', 'Citizen',\n",
       "       'Sex', 'RES', 'Class Rank', 'Class Size', 'Class Percentile',\n",
       "       'Active City', 'Active Region', 'Active Postal', 'Active Country',\n",
       "       'Ethnicity', 'Test Optional', 'Legacy', 'ACT', 'SAT Reading USE',\n",
       "       'SAT Math USE', 'SAT Total USE', 'JESUIT', 'RELIGION',\n",
       "       'High School GPA', 'IR Score', 'Students of Color Indicator'],\n",
       "      dtype='object')"
      ]
     },
     "execution_count": 7,
     "metadata": {},
     "output_type": "execute_result"
    }
   ],
   "source": [
    "# drop unecessary or duplicate columns \n",
    "df = df.drop(['ID','Accept','Enroll','ENROLL','SAT Critical Reading - conversion',\n",
    "             'SAT Math - conversion','SAT Reading NEW', 'SAT Math NEW', 'SAT Total NEW', 'Ethnicity Code',\n",
    "       'ADMIT_TYPE', 'ADMT_DESC', 'COMP', 'APP_ENTRY_TERM','SAT Math OLD', 'SAT WRI OLD', 'SAT Verbal OLD',\n",
    "       'Total SAT OLD','HSNATION','Sum Ver & Wri', 'APPLIED','College Code','MAJOR_CODE','Major Description'], axis=1)\n",
    "# verify that columns were dropped \n",
    "df.columns"
   ]
  },
  {
   "cell_type": "code",
   "execution_count": 8,
   "metadata": {},
   "outputs": [
    {
     "data": {
      "text/plain": [
       "Index(['HSCity', 'HST', 'College', 'DEGREE_TYPE', 'Major', 'First_GEN', 'RGPA',\n",
       "       'Rating', 'P_M', 'Merit', 'ACCP', 'CONF', 'Citizen', 'Sex', 'RES',\n",
       "       'Class Rank', 'Class Size', 'Class Percentile', 'Active City',\n",
       "       'Active Region', 'Active Postal', 'Active Country', 'Ethnicity',\n",
       "       'Test Optional', 'Legacy', 'ACT', 'SAT Reading USE', 'SAT Math USE',\n",
       "       'SAT Total USE', 'JESUIT', 'RELIGION', 'High School GPA', 'IR Score',\n",
       "       'Students of Color Indicator'],\n",
       "      dtype='object')"
      ]
     },
     "execution_count": 8,
     "metadata": {},
     "output_type": "execute_result"
    }
   ],
   "source": [
    "# filter out the targets \n",
    "dfy = df.filter(['ACCP','CONF'])\n",
    "dfy.to_csv('data/targets.csv', index=0)\n",
    "\n",
    "# drop the targets and other features that reference the targets from the main dataframe\n",
    "df = df.drop(['APP_DESC','DEC'], axis=1)\n",
    "df.columns"
   ]
  },
  {
   "cell_type": "code",
   "execution_count": 9,
   "metadata": {},
   "outputs": [
    {
     "data": {
      "text/plain": [
       "Index(['ACT', 'SAT Math USE', 'SAT Reading USE', 'SAT Total USE', 'RGPA',\n",
       "       'High School GPA', 'IR Score', 'Class Rank', 'Class Size',\n",
       "       'Class Percentile'],\n",
       "      dtype='object')"
      ]
     },
     "execution_count": 9,
     "metadata": {},
     "output_type": "execute_result"
    }
   ],
   "source": [
    "# filter out continuous variables \n",
    "dfcont = df.filter(['ACT','SAT Math USE','SAT Reading USE','SAT Total USE', 'RGPA','High School GPA', 'IR Score',\n",
    "                    'Class Rank','Class Size','Class Percentile'])\n",
    "dfcont.to_csv('data/continuous.csv', index=0)\n",
    "\n",
    "# drop continuous variables from main dataframe\n",
    "df = df.drop(['ACT','SAT Math USE','SAT Reading USE','SAT Total USE', 'RGPA','High School GPA', 'IR Score',\n",
    "                    'Class Rank','Class Size','Class Percentile'], axis=1)\n",
    "\n",
    "# verify dfcont features \n",
    "dfcont.columns"
   ]
  },
  {
   "cell_type": "markdown",
   "metadata": {},
   "source": [
    "## Do Preprocessing of Continuous Features in Separate Notebook\n",
    "### Now concat with main df"
   ]
  },
  {
   "cell_type": "code",
   "execution_count": 10,
   "metadata": {},
   "outputs": [],
   "source": [
    "# read in the datafiles\n",
    "dfc = pd.read_csv('data/dfc.csv')\n",
    "dfy = pd.read_csv('data/targets.csv')"
   ]
  },
  {
   "cell_type": "code",
   "execution_count": 11,
   "metadata": {},
   "outputs": [],
   "source": [
    "df = pd.concat([df, dfc], axis=1, join='inner')"
   ]
  },
  {
   "cell_type": "code",
   "execution_count": 12,
   "metadata": {},
   "outputs": [
    {
     "name": "stdout",
     "output_type": "stream",
     "text": [
      "['HSCity'] [HSCity                          5089\n",
      "HST                             6379\n",
      "College                         4928\n",
      "DEGREE_TYPE                     4927\n",
      "Major                           4927\n",
      "First_GEN                      13009\n",
      "Rating                         17289\n",
      "P_M                            36330\n",
      "Merit                          32882\n",
      "ACCP                           24800\n",
      "CONF                           54131\n",
      "Citizen                         4932\n",
      "Sex                             4927\n",
      "RES                             4928\n",
      "Active City                    14912\n",
      "Active Region                   5761\n",
      "Active Postal                  15237\n",
      "Active Country                 14912\n",
      "Ethnicity                       5188\n",
      "Test Optional                   4927\n",
      "Legacy                         50288\n",
      "JESUIT                         58793\n",
      "RELIGION                       50139\n",
      "Students of Color Indicator    54378\n",
      "ACT                                0\n",
      "SAT Math USE                       0\n",
      "SAT Reading USE                    0\n",
      "SAT Total USE                      0\n",
      "RGPA                               0\n",
      "High School GPA                    0\n",
      "IR Score                           0\n",
      "Class Rank                         0\n",
      "Class Size                         0\n",
      "Class Percentile                   0\n",
      "dtype: int64]\n"
     ]
    }
   ],
   "source": [
    "# count how many missing values each feature in the main dataframe has \n",
    "names = []\n",
    "val = []\n",
    "\n",
    "for col in df.columns:\n",
    "    names.append(col)\n",
    "    val.append(df[df.columns].isnull().sum())\n",
    "    break\n",
    "# print out results as (column_name, # of null values in column_name)\n",
    "print(names, val)"
   ]
  },
  {
   "cell_type": "markdown",
   "metadata": {},
   "source": [
    "## Handling Categorical Features"
   ]
  },
  {
   "cell_type": "code",
   "execution_count": 13,
   "metadata": {},
   "outputs": [
    {
     "data": {
      "text/html": [
       "<div>\n",
       "<style scoped>\n",
       "    .dataframe tbody tr th:only-of-type {\n",
       "        vertical-align: middle;\n",
       "    }\n",
       "\n",
       "    .dataframe tbody tr th {\n",
       "        vertical-align: top;\n",
       "    }\n",
       "\n",
       "    .dataframe thead th {\n",
       "        text-align: right;\n",
       "    }\n",
       "</style>\n",
       "<table border=\"1\" class=\"dataframe\">\n",
       "  <thead>\n",
       "    <tr style=\"text-align: right;\">\n",
       "      <th></th>\n",
       "      <th>Rating</th>\n",
       "    </tr>\n",
       "  </thead>\n",
       "  <tbody>\n",
       "    <tr>\n",
       "      <th>0</th>\n",
       "      <td>9.0</td>\n",
       "    </tr>\n",
       "    <tr>\n",
       "      <th>1</th>\n",
       "      <td>9.0</td>\n",
       "    </tr>\n",
       "    <tr>\n",
       "      <th>2</th>\n",
       "      <td>9.0</td>\n",
       "    </tr>\n",
       "    <tr>\n",
       "      <th>3</th>\n",
       "      <td>9.0</td>\n",
       "    </tr>\n",
       "    <tr>\n",
       "      <th>4</th>\n",
       "      <td>NaN</td>\n",
       "    </tr>\n",
       "  </tbody>\n",
       "</table>\n",
       "</div>"
      ],
      "text/plain": [
       "   Rating\n",
       "0     9.0\n",
       "1     9.0\n",
       "2     9.0\n",
       "3     9.0\n",
       "4     NaN"
      ]
     },
     "execution_count": 13,
     "metadata": {},
     "output_type": "execute_result"
    }
   ],
   "source": [
    "# filter out Rating\n",
    "dfr = df.filter(['Rating'], axis=1)\n",
    "dfr.head()"
   ]
  },
  {
   "cell_type": "code",
   "execution_count": 14,
   "metadata": {},
   "outputs": [
    {
     "data": {
      "text/html": [
       "<div>\n",
       "<style scoped>\n",
       "    .dataframe tbody tr th:only-of-type {\n",
       "        vertical-align: middle;\n",
       "    }\n",
       "\n",
       "    .dataframe tbody tr th {\n",
       "        vertical-align: top;\n",
       "    }\n",
       "\n",
       "    .dataframe thead th {\n",
       "        text-align: right;\n",
       "    }\n",
       "</style>\n",
       "<table border=\"1\" class=\"dataframe\">\n",
       "  <thead>\n",
       "    <tr style=\"text-align: right;\">\n",
       "      <th></th>\n",
       "      <th>Rating</th>\n",
       "    </tr>\n",
       "  </thead>\n",
       "  <tbody>\n",
       "    <tr>\n",
       "      <th>0</th>\n",
       "      <td>9.0</td>\n",
       "    </tr>\n",
       "    <tr>\n",
       "      <th>1</th>\n",
       "      <td>9.0</td>\n",
       "    </tr>\n",
       "    <tr>\n",
       "      <th>2</th>\n",
       "      <td>9.0</td>\n",
       "    </tr>\n",
       "    <tr>\n",
       "      <th>3</th>\n",
       "      <td>9.0</td>\n",
       "    </tr>\n",
       "    <tr>\n",
       "      <th>4</th>\n",
       "      <td>4.0</td>\n",
       "    </tr>\n",
       "  </tbody>\n",
       "</table>\n",
       "</div>"
      ],
      "text/plain": [
       "   Rating\n",
       "0     9.0\n",
       "1     9.0\n",
       "2     9.0\n",
       "3     9.0\n",
       "4     4.0"
      ]
     },
     "execution_count": 14,
     "metadata": {},
     "output_type": "execute_result"
    }
   ],
   "source": [
    "# impute Rating with the mode\n",
    "dfr['Rating'].fillna(dfr['Rating'].median(), inplace=True)\n",
    "dfr.head()"
   ]
  },
  {
   "cell_type": "code",
   "execution_count": 15,
   "metadata": {},
   "outputs": [],
   "source": [
    "df['Rating'] = dfr['Rating']"
   ]
  },
  {
   "cell_type": "code",
   "execution_count": 16,
   "metadata": {},
   "outputs": [
    {
     "data": {
      "text/plain": [
       "Text(0.5, 1.0, 'College Bins')"
      ]
     },
     "execution_count": 16,
     "metadata": {},
     "output_type": "execute_result"
    },
    {
     "data": {
      "image/png": "[encoded data removed]",
      "text/plain": [
       "<Figure size 576x432 with 1 Axes>"
      ]
     },
     "metadata": {
      "needs_background": "light"
     },
     "output_type": "display_data"
    }
   ],
   "source": [
    "# function for assigning college bins\n",
    "def assign_college_bins(College):\n",
    "    if College == 'Dolan School of Business': \n",
    "        return(1)\n",
    "    if College == 'College of Arts & Sciences' or College == 'College of Arts and Sciences':\n",
    "        return(2)\n",
    "    if College == 'School of Engineering':\n",
    "        return(3)    \n",
    "    if College == 'Egan School of Nursing & Health Sciences' or College == 'Egan School of Nursing and Health Studies':\n",
    "        return(4)\n",
    "    else:\n",
    "        return(5)\n",
    "\n",
    "# Applying College_Bins function to the DataFrame\n",
    "df['College_Bins'] = df['College'].apply(assign_college_bins)\n",
    "\n",
    "# verifying College Bins\n",
    "fig = plt.figure(figsize=(8,6))\n",
    "ax = sns.countplot(x=\"College_Bins\", data=df, palette='Set1')\n",
    "plt.title('College Bins')"
   ]
  },
  {
   "cell_type": "code",
   "execution_count": 17,
   "metadata": {},
   "outputs": [
    {
     "data": {
      "text/plain": [
       "Text(0.5, 1.0, 'Legacy Bins')"
      ]
     },
     "execution_count": 17,
     "metadata": {},
     "output_type": "execute_result"
    },
    {
     "data": {
      "image/png": "[encoded data removed]",
      "text/plain": [
       "<Figure size 576x432 with 1 Axes>"
      ]
     },
     "metadata": {
      "needs_background": "light"
     },
     "output_type": "display_data"
    }
   ],
   "source": [
    "# legacy bins funtion\n",
    "def assign_legacy_bins(Legacy):\n",
    "    if Legacy == 'A' or Legacy=='B' or Legacy=='C' or Legacy=='G' or Legacy=='N' or Legacy=='Brother/Sister Current Student' or Legacy=='Brother/Sister of Alumni' or Legacy=='Child/Grandchild of Alumni': \n",
    "        return(1)\n",
    "    else:\n",
    "        return(2)\n",
    "\n",
    "# Applying legacy_bins function to the DataFrame\n",
    "df['Legacy_Bins'] = df['Legacy'].apply(assign_legacy_bins)\n",
    "\n",
    "# verifying Legacy Bins\n",
    "fig = plt.figure(figsize=(8,6))\n",
    "ax = sns.countplot(x=\"Legacy_Bins\", data=df, palette='Set1')\n",
    "plt.title('Legacy Bins')"
   ]
  },
  {
   "cell_type": "code",
   "execution_count": 18,
   "metadata": {},
   "outputs": [
    {
     "data": {
      "text/plain": [
       "Text(0.5, 1.0, 'P_M Bins')"
      ]
     },
     "execution_count": 18,
     "metadata": {},
     "output_type": "execute_result"
    },
    {
     "data": {
      "image/png": "[encoded data removed]",
      "text/plain": [
       "<Figure size 576x432 with 1 Axes>"
      ]
     },
     "metadata": {
      "needs_background": "light"
     },
     "output_type": "display_data"
    }
   ],
   "source": [
    "# P_M bins\n",
    "def assign_pm_bins(P_M):\n",
    "    if P_M == 'MIN' or P_M=='PLUS': \n",
    "        return(1)\n",
    "    else:\n",
    "        return(2)\n",
    "    \n",
    "# Applying pm_bins function to the DataFrame\n",
    "df['PM_Bins'] = df['P_M'].apply(assign_pm_bins)\n",
    "\n",
    "# verifying P_M Bins\n",
    "fig = plt.figure(figsize=(8,6))\n",
    "ax = sns.countplot(x=\"PM_Bins\", data=df, palette='Set1')\n",
    "plt.title('P_M Bins')"
   ]
  },
  {
   "cell_type": "code",
   "execution_count": 19,
   "metadata": {},
   "outputs": [
    {
     "data": {
      "text/plain": [
       "Text(0.5, 1.0, 'Merit Bins')"
      ]
     },
     "execution_count": 19,
     "metadata": {},
     "output_type": "execute_result"
    },
    {
     "data": {
      "image/png": "[encoded data removed]",
      "text/plain": [
       "<Figure size 576x432 with 1 Axes>"
      ]
     },
     "metadata": {
      "needs_background": "light"
     },
     "output_type": "display_data"
    }
   ],
   "source": [
    "# Merit bins\n",
    "def assign_merit_bins(Merit):\n",
    "    if Merit == 'BELL' or Merit=='COMP' or Merit=='COMS' or Merit=='LOY' or Merit=='MAGI' or Merit=='XAV': \n",
    "        return(1)\n",
    "    else:\n",
    "        return(2)\n",
    "    \n",
    "# Applying merit bins function to the DataFrame\n",
    "df['Merit_Bins'] = df['Merit'].apply(assign_merit_bins)\n",
    "\n",
    "# verifying Merit Bins\n",
    "fig = plt.figure(figsize=(8,6))\n",
    "ax = sns.countplot(x=\"Merit_Bins\", data=df, palette='Set1')\n",
    "plt.title('Merit Bins')"
   ]
  },
  {
   "cell_type": "code",
   "execution_count": 20,
   "metadata": {},
   "outputs": [
    {
     "data": {
      "text/plain": [
       "Text(0.5, 1.0, 'Jesuit Bins')"
      ]
     },
     "execution_count": 20,
     "metadata": {},
     "output_type": "execute_result"
    },
    {
     "data": {
      "image/png": "[encoded data removed]",
      "text/plain": [
       "<Figure size 576x432 with 1 Axes>"
      ]
     },
     "metadata": {
      "needs_background": "light"
     },
     "output_type": "display_data"
    }
   ],
   "source": [
    "# Jesuit bins\n",
    "def assign_jesuit_bins(JESUIT):\n",
    "    if JESUIT=='J': \n",
    "        return(1)\n",
    "    else:\n",
    "        return(2)\n",
    "    \n",
    "# Applying jesuit bins function to the DataFrame\n",
    "df['Jesuit_Bins'] = df['JESUIT'].apply(assign_jesuit_bins)\n",
    "\n",
    "# verifying Jesuit Bins\n",
    "fig = plt.figure(figsize=(8,6))\n",
    "ax = sns.countplot(x=\"Jesuit_Bins\", data=df, palette='Set1')\n",
    "plt.title('Jesuit Bins')"
   ]
  },
  {
   "cell_type": "code",
   "execution_count": 21,
   "metadata": {},
   "outputs": [
    {
     "data": {
      "text/plain": [
       "Text(0.5, 1.0, 'Religion Bins')"
      ]
     },
     "execution_count": 21,
     "metadata": {},
     "output_type": "execute_result"
    },
    {
     "data": {
      "image/png": "[encoded data removed]",
      "text/plain": [
       "<Figure size 576x432 with 1 Axes>"
      ]
     },
     "metadata": {
      "needs_background": "light"
     },
     "output_type": "display_data"
    }
   ],
   "source": [
    "# Religion bins\n",
    "def assign_religion_bins(RELIGION):\n",
    "    if RELIGION=='BA' or RELIGION=='BA' or RELIGION=='BU' or RELIGION=='CA' or RELIGION=='CC' or RELIGION=='CH' or RELIGION=='CO' or RELIGION=='CS' or RELIGION=='EP' or RELIGION=='FR' or RELIGION=='HU' or RELIGION=='JE' or RELIGION=='JW' or RELIGION=='LU' or RELIGION=='ME' or RELIGION=='MN' or RELIGION=='MO' or RELIGION=='MU' or RELIGION=='NL' or RELIGION=='NO' or RELIGION=='OC' or RELIGION=='PB' or RELIGION=='PH' or RELIGION=='RE' or RELIGION=='SD' or RELIGION=='SI' or RELIGION=='UN' or RELIGION=='UT': \n",
    "        return(1)\n",
    "    else:\n",
    "        return(2)\n",
    "    \n",
    "# Applying religion function to the DataFrame\n",
    "df['Religion_Bins'] = df['RELIGION'].apply(assign_religion_bins)\n",
    "\n",
    "# verifying religion Bins\n",
    "fig = plt.figure(figsize=(8,6))\n",
    "ax = sns.countplot(x=\"Religion_Bins\", data=df, palette='Set1')\n",
    "plt.title('Religion Bins')"
   ]
  },
  {
   "cell_type": "code",
   "execution_count": 22,
   "metadata": {},
   "outputs": [
    {
     "data": {
      "text/plain": [
       "Text(0.5, 1.0, 'Ethnicity Bins')"
      ]
     },
     "execution_count": 22,
     "metadata": {},
     "output_type": "execute_result"
    },
    {
     "data": {
      "image/png": "[encoded data removed]",
      "text/plain": [
       "<Figure size 576x432 with 1 Axes>"
      ]
     },
     "metadata": {
      "needs_background": "light"
     },
     "output_type": "display_data"
    }
   ],
   "source": [
    "# ethnicity bins\n",
    "def assign_ethnicity_bins(Ethnicity):\n",
    "    if Ethnicity=='White' or Ethnicity=='White,Including Spain/Portugal':\n",
    "        return(1)\n",
    "    else:\n",
    "        return(2)\n",
    "\n",
    "# Applying ethnicity bins function to the DataFrame\n",
    "df['Ethnicity_Bins'] = df['Ethnicity'].apply(assign_ethnicity_bins)\n",
    "\n",
    "# verifying Ethnicity Bins\n",
    "fig = plt.figure(figsize=(8,6))\n",
    "ax = sns.countplot(x=\"Ethnicity_Bins\", data=df, palette='Set1')\n",
    "plt.title('Ethnicity Bins')"
   ]
  },
  {
   "cell_type": "code",
   "execution_count": 23,
   "metadata": {},
   "outputs": [
    {
     "data": {
      "text/plain": [
       "Text(0.5, 1.0, 'First Generation Bins')"
      ]
     },
     "execution_count": 23,
     "metadata": {},
     "output_type": "execute_result"
    },
    {
     "data": {
      "image/png": "[encoded data removed]",
      "text/plain": [
       "<Figure size 576x432 with 1 Axes>"
      ]
     },
     "metadata": {
      "needs_background": "light"
     },
     "output_type": "display_data"
    }
   ],
   "source": [
    "# First Generation bins\n",
    "def assign_generation_bins(First_GEN):\n",
    "    if First_GEN=='Y' or First_GEN=='34':\n",
    "        return(1)\n",
    "    else:\n",
    "        return(2)\n",
    "\n",
    "# Applying first generation bins function to the DataFrame\n",
    "df['First_GEN_Bins'] = df['First_GEN'].apply(assign_generation_bins)\n",
    "\n",
    "# verifying First Generation Bins\n",
    "fig = plt.figure(figsize=(8,6))\n",
    "ax = sns.countplot(x=\"First_GEN_Bins\", data=df, palette='Set1')\n",
    "plt.title('First Generation Bins')"
   ]
  },
  {
   "cell_type": "code",
   "execution_count": 24,
   "metadata": {},
   "outputs": [
    {
     "data": {
      "text/plain": [
       "Text(0.5, 1.0, 'Citizen Bins')"
      ]
     },
     "execution_count": 24,
     "metadata": {},
     "output_type": "execute_result"
    },
    {
     "data": {
      "image/png": "[encoded data removed]",
      "text/plain": [
       "<Figure size 576x432 with 1 Axes>"
      ]
     },
     "metadata": {
      "needs_background": "light"
     },
     "output_type": "display_data"
    }
   ],
   "source": [
    "# Citizen Bins\n",
    "def assign_citizen_bins(Citizen):\n",
    "    if Citizen=='Citizen' or Citizen=='US':\n",
    "        return(1)\n",
    "    else:\n",
    "        return(2)\n",
    "\n",
    "# Applying citizen bins function to the DataFrame\n",
    "df['Citizen_Bins'] = df['Citizen'].apply(assign_citizen_bins)\n",
    "\n",
    "# verifying Citizen Bins\n",
    "fig = plt.figure(figsize=(8,6))\n",
    "ax = sns.countplot(x=\"Citizen_Bins\", data=df, palette='Set1')\n",
    "plt.title('Citizen Bins')"
   ]
  },
  {
   "cell_type": "code",
   "execution_count": 25,
   "metadata": {},
   "outputs": [
    {
     "data": {
      "text/plain": [
       "Text(0.5, 1.0, 'Degree Type Bins')"
      ]
     },
     "execution_count": 25,
     "metadata": {},
     "output_type": "execute_result"
    },
    {
     "data": {
      "image/png": "[encoded data removed]",
      "text/plain": [
       "<Figure size 576x432 with 1 Axes>"
      ]
     },
     "metadata": {
      "needs_background": "light"
     },
     "output_type": "display_data"
    }
   ],
   "source": [
    "# Degree Type Bins\n",
    "def assign_degree_type_bins(DEGREE_TYPE):\n",
    "    if DEGREE_TYPE == 'BA':\n",
    "        return(1)\n",
    "    if DEGREE_TYPE == 'BS' or DEGREE_TYPE == 'BSE':\n",
    "        return(2)\n",
    "    else:\n",
    "        return(3)\n",
    "\n",
    "# Applying citizen bins function to the DataFrame\n",
    "df['Degree_Type_Bins'] = df['DEGREE_TYPE'].apply(assign_degree_type_bins)\n",
    "\n",
    "# verifying Degree Type Bins\n",
    "fig = plt.figure(figsize=(8,6))\n",
    "ax = sns.countplot(x=\"Degree_Type_Bins\", data=df, palette='Set1')\n",
    "plt.title('Degree Type Bins')"
   ]
  },
  {
   "cell_type": "code",
   "execution_count": 26,
   "metadata": {},
   "outputs": [
    {
     "data": {
      "text/plain": [
       "Text(0.5, 1.0, 'Resident Bins')"
      ]
     },
     "execution_count": 26,
     "metadata": {},
     "output_type": "execute_result"
    },
    {
     "data": {
      "image/png": "[encoded data removed]",
      "text/plain": [
       "<Figure size 576x432 with 1 Axes>"
      ]
     },
     "metadata": {
      "needs_background": "light"
     },
     "output_type": "display_data"
    }
   ],
   "source": [
    "# Resident Bins\n",
    "def assign_resident_bins(RES):\n",
    "    if RES == 'R':\n",
    "        return(1)\n",
    "    if RES == 'C' or RES == np.nan:\n",
    "        return(2)\n",
    "    else:\n",
    "        return(3)\n",
    "    \n",
    "# Applying resident bins function to the DataFrame\n",
    "df['Resident_Bins'] = df['RES'].apply(assign_resident_bins)\n",
    "\n",
    "# verifying Resident Bins\n",
    "fig = plt.figure(figsize=(8,6))\n",
    "ax = sns.countplot(x=\"Resident_Bins\", data=df, palette='Set1')\n",
    "plt.title('Resident Bins')"
   ]
  },
  {
   "cell_type": "code",
   "execution_count": 27,
   "metadata": {},
   "outputs": [
    {
     "data": {
      "text/plain": [
       "Text(0.5, 1.0, 'Test Optional Bins')"
      ]
     },
     "execution_count": 27,
     "metadata": {},
     "output_type": "execute_result"
    },
    {
     "data": {
      "image/png": "[encoded data removed]",
      "text/plain": [
       "<Figure size 576x432 with 1 Axes>"
      ]
     },
     "metadata": {
      "needs_background": "light"
     },
     "output_type": "display_data"
    }
   ],
   "source": [
    "# Test Optional Bins\n",
    "df = df.rename(mapper={'Test Optional':'Test_Optional'}, axis=1)\n",
    "\n",
    "def assign_test_bins(Test_Optional):\n",
    "    if Test_Optional == 'N':\n",
    "        return(1)\n",
    "    if Test_Optional == 'Y' or Test_Optional == 'TOP':\n",
    "        return(2)\n",
    "    else:\n",
    "        return(3)\n",
    "    \n",
    "# Applying test bins function to the DataFrame\n",
    "df['Test_Optional_Bins'] = df['Test_Optional'].apply(assign_test_bins)\n",
    "\n",
    "# verifying Test Optional Bins\n",
    "fig = plt.figure(figsize=(8,6))\n",
    "ax = sns.countplot(x=\"Test_Optional_Bins\", data=df, palette='Set1')\n",
    "plt.title('Test Optional Bins')"
   ]
  },
  {
   "cell_type": "code",
   "execution_count": 28,
   "metadata": {},
   "outputs": [
    {
     "data": {
      "text/plain": [
       "Text(0.5, 1.0, 'Students of Color Indicator Bins')"
      ]
     },
     "execution_count": 28,
     "metadata": {},
     "output_type": "execute_result"
    },
    {
     "data": {
      "image/png": "[encoded data removed]",
      "text/plain": [
       "<Figure size 576x432 with 1 Axes>"
      ]
     },
     "metadata": {
      "needs_background": "light"
     },
     "output_type": "display_data"
    }
   ],
   "source": [
    "# Students of Color Indicator Bins\n",
    "df = df.rename(mapper={'Students of Color Indicator':'Students_of_Color_Indicator'}, axis=1)\n",
    "\n",
    "def assign_sci_bins(Students_of_Color_Indicator):\n",
    "    if Students_of_Color_Indicator == 'Students of Color':\n",
    "        return(1)\n",
    "    else:\n",
    "        return(2)\n",
    "    \n",
    "# Applying test bins function to the DataFrame\n",
    "df['SCI_Bins'] = df['Students_of_Color_Indicator'].apply(assign_sci_bins)\n",
    "\n",
    "# verifying Test Optional Bins\n",
    "fig = plt.figure(figsize=(8,6))\n",
    "ax = sns.countplot(x=\"SCI_Bins\", data=df, palette='Set1')\n",
    "plt.title('Students of Color Indicator Bins')"
   ]
  },
  {
   "cell_type": "code",
   "execution_count": 29,
   "metadata": {},
   "outputs": [],
   "source": [
    "# drop original features that were binned\n",
    "df = df.drop(['College','First_GEN','P_M', 'Merit', 'Citizen', 'Sex','Ethnicity',\n",
    "       'Test_Optional', 'Legacy','JESUIT', 'RELIGION','DEGREE_TYPE','RES','Students_of_Color_Indicator'], axis=1)"
   ]
  },
  {
   "cell_type": "code",
   "execution_count": 30,
   "metadata": {},
   "outputs": [
    {
     "name": "stdout",
     "output_type": "stream",
     "text": [
      "['HSCity'] [HSCity                 5089\n",
      "HST                    6379\n",
      "Major                  4927\n",
      "Rating                    0\n",
      "ACCP                  24800\n",
      "CONF                  54131\n",
      "Active City           14912\n",
      "Active Region          5761\n",
      "Active Postal         15237\n",
      "Active Country        14912\n",
      "ACT                       0\n",
      "SAT Math USE              0\n",
      "SAT Reading USE           0\n",
      "SAT Total USE             0\n",
      "RGPA                      0\n",
      "High School GPA           0\n",
      "IR Score                  0\n",
      "Class Rank                0\n",
      "Class Size                0\n",
      "Class Percentile          0\n",
      "College_Bins              0\n",
      "Legacy_Bins               0\n",
      "PM_Bins                   0\n",
      "Merit_Bins                0\n",
      "Jesuit_Bins               0\n",
      "Religion_Bins             0\n",
      "Ethnicity_Bins            0\n",
      "First_GEN_Bins            0\n",
      "Citizen_Bins              0\n",
      "Degree_Type_Bins          0\n",
      "Resident_Bins             0\n",
      "Test_Optional_Bins        0\n",
      "SCI_Bins                  0\n",
      "dtype: int64]\n"
     ]
    }
   ],
   "source": [
    "# count how many missing values each feature in the main dataframe has \n",
    "names = []\n",
    "val = []\n",
    "\n",
    "for col in df.columns:\n",
    "    names.append(col)\n",
    "    val.append(df[df.columns].isnull().sum())\n",
    "    break\n",
    "# print out results as (column_name, # of null values in column_name)\n",
    "print(names, val)"
   ]
  },
  {
   "cell_type": "markdown",
   "metadata": {},
   "source": [
    "## Handling Location Features \n",
    "- Now I can remove rows from the data and not get messed up"
   ]
  },
  {
   "cell_type": "code",
   "execution_count": 31,
   "metadata": {},
   "outputs": [
    {
     "name": "stdout",
     "output_type": "stream",
     "text": [
      "['HSCity'] [HSCity                 5089\n",
      "HST                    6379\n",
      "Major                  4927\n",
      "Rating                    0\n",
      "ACCP                  24800\n",
      "CONF                  54131\n",
      "Active City           14912\n",
      "Active Region          5761\n",
      "Active Postal         15237\n",
      "Active Country        14912\n",
      "ACT                       0\n",
      "SAT Math USE              0\n",
      "SAT Reading USE           0\n",
      "SAT Total USE             0\n",
      "RGPA                      0\n",
      "High School GPA           0\n",
      "IR Score                  0\n",
      "Class Rank                0\n",
      "Class Size                0\n",
      "Class Percentile          0\n",
      "College_Bins              0\n",
      "Legacy_Bins               0\n",
      "PM_Bins                   0\n",
      "Merit_Bins                0\n",
      "Jesuit_Bins               0\n",
      "Religion_Bins             0\n",
      "Ethnicity_Bins            0\n",
      "First_GEN_Bins            0\n",
      "Citizen_Bins              0\n",
      "Degree_Type_Bins          0\n",
      "Resident_Bins             0\n",
      "Test_Optional_Bins        0\n",
      "SCI_Bins                  0\n",
      "dtype: int64]\n"
     ]
    }
   ],
   "source": [
    "# count how many missing values each feature in the main dataframe has \n",
    "names = []\n",
    "val = []\n",
    "\n",
    "for col in df.columns:\n",
    "    names.append(col)\n",
    "    val.append(df[df.columns].isnull().sum())\n",
    "    break\n",
    "# print out results as (column_name, # of null values in column_name)\n",
    "print(names, val)"
   ]
  },
  {
   "cell_type": "code",
   "execution_count": 32,
   "metadata": {},
   "outputs": [
    {
     "data": {
      "text/plain": [
       "(53464, 33)"
      ]
     },
     "execution_count": 32,
     "metadata": {},
     "output_type": "execute_result"
    }
   ],
   "source": [
    "# drop rows where HSCity & Active Region have missing values\n",
    "# these are low impact features because not many were missing so it is ok to remove the rows \n",
    "df = df.dropna(axis=0, how='any', subset=['HSCity','Active Region'])\n",
    "df.shape"
   ]
  },
  {
   "cell_type": "code",
   "execution_count": 33,
   "metadata": {},
   "outputs": [
    {
     "name": "stdout",
     "output_type": "stream",
     "text": [
      "['HSCity'] [HSCity                    0\n",
      "HST                     678\n",
      "Major                     0\n",
      "Rating                    0\n",
      "ACCP                  19274\n",
      "CONF                  48342\n",
      "Active City            9689\n",
      "Active Region             0\n",
      "Active Postal          9763\n",
      "Active Country         9689\n",
      "ACT                       0\n",
      "SAT Math USE              0\n",
      "SAT Reading USE           0\n",
      "SAT Total USE             0\n",
      "RGPA                      0\n",
      "High School GPA           0\n",
      "IR Score                  0\n",
      "Class Rank                0\n",
      "Class Size                0\n",
      "Class Percentile          0\n",
      "College_Bins              0\n",
      "Legacy_Bins               0\n",
      "PM_Bins                   0\n",
      "Merit_Bins                0\n",
      "Jesuit_Bins               0\n",
      "Religion_Bins             0\n",
      "Ethnicity_Bins            0\n",
      "First_GEN_Bins            0\n",
      "Citizen_Bins              0\n",
      "Degree_Type_Bins          0\n",
      "Resident_Bins             0\n",
      "Test_Optional_Bins        0\n",
      "SCI_Bins                  0\n",
      "dtype: int64]\n"
     ]
    }
   ],
   "source": [
    "# count how many missing values each feature in the main dataframe has \n",
    "names = []\n",
    "val = []\n",
    "\n",
    "for col in df.columns:\n",
    "    names.append(col)\n",
    "    val.append(df[df.columns].isnull().sum())\n",
    "    break\n",
    "# print out results as (column_name, # of null values in column_name)\n",
    "print(names, val)"
   ]
  },
  {
   "cell_type": "code",
   "execution_count": 34,
   "metadata": {},
   "outputs": [
    {
     "data": {
      "text/plain": [
       "(52786, 33)"
      ]
     },
     "execution_count": 34,
     "metadata": {},
     "output_type": "execute_result"
    }
   ],
   "source": [
    "# now HST is a low impact feature\n",
    "# I can remove the rows that are missing this value as well\n",
    "df = df.dropna(axis=0, how='any', subset=['HST'])\n",
    "df.shape"
   ]
  },
  {
   "cell_type": "code",
   "execution_count": 35,
   "metadata": {},
   "outputs": [
    {
     "name": "stdout",
     "output_type": "stream",
     "text": [
      "['HSCity'] [HSCity                    0\n",
      "HST                       0\n",
      "Major                     0\n",
      "Rating                    0\n",
      "ACCP                  18830\n",
      "CONF                  47706\n",
      "Active City            9670\n",
      "Active Region             0\n",
      "Active Postal          9681\n",
      "Active Country         9670\n",
      "ACT                       0\n",
      "SAT Math USE              0\n",
      "SAT Reading USE           0\n",
      "SAT Total USE             0\n",
      "RGPA                      0\n",
      "High School GPA           0\n",
      "IR Score                  0\n",
      "Class Rank                0\n",
      "Class Size                0\n",
      "Class Percentile          0\n",
      "College_Bins              0\n",
      "Legacy_Bins               0\n",
      "PM_Bins                   0\n",
      "Merit_Bins                0\n",
      "Jesuit_Bins               0\n",
      "Religion_Bins             0\n",
      "Ethnicity_Bins            0\n",
      "First_GEN_Bins            0\n",
      "Citizen_Bins              0\n",
      "Degree_Type_Bins          0\n",
      "Resident_Bins             0\n",
      "Test_Optional_Bins        0\n",
      "SCI_Bins                  0\n",
      "dtype: int64]\n"
     ]
    }
   ],
   "source": [
    "# count how many missing values each feature in the main dataframe has \n",
    "names = []\n",
    "val = []\n",
    "\n",
    "for col in df.columns:\n",
    "    names.append(col)\n",
    "    val.append(df[df.columns].isnull().sum())\n",
    "    break\n",
    "# print out results as (column_name, # of null values in column_name)\n",
    "print(names, val)"
   ]
  },
  {
   "cell_type": "code",
   "execution_count": 36,
   "metadata": {},
   "outputs": [
    {
     "data": {
      "text/plain": [
       "Index(['HSCity', 'HST', 'Major', 'Rating', 'ACCP', 'CONF', 'Active_City',\n",
       "       'Active_Region', 'Active_Postal', 'Active_Country', 'ACT',\n",
       "       'SAT Math USE', 'SAT Reading USE', 'SAT Total USE', 'RGPA',\n",
       "       'High School GPA', 'IR Score', 'Class Rank', 'Class Size',\n",
       "       'Class Percentile', 'College_Bins', 'Legacy_Bins', 'PM_Bins',\n",
       "       'Merit_Bins', 'Jesuit_Bins', 'Religion_Bins', 'Ethnicity_Bins',\n",
       "       'First_GEN_Bins', 'Citizen_Bins', 'Degree_Type_Bins', 'Resident_Bins',\n",
       "       'Test_Optional_Bins', 'SCI_Bins'],\n",
       "      dtype='object')"
      ]
     },
     "execution_count": 36,
     "metadata": {},
     "output_type": "execute_result"
    }
   ],
   "source": [
    "# quick renaming of the columns for other preprocessing steps \n",
    "# the space will mess up some things \n",
    "df = df.rename(mapper={'Active Country':'Active_Country','Active Postal':'Active_Postal','Active City':'Active_City',\n",
    "                      'Active Region':'Active_Region'},axis=1)\n",
    "df.columns"
   ]
  },
  {
   "cell_type": "code",
   "execution_count": 37,
   "metadata": {},
   "outputs": [
    {
     "data": {
      "text/plain": [
       "Text(0.5, 1.0, 'Country Bins')"
      ]
     },
     "execution_count": 37,
     "metadata": {},
     "output_type": "execute_result"
    },
    {
     "data": {
      "image/png": "[encoded data removed]",
      "text/plain": [
       "<Figure size 576x432 with 1 Axes>"
      ]
     },
     "metadata": {
      "needs_background": "light"
     },
     "output_type": "display_data"
    }
   ],
   "source": [
    "# Active Country Bins\n",
    "def assign_country_bins(Active_Country):\n",
    "    if Active_Country == 'United States':\n",
    "        return(1)\n",
    "    else:\n",
    "        return(2)\n",
    "    \n",
    "# Applying country bins function to the DataFrame\n",
    "df['Country_Bins'] = df['Active_Country'].apply(assign_country_bins)\n",
    "\n",
    "# verifying Country Bins\n",
    "fig = plt.figure(figsize=(8,6))\n",
    "ax = sns.countplot(x=\"Country_Bins\", data=df, palette='Set1')\n",
    "plt.title('Country Bins')"
   ]
  },
  {
   "cell_type": "code",
   "execution_count": 38,
   "metadata": {},
   "outputs": [
    {
     "data": {
      "text/plain": [
       "Text(0.5, 1.0, 'Region (State) Bins')"
      ]
     },
     "execution_count": 38,
     "metadata": {},
     "output_type": "execute_result"
    },
    {
     "data": {
      "image/png": "[encoded data removed]",
      "text/plain": [
       "<Figure size 576x432 with 1 Axes>"
      ]
     },
     "metadata": {
      "needs_background": "light"
     },
     "output_type": "display_data"
    }
   ],
   "source": [
    "# Active Region (State) Bins\n",
    "def assign_region_bins(Active_Region):\n",
    "    if Active_Region == 'CT':\n",
    "        return(1)\n",
    "    if Active_Region == 'NY':\n",
    "        return(2)\n",
    "    if Active_Region == 'NJ':\n",
    "        return(3)\n",
    "    if Active_Region == 'MA':\n",
    "        return(4)\n",
    "    else:\n",
    "        return(5)\n",
    "    \n",
    "# Applying region bins function to the DataFrame\n",
    "df['Region_Bins'] = df['Active_Region'].apply(assign_region_bins)\n",
    "\n",
    "# verifying Country Bins\n",
    "fig = plt.figure(figsize=(8,6))\n",
    "ax = sns.countplot(x=\"Region_Bins\", data=df, palette='Set1')\n",
    "plt.title('Region (State) Bins')"
   ]
  },
  {
   "cell_type": "code",
   "execution_count": 39,
   "metadata": {},
   "outputs": [
    {
     "data": {
      "text/plain": [
       "Text(0.5, 1.0, 'High School State Bins')"
      ]
     },
     "execution_count": 39,
     "metadata": {},
     "output_type": "execute_result"
    },
    {
     "data": {
      "image/png": "[encoded data removed]",
      "text/plain": [
       "<Figure size 576x432 with 1 Axes>"
      ]
     },
     "metadata": {
      "needs_background": "light"
     },
     "output_type": "display_data"
    }
   ],
   "source": [
    "# Active Region (State) Bins\n",
    "def assign_hst_bins(HST):\n",
    "    if HST == 'CT':\n",
    "        return(1)\n",
    "    if HST == 'NY':\n",
    "        return(2)\n",
    "    if HST == 'NJ':\n",
    "        return(3)\n",
    "    if HST == 'MA':\n",
    "        return(4)\n",
    "    else:\n",
    "        return(5)\n",
    "    \n",
    "# Applying region bins function to the DataFrame\n",
    "df['HST_Bins'] = df['HST'].apply(assign_hst_bins)\n",
    "\n",
    "# verifying Country Bins\n",
    "fig = plt.figure(figsize=(8,6))\n",
    "ax = sns.countplot(x=\"HST_Bins\", data=df, palette='Set1')\n",
    "plt.title('High School State Bins')"
   ]
  },
  {
   "cell_type": "code",
   "execution_count": 40,
   "metadata": {},
   "outputs": [
    {
     "name": "stdout",
     "output_type": "stream",
     "text": [
      "['HSCity'] [HSCity                    0\n",
      "Major                     0\n",
      "Rating                    0\n",
      "ACCP                  18830\n",
      "CONF                  47706\n",
      "Active_City            9670\n",
      "Active_Postal          9681\n",
      "ACT                       0\n",
      "SAT Math USE              0\n",
      "SAT Reading USE           0\n",
      "SAT Total USE             0\n",
      "RGPA                      0\n",
      "High School GPA           0\n",
      "IR Score                  0\n",
      "Class Rank                0\n",
      "Class Size                0\n",
      "Class Percentile          0\n",
      "College_Bins              0\n",
      "Legacy_Bins               0\n",
      "PM_Bins                   0\n",
      "Merit_Bins                0\n",
      "Jesuit_Bins               0\n",
      "Religion_Bins             0\n",
      "Ethnicity_Bins            0\n",
      "First_GEN_Bins            0\n",
      "Citizen_Bins              0\n",
      "Degree_Type_Bins          0\n",
      "Resident_Bins             0\n",
      "Test_Optional_Bins        0\n",
      "SCI_Bins                  0\n",
      "Country_Bins              0\n",
      "Region_Bins               0\n",
      "HST_Bins                  0\n",
      "dtype: int64]\n"
     ]
    }
   ],
   "source": [
    "# drop the orginal location features that were binned\n",
    "df = df.drop(['HST','Active_Country','Active_Region'],axis=1)\n",
    "\n",
    "# count how many missing values each feature in the main dataframe has \n",
    "names = []\n",
    "val = []\n",
    "\n",
    "for col in df.columns:\n",
    "    names.append(col)\n",
    "    val.append(df[df.columns].isnull().sum())\n",
    "    break\n",
    "# print out results as (column_name, # of null values in column_name)\n",
    "print(names, val)"
   ]
  },
  {
   "cell_type": "code",
   "execution_count": 41,
   "metadata": {},
   "outputs": [
    {
     "name": "stdout",
     "output_type": "stream",
     "text": [
      "<class 'pandas.core.frame.DataFrame'>\n",
      "Int64Index: 52786 entries, 0 to 54377\n",
      "Data columns (total 30 columns):\n",
      "Major                 52786 non-null object\n",
      "Rating                52786 non-null float64\n",
      "ACCP                  33956 non-null object\n",
      "CONF                  5080 non-null object\n",
      "ACT                   52786 non-null float64\n",
      "SAT Math USE          52786 non-null float64\n",
      "SAT Reading USE       52786 non-null float64\n",
      "SAT Total USE         52786 non-null float64\n",
      "RGPA                  52786 non-null float64\n",
      "High School GPA       52786 non-null float64\n",
      "IR Score              52786 non-null float64\n",
      "Class Rank            52786 non-null float64\n",
      "Class Size            52786 non-null float64\n",
      "Class Percentile      52786 non-null float64\n",
      "College_Bins          52786 non-null int64\n",
      "Legacy_Bins           52786 non-null int64\n",
      "PM_Bins               52786 non-null int64\n",
      "Merit_Bins            52786 non-null int64\n",
      "Jesuit_Bins           52786 non-null int64\n",
      "Religion_Bins         52786 non-null int64\n",
      "Ethnicity_Bins        52786 non-null int64\n",
      "First_GEN_Bins        52786 non-null int64\n",
      "Citizen_Bins          52786 non-null int64\n",
      "Degree_Type_Bins      52786 non-null int64\n",
      "Resident_Bins         52786 non-null int64\n",
      "Test_Optional_Bins    52786 non-null int64\n",
      "SCI_Bins              52786 non-null int64\n",
      "Country_Bins          52786 non-null int64\n",
      "Region_Bins           52786 non-null int64\n",
      "HST_Bins              52786 non-null int64\n",
      "dtypes: float64(11), int64(16), object(3)\n",
      "memory usage: 15.0+ MB\n"
     ]
    }
   ],
   "source": [
    "# drop Active Postal, Active City and HS City \n",
    "# I don't need these because I have HST, Active Region (State) and Active Country \n",
    "df = df.drop(['Active_Postal','Active_City','HSCity'], axis=1)\n",
    "df.info()"
   ]
  },
  {
   "cell_type": "code",
   "execution_count": 42,
   "metadata": {},
   "outputs": [
    {
     "data": {
      "text/plain": [
       "(52786, 30)"
      ]
     },
     "execution_count": 42,
     "metadata": {},
     "output_type": "execute_result"
    }
   ],
   "source": [
    "df.shape"
   ]
  },
  {
   "cell_type": "markdown",
   "metadata": {},
   "source": [
    "## Cleaning the Targets"
   ]
  },
  {
   "cell_type": "code",
   "execution_count": 43,
   "metadata": {},
   "outputs": [
    {
     "data": {
      "text/html": [
       "<div>\n",
       "<style scoped>\n",
       "    .dataframe tbody tr th:only-of-type {\n",
       "        vertical-align: middle;\n",
       "    }\n",
       "\n",
       "    .dataframe tbody tr th {\n",
       "        vertical-align: top;\n",
       "    }\n",
       "\n",
       "    .dataframe thead th {\n",
       "        text-align: right;\n",
       "    }\n",
       "</style>\n",
       "<table border=\"1\" class=\"dataframe\">\n",
       "  <thead>\n",
       "    <tr style=\"text-align: right;\">\n",
       "      <th></th>\n",
       "      <th>ACCP</th>\n",
       "      <th>CONF</th>\n",
       "    </tr>\n",
       "  </thead>\n",
       "  <tbody>\n",
       "    <tr>\n",
       "      <th>0</th>\n",
       "      <td>NaN</td>\n",
       "      <td>NaN</td>\n",
       "    </tr>\n",
       "    <tr>\n",
       "      <th>1</th>\n",
       "      <td>NaN</td>\n",
       "      <td>NaN</td>\n",
       "    </tr>\n",
       "    <tr>\n",
       "      <th>2</th>\n",
       "      <td>NaN</td>\n",
       "      <td>NaN</td>\n",
       "    </tr>\n",
       "    <tr>\n",
       "      <th>3</th>\n",
       "      <td>NaN</td>\n",
       "      <td>NaN</td>\n",
       "    </tr>\n",
       "    <tr>\n",
       "      <th>4</th>\n",
       "      <td>NaN</td>\n",
       "      <td>NaN</td>\n",
       "    </tr>\n",
       "  </tbody>\n",
       "</table>\n",
       "</div>"
      ],
      "text/plain": [
       "  ACCP CONF\n",
       "0  NaN  NaN\n",
       "1  NaN  NaN\n",
       "2  NaN  NaN\n",
       "3  NaN  NaN\n",
       "4  NaN  NaN"
      ]
     },
     "execution_count": 43,
     "metadata": {},
     "output_type": "execute_result"
    }
   ],
   "source": [
    "# filter out the targets \n",
    "df_target = df.filter(['ACCP','CONF'],axis=1)\n",
    "df_target.head()"
   ]
  },
  {
   "cell_type": "code",
   "execution_count": 44,
   "metadata": {},
   "outputs": [],
   "source": [
    "# a for loop that replaces any NaN value with a 2\n",
    "# the NaN values represent the students that did not get accepted or did not enroll \n",
    "for value in df_target.columns:\n",
    "    df_target.fillna(0, inplace=True)\n",
    "\n",
    "    \n",
    "# replace the Y's in the targets to 1 to make it easier to model \n",
    "df_target.replace(to_replace='Y', value=1, inplace=True)  "
   ]
  },
  {
   "cell_type": "code",
   "execution_count": 45,
   "metadata": {},
   "outputs": [],
   "source": [
    "# overwrite the orginal target values with the new ones \n",
    "df['ACCP'] = df_target['ACCP']\n",
    "df['CONF'] = df_target['CONF']"
   ]
  },
  {
   "cell_type": "code",
   "execution_count": 46,
   "metadata": {},
   "outputs": [
    {
     "name": "stdout",
     "output_type": "stream",
     "text": [
      "<class 'pandas.core.frame.DataFrame'>\n",
      "Int64Index: 52786 entries, 0 to 54377\n",
      "Data columns (total 30 columns):\n",
      "Major                 52786 non-null object\n",
      "Rating                52786 non-null float64\n",
      "ACCP                  52786 non-null int64\n",
      "CONF                  52786 non-null int64\n",
      "ACT                   52786 non-null float64\n",
      "SAT Math USE          52786 non-null float64\n",
      "SAT Reading USE       52786 non-null float64\n",
      "SAT Total USE         52786 non-null float64\n",
      "RGPA                  52786 non-null float64\n",
      "High School GPA       52786 non-null float64\n",
      "IR Score              52786 non-null float64\n",
      "Class Rank            52786 non-null float64\n",
      "Class Size            52786 non-null float64\n",
      "Class Percentile      52786 non-null float64\n",
      "College_Bins          52786 non-null int64\n",
      "Legacy_Bins           52786 non-null int64\n",
      "PM_Bins               52786 non-null int64\n",
      "Merit_Bins            52786 non-null int64\n",
      "Jesuit_Bins           52786 non-null int64\n",
      "Religion_Bins         52786 non-null int64\n",
      "Ethnicity_Bins        52786 non-null int64\n",
      "First_GEN_Bins        52786 non-null int64\n",
      "Citizen_Bins          52786 non-null int64\n",
      "Degree_Type_Bins      52786 non-null int64\n",
      "Resident_Bins         52786 non-null int64\n",
      "Test_Optional_Bins    52786 non-null int64\n",
      "SCI_Bins              52786 non-null int64\n",
      "Country_Bins          52786 non-null int64\n",
      "Region_Bins           52786 non-null int64\n",
      "HST_Bins              52786 non-null int64\n",
      "dtypes: float64(11), int64(18), object(1)\n",
      "memory usage: 15.0+ MB\n"
     ]
    }
   ],
   "source": [
    "# check that all columns are not missing any values \n",
    "df.info()"
   ]
  },
  {
   "cell_type": "markdown",
   "metadata": {},
   "source": [
    "## Handle the *Major* Feature "
   ]
  },
  {
   "cell_type": "code",
   "execution_count": 47,
   "metadata": {},
   "outputs": [
    {
     "data": {
      "text/html": [
       "<div>\n",
       "<style scoped>\n",
       "    .dataframe tbody tr th:only-of-type {\n",
       "        vertical-align: middle;\n",
       "    }\n",
       "\n",
       "    .dataframe tbody tr th {\n",
       "        vertical-align: top;\n",
       "    }\n",
       "\n",
       "    .dataframe thead th {\n",
       "        text-align: right;\n",
       "    }\n",
       "</style>\n",
       "<table border=\"1\" class=\"dataframe\">\n",
       "  <thead>\n",
       "    <tr style=\"text-align: right;\">\n",
       "      <th></th>\n",
       "      <th>Rating</th>\n",
       "      <th>ACCP</th>\n",
       "      <th>CONF</th>\n",
       "      <th>ACT</th>\n",
       "      <th>SAT Math USE</th>\n",
       "      <th>SAT Reading USE</th>\n",
       "      <th>SAT Total USE</th>\n",
       "      <th>RGPA</th>\n",
       "      <th>High School GPA</th>\n",
       "      <th>IR Score</th>\n",
       "      <th>...</th>\n",
       "      <th>Major_Religious Studies</th>\n",
       "      <th>Major_Sociology</th>\n",
       "      <th>Major_Sociology and Anthropology</th>\n",
       "      <th>Major_Software Engineering</th>\n",
       "      <th>Major_Spanish</th>\n",
       "      <th>Major_Studio Art</th>\n",
       "      <th>Major_Theatre</th>\n",
       "      <th>Major_Undeclared</th>\n",
       "      <th>Major_Undeclared Engineering</th>\n",
       "      <th>Major_Unknown</th>\n",
       "    </tr>\n",
       "  </thead>\n",
       "  <tbody>\n",
       "    <tr>\n",
       "      <th>0</th>\n",
       "      <td>9.0</td>\n",
       "      <td>0</td>\n",
       "      <td>0</td>\n",
       "      <td>-0.018210</td>\n",
       "      <td>-0.010433</td>\n",
       "      <td>-0.018399</td>\n",
       "      <td>-0.018279</td>\n",
       "      <td>-2.896385</td>\n",
       "      <td>-0.024231</td>\n",
       "      <td>-0.02066</td>\n",
       "      <td>...</td>\n",
       "      <td>0</td>\n",
       "      <td>0</td>\n",
       "      <td>0</td>\n",
       "      <td>0</td>\n",
       "      <td>0</td>\n",
       "      <td>0</td>\n",
       "      <td>0</td>\n",
       "      <td>0</td>\n",
       "      <td>0</td>\n",
       "      <td>0</td>\n",
       "    </tr>\n",
       "    <tr>\n",
       "      <th>1</th>\n",
       "      <td>9.0</td>\n",
       "      <td>0</td>\n",
       "      <td>0</td>\n",
       "      <td>-0.018210</td>\n",
       "      <td>-3.182200</td>\n",
       "      <td>-3.260786</td>\n",
       "      <td>-3.270119</td>\n",
       "      <td>-2.037297</td>\n",
       "      <td>-0.024231</td>\n",
       "      <td>-0.02066</td>\n",
       "      <td>...</td>\n",
       "      <td>0</td>\n",
       "      <td>0</td>\n",
       "      <td>0</td>\n",
       "      <td>0</td>\n",
       "      <td>0</td>\n",
       "      <td>0</td>\n",
       "      <td>0</td>\n",
       "      <td>0</td>\n",
       "      <td>0</td>\n",
       "      <td>0</td>\n",
       "    </tr>\n",
       "    <tr>\n",
       "      <th>2</th>\n",
       "      <td>9.0</td>\n",
       "      <td>0</td>\n",
       "      <td>0</td>\n",
       "      <td>-3.456857</td>\n",
       "      <td>-0.010433</td>\n",
       "      <td>-0.018399</td>\n",
       "      <td>-0.018279</td>\n",
       "      <td>-3.064933</td>\n",
       "      <td>-0.024231</td>\n",
       "      <td>-0.02066</td>\n",
       "      <td>...</td>\n",
       "      <td>0</td>\n",
       "      <td>0</td>\n",
       "      <td>0</td>\n",
       "      <td>0</td>\n",
       "      <td>0</td>\n",
       "      <td>0</td>\n",
       "      <td>0</td>\n",
       "      <td>0</td>\n",
       "      <td>0</td>\n",
       "      <td>0</td>\n",
       "    </tr>\n",
       "    <tr>\n",
       "      <th>3</th>\n",
       "      <td>9.0</td>\n",
       "      <td>0</td>\n",
       "      <td>0</td>\n",
       "      <td>-0.018210</td>\n",
       "      <td>-0.010433</td>\n",
       "      <td>-0.018399</td>\n",
       "      <td>-0.018279</td>\n",
       "      <td>-3.064933</td>\n",
       "      <td>-0.024231</td>\n",
       "      <td>-0.02066</td>\n",
       "      <td>...</td>\n",
       "      <td>0</td>\n",
       "      <td>0</td>\n",
       "      <td>0</td>\n",
       "      <td>0</td>\n",
       "      <td>0</td>\n",
       "      <td>0</td>\n",
       "      <td>0</td>\n",
       "      <td>1</td>\n",
       "      <td>0</td>\n",
       "      <td>0</td>\n",
       "    </tr>\n",
       "    <tr>\n",
       "      <th>4</th>\n",
       "      <td>4.0</td>\n",
       "      <td>0</td>\n",
       "      <td>0</td>\n",
       "      <td>-0.018210</td>\n",
       "      <td>-0.010433</td>\n",
       "      <td>-0.018399</td>\n",
       "      <td>-0.018279</td>\n",
       "      <td>-0.005295</td>\n",
       "      <td>-0.024231</td>\n",
       "      <td>-0.02066</td>\n",
       "      <td>...</td>\n",
       "      <td>0</td>\n",
       "      <td>0</td>\n",
       "      <td>0</td>\n",
       "      <td>0</td>\n",
       "      <td>0</td>\n",
       "      <td>0</td>\n",
       "      <td>0</td>\n",
       "      <td>0</td>\n",
       "      <td>0</td>\n",
       "      <td>0</td>\n",
       "    </tr>\n",
       "  </tbody>\n",
       "</table>\n",
       "<p>5 rows × 80 columns</p>\n",
       "</div>"
      ],
      "text/plain": [
       "   Rating  ACCP  CONF       ACT  SAT Math USE  SAT Reading USE  SAT Total USE  \\\n",
       "0     9.0     0     0 -0.018210     -0.010433        -0.018399      -0.018279   \n",
       "1     9.0     0     0 -0.018210     -3.182200        -3.260786      -3.270119   \n",
       "2     9.0     0     0 -3.456857     -0.010433        -0.018399      -0.018279   \n",
       "3     9.0     0     0 -0.018210     -0.010433        -0.018399      -0.018279   \n",
       "4     4.0     0     0 -0.018210     -0.010433        -0.018399      -0.018279   \n",
       "\n",
       "       RGPA  High School GPA  IR Score      ...        \\\n",
       "0 -2.896385        -0.024231  -0.02066      ...         \n",
       "1 -2.037297        -0.024231  -0.02066      ...         \n",
       "2 -3.064933        -0.024231  -0.02066      ...         \n",
       "3 -3.064933        -0.024231  -0.02066      ...         \n",
       "4 -0.005295        -0.024231  -0.02066      ...         \n",
       "\n",
       "   Major_Religious Studies  Major_Sociology  Major_Sociology and Anthropology  \\\n",
       "0                        0                0                                 0   \n",
       "1                        0                0                                 0   \n",
       "2                        0                0                                 0   \n",
       "3                        0                0                                 0   \n",
       "4                        0                0                                 0   \n",
       "\n",
       "   Major_Software Engineering  Major_Spanish  Major_Studio Art  Major_Theatre  \\\n",
       "0                           0              0                 0              0   \n",
       "1                           0              0                 0              0   \n",
       "2                           0              0                 0              0   \n",
       "3                           0              0                 0              0   \n",
       "4                           0              0                 0              0   \n",
       "\n",
       "   Major_Undeclared  Major_Undeclared Engineering  Major_Unknown  \n",
       "0                 0                             0              0  \n",
       "1                 0                             0              0  \n",
       "2                 0                             0              0  \n",
       "3                 1                             0              0  \n",
       "4                 0                             0              0  \n",
       "\n",
       "[5 rows x 80 columns]"
      ]
     },
     "execution_count": 47,
     "metadata": {},
     "output_type": "execute_result"
    }
   ],
   "source": [
    "# do get_dummies to change the Major Feature from an object dtype to a float dtype\n",
    "df = pd.get_dummies(df)\n",
    "df.head()"
   ]
  },
  {
   "cell_type": "code",
   "execution_count": 48,
   "metadata": {},
   "outputs": [
    {
     "name": "stdout",
     "output_type": "stream",
     "text": [
      "<class 'pandas.core.frame.DataFrame'>\n",
      "Int64Index: 52786 entries, 0 to 54377\n",
      "Data columns (total 80 columns):\n",
      "Rating                                   52786 non-null float64\n",
      "ACCP                                     52786 non-null int64\n",
      "CONF                                     52786 non-null int64\n",
      "ACT                                      52786 non-null float64\n",
      "SAT Math USE                             52786 non-null float64\n",
      "SAT Reading USE                          52786 non-null float64\n",
      "SAT Total USE                            52786 non-null float64\n",
      "RGPA                                     52786 non-null float64\n",
      "High School GPA                          52786 non-null float64\n",
      "IR Score                                 52786 non-null float64\n",
      "Class Rank                               52786 non-null float64\n",
      "Class Size                               52786 non-null float64\n",
      "Class Percentile                         52786 non-null float64\n",
      "College_Bins                             52786 non-null int64\n",
      "Legacy_Bins                              52786 non-null int64\n",
      "PM_Bins                                  52786 non-null int64\n",
      "Merit_Bins                               52786 non-null int64\n",
      "Jesuit_Bins                              52786 non-null int64\n",
      "Religion_Bins                            52786 non-null int64\n",
      "Ethnicity_Bins                           52786 non-null int64\n",
      "First_GEN_Bins                           52786 non-null int64\n",
      "Citizen_Bins                             52786 non-null int64\n",
      "Degree_Type_Bins                         52786 non-null int64\n",
      "Resident_Bins                            52786 non-null int64\n",
      "Test_Optional_Bins                       52786 non-null int64\n",
      "SCI_Bins                                 52786 non-null int64\n",
      "Country_Bins                             52786 non-null int64\n",
      "Region_Bins                              52786 non-null int64\n",
      "HST_Bins                                 52786 non-null int64\n",
      "Major_Accounting                         52786 non-null uint8\n",
      "Major_American Studies                   52786 non-null uint8\n",
      "Major_Art History                        52786 non-null uint8\n",
      "Major_Biochemistry                       52786 non-null uint8\n",
      "Major_Bioengineering                     52786 non-null uint8\n",
      "Major_Biology                            52786 non-null uint8\n",
      "Major_Business Undeclared                52786 non-null uint8\n",
      "Major_Chemistry                          52786 non-null uint8\n",
      "Major_Communications                     52786 non-null uint8\n",
      "Major_Computer Engineering               52786 non-null uint8\n",
      "Major_Computer Science                   52786 non-null uint8\n",
      "Major_Creative Writing                   52786 non-null uint8\n",
      "Major_Digital Journalism                 52786 non-null uint8\n",
      "Major_Economics                          52786 non-null uint8\n",
      "Major_Electrical Engineering             52786 non-null uint8\n",
      "Major_English Literature                 52786 non-null uint8\n",
      "Major_English Studies                    52786 non-null uint8\n",
      "Major_Environmental Studies              52786 non-null uint8\n",
      "Major_Film, Television and Media Arts    52786 non-null uint8\n",
      "Major_Finance                            52786 non-null uint8\n",
      "Major_French                             52786 non-null uint8\n",
      "Major_German                             52786 non-null uint8\n",
      "Major_History                            52786 non-null uint8\n",
      "Major_Information Systems                52786 non-null uint8\n",
      "Major_International Business             52786 non-null uint8\n",
      "Major_International Studies              52786 non-null uint8\n",
      "Major_Italian                            52786 non-null uint8\n",
      "Major_Journalism                         52786 non-null uint8\n",
      "Major_Management                         52786 non-null uint8\n",
      "Major_Marketing                          52786 non-null uint8\n",
      "Major_Mathematics                        52786 non-null uint8\n",
      "Major_Mechanical Engineering             52786 non-null uint8\n",
      "Major_Music                              52786 non-null uint8\n",
      "Major_Nursing                            52786 non-null uint8\n",
      "Major_Philosophy                         52786 non-null uint8\n",
      "Major_Physics                            52786 non-null uint8\n",
      "Major_Politics                           52786 non-null uint8\n",
      "Major_Professional Writing               52786 non-null uint8\n",
      "Major_Psychology                         52786 non-null uint8\n",
      "Major_Public Health                      52786 non-null uint8\n",
      "Major_Public Relations                   52786 non-null uint8\n",
      "Major_Religious Studies                  52786 non-null uint8\n",
      "Major_Sociology                          52786 non-null uint8\n",
      "Major_Sociology and Anthropology         52786 non-null uint8\n",
      "Major_Software Engineering               52786 non-null uint8\n",
      "Major_Spanish                            52786 non-null uint8\n",
      "Major_Studio Art                         52786 non-null uint8\n",
      "Major_Theatre                            52786 non-null uint8\n",
      "Major_Undeclared                         52786 non-null uint8\n",
      "Major_Undeclared Engineering             52786 non-null uint8\n",
      "Major_Unknown                            52786 non-null uint8\n",
      "dtypes: float64(11), int64(18), uint8(51)\n",
      "memory usage: 17.1 MB\n"
     ]
    }
   ],
   "source": [
    "# last check of missing values in the dataframe\n",
    "df.info()"
   ]
  },
  {
   "cell_type": "code",
   "execution_count": 49,
   "metadata": {},
   "outputs": [
    {
     "data": {
      "text/plain": [
       "Index(['Rating', 'ACCP', 'CONF', 'ACT', 'SAT Math USE', 'SAT Reading USE',\n",
       "       'SAT Total USE', 'RGPA', 'High School GPA', 'IR Score', 'Class Rank',\n",
       "       'Class Size', 'Class Percentile', 'College_Bins', 'Legacy_Bins',\n",
       "       'PM_Bins', 'Merit_Bins', 'Jesuit_Bins', 'Religion_Bins',\n",
       "       'Ethnicity_Bins', 'First_GEN_Bins', 'Citizen_Bins', 'Degree_Type_Bins',\n",
       "       'Resident_Bins', 'Test_Optional_Bins', 'SCI_Bins', 'Country_Bins',\n",
       "       'Region_Bins', 'HST_Bins', 'Major_Accounting', 'Major_American Studies',\n",
       "       'Major_Art History', 'Major_Biochemistry', 'Major_Bioengineering',\n",
       "       'Major_Biology', 'Major_Business Undeclared', 'Major_Chemistry',\n",
       "       'Major_Communications', 'Major_Computer Engineering',\n",
       "       'Major_Computer Science', 'Major_Creative Writing',\n",
       "       'Major_Digital Journalism', 'Major_Economics',\n",
       "       'Major_Electrical Engineering', 'Major_English Literature',\n",
       "       'Major_English Studies', 'Major_Environmental Studies',\n",
       "       'Major_Film, Television and Media Arts', 'Major_Finance',\n",
       "       'Major_French', 'Major_German', 'Major_History',\n",
       "       'Major_Information Systems', 'Major_International Business',\n",
       "       'Major_International Studies', 'Major_Italian', 'Major_Journalism',\n",
       "       'Major_Management', 'Major_Marketing', 'Major_Mathematics',\n",
       "       'Major_Mechanical Engineering', 'Major_Music', 'Major_Nursing',\n",
       "       'Major_Philosophy', 'Major_Physics', 'Major_Politics',\n",
       "       'Major_Professional Writing', 'Major_Psychology', 'Major_Public Health',\n",
       "       'Major_Public Relations', 'Major_Religious Studies', 'Major_Sociology',\n",
       "       'Major_Sociology and Anthropology', 'Major_Software Engineering',\n",
       "       'Major_Spanish', 'Major_Studio Art', 'Major_Theatre',\n",
       "       'Major_Undeclared', 'Major_Undeclared Engineering', 'Major_Unknown'],\n",
       "      dtype='object')"
      ]
     },
     "execution_count": 49,
     "metadata": {},
     "output_type": "execute_result"
    }
   ],
   "source": [
    "# I want to reorder to columns so that my targets are the last two columns \n",
    "# first print out a list of the column names \n",
    "df.columns"
   ]
  },
  {
   "cell_type": "code",
   "execution_count": 50,
   "metadata": {},
   "outputs": [
    {
     "data": {
      "text/html": [
       "<div>\n",
       "<style scoped>\n",
       "    .dataframe tbody tr th:only-of-type {\n",
       "        vertical-align: middle;\n",
       "    }\n",
       "\n",
       "    .dataframe tbody tr th {\n",
       "        vertical-align: top;\n",
       "    }\n",
       "\n",
       "    .dataframe thead th {\n",
       "        text-align: right;\n",
       "    }\n",
       "</style>\n",
       "<table border=\"1\" class=\"dataframe\">\n",
       "  <thead>\n",
       "    <tr style=\"text-align: right;\">\n",
       "      <th></th>\n",
       "      <th>ACT</th>\n",
       "      <th>SAT Math USE</th>\n",
       "      <th>SAT Reading USE</th>\n",
       "      <th>SAT Total USE</th>\n",
       "      <th>RGPA</th>\n",
       "      <th>High School GPA</th>\n",
       "      <th>IR Score</th>\n",
       "      <th>Class Rank</th>\n",
       "      <th>Class Size</th>\n",
       "      <th>Class Percentile</th>\n",
       "      <th>...</th>\n",
       "      <th>Major_Software Engineering</th>\n",
       "      <th>Major_Spanish</th>\n",
       "      <th>Major_Studio Art</th>\n",
       "      <th>Major_Theatre</th>\n",
       "      <th>Major_Undeclared</th>\n",
       "      <th>Major_Undeclared Engineering</th>\n",
       "      <th>Major_Unknown</th>\n",
       "      <th>Rating</th>\n",
       "      <th>ACCP</th>\n",
       "      <th>CONF</th>\n",
       "    </tr>\n",
       "  </thead>\n",
       "  <tbody>\n",
       "    <tr>\n",
       "      <th>0</th>\n",
       "      <td>-0.01821</td>\n",
       "      <td>-0.010433</td>\n",
       "      <td>-0.018399</td>\n",
       "      <td>-0.018279</td>\n",
       "      <td>-2.896385</td>\n",
       "      <td>-0.024231</td>\n",
       "      <td>-0.02066</td>\n",
       "      <td>4.079933</td>\n",
       "      <td>-1.414801</td>\n",
       "      <td>-3.011022</td>\n",
       "      <td>...</td>\n",
       "      <td>0</td>\n",
       "      <td>0</td>\n",
       "      <td>0</td>\n",
       "      <td>0</td>\n",
       "      <td>0</td>\n",
       "      <td>0</td>\n",
       "      <td>0</td>\n",
       "      <td>9.0</td>\n",
       "      <td>0</td>\n",
       "      <td>0</td>\n",
       "    </tr>\n",
       "    <tr>\n",
       "      <th>1</th>\n",
       "      <td>-0.01821</td>\n",
       "      <td>-3.182200</td>\n",
       "      <td>-3.260786</td>\n",
       "      <td>-3.270119</td>\n",
       "      <td>-2.037297</td>\n",
       "      <td>-0.024231</td>\n",
       "      <td>-0.02066</td>\n",
       "      <td>3.366161</td>\n",
       "      <td>-3.683655</td>\n",
       "      <td>-3.011022</td>\n",
       "      <td>...</td>\n",
       "      <td>0</td>\n",
       "      <td>0</td>\n",
       "      <td>0</td>\n",
       "      <td>0</td>\n",
       "      <td>0</td>\n",
       "      <td>0</td>\n",
       "      <td>0</td>\n",
       "      <td>9.0</td>\n",
       "      <td>0</td>\n",
       "      <td>0</td>\n",
       "    </tr>\n",
       "  </tbody>\n",
       "</table>\n",
       "<p>2 rows × 80 columns</p>\n",
       "</div>"
      ],
      "text/plain": [
       "       ACT  SAT Math USE  SAT Reading USE  SAT Total USE      RGPA  \\\n",
       "0 -0.01821     -0.010433        -0.018399      -0.018279 -2.896385   \n",
       "1 -0.01821     -3.182200        -3.260786      -3.270119 -2.037297   \n",
       "\n",
       "   High School GPA  IR Score  Class Rank  Class Size  Class Percentile  ...   \\\n",
       "0        -0.024231  -0.02066    4.079933   -1.414801         -3.011022  ...    \n",
       "1        -0.024231  -0.02066    3.366161   -3.683655         -3.011022  ...    \n",
       "\n",
       "   Major_Software Engineering  Major_Spanish  Major_Studio Art  Major_Theatre  \\\n",
       "0                           0              0                 0              0   \n",
       "1                           0              0                 0              0   \n",
       "\n",
       "   Major_Undeclared  Major_Undeclared Engineering  Major_Unknown  Rating  \\\n",
       "0                 0                             0              0     9.0   \n",
       "1                 0                             0              0     9.0   \n",
       "\n",
       "   ACCP  CONF  \n",
       "0     0     0  \n",
       "1     0     0  \n",
       "\n",
       "[2 rows x 80 columns]"
      ]
     },
     "execution_count": 50,
     "metadata": {},
     "output_type": "execute_result"
    }
   ],
   "source": [
    "# reassign the dataframe to have the order of columns listed below\n",
    "df = df.filter(['ACT', 'SAT Math USE', 'SAT Reading USE',\n",
    "       'SAT Total USE', 'RGPA', 'High School GPA', 'IR Score', 'Class Rank',\n",
    "       'Class Size', 'Class Percentile', 'College_Bins', 'Legacy_Bins',\n",
    "       'PM_Bins', 'Merit_Bins', 'Jesuit_Bins', 'Religion_Bins',\n",
    "       'Ethnicity_Bins', 'First_GEN_Bins', 'Citizen_Bins', 'Degree_Type_Bins',\n",
    "       'Resident_Bins', 'Test_Optional_Bins', 'SCI_Bins', 'Country_Bins',\n",
    "       'Region_Bins', 'HST_Bins', 'Major_Accounting', 'Major_American Studies',\n",
    "       'Major_Art History', 'Major_Biochemistry', 'Major_Bioengineering',\n",
    "       'Major_Biology', 'Major_Business Undeclared', 'Major_Chemistry',\n",
    "       'Major_Communications', 'Major_Computer Engineering',\n",
    "       'Major_Computer Science', 'Major_Creative Writing',\n",
    "       'Major_Digital Journalism', 'Major_Economics',\n",
    "       'Major_Electrical Engineering', 'Major_English Literature',\n",
    "       'Major_English Studies', 'Major_Environmental Studies',\n",
    "       'Major_Film, Television and Media Arts', 'Major_Finance',\n",
    "       'Major_French', 'Major_German', 'Major_History',\n",
    "       'Major_Information Systems', 'Major_International Business',\n",
    "       'Major_International Studies', 'Major_Italian', 'Major_Journalism',\n",
    "       'Major_Management', 'Major_Marketing', 'Major_Mathematics',\n",
    "       'Major_Mechanical Engineering', 'Major_Music', 'Major_Nursing',\n",
    "       'Major_Philosophy', 'Major_Physics', 'Major_Politics',\n",
    "       'Major_Professional Writing', 'Major_Psychology', 'Major_Public Health',\n",
    "       'Major_Public Relations', 'Major_Religious Studies', 'Major_Sociology',\n",
    "       'Major_Sociology and Anthropology', 'Major_Software Engineering',\n",
    "       'Major_Spanish', 'Major_Studio Art', 'Major_Theatre',\n",
    "       'Major_Undeclared', 'Major_Undeclared Engineering', 'Major_Unknown','Rating','ACCP', 'CONF'])\n",
    "# verify that columns were re-ordered\n",
    "df.head(2)"
   ]
  },
  {
   "cell_type": "code",
   "execution_count": 51,
   "metadata": {},
   "outputs": [],
   "source": [
    "# export dataframe to a csv for modeling \n",
    "df.to_csv('data/modeling.csv',index=0)"
   ]
  },
  {
   "cell_type": "code",
   "execution_count": null,
   "metadata": {},
   "outputs": [],
   "source": []
  }
 ],
 "metadata": {
  "kernelspec": {
   "display_name": "Python 3",
   "language": "python",
   "name": "python3"
  },
  "language_info": {
   "codemirror_mode": {
    "name": "ipython",
    "version": 3
   },
   "file_extension": ".py",
   "mimetype": "text/x-python",
   "name": "python",
   "nbconvert_exporter": "python",
   "pygments_lexer": "ipython3",
   "version": "3.6.7"
  }
 },
 "nbformat": 4,
 "nbformat_minor": 2
}
