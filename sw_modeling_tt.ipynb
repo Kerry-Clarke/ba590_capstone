{
 "cells": [
  {
   "cell_type": "markdown",
   "metadata": {},
   "source": [
    "## Step-Wise Modeling using Train-Test_Split"
   ]
  },
  {
   "cell_type": "code",
   "execution_count": 1,
   "metadata": {},
   "outputs": [],
   "source": [
    "# import packages needed for data handling \n",
    "import numpy as np\n",
    "import pandas as pd\n",
    "import matplotlib.pyplot as plt\n",
    "%matplotlib inline\n",
    "plt.style.use('ggplot')\n",
    "import seaborn as sns\n",
    "sns.set(style=\"darkgrid\")\n",
    "\n",
    "# import packages to split the data \n",
    "from sklearn import model_selection\n",
    "from sklearn.model_selection import train_test_split\n",
    "\n",
    "# import models \n",
    "from sklearn.linear_model import LogisticRegression\n",
    "from sklearn.tree import DecisionTreeClassifier  \n",
    "from sklearn.svm import SVC\n",
    "import xgboost as xgb\n",
    "\n",
    "# import required packages for evaluating models\n",
    "from sklearn import metrics\n",
    "from sklearn.metrics import roc_auc_score\n",
    "from sklearn.metrics import f1_score\n",
    "from sklearn.metrics import precision_recall_fscore_support\n",
    "from sklearn.model_selection import cross_val_score"
   ]
  },
  {
   "cell_type": "code",
   "execution_count": 2,
   "metadata": {},
   "outputs": [
    {
     "data": {
      "text/html": [
       "<div>\n",
       "<style scoped>\n",
       "    .dataframe tbody tr th:only-of-type {\n",
       "        vertical-align: middle;\n",
       "    }\n",
       "\n",
       "    .dataframe tbody tr th {\n",
       "        vertical-align: top;\n",
       "    }\n",
       "\n",
       "    .dataframe thead th {\n",
       "        text-align: right;\n",
       "    }\n",
       "</style>\n",
       "<table border=\"1\" class=\"dataframe\">\n",
       "  <thead>\n",
       "    <tr style=\"text-align: right;\">\n",
       "      <th></th>\n",
       "      <th>f0</th>\n",
       "      <th>f1</th>\n",
       "      <th>f2</th>\n",
       "      <th>f3</th>\n",
       "      <th>f4</th>\n",
       "      <th>f5</th>\n",
       "      <th>f6</th>\n",
       "      <th>f7</th>\n",
       "      <th>f8</th>\n",
       "      <th>f9</th>\n",
       "      <th>...</th>\n",
       "      <th>f70</th>\n",
       "      <th>f71</th>\n",
       "      <th>f72</th>\n",
       "      <th>f73</th>\n",
       "      <th>f74</th>\n",
       "      <th>f75</th>\n",
       "      <th>f76</th>\n",
       "      <th>f77</th>\n",
       "      <th>Y1</th>\n",
       "      <th>Y2</th>\n",
       "    </tr>\n",
       "  </thead>\n",
       "  <tbody>\n",
       "    <tr>\n",
       "      <th>0</th>\n",
       "      <td>-0.01821</td>\n",
       "      <td>-0.010433</td>\n",
       "      <td>-0.018399</td>\n",
       "      <td>-0.018279</td>\n",
       "      <td>-2.896385</td>\n",
       "      <td>-0.024231</td>\n",
       "      <td>-0.02066</td>\n",
       "      <td>4.079933</td>\n",
       "      <td>-1.414801</td>\n",
       "      <td>-3.011022</td>\n",
       "      <td>...</td>\n",
       "      <td>0</td>\n",
       "      <td>0</td>\n",
       "      <td>0</td>\n",
       "      <td>0</td>\n",
       "      <td>0</td>\n",
       "      <td>0</td>\n",
       "      <td>0</td>\n",
       "      <td>9.0</td>\n",
       "      <td>0</td>\n",
       "      <td>0</td>\n",
       "    </tr>\n",
       "    <tr>\n",
       "      <th>1</th>\n",
       "      <td>-0.01821</td>\n",
       "      <td>-3.182200</td>\n",
       "      <td>-3.260786</td>\n",
       "      <td>-3.270119</td>\n",
       "      <td>-2.037297</td>\n",
       "      <td>-0.024231</td>\n",
       "      <td>-0.02066</td>\n",
       "      <td>3.366161</td>\n",
       "      <td>-3.683655</td>\n",
       "      <td>-3.011022</td>\n",
       "      <td>...</td>\n",
       "      <td>0</td>\n",
       "      <td>0</td>\n",
       "      <td>0</td>\n",
       "      <td>0</td>\n",
       "      <td>0</td>\n",
       "      <td>0</td>\n",
       "      <td>0</td>\n",
       "      <td>9.0</td>\n",
       "      <td>0</td>\n",
       "      <td>0</td>\n",
       "    </tr>\n",
       "  </tbody>\n",
       "</table>\n",
       "<p>2 rows × 80 columns</p>\n",
       "</div>"
      ],
      "text/plain": [
       "        f0        f1        f2        f3        f4        f5       f6  \\\n",
       "0 -0.01821 -0.010433 -0.018399 -0.018279 -2.896385 -0.024231 -0.02066   \n",
       "1 -0.01821 -3.182200 -3.260786 -3.270119 -2.037297 -0.024231 -0.02066   \n",
       "\n",
       "         f7        f8        f9 ...  f70  f71  f72  f73  f74  f75  f76  f77  \\\n",
       "0  4.079933 -1.414801 -3.011022 ...    0    0    0    0    0    0    0  9.0   \n",
       "1  3.366161 -3.683655 -3.011022 ...    0    0    0    0    0    0    0  9.0   \n",
       "\n",
       "   Y1  Y2  \n",
       "0   0   0  \n",
       "1   0   0  \n",
       "\n",
       "[2 rows x 80 columns]"
      ]
     },
     "execution_count": 2,
     "metadata": {},
     "output_type": "execute_result"
    }
   ],
   "source": [
    "# read in modeling data file\n",
    "cols = ['f0', 'f1', 'f2', 'f3', 'f4', 'f5', 'f6', 'f7', 'f8', 'f9', 'f10',\n",
    "       'f11', 'f12', 'f13', 'f14', 'f15', 'f16', 'f17', 'f18', 'f19', 'f20',\n",
    "       'f21', 'f22', 'f23', 'f24', 'f25', 'f26', 'f27', 'f28', 'f29', 'f30',\n",
    "       'f31', 'f32', 'f33', 'f34', 'f35', 'f36', 'f37', 'f38', 'f39', 'f40',\n",
    "       'f41', 'f42', 'f43', 'f44', 'f45', 'f46', 'f47', 'f48', 'f49', 'f50',\n",
    "       'f51', 'f52', 'f53', 'f54', 'f55', 'f56', 'f57', 'f58', 'f59', 'f60',\n",
    "       'f61', 'f62', 'f63', 'f64', 'f65', 'f66', 'f67', 'f68', 'f69', 'f70',\n",
    "       'f71', 'f72', 'f73', 'f74', 'f75', 'f76', 'f77', 'Y1', 'Y2']\n",
    "\n",
    "df = pd.read_csv('data/modeling.csv', header=0, names=cols)\n",
    "df.head(2)"
   ]
  },
  {
   "cell_type": "code",
   "execution_count": 3,
   "metadata": {},
   "outputs": [
    {
     "data": {
      "text/plain": [
       "f0     float64\n",
       "f1     float64\n",
       "f2     float64\n",
       "f3     float64\n",
       "f4     float64\n",
       "f5     float64\n",
       "f6     float64\n",
       "f7     float64\n",
       "f8     float64\n",
       "f9     float64\n",
       "f10      int64\n",
       "f11      int64\n",
       "f12      int64\n",
       "f13      int64\n",
       "f14      int64\n",
       "f15      int64\n",
       "f16      int64\n",
       "f17      int64\n",
       "f18      int64\n",
       "f19      int64\n",
       "f20      int64\n",
       "f21      int64\n",
       "f22      int64\n",
       "f23      int64\n",
       "f24      int64\n",
       "f25      int64\n",
       "f26      int64\n",
       "f27      int64\n",
       "f28      int64\n",
       "f29      int64\n",
       "        ...   \n",
       "f50      int64\n",
       "f51      int64\n",
       "f52      int64\n",
       "f53      int64\n",
       "f54      int64\n",
       "f55      int64\n",
       "f56      int64\n",
       "f57      int64\n",
       "f58      int64\n",
       "f59      int64\n",
       "f60      int64\n",
       "f61      int64\n",
       "f62      int64\n",
       "f63      int64\n",
       "f64      int64\n",
       "f65      int64\n",
       "f66      int64\n",
       "f67      int64\n",
       "f68      int64\n",
       "f69      int64\n",
       "f70      int64\n",
       "f71      int64\n",
       "f72      int64\n",
       "f73      int64\n",
       "f74      int64\n",
       "f75      int64\n",
       "f76      int64\n",
       "f77    float64\n",
       "Y1       int64\n",
       "Y2       int64\n",
       "Length: 80, dtype: object"
      ]
     },
     "execution_count": 3,
     "metadata": {},
     "output_type": "execute_result"
    }
   ],
   "source": [
    "# double check the dtypes of the columns\n",
    "df.dtypes"
   ]
  },
  {
   "cell_type": "code",
   "execution_count": 4,
   "metadata": {},
   "outputs": [
    {
     "data": {
      "text/plain": [
       "(52786, 80)"
      ]
     },
     "execution_count": 4,
     "metadata": {},
     "output_type": "execute_result"
    }
   ],
   "source": [
    "# double check the shape of the dataframe\n",
    "df.shape"
   ]
  },
  {
   "cell_type": "markdown",
   "metadata": {},
   "source": [
    "### Split and Resample Data before Modeling "
   ]
  },
  {
   "cell_type": "code",
   "execution_count": 5,
   "metadata": {},
   "outputs": [
    {
     "name": "stderr",
     "output_type": "stream",
     "text": [
      "/opt/tljh/user/lib/python3.6/site-packages/sklearn/externals/six.py:31: DeprecationWarning: The module is deprecated in version 0.21 and will be removed in version 0.23 since we've dropped support for Python 2.7. Please rely on the official version of six (https://pypi.org/project/six/).\n",
      "  \"(https://pypi.org/project/six/).\", DeprecationWarning)\n"
     ]
    }
   ],
   "source": [
    "# Splitting up our data into features and target\n",
    "# for this modeling approach I will only be using 1 target at a time \n",
    "# the first target will be Accept (ACCP)\n",
    "X = df.iloc[:, :-2] # Features\n",
    "Y = df.Y1 # Target\n",
    "\n",
    "# Split dataset into training set and test set using a 70/30 split\n",
    "X_train, X_test, Y_train, Y_test = train_test_split(X, Y, test_size=0.3, random_state=2019)\n",
    "\n",
    "# import the RandomOverSampler package from imblearn\n",
    "# this package will help address the imbalanced nature of the ACCP target \n",
    "from imblearn.over_sampling import RandomOverSampler\n",
    "\n",
    "# define the RandomOverSampler (ros) model\n",
    "ros = RandomOverSampler(random_state=2019)\n",
    "\n",
    "# fit the training data only to the RandomOverSampler model\n",
    "X_train_resample, Y_train_resample = ros.fit_resample(X_train, Y_train)"
   ]
  },
  {
   "cell_type": "markdown",
   "metadata": {},
   "source": [
    "## Target: Y1 (ACCP)\n",
    "### 1. Decicion Tree"
   ]
  },
  {
   "cell_type": "code",
   "execution_count": 6,
   "metadata": {},
   "outputs": [],
   "source": [
    "# build decision tree \n",
    "dt = DecisionTreeClassifier(random_state=2019)\n",
    "\n",
    "# Train Decision Tree Classifer\n",
    "dt = dt.fit(X_train_resample,Y_train_resample)\n",
    "\n",
    "# Predict the target for the test data \n",
    "Y_pred = dt.predict(X_test)"
   ]
  },
  {
   "cell_type": "code",
   "execution_count": 7,
   "metadata": {},
   "outputs": [
    {
     "name": "stdout",
     "output_type": "stream",
     "text": [
      "F1 Score: 0.9170093852862463\n",
      "AUC Score: 0.9098481958512779\n",
      "              precision    recall  f1-score   support\n",
      "\n",
      "           0       0.88      0.89      0.88      5612\n",
      "           1       0.94      0.93      0.94     10224\n",
      "\n",
      "    accuracy                           0.92     15836\n",
      "   macro avg       0.91      0.91      0.91     15836\n",
      "weighted avg       0.92      0.92      0.92     15836\n",
      "\n",
      "[[4969  643]\n",
      " [ 672 9552]]\n"
     ]
    }
   ],
   "source": [
    "# Model Accuracy, how often is the Decision Tree correct?\n",
    "print(\"F1 Score:\",metrics.f1_score(Y_test, Y_pred, average='weighted'))\n",
    "print(\"AUC Score:\",metrics.roc_auc_score(Y_test, Y_pred, average='weighted'))\n",
    "\n",
    "# We are going to look at the classification report and also the confusion matrix for the Decision Tree  \n",
    "print(metrics.classification_report(Y_test, Y_pred))\n",
    "print(metrics.confusion_matrix(Y_test, Y_pred))"
   ]
  },
  {
   "cell_type": "markdown",
   "metadata": {},
   "source": [
    "### Feature Importance Based on Decision Tree"
   ]
  },
  {
   "cell_type": "code",
   "execution_count": 8,
   "metadata": {},
   "outputs": [
    {
     "data": {
      "text/plain": [
       "f13    0.628120\n",
       "f23    0.158784\n",
       "f3     0.044220\n",
       "f0     0.016883\n",
       "f4     0.014853\n",
       "f25    0.012935\n",
       "f2     0.012532\n",
       "f24    0.012421\n",
       "f1     0.010420\n",
       "f9     0.008706\n",
       "f16    0.007835\n",
       "f59    0.004769\n",
       "f17    0.004355\n",
       "f21    0.003401\n",
       "f74    0.003370\n",
       "f11    0.003195\n",
       "f77    0.002872\n",
       "f14    0.002746\n",
       "f12    0.002740\n",
       "f15    0.002619\n",
       "f19    0.002585\n",
       "f32    0.002264\n",
       "f34    0.002234\n",
       "f10    0.002134\n",
       "f20    0.002117\n",
       "f18    0.002082\n",
       "f55    0.002005\n",
       "f45    0.001961\n",
       "f64    0.001828\n",
       "f54    0.001650\n",
       "         ...   \n",
       "f53    0.000428\n",
       "f42    0.000409\n",
       "f39    0.000402\n",
       "f35    0.000400\n",
       "f33    0.000334\n",
       "f28    0.000330\n",
       "f56    0.000314\n",
       "f68    0.000276\n",
       "f40    0.000269\n",
       "f60    0.000258\n",
       "f46    0.000240\n",
       "f63    0.000216\n",
       "f61    0.000187\n",
       "f71    0.000152\n",
       "f38    0.000149\n",
       "f49    0.000134\n",
       "f70    0.000127\n",
       "f58    0.000101\n",
       "f41    0.000095\n",
       "f66    0.000075\n",
       "f65    0.000069\n",
       "f52    0.000055\n",
       "f69    0.000000\n",
       "f43    0.000000\n",
       "f22    0.000000\n",
       "f27    0.000000\n",
       "f47    0.000000\n",
       "f6     0.000000\n",
       "f5     0.000000\n",
       "f67    0.000000\n",
       "Length: 78, dtype: float64"
      ]
     },
     "execution_count": 8,
     "metadata": {},
     "output_type": "execute_result"
    }
   ],
   "source": [
    "# define the feature importance variable \n",
    "feature_imp = pd.Series(dt.feature_importances_,index=df.iloc[:,:-2].columns).sort_values(ascending=False)\n",
    "\n",
    "# print the results \n",
    "feature_imp"
   ]
  },
  {
   "cell_type": "code",
   "execution_count": 9,
   "metadata": {},
   "outputs": [
    {
     "data": {
      "image/png": "[encoded data removed]",
      "text/plain": [
       "<Figure size 1800x720 with 1 Axes>"
      ]
     },
     "metadata": {
      "needs_background": "light"
     },
     "output_type": "display_data"
    }
   ],
   "source": [
    "# visualize the feature importance values \n",
    "plt.figure(figsize=(25,10))\n",
    "\n",
    "# Creating a bar plot\n",
    "sns.barplot(x=feature_imp.index, y=feature_imp)\n",
    "\n",
    "# Add labels\n",
    "plt.ylabel('Feature Importance Score')\n",
    "plt.xlabel('Features')\n",
    "plt.title(\"Visualizing Important Features\")\n",
    "\n",
    "plt.show()"
   ]
  },
  {
   "cell_type": "markdown",
   "metadata": {},
   "source": [
    "### 2. Logistic Regression"
   ]
  },
  {
   "cell_type": "code",
   "execution_count": 10,
   "metadata": {},
   "outputs": [],
   "source": [
    "# build logistic regression\n",
    "# specify a solver to aviod a warning message \n",
    "logreg = LogisticRegression(solver='liblinear',random_state=2019)\n",
    "\n",
    "# fit the training data to the model\n",
    "logreg = logreg.fit(X_train_resample,Y_train_resample) \n",
    "\n",
    "# run the model using test data \n",
    "Y_pred=logreg.predict(X_test)"
   ]
  },
  {
   "cell_type": "code",
   "execution_count": 11,
   "metadata": {},
   "outputs": [
    {
     "name": "stdout",
     "output_type": "stream",
     "text": [
      "F1 Score: 0.9355955263563518\n",
      "AUC Score: 0.9335643175199132\n",
      "              precision    recall  f1-score   support\n",
      "\n",
      "           0       0.89      0.93      0.91      5612\n",
      "           1       0.96      0.94      0.95     10224\n",
      "\n",
      "    accuracy                           0.94     15836\n",
      "   macro avg       0.93      0.93      0.93     15836\n",
      "weighted avg       0.94      0.94      0.94     15836\n",
      "\n",
      "[[5205  407]\n",
      " [ 617 9607]]\n"
     ]
    }
   ],
   "source": [
    "# Model Accuracy, how often is the Decision Tree correct?\n",
    "print(\"F1 Score:\",metrics.f1_score(Y_test, Y_pred, average='weighted'))\n",
    "print(\"AUC Score:\",metrics.roc_auc_score(Y_test, Y_pred, average='weighted'))\n",
    "\n",
    "# We are going to look at the classification report and also the confusion matrix for the Decision Tree  \n",
    "print(metrics.classification_report(Y_test, Y_pred))\n",
    "print(metrics.confusion_matrix(Y_test, Y_pred))"
   ]
  },
  {
   "cell_type": "markdown",
   "metadata": {},
   "source": [
    "### 3. SVM"
   ]
  },
  {
   "cell_type": "code",
   "execution_count": 12,
   "metadata": {},
   "outputs": [],
   "source": [
    "# define the svm model \n",
    "svc = SVC(kernel='rbf', gamma='auto', random_state=2019)\n",
    "\n",
    "# fit svm model \n",
    "svc = svc.fit(X_train_resample, Y_train_resample)\n",
    "\n",
    "# predict the target using the testing data \n",
    "Y_pred = svc.predict(X_test)"
   ]
  },
  {
   "cell_type": "code",
   "execution_count": 13,
   "metadata": {},
   "outputs": [
    {
     "name": "stdout",
     "output_type": "stream",
     "text": [
      "F1 Score: 0.93941115933365\n",
      "AUC Score: 0.9333269405376585\n",
      "              precision    recall  f1-score   support\n",
      "\n",
      "           0       0.92      0.91      0.91      5612\n",
      "           1       0.95      0.95      0.95     10224\n",
      "\n",
      "    accuracy                           0.94     15836\n",
      "   macro avg       0.93      0.93      0.93     15836\n",
      "weighted avg       0.94      0.94      0.94     15836\n",
      "\n",
      "[[5120  492]\n",
      " [ 467 9757]]\n"
     ]
    }
   ],
   "source": [
    "# Model Accuracy, how often is the Decision Tree correct?\n",
    "print(\"F1 Score:\",metrics.f1_score(Y_test, Y_pred, average='weighted'))\n",
    "print(\"AUC Score:\",metrics.roc_auc_score(Y_test, Y_pred, average='weighted'))\n",
    "\n",
    "# We are going to look at the classification report and also the confusion matrix for the Decision Tree  \n",
    "print(metrics.classification_report(Y_test, Y_pred))\n",
    "print(metrics.confusion_matrix(Y_test, Y_pred))"
   ]
  },
  {
   "cell_type": "markdown",
   "metadata": {},
   "source": [
    "### 4. XGBoost"
   ]
  },
  {
   "cell_type": "code",
   "execution_count": 14,
   "metadata": {},
   "outputs": [],
   "source": [
    "# build xgboost model\n",
    "xg = xgb.XGBClassifier(n_estimators=100, random_state=2019)\n",
    "\n",
    "# fit the training data to the model\n",
    "xg = xg.fit(X_train_resample,Y_train_resample) \n",
    "\n",
    "# run the model using test data \n",
    "Y_pred=xg.predict(X_test)"
   ]
  },
  {
   "cell_type": "code",
   "execution_count": 15,
   "metadata": {},
   "outputs": [
    {
     "name": "stdout",
     "output_type": "stream",
     "text": [
      "F1 Score: 0.9395871238716064\n",
      "AUC Score: 0.9384538650689278\n",
      "              precision    recall  f1-score   support\n",
      "\n",
      "           0       0.90      0.94      0.92      5612\n",
      "           1       0.96      0.94      0.95     10224\n",
      "\n",
      "    accuracy                           0.94     15836\n",
      "   macro avg       0.93      0.94      0.93     15836\n",
      "weighted avg       0.94      0.94      0.94     15836\n",
      "\n",
      "[[5250  362]\n",
      " [ 599 9625]]\n"
     ]
    }
   ],
   "source": [
    "# evluate xgboost\n",
    "print(\"F1 Score:\",metrics.f1_score(Y_test, Y_pred, average='weighted'))\n",
    "print(\"AUC Score:\",metrics.roc_auc_score(Y_test, Y_pred, average='weighted'))\n",
    "\n",
    "# We are going to look at the classification report and also the confusion matrix for the Decision Tree  \n",
    "print(metrics.classification_report(Y_test, Y_pred))\n",
    "print(metrics.confusion_matrix(Y_test, Y_pred))"
   ]
  },
  {
   "cell_type": "code",
   "execution_count": 16,
   "metadata": {},
   "outputs": [
    {
     "data": {
      "image/png": "[encoded data removed]",
      "text/plain": [
       "<Figure size 432x288 with 1 Axes>"
      ]
     },
     "metadata": {
      "needs_background": "light"
     },
     "output_type": "display_data"
    }
   ],
   "source": [
    "# visualize the feature importances according to the xgboost model\n",
    "xgb.plot_importance(xg)\n",
    "plt.rcParams['figure.figsize'] = [20, 10]\n",
    "plt.show()"
   ]
  },
  {
   "cell_type": "markdown",
   "metadata": {},
   "source": [
    "### 5. Random Forest\n",
    "*- Please reference Random Forest Notebook: [Random Forest Y1 (ACCP)](ba590_capstone/sw_random_forest_tt.ipynb)*"
   ]
  },
  {
   "cell_type": "markdown",
   "metadata": {},
   "source": [
    "## Step-Wise Modeling: CONF"
   ]
  },
  {
   "cell_type": "code",
   "execution_count": 17,
   "metadata": {},
   "outputs": [
    {
     "data": {
      "text/plain": [
       "(33956, 80)"
      ]
     },
     "execution_count": 17,
     "metadata": {},
     "output_type": "execute_result"
    }
   ],
   "source": [
    "# filter out the students that were not accepted (where ACCP=0)\n",
    "df = df[df.Y1 != 0]\n",
    "#df = df.drop(['Y1'], axis=1)\n",
    "df.shape"
   ]
  },
  {
   "cell_type": "code",
   "execution_count": 18,
   "metadata": {},
   "outputs": [
    {
     "data": {
      "text/html": [
       "<div>\n",
       "<style scoped>\n",
       "    .dataframe tbody tr th:only-of-type {\n",
       "        vertical-align: middle;\n",
       "    }\n",
       "\n",
       "    .dataframe tbody tr th {\n",
       "        vertical-align: top;\n",
       "    }\n",
       "\n",
       "    .dataframe thead th {\n",
       "        text-align: right;\n",
       "    }\n",
       "</style>\n",
       "<table border=\"1\" class=\"dataframe\">\n",
       "  <thead>\n",
       "    <tr style=\"text-align: right;\">\n",
       "      <th></th>\n",
       "      <th>f0</th>\n",
       "      <th>f1</th>\n",
       "      <th>f2</th>\n",
       "      <th>f3</th>\n",
       "      <th>f4</th>\n",
       "      <th>f5</th>\n",
       "      <th>f6</th>\n",
       "      <th>f7</th>\n",
       "      <th>f8</th>\n",
       "      <th>f9</th>\n",
       "      <th>...</th>\n",
       "      <th>f70</th>\n",
       "      <th>f71</th>\n",
       "      <th>f72</th>\n",
       "      <th>f73</th>\n",
       "      <th>f74</th>\n",
       "      <th>f75</th>\n",
       "      <th>f76</th>\n",
       "      <th>f77</th>\n",
       "      <th>Y1</th>\n",
       "      <th>Y2</th>\n",
       "    </tr>\n",
       "  </thead>\n",
       "  <tbody>\n",
       "    <tr>\n",
       "      <th>48</th>\n",
       "      <td>0.649921</td>\n",
       "      <td>-0.010433</td>\n",
       "      <td>-0.018399</td>\n",
       "      <td>-0.018279</td>\n",
       "      <td>0.029160</td>\n",
       "      <td>-0.024231</td>\n",
       "      <td>-0.02066</td>\n",
       "      <td>0.968218</td>\n",
       "      <td>-3.701231</td>\n",
       "      <td>-3.011022</td>\n",
       "      <td>...</td>\n",
       "      <td>0</td>\n",
       "      <td>0</td>\n",
       "      <td>0</td>\n",
       "      <td>0</td>\n",
       "      <td>0</td>\n",
       "      <td>0</td>\n",
       "      <td>0</td>\n",
       "      <td>5.0</td>\n",
       "      <td>1</td>\n",
       "      <td>0</td>\n",
       "    </tr>\n",
       "    <tr>\n",
       "      <th>67</th>\n",
       "      <td>-0.018210</td>\n",
       "      <td>-0.010433</td>\n",
       "      <td>-0.018399</td>\n",
       "      <td>-0.018279</td>\n",
       "      <td>-0.156589</td>\n",
       "      <td>-0.024231</td>\n",
       "      <td>-0.02066</td>\n",
       "      <td>2.848948</td>\n",
       "      <td>-2.593895</td>\n",
       "      <td>-3.011022</td>\n",
       "      <td>...</td>\n",
       "      <td>0</td>\n",
       "      <td>0</td>\n",
       "      <td>0</td>\n",
       "      <td>0</td>\n",
       "      <td>0</td>\n",
       "      <td>0</td>\n",
       "      <td>0</td>\n",
       "      <td>5.0</td>\n",
       "      <td>1</td>\n",
       "      <td>0</td>\n",
       "    </tr>\n",
       "  </tbody>\n",
       "</table>\n",
       "<p>2 rows × 80 columns</p>\n",
       "</div>"
      ],
      "text/plain": [
       "          f0        f1        f2        f3        f4        f5       f6  \\\n",
       "48  0.649921 -0.010433 -0.018399 -0.018279  0.029160 -0.024231 -0.02066   \n",
       "67 -0.018210 -0.010433 -0.018399 -0.018279 -0.156589 -0.024231 -0.02066   \n",
       "\n",
       "          f7        f8        f9 ...  f70  f71  f72  f73  f74  f75  f76  f77  \\\n",
       "48  0.968218 -3.701231 -3.011022 ...    0    0    0    0    0    0    0  5.0   \n",
       "67  2.848948 -2.593895 -3.011022 ...    0    0    0    0    0    0    0  5.0   \n",
       "\n",
       "    Y1  Y2  \n",
       "48   1   0  \n",
       "67   1   0  \n",
       "\n",
       "[2 rows x 80 columns]"
      ]
     },
     "execution_count": 18,
     "metadata": {},
     "output_type": "execute_result"
    }
   ],
   "source": [
    "df.head(2)"
   ]
  },
  {
   "cell_type": "markdown",
   "metadata": {},
   "source": [
    "### Re-Split and Re-Balance the Data"
   ]
  },
  {
   "cell_type": "code",
   "execution_count": 19,
   "metadata": {},
   "outputs": [],
   "source": [
    "# Splitting up our data into features and target\n",
    "# for this modeling approach I will only be using 1 target at a time \n",
    "# the second target is Confirm (CONF)\n",
    "X = df.iloc[:, :-2] # Features\n",
    "Y = df.Y2 # Target\n",
    "\n",
    "# Split dataset into training set and test set using a 70/30 split\n",
    "X_train, X_test, Y_train, Y_test = train_test_split(X, Y, test_size=0.3, random_state=2019)\n",
    "\n",
    "# import the RandomOverSampler package from imblearn\n",
    "# this package will help address the imbalanced nature of the ACCP target \n",
    "from imblearn.over_sampling import RandomOverSampler\n",
    "\n",
    "# define the RandomOverSampler (ros) model\n",
    "ros = RandomOverSampler(random_state=2019)\n",
    "\n",
    "# fit the training data only to the RandomOverSampler model\n",
    "X_train_resample, Y_train_resample = ros.fit_resample(X_train, Y_train)"
   ]
  },
  {
   "cell_type": "markdown",
   "metadata": {},
   "source": [
    "### 1. Decision Tree"
   ]
  },
  {
   "cell_type": "code",
   "execution_count": 20,
   "metadata": {},
   "outputs": [],
   "source": [
    "# build decision tree \n",
    "dt = DecisionTreeClassifier(random_state=2019)\n",
    "\n",
    "# Train Decision Tree Classifer\n",
    "dt = dt.fit(X_train_resample,Y_train_resample)\n",
    "\n",
    "# Predict the target for the test data \n",
    "Y_pred = dt.predict(X_test)"
   ]
  },
  {
   "cell_type": "code",
   "execution_count": 21,
   "metadata": {},
   "outputs": [
    {
     "name": "stdout",
     "output_type": "stream",
     "text": [
      "F1 Score: 0.7640871939065387\n",
      "AUC Score: 0.5482090642598306\n",
      "              precision    recall  f1-score   support\n",
      "\n",
      "           0       0.87      0.84      0.86      8696\n",
      "           1       0.22      0.25      0.23      1491\n",
      "\n",
      "    accuracy                           0.76     10187\n",
      "   macro avg       0.54      0.55      0.54     10187\n",
      "weighted avg       0.77      0.76      0.76     10187\n",
      "\n",
      "[[7324 1372]\n",
      " [1112  379]]\n"
     ]
    }
   ],
   "source": [
    "# Model Accuracy, how often is the Decision Tree correct?\n",
    "print(\"F1 Score:\",metrics.f1_score(Y_test, Y_pred, average='weighted'))\n",
    "print(\"AUC Score:\",metrics.roc_auc_score(Y_test, Y_pred, average='weighted'))\n",
    "\n",
    "# We are going to look at the classification report and also the confusion matrix for the Decision Tree  \n",
    "print(metrics.classification_report(Y_test, Y_pred))\n",
    "print(metrics.confusion_matrix(Y_test, Y_pred))"
   ]
  },
  {
   "cell_type": "code",
   "execution_count": 22,
   "metadata": {},
   "outputs": [
    {
     "data": {
      "text/plain": [
       "f4     0.208757\n",
       "f77    0.069994\n",
       "f3     0.064469\n",
       "f0     0.057701\n",
       "f1     0.057636\n",
       "f2     0.057615\n",
       "f24    0.043623\n",
       "f25    0.043303\n",
       "f12    0.028735\n",
       "f8     0.025848\n",
       "f9     0.025601\n",
       "f17    0.020446\n",
       "f21    0.019991\n",
       "f10    0.019721\n",
       "f7     0.016869\n",
       "f74    0.015885\n",
       "f11    0.015666\n",
       "f16    0.015167\n",
       "f31    0.013895\n",
       "f19    0.012342\n",
       "f32    0.010913\n",
       "f20    0.009705\n",
       "f26    0.009436\n",
       "f15    0.009228\n",
       "f59    0.008235\n",
       "f64    0.008032\n",
       "f45    0.007782\n",
       "f55    0.007654\n",
       "f34    0.007194\n",
       "f54    0.006166\n",
       "         ...   \n",
       "f42    0.001875\n",
       "f23    0.001692\n",
       "f73    0.001557\n",
       "f49    0.001515\n",
       "f63    0.001125\n",
       "f43    0.001109\n",
       "f35    0.000991\n",
       "f46    0.000978\n",
       "f70    0.000816\n",
       "f61    0.000808\n",
       "f68    0.000773\n",
       "f53    0.000765\n",
       "f69    0.000698\n",
       "f66    0.000635\n",
       "f41    0.000549\n",
       "f71    0.000541\n",
       "f72    0.000491\n",
       "f38    0.000401\n",
       "f27    0.000343\n",
       "f65    0.000336\n",
       "f28    0.000269\n",
       "f76    0.000262\n",
       "f58    0.000208\n",
       "f52    0.000161\n",
       "f60    0.000000\n",
       "f67    0.000000\n",
       "f6     0.000000\n",
       "f5     0.000000\n",
       "f47    0.000000\n",
       "f22    0.000000\n",
       "Length: 78, dtype: float64"
      ]
     },
     "execution_count": 22,
     "metadata": {},
     "output_type": "execute_result"
    }
   ],
   "source": [
    "# define the feature importance variable \n",
    "feature_imp_conf = pd.Series(dt.feature_importances_,index=df.iloc[:,:-2].columns).sort_values(ascending=False)\n",
    "\n",
    "# print the results \n",
    "feature_imp_conf"
   ]
  },
  {
   "cell_type": "code",
   "execution_count": 23,
   "metadata": {},
   "outputs": [
    {
     "data": {
      "image/png": "[encoded data removed]",
      "text/plain": [
       "<Figure size 2160x720 with 1 Axes>"
      ]
     },
     "metadata": {
      "needs_background": "light"
     },
     "output_type": "display_data"
    }
   ],
   "source": [
    "# visualize the feature importance values \n",
    "plt.figure(figsize=(30,10))\n",
    "\n",
    "# Creating a bar plot\n",
    "sns.barplot(x=feature_imp_conf.index, y=feature_imp_conf)\n",
    "\n",
    "# Add labels\n",
    "plt.ylabel('Feature Importance Score')\n",
    "plt.xlabel('Features')\n",
    "plt.title(\"Visualizing Important Features\")\n",
    "\n",
    "plt.show()"
   ]
  },
  {
   "cell_type": "markdown",
   "metadata": {},
   "source": [
    "### 2. Logistic Regression"
   ]
  },
  {
   "cell_type": "code",
   "execution_count": 24,
   "metadata": {},
   "outputs": [],
   "source": [
    "# build logistic regression\n",
    "# specify a solver to aviod a warning message \n",
    "logreg = LogisticRegression(solver='liblinear',random_state=2019)\n",
    "\n",
    "# fit the training data to the model\n",
    "logreg = logreg.fit(X_train_resample,Y_train_resample) \n",
    "\n",
    "# run the model using test data \n",
    "Y_pred=logreg.predict(X_test)"
   ]
  },
  {
   "cell_type": "code",
   "execution_count": 25,
   "metadata": {},
   "outputs": [
    {
     "name": "stdout",
     "output_type": "stream",
     "text": [
      "F1 Score: 0.6890782057437043\n",
      "AUC Score: 0.6161618206633237\n",
      "              precision    recall  f1-score   support\n",
      "\n",
      "           0       0.90      0.65      0.75      8696\n",
      "           1       0.22      0.59      0.32      1491\n",
      "\n",
      "    accuracy                           0.64     10187\n",
      "   macro avg       0.56      0.62      0.54     10187\n",
      "weighted avg       0.80      0.64      0.69     10187\n",
      "\n",
      "[[5613 3083]\n",
      " [ 616  875]]\n"
     ]
    }
   ],
   "source": [
    "# print evaluation metrics\n",
    "print(\"F1 Score:\",metrics.f1_score(Y_test, Y_pred, average='weighted'))\n",
    "print(\"AUC Score:\",metrics.roc_auc_score(Y_test, Y_pred, average='weighted'))\n",
    "\n",
    "# We are going to look at the classification report and also the confusion matrix for the Decision Tree  \n",
    "print(metrics.classification_report(Y_test, Y_pred))\n",
    "print(metrics.confusion_matrix(Y_test, Y_pred))"
   ]
  },
  {
   "cell_type": "markdown",
   "metadata": {},
   "source": [
    "### 3. SVM"
   ]
  },
  {
   "cell_type": "code",
   "execution_count": 26,
   "metadata": {},
   "outputs": [],
   "source": [
    "# define the svm model \n",
    "svc = SVC(kernel='rbf', gamma='auto', random_state=2019)\n",
    "\n",
    "# fit svm model \n",
    "svc = svc.fit(X_train_resample, Y_train_resample)\n",
    "\n",
    "# predict the target using the testing data \n",
    "Y_pred = svc.predict(X_test)"
   ]
  },
  {
   "cell_type": "code",
   "execution_count": 27,
   "metadata": {},
   "outputs": [
    {
     "name": "stdout",
     "output_type": "stream",
     "text": [
      "F1 Score: 0.708920873797732\n",
      "AUC Score: 0.6227661507221804\n",
      "              precision    recall  f1-score   support\n",
      "\n",
      "           0       0.90      0.68      0.77      8696\n",
      "           1       0.23      0.57      0.33      1491\n",
      "\n",
      "    accuracy                           0.66     10187\n",
      "   macro avg       0.57      0.62      0.55     10187\n",
      "weighted avg       0.80      0.66      0.71     10187\n",
      "\n",
      "[[5897 2799]\n",
      " [ 645  846]]\n"
     ]
    }
   ],
   "source": [
    "# Model Accuracy, how often is the Decision Tree correct?\n",
    "print(\"F1 Score:\",metrics.f1_score(Y_test, Y_pred, average='weighted'))\n",
    "print(\"AUC Score:\",metrics.roc_auc_score(Y_test, Y_pred, average='weighted'))\n",
    "\n",
    "# We are going to look at the classification report and also the confusion matrix for the Decision Tree  \n",
    "print(metrics.classification_report(Y_test, Y_pred))\n",
    "print(metrics.confusion_matrix(Y_test, Y_pred))"
   ]
  },
  {
   "cell_type": "markdown",
   "metadata": {},
   "source": [
    "### 4. XGBoost"
   ]
  },
  {
   "cell_type": "code",
   "execution_count": 28,
   "metadata": {},
   "outputs": [],
   "source": [
    "# build xgboost model\n",
    "xg = xgb.XGBClassifier(n_estimators=100, random_state=2019)\n",
    "\n",
    "# fit the training data to the model\n",
    "xg = xg.fit(X_train_resample,Y_train_resample) \n",
    "\n",
    "# run the model using test data \n",
    "Y_pred=xg.predict(X_test)"
   ]
  },
  {
   "cell_type": "code",
   "execution_count": 29,
   "metadata": {},
   "outputs": [
    {
     "name": "stdout",
     "output_type": "stream",
     "text": [
      "F1 Score: 0.701862614653165\n",
      "AUC Score: 0.6192009462478644\n",
      "              precision    recall  f1-score   support\n",
      "\n",
      "           0       0.90      0.67      0.77      8696\n",
      "           1       0.23      0.57      0.33      1491\n",
      "\n",
      "    accuracy                           0.65     10187\n",
      "   macro avg       0.56      0.62      0.55     10187\n",
      "weighted avg       0.80      0.65      0.70     10187\n",
      "\n",
      "[[5800 2896]\n",
      " [ 639  852]]\n"
     ]
    }
   ],
   "source": [
    "# evluate xgboost\n",
    "print(\"F1 Score:\",metrics.f1_score(Y_test, Y_pred, average='weighted'))\n",
    "print(\"AUC Score:\",metrics.roc_auc_score(Y_test, Y_pred, average='weighted'))\n",
    "\n",
    "# We are going to look at the classification report and also the confusion matrix for the Decision Tree  \n",
    "print(metrics.classification_report(Y_test, Y_pred))\n",
    "print(metrics.confusion_matrix(Y_test, Y_pred))"
   ]
  },
  {
   "cell_type": "code",
   "execution_count": 30,
   "metadata": {},
   "outputs": [
    {
     "data": {
      "image/png": "[encoded data removed]",
      "text/plain": [
       "<Figure size 1440x720 with 1 Axes>"
      ]
     },
     "metadata": {
      "needs_background": "light"
     },
     "output_type": "display_data"
    }
   ],
   "source": [
    "# visualize the feature importances according to the xgboost model\n",
    "xgb.plot_importance(xg)\n",
    "plt.rcParams['figure.figsize'] = [20, 10]\n",
    "plt.show()"
   ]
  },
  {
   "cell_type": "markdown",
   "metadata": {},
   "source": [
    "### 5. Random Forest\n",
    "*-Please Reference Random Forest Notebook: [Random Forest Y2 (CONF)](ba590_capstone/sw_random_forest_tt.ipynb)*"
   ]
  },
  {
   "cell_type": "code",
   "execution_count": null,
   "metadata": {},
   "outputs": [],
   "source": []
  }
 ],
 "metadata": {
  "kernelspec": {
   "display_name": "Python 3",
   "language": "python",
   "name": "python3"
  },
  "language_info": {
   "codemirror_mode": {
    "name": "ipython",
    "version": 3
   },
   "file_extension": ".py",
   "mimetype": "text/x-python",
   "name": "python",
   "nbconvert_exporter": "python",
   "pygments_lexer": "ipython3",
   "version": "3.6.7"
  }
 },
 "nbformat": 4,
 "nbformat_minor": 2
}
