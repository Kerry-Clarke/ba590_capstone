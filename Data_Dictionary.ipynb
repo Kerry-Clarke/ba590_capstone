{
 "cells": [
  {
   "cell_type": "markdown",
   "metadata": {},
   "source": [
    "'ACT', 'SAT Math USE', 'SAT Reading USE',\n",
    "       'SAT Total USE', 'RGPA', 'High School GPA', 'IR Score', 'Class Rank',\n",
    "       'Class Size', 'Class Percentile', 'College_Bins', 'Legacy_Bins',\n",
    "       'PM_Bins', 'Merit_Bins', 'Jesuit_Bins', 'Religion_Bins',\n",
    "       'Ethnicity_Bins', 'First_GEN_Bins', 'Citizen_Bins', 'Degree_Type_Bins',\n",
    "       'Resident_Bins', 'Test_Optional_Bins', 'SCI_Bins', 'Country_Bins',\n",
    "       'Region_Bins', 'HST_Bins', 'Major_Accounting', 'Major_American Studies',\n",
    "       'Major_Art History', 'Major_Biochemistry', 'Major_Bioengineering',\n",
    "       'Major_Biology', 'Major_Business Undeclared', 'Major_Chemistry',\n",
    "       'Major_Communications', 'Major_Computer Engineering',\n",
    "       'Major_Computer Science', 'Major_Creative Writing',\n",
    "       'Major_Digital Journalism', 'Major_Economics',\n",
    "       'Major_Electrical Engineering', 'Major_English Literature',\n",
    "       'Major_English Studies', 'Major_Environmental Studies',\n",
    "       'Major_Film, Television and Media Arts', 'Major_Finance',\n",
    "       'Major_French', 'Major_German', 'Major_History',\n",
    "       'Major_Information Systems', 'Major_International Business',\n",
    "       'Major_International Studies', 'Major_Italian', 'Major_Journalism',\n",
    "       'Major_Management', 'Major_Marketing', 'Major_Mathematics',\n",
    "       'Major_Mechanical Engineering', 'Major_Music', 'Major_Nursing',\n",
    "       'Major_Philosophy', 'Major_Physics', 'Major_Politics',\n",
    "       'Major_Professional Writing', 'Major_Psychology', 'Major_Public Health',\n",
    "       'Major_Public Relations', 'Major_Religious Studies', 'Major_Sociology',\n",
    "       'Major_Sociology and Anthropology', 'Major_Software Engineering',\n",
    "       'Major_Spanish', 'Major_Studio Art', 'Major_Theatre',\n",
    "       'Major_Undeclared', 'Major_Undeclared Engineering', 'Major_Unknown'],\n",
    "      dtype='object')"
   ]
  },
  {
   "cell_type": "code",
   "execution_count": null,
   "metadata": {},
   "outputs": [],
   "source": []
  }
 ],
 "metadata": {
  "kernelspec": {
   "display_name": "Python 3",
   "language": "python",
   "name": "python3"
  },
  "language_info": {
   "codemirror_mode": {
    "name": "ipython",
    "version": 3
   },
   "file_extension": ".py",
   "mimetype": "text/x-python",
   "name": "python",
   "nbconvert_exporter": "python",
   "pygments_lexer": "ipython3",
   "version": "3.6.7"
  }
 },
 "nbformat": 4,
 "nbformat_minor": 2
}
