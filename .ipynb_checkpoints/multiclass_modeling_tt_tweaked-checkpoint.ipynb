{
 "cells": [
  {
   "cell_type": "markdown",
   "metadata": {},
   "source": [
    "## Multi-Class Modeling using Train-Test-Split"
   ]
  },
  {
   "cell_type": "code",
   "execution_count": 1,
   "metadata": {},
   "outputs": [],
   "source": [
    "# import packages needed for data handling \n",
    "import numpy as np\n",
    "import pandas as pd\n",
    "import matplotlib.pyplot as plt\n",
    "%matplotlib inline\n",
    "plt.style.use('ggplot')\n",
    "import seaborn as sns\n",
    "sns.set(style=\"darkgrid\")\n",
    "\n",
    "# import packages to split the data \n",
    "from sklearn import model_selection\n",
    "from sklearn.model_selection import train_test_split\n",
    "\n",
    "# import models \n",
    "from sklearn.linear_model import LogisticRegression\n",
    "from sklearn.tree import DecisionTreeClassifier  \n",
    "import xgboost as xgb\n",
    "from sklearn.neighbors import KNeighborsClassifier\n",
    "from sklearn.svm import SVC\n",
    "from sklearn.ensemble import AdaBoostClassifier\n",
    "from sklearn.ensemble import RandomForestClassifier\n",
    "\n",
    "# import required packages for evaluating models\n",
    "from sklearn import metrics\n",
    "from sklearn.metrics import roc_auc_score\n",
    "from sklearn.metrics import f1_score\n",
    "from sklearn.metrics import precision_recall_fscore_support\n",
    "from sklearn.model_selection import cross_val_score"
   ]
  },
  {
   "cell_type": "code",
   "execution_count": 2,
   "metadata": {},
   "outputs": [
    {
     "data": {
      "text/html": [
       "<div>\n",
       "<style scoped>\n",
       "    .dataframe tbody tr th:only-of-type {\n",
       "        vertical-align: middle;\n",
       "    }\n",
       "\n",
       "    .dataframe tbody tr th {\n",
       "        vertical-align: top;\n",
       "    }\n",
       "\n",
       "    .dataframe thead th {\n",
       "        text-align: right;\n",
       "    }\n",
       "</style>\n",
       "<table border=\"1\" class=\"dataframe\">\n",
       "  <thead>\n",
       "    <tr style=\"text-align: right;\">\n",
       "      <th></th>\n",
       "      <th>f0</th>\n",
       "      <th>f1</th>\n",
       "      <th>f2</th>\n",
       "      <th>f3</th>\n",
       "      <th>f4</th>\n",
       "      <th>f5</th>\n",
       "      <th>f6</th>\n",
       "      <th>f7</th>\n",
       "      <th>f8</th>\n",
       "      <th>f9</th>\n",
       "      <th>...</th>\n",
       "      <th>f70</th>\n",
       "      <th>f71</th>\n",
       "      <th>f72</th>\n",
       "      <th>f73</th>\n",
       "      <th>f74</th>\n",
       "      <th>f75</th>\n",
       "      <th>f76</th>\n",
       "      <th>f77</th>\n",
       "      <th>Y1</th>\n",
       "      <th>Y2</th>\n",
       "    </tr>\n",
       "  </thead>\n",
       "  <tbody>\n",
       "    <tr>\n",
       "      <th>-0.01821</th>\n",
       "      <td>-0.010433</td>\n",
       "      <td>-0.018399</td>\n",
       "      <td>-0.018279</td>\n",
       "      <td>-2.896385</td>\n",
       "      <td>-0.024231</td>\n",
       "      <td>-0.02066</td>\n",
       "      <td>4.079933</td>\n",
       "      <td>-1.414801</td>\n",
       "      <td>-3.011022</td>\n",
       "      <td>1</td>\n",
       "      <td>...</td>\n",
       "      <td>0</td>\n",
       "      <td>0</td>\n",
       "      <td>0</td>\n",
       "      <td>0</td>\n",
       "      <td>0</td>\n",
       "      <td>0</td>\n",
       "      <td>0</td>\n",
       "      <td>9.0</td>\n",
       "      <td>0</td>\n",
       "      <td>0</td>\n",
       "    </tr>\n",
       "    <tr>\n",
       "      <th>-0.01821</th>\n",
       "      <td>-3.182200</td>\n",
       "      <td>-3.260786</td>\n",
       "      <td>-3.270119</td>\n",
       "      <td>-2.037297</td>\n",
       "      <td>-0.024231</td>\n",
       "      <td>-0.02066</td>\n",
       "      <td>3.366161</td>\n",
       "      <td>-3.683655</td>\n",
       "      <td>-3.011022</td>\n",
       "      <td>1</td>\n",
       "      <td>...</td>\n",
       "      <td>0</td>\n",
       "      <td>0</td>\n",
       "      <td>0</td>\n",
       "      <td>0</td>\n",
       "      <td>0</td>\n",
       "      <td>0</td>\n",
       "      <td>0</td>\n",
       "      <td>9.0</td>\n",
       "      <td>0</td>\n",
       "      <td>0</td>\n",
       "    </tr>\n",
       "  </tbody>\n",
       "</table>\n",
       "<p>2 rows × 80 columns</p>\n",
       "</div>"
      ],
      "text/plain": [
       "                f0        f1        f2        f3        f4       f5        f6  \\\n",
       "-0.01821 -0.010433 -0.018399 -0.018279 -2.896385 -0.024231 -0.02066  4.079933   \n",
       "-0.01821 -3.182200 -3.260786 -3.270119 -2.037297 -0.024231 -0.02066  3.366161   \n",
       "\n",
       "                f7        f8  f9 ...  f70  f71  f72  f73  f74  f75  f76  f77  \\\n",
       "-0.01821 -1.414801 -3.011022   1 ...    0    0    0    0    0    0    0  9.0   \n",
       "-0.01821 -3.683655 -3.011022   1 ...    0    0    0    0    0    0    0  9.0   \n",
       "\n",
       "          Y1  Y2  \n",
       "-0.01821   0   0  \n",
       "-0.01821   0   0  \n",
       "\n",
       "[2 rows x 80 columns]"
      ]
     },
     "execution_count": 2,
     "metadata": {},
     "output_type": "execute_result"
    }
   ],
   "source": [
    "# read in modeling data file\n",
    "cols = ['f0', 'f1', 'f2', 'f3', 'f4', 'f5', 'f6', 'f7', 'f8', 'f9', 'f10',\n",
    "       'f11', 'f12', 'f13', 'f14', 'f15', 'f16', 'f17', 'f18', 'f19', 'f20',\n",
    "       'f21', 'f22', 'f23', 'f24', 'f25', 'f26', 'f27', 'f28', 'f29', 'f30',\n",
    "       'f31', 'f32', 'f33', 'f34', 'f35', 'f36', 'f37', 'f38', 'f39', 'f40',\n",
    "       'f41', 'f42', 'f43', 'f44', 'f45', 'f46', 'f47', 'f48', 'f49', 'f50',\n",
    "       'f51', 'f52', 'f53', 'f54', 'f55', 'f56', 'f57', 'f58', 'f59', 'f60',\n",
    "       'f61', 'f62', 'f63', 'f64', 'f65', 'f66', 'f67', 'f68', 'f69', 'f70',\n",
    "       'f71', 'f72', 'f73', 'f74', 'f75', 'f76', 'f77', 'Y1', 'Y2']\n",
    "\n",
    "df = pd.read_csv('data/modeling.csv', header=0, names=cols)\n",
    "df.head(2)"
   ]
  },
  {
   "cell_type": "code",
   "execution_count": 3,
   "metadata": {},
   "outputs": [
    {
     "data": {
      "text/html": [
       "<div>\n",
       "<style scoped>\n",
       "    .dataframe tbody tr th:only-of-type {\n",
       "        vertical-align: middle;\n",
       "    }\n",
       "\n",
       "    .dataframe tbody tr th {\n",
       "        vertical-align: top;\n",
       "    }\n",
       "\n",
       "    .dataframe thead th {\n",
       "        text-align: right;\n",
       "    }\n",
       "</style>\n",
       "<table border=\"1\" class=\"dataframe\">\n",
       "  <thead>\n",
       "    <tr style=\"text-align: right;\">\n",
       "      <th></th>\n",
       "      <th>f0</th>\n",
       "      <th>f1</th>\n",
       "      <th>f2</th>\n",
       "      <th>f3</th>\n",
       "      <th>f4</th>\n",
       "      <th>f5</th>\n",
       "      <th>f6</th>\n",
       "      <th>f7</th>\n",
       "      <th>f8</th>\n",
       "      <th>f9</th>\n",
       "      <th>...</th>\n",
       "      <th>f71</th>\n",
       "      <th>f72</th>\n",
       "      <th>f73</th>\n",
       "      <th>f74</th>\n",
       "      <th>f75</th>\n",
       "      <th>f76</th>\n",
       "      <th>f77</th>\n",
       "      <th>Y1</th>\n",
       "      <th>Y2</th>\n",
       "      <th>Y</th>\n",
       "    </tr>\n",
       "  </thead>\n",
       "  <tbody>\n",
       "    <tr>\n",
       "      <th>-0.01821</th>\n",
       "      <td>-0.010433</td>\n",
       "      <td>-0.018399</td>\n",
       "      <td>-0.018279</td>\n",
       "      <td>-2.896385</td>\n",
       "      <td>-0.024231</td>\n",
       "      <td>-0.02066</td>\n",
       "      <td>4.079933</td>\n",
       "      <td>-1.414801</td>\n",
       "      <td>-3.011022</td>\n",
       "      <td>1</td>\n",
       "      <td>...</td>\n",
       "      <td>0</td>\n",
       "      <td>0</td>\n",
       "      <td>0</td>\n",
       "      <td>0</td>\n",
       "      <td>0</td>\n",
       "      <td>0</td>\n",
       "      <td>9.0</td>\n",
       "      <td>0</td>\n",
       "      <td>0</td>\n",
       "      <td>0</td>\n",
       "    </tr>\n",
       "    <tr>\n",
       "      <th>-0.01821</th>\n",
       "      <td>-3.182200</td>\n",
       "      <td>-3.260786</td>\n",
       "      <td>-3.270119</td>\n",
       "      <td>-2.037297</td>\n",
       "      <td>-0.024231</td>\n",
       "      <td>-0.02066</td>\n",
       "      <td>3.366161</td>\n",
       "      <td>-3.683655</td>\n",
       "      <td>-3.011022</td>\n",
       "      <td>1</td>\n",
       "      <td>...</td>\n",
       "      <td>0</td>\n",
       "      <td>0</td>\n",
       "      <td>0</td>\n",
       "      <td>0</td>\n",
       "      <td>0</td>\n",
       "      <td>0</td>\n",
       "      <td>9.0</td>\n",
       "      <td>0</td>\n",
       "      <td>0</td>\n",
       "      <td>0</td>\n",
       "    </tr>\n",
       "  </tbody>\n",
       "</table>\n",
       "<p>2 rows × 81 columns</p>\n",
       "</div>"
      ],
      "text/plain": [
       "                f0        f1        f2        f3        f4       f5        f6  \\\n",
       "-0.01821 -0.010433 -0.018399 -0.018279 -2.896385 -0.024231 -0.02066  4.079933   \n",
       "-0.01821 -3.182200 -3.260786 -3.270119 -2.037297 -0.024231 -0.02066  3.366161   \n",
       "\n",
       "                f7        f8  f9 ...  f71  f72  f73  f74  f75  f76  f77  Y1  \\\n",
       "-0.01821 -1.414801 -3.011022   1 ...    0    0    0    0    0    0  9.0   0   \n",
       "-0.01821 -3.683655 -3.011022   1 ...    0    0    0    0    0    0  9.0   0   \n",
       "\n",
       "          Y2  Y  \n",
       "-0.01821   0  0  \n",
       "-0.01821   0  0  \n",
       "\n",
       "[2 rows x 81 columns]"
      ]
     },
     "execution_count": 3,
     "metadata": {},
     "output_type": "execute_result"
    }
   ],
   "source": [
    "df['Y']=df['Y1']+df['Y2']\n",
    "df.head(2)"
   ]
  },
  {
   "cell_type": "code",
   "execution_count": 4,
   "metadata": {},
   "outputs": [],
   "source": [
    "df=df.drop(['Y1','Y2'],axis=1)\n",
    "df[df.Y==1].head(2)\n",
    "df.to_csv('data/multiclass_modeling.csv',index=0)"
   ]
  },
  {
   "cell_type": "code",
   "execution_count": 5,
   "metadata": {},
   "outputs": [
    {
     "name": "stderr",
     "output_type": "stream",
     "text": [
      "/opt/tljh/user/lib/python3.6/site-packages/sklearn/externals/six.py:31: DeprecationWarning: The module is deprecated in version 0.21 and will be removed in version 0.23 since we've dropped support for Python 2.7. Please rely on the official version of six (https://pypi.org/project/six/).\n",
      "  \"(https://pypi.org/project/six/).\", DeprecationWarning)\n"
     ]
    }
   ],
   "source": [
    "# Splitting up our data into features and targets\n",
    "X = df.iloc[:, :-1] # Features\n",
    "Y = df.Y # Target \n",
    "\n",
    "# Split dataset into training set and test set using a 70/30 split\n",
    "X_train, X_test, Y_train, Y_test = train_test_split(X, Y, test_size=0.3, random_state=2019)\n",
    "\n",
    "# import the RandomOverSampler package from imblearn\n",
    "# this package will help address the imbalanced nature of the targets \n",
    "from imblearn.over_sampling import RandomOverSampler\n",
    "\n",
    "# define the RandomOverSampler (ros) model\n",
    "ros = RandomOverSampler(random_state=2019)\n",
    "\n",
    "# fit the training data only to the RandomOverSampler model\n",
    "X_train_resample, Y_train_resample = ros.fit_resample(X_train, Y_train)"
   ]
  },
  {
   "cell_type": "markdown",
   "metadata": {},
   "source": [
    "## 1. Decision Tree"
   ]
  },
  {
   "cell_type": "code",
   "execution_count": 6,
   "metadata": {},
   "outputs": [],
   "source": [
    "# build decision tree \n",
    "dt = DecisionTreeClassifier(random_state=2019, max_features=37, max_depth=45)\n",
    "\n",
    "# Train Decision Tree Classifer\n",
    "dt = dt.fit(X_train_resample,Y_train_resample)\n",
    "\n",
    "# Predict the target for the test data \n",
    "Y_pred = dt.predict(X_test)"
   ]
  },
  {
   "cell_type": "code",
   "execution_count": 7,
   "metadata": {},
   "outputs": [
    {
     "name": "stdout",
     "output_type": "stream",
     "text": [
      "F1 Score: 0.7908855743470465\n",
      "              precision    recall  f1-score   support\n",
      "\n",
      "           0       0.90      0.90      0.90      5612\n",
      "           1       0.83      0.82      0.83      8692\n",
      "           2       0.18      0.20      0.19      1532\n",
      "\n",
      "    accuracy                           0.79     15836\n",
      "   macro avg       0.64      0.64      0.64     15836\n",
      "weighted avg       0.79      0.79      0.79     15836\n",
      "\n",
      "[[5042  369  201]\n",
      " [ 402 7139 1151]\n",
      " [ 168 1060  304]]\n"
     ]
    }
   ],
   "source": [
    "# Model Accuracy, how often is the Decision Tree correct?\n",
    "print(\"F1 Score:\",metrics.f1_score(Y_test, Y_pred, average='weighted'))\n",
    "\n",
    "# We are going to look at the classification report and also the confusion matrix for the Decision Tree  \n",
    "print(metrics.classification_report(Y_test, Y_pred))\n",
    "print(metrics.confusion_matrix(Y_test, Y_pred))"
   ]
  },
  {
   "cell_type": "code",
   "execution_count": 8,
   "metadata": {},
   "outputs": [
    {
     "data": {
      "text/plain": [
       "f12    0.218006\n",
       "f3     0.133376\n",
       "f2     0.081918\n",
       "f77    0.079714\n",
       "f22    0.054542\n",
       "f0     0.045216\n",
       "f1     0.038936\n",
       "f24    0.034042\n",
       "f23    0.032834\n",
       "f25    0.024690\n",
       "f8     0.018636\n",
       "f15    0.016240\n",
       "f10    0.016036\n",
       "f11    0.014646\n",
       "f16    0.014561\n",
       "f9     0.013821\n",
       "f20    0.013651\n",
       "f6     0.012175\n",
       "f7     0.011964\n",
       "f32    0.009567\n",
       "f74    0.008541\n",
       "f18    0.006678\n",
       "f31    0.006313\n",
       "f59    0.005469\n",
       "f45    0.005175\n",
       "f55    0.005152\n",
       "f34    0.005052\n",
       "f64    0.005036\n",
       "f19    0.004918\n",
       "f26    0.003972\n",
       "         ...   \n",
       "f42    0.001119\n",
       "f35    0.001109\n",
       "f30    0.001032\n",
       "f73    0.000978\n",
       "f53    0.000949\n",
       "f72    0.000937\n",
       "f68    0.000831\n",
       "f49    0.000642\n",
       "f66    0.000634\n",
       "f63    0.000582\n",
       "f71    0.000548\n",
       "f58    0.000502\n",
       "f60    0.000456\n",
       "f41    0.000447\n",
       "f46    0.000402\n",
       "f69    0.000401\n",
       "f27    0.000317\n",
       "f76    0.000274\n",
       "f38    0.000240\n",
       "f70    0.000224\n",
       "f61    0.000187\n",
       "f43    0.000168\n",
       "f28    0.000061\n",
       "f65    0.000061\n",
       "f67    0.000040\n",
       "f52    0.000030\n",
       "f47    0.000012\n",
       "f4     0.000000\n",
       "f5     0.000000\n",
       "f21    0.000000\n",
       "Length: 78, dtype: float64"
      ]
     },
     "execution_count": 8,
     "metadata": {},
     "output_type": "execute_result"
    }
   ],
   "source": [
    "# define the feature importance variable \n",
    "feature_imp = pd.Series(dt.feature_importances_,index=df.iloc[:,:-1].columns).sort_values(ascending=False)\n",
    "\n",
    "# print the results \n",
    "feature_imp"
   ]
  },
  {
   "cell_type": "code",
   "execution_count": 9,
   "metadata": {},
   "outputs": [],
   "source": [
    "dfi_dt = pd.DataFrame(feature_imp)\n",
    "dfi_dt.to_csv('feature_imp/tweaked_mm_tt_dt.csv')"
   ]
  },
  {
   "cell_type": "code",
   "execution_count": 10,
   "metadata": {},
   "outputs": [
    {
     "data": {
      "image/png": "[encoded data removed]",
      "text/plain": [
       "<Figure size 1440x1440 with 1 Axes>"
      ]
     },
     "metadata": {
      "needs_background": "light"
     },
     "output_type": "display_data"
    },
    {
     "data": {
      "text/plain": [
       "<Figure size 432x288 with 0 Axes>"
      ]
     },
     "metadata": {},
     "output_type": "display_data"
    }
   ],
   "source": [
    "# visualize the feature importance values \n",
    "plt.figure(figsize=(20,20))\n",
    "\n",
    "# Creating a bar plot\n",
    "sns.barplot(y=feature_imp.index, x=feature_imp)\n",
    "\n",
    "# Add labels\n",
    "plt.xlabel('Feature Importance Score')\n",
    "plt.ylabel('Features')\n",
    "plt.title(\"Visualizing Important Features\")\n",
    "plt.show()\n",
    "\n",
    "plt.savefig('images/mm_tt_dt_feature_importance.PNG')"
   ]
  },
  {
   "cell_type": "markdown",
   "metadata": {},
   "source": [
    "## 2. SVM"
   ]
  },
  {
   "cell_type": "code",
   "execution_count": 11,
   "metadata": {},
   "outputs": [],
   "source": [
    "# define the svm model \n",
    "svc = SVC(kernel='rbf', gamma='auto', random_state=2019)\n",
    "\n",
    "# fit svm model \n",
    "svc = svc.fit(X_train_resample, Y_train_resample)\n",
    "\n",
    "# predict the target using the testing data \n",
    "Y_pred = svc.predict(X_test)"
   ]
  },
  {
   "cell_type": "code",
   "execution_count": 12,
   "metadata": {},
   "outputs": [
    {
     "name": "stdout",
     "output_type": "stream",
     "text": [
      "F1 Score: 0.7692377495252767\n",
      "              precision    recall  f1-score   support\n",
      "\n",
      "           0       0.88      0.95      0.92      5612\n",
      "           1       0.88      0.67      0.76      8692\n",
      "           2       0.21      0.44      0.29      1532\n",
      "\n",
      "    accuracy                           0.75     15836\n",
      "   macro avg       0.66      0.69      0.65     15836\n",
      "weighted avg       0.82      0.75      0.77     15836\n",
      "\n",
      "[[5348  132  132]\n",
      " [ 518 5802 2372]\n",
      " [ 205  649  678]]\n"
     ]
    }
   ],
   "source": [
    "# Model Accuracy, how often is the Decision Tree correct?\n",
    "print(\"F1 Score:\",metrics.f1_score(Y_test, Y_pred, average='weighted'))\n",
    "\n",
    "# We are going to look at the classification report and also the confusion matrix for the Decision Tree  \n",
    "print(metrics.classification_report(Y_test, Y_pred))\n",
    "print(metrics.confusion_matrix(Y_test, Y_pred))"
   ]
  },
  {
   "cell_type": "markdown",
   "metadata": {},
   "source": [
    "### 3. KNeighbors"
   ]
  },
  {
   "cell_type": "code",
   "execution_count": 13,
   "metadata": {},
   "outputs": [],
   "source": [
    "# define the svm model \n",
    "kn = KNeighborsClassifier()\n",
    "\n",
    "# fit svm model \n",
    "kn = kn.fit(X_train_resample, Y_train_resample)\n",
    "\n",
    "# predict the target using the testing data \n",
    "Y_pred = kn.predict(X_test)"
   ]
  },
  {
   "cell_type": "code",
   "execution_count": 14,
   "metadata": {},
   "outputs": [
    {
     "name": "stdout",
     "output_type": "stream",
     "text": [
      "F1 Score: 0.7299933834097982\n",
      "              precision    recall  f1-score   support\n",
      "\n",
      "           0       0.87      0.85      0.86      5612\n",
      "           1       0.83      0.66      0.74      8692\n",
      "           2       0.15      0.34      0.21      1532\n",
      "\n",
      "    accuracy                           0.70     15836\n",
      "   macro avg       0.62      0.62      0.60     15836\n",
      "weighted avg       0.78      0.70      0.73     15836\n",
      "\n",
      "[[4787  392  433]\n",
      " [ 518 5772 2402]\n",
      " [ 207  808  517]]\n"
     ]
    }
   ],
   "source": [
    "# Model Accuracy, how often is the Decision Tree correct?\n",
    "print(\"F1 Score:\",metrics.f1_score(Y_test, Y_pred, average='weighted'))\n",
    "\n",
    "# We are going to look at the classification report and also the confusion matrix for the Decision Tree  \n",
    "print(metrics.classification_report(Y_test, Y_pred))\n",
    "print(metrics.confusion_matrix(Y_test, Y_pred))"
   ]
  },
  {
   "cell_type": "markdown",
   "metadata": {},
   "source": [
    "### 4. AdaBoost"
   ]
  },
  {
   "cell_type": "code",
   "execution_count": 15,
   "metadata": {},
   "outputs": [],
   "source": [
    "# define the svm model \n",
    "ada = AdaBoostClassifier(random_state=2019)\n",
    "\n",
    "# fit svm model \n",
    "ada = ada.fit(X_train_resample, Y_train_resample)\n",
    "\n",
    "# predict the target using the testing data \n",
    "Y_pred = ada.predict(X_test)"
   ]
  },
  {
   "cell_type": "code",
   "execution_count": 16,
   "metadata": {},
   "outputs": [
    {
     "name": "stdout",
     "output_type": "stream",
     "text": [
      "F1 Score: 0.7351233908471068\n",
      "              precision    recall  f1-score   support\n",
      "\n",
      "           0       0.89      0.96      0.92      5612\n",
      "           1       0.88      0.58      0.70      8692\n",
      "           2       0.19      0.50      0.27      1532\n",
      "\n",
      "    accuracy                           0.71     15836\n",
      "   macro avg       0.65      0.68      0.63     15836\n",
      "weighted avg       0.81      0.71      0.74     15836\n",
      "\n",
      "[[5399  143   70]\n",
      " [ 488 5012 3192]\n",
      " [ 212  560  760]]\n"
     ]
    }
   ],
   "source": [
    "# Model Accuracy, how often is the Decision Tree correct?\n",
    "print(\"F1 Score:\",metrics.f1_score(Y_test, Y_pred, average='weighted'))\n",
    "\n",
    "# We are going to look at the classification report and also the confusion matrix for the Decision Tree  \n",
    "print(metrics.classification_report(Y_test, Y_pred))\n",
    "print(metrics.confusion_matrix(Y_test, Y_pred))"
   ]
  },
  {
   "cell_type": "code",
   "execution_count": 17,
   "metadata": {},
   "outputs": [
    {
     "data": {
      "text/plain": [
       "f25    0.12\n",
       "f12    0.12\n",
       "f77    0.10\n",
       "f3     0.10\n",
       "f0     0.10\n",
       "f8     0.06\n",
       "f22    0.04\n",
       "f59    0.02\n",
       "f20    0.02\n",
       "f19    0.02\n",
       "f18    0.02\n",
       "f16    0.02\n",
       "f15    0.02\n",
       "f33    0.02\n",
       "f54    0.02\n",
       "f57    0.02\n",
       "f23    0.02\n",
       "f36    0.02\n",
       "f10    0.02\n",
       "f9     0.02\n",
       "f62    0.02\n",
       "f7     0.02\n",
       "f35    0.02\n",
       "f2     0.02\n",
       "f1     0.02\n",
       "f27    0.00\n",
       "f26    0.00\n",
       "f29    0.00\n",
       "f30    0.00\n",
       "f31    0.00\n",
       "       ... \n",
       "f69    0.00\n",
       "f68    0.00\n",
       "f67    0.00\n",
       "f66    0.00\n",
       "f65    0.00\n",
       "f64    0.00\n",
       "f63    0.00\n",
       "f61    0.00\n",
       "f60    0.00\n",
       "f58    0.00\n",
       "f56    0.00\n",
       "f55    0.00\n",
       "f53    0.00\n",
       "f51    0.00\n",
       "f71    0.00\n",
       "f50    0.00\n",
       "f49    0.00\n",
       "f48    0.00\n",
       "f47    0.00\n",
       "f46    0.00\n",
       "f45    0.00\n",
       "f44    0.00\n",
       "f43    0.00\n",
       "f42    0.00\n",
       "f41    0.00\n",
       "f40    0.00\n",
       "f39    0.00\n",
       "f76    0.00\n",
       "f37    0.00\n",
       "f38    0.00\n",
       "Length: 78, dtype: float64"
      ]
     },
     "execution_count": 17,
     "metadata": {},
     "output_type": "execute_result"
    }
   ],
   "source": [
    "# define the feature importance variable \n",
    "ada_feature_imp = pd.Series(ada.feature_importances_,index=df.iloc[:,:-1].columns).sort_values(ascending=False)\n",
    "\n",
    "# print the results \n",
    "ada_feature_imp"
   ]
  },
  {
   "cell_type": "code",
   "execution_count": 18,
   "metadata": {},
   "outputs": [],
   "source": [
    "ada_fi = pd.DataFrame(ada_feature_imp)\n",
    "ada_fi.to_csv('feature_imp/tweaked_mm_tt_ada.csv')"
   ]
  },
  {
   "cell_type": "code",
   "execution_count": 19,
   "metadata": {},
   "outputs": [
    {
     "data": {
      "image/png": "[encoded data removed]",
      "text/plain": [
       "<Figure size 1440x1440 with 1 Axes>"
      ]
     },
     "metadata": {
      "needs_background": "light"
     },
     "output_type": "display_data"
    },
    {
     "data": {
      "text/plain": [
       "<Figure size 432x288 with 0 Axes>"
      ]
     },
     "metadata": {},
     "output_type": "display_data"
    }
   ],
   "source": [
    "# visualize the feature importance values \n",
    "plt.figure(figsize=(20,20))\n",
    "\n",
    "# Creating a bar plot\n",
    "sns.barplot(y=ada_feature_imp.index, x=ada_feature_imp)\n",
    "\n",
    "# Add labels\n",
    "plt.xlabel('AdaBoost Feature Importance Score')\n",
    "plt.ylabel('Features')\n",
    "plt.title(\"Visualizing AdaBoost Important Features\")\n",
    "plt.show()\n",
    "plt.savefig('images/mm_tt_ada_feature_importance.PNG')"
   ]
  },
  {
   "cell_type": "markdown",
   "metadata": {},
   "source": [
    "### 5. XGBoost"
   ]
  },
  {
   "cell_type": "code",
   "execution_count": 51,
   "metadata": {},
   "outputs": [],
   "source": [
    "# build xgboost model\n",
    "xg = xgb.XGBClassifier(n_estimators=100, max_features=20, max_depth=15, random_state=2019)\n",
    "\n",
    "# fit the training data to the model\n",
    "xg = xg.fit(X_train_resample,Y_train_resample) \n",
    "\n",
    "# run the model using test data \n",
    "Y_pred=xg.predict(X_test)"
   ]
  },
  {
   "cell_type": "code",
   "execution_count": 52,
   "metadata": {},
   "outputs": [
    {
     "name": "stdout",
     "output_type": "stream",
     "text": [
      "F1 Score: 0.8084839219567235\n",
      "              precision    recall  f1-score   support\n",
      "\n",
      "           0       0.90      0.94      0.92      5612\n",
      "           1       0.85      0.83      0.84      8692\n",
      "           2       0.22      0.21      0.22      1532\n",
      "\n",
      "    accuracy                           0.81     15836\n",
      "   macro avg       0.66      0.66      0.66     15836\n",
      "weighted avg       0.81      0.81      0.81     15836\n",
      "\n",
      "[[5270  245   97]\n",
      " [ 384 7218 1090]\n",
      " [ 177 1026  329]]\n"
     ]
    }
   ],
   "source": [
    "# evluate xgboost\n",
    "print(\"F1 Score:\",metrics.f1_score(Y_test, Y_pred, average='weighted'))\n",
    "\n",
    "# We are going to look at the classification report and also the confusion matrix for the Decision Tree  \n",
    "print(metrics.classification_report(Y_test, Y_pred))\n",
    "print(metrics.confusion_matrix(Y_test, Y_pred))"
   ]
  },
  {
   "cell_type": "code",
   "execution_count": 22,
   "metadata": {},
   "outputs": [
    {
     "data": {
      "text/plain": [
       "f12    0.398564\n",
       "f25    0.181801\n",
       "f14    0.066150\n",
       "f22    0.045527\n",
       "f77    0.031963\n",
       "f20    0.028941\n",
       "f59    0.021649\n",
       "f15    0.020418\n",
       "f2     0.015877\n",
       "f9     0.015027\n",
       "f19    0.011442\n",
       "f1     0.009274\n",
       "f32    0.008906\n",
       "f8     0.008817\n",
       "f23    0.008793\n",
       "f24    0.008062\n",
       "f10    0.007363\n",
       "f30    0.007136\n",
       "f3     0.006611\n",
       "f61    0.005658\n",
       "f75    0.005452\n",
       "f0     0.004887\n",
       "f7     0.004777\n",
       "f31    0.004254\n",
       "f51    0.004136\n",
       "f36    0.004037\n",
       "f16    0.003799\n",
       "f74    0.003786\n",
       "f11    0.003741\n",
       "f6     0.003710\n",
       "         ...   \n",
       "f54    0.000658\n",
       "f37    0.000248\n",
       "f49    0.000059\n",
       "f69    0.000000\n",
       "f71    0.000000\n",
       "f5     0.000000\n",
       "f4     0.000000\n",
       "f67    0.000000\n",
       "f66    0.000000\n",
       "f72    0.000000\n",
       "f55    0.000000\n",
       "f27    0.000000\n",
       "f65    0.000000\n",
       "f64    0.000000\n",
       "f53    0.000000\n",
       "f52    0.000000\n",
       "f50    0.000000\n",
       "f47    0.000000\n",
       "f46    0.000000\n",
       "f45    0.000000\n",
       "f43    0.000000\n",
       "f42    0.000000\n",
       "f40    0.000000\n",
       "f39    0.000000\n",
       "f29    0.000000\n",
       "f28    0.000000\n",
       "f58    0.000000\n",
       "f63    0.000000\n",
       "f21    0.000000\n",
       "f38    0.000000\n",
       "Length: 78, dtype: float32"
      ]
     },
     "execution_count": 22,
     "metadata": {},
     "output_type": "execute_result"
    }
   ],
   "source": [
    "# define the feature importance variable \n",
    "xgb_feature_imp = pd.Series(xg.feature_importances_,index=df.iloc[:,:-1].columns).sort_values(ascending=False)\n",
    "\n",
    "# print the results \n",
    "xgb_feature_imp"
   ]
  },
  {
   "cell_type": "code",
   "execution_count": 23,
   "metadata": {},
   "outputs": [],
   "source": [
    "dfi_xg = pd.DataFrame(xgb_feature_imp)\n",
    "dfi_xg.to_csv('feature_imp/tweaked_mm_tt_xgb.csv')"
   ]
  },
  {
   "cell_type": "code",
   "execution_count": 24,
   "metadata": {},
   "outputs": [
    {
     "data": {
      "image/png": "[encoded data removed]",
      "text/plain": [
       "<Figure size 432x288 with 1 Axes>"
      ]
     },
     "metadata": {
      "needs_background": "light"
     },
     "output_type": "display_data"
    },
    {
     "data": {
      "text/plain": [
       "<Figure size 1440x720 with 0 Axes>"
      ]
     },
     "metadata": {},
     "output_type": "display_data"
    }
   ],
   "source": [
    "# visualize the feature importances according to the xgboost model\n",
    "xgb.plot_importance(xg)\n",
    "plt.rcParams['figure.figsize'] = [20, 10]\n",
    "plt.show()\n",
    "plt.savefig('images/mm_tt_xgb_feature_importance.PNG')"
   ]
  },
  {
   "cell_type": "markdown",
   "metadata": {},
   "source": [
    "## 6. Random Forest"
   ]
  },
  {
   "cell_type": "code",
   "execution_count": 25,
   "metadata": {},
   "outputs": [],
   "source": [
    "# build decision tree \n",
    "rf = RandomForestClassifier(n_estimators=100, random_state=2019)\n",
    "\n",
    "# Train Decision Tree Classifer\n",
    "rf = rf.fit(X_train_resample, Y_train_resample)\n",
    "\n",
    "# Predict the target for the test data \n",
    "Y_pred = rf.predict(X_test)"
   ]
  },
  {
   "cell_type": "code",
   "execution_count": 26,
   "metadata": {},
   "outputs": [
    {
     "name": "stdout",
     "output_type": "stream",
     "text": [
      "F1 Score: 0.8170134698700402\n",
      "              precision    recall  f1-score   support\n",
      "\n",
      "           0       0.91      0.93      0.92      5612\n",
      "           1       0.84      0.90      0.87      8692\n",
      "           2       0.22      0.12      0.15      1532\n",
      "\n",
      "    accuracy                           0.83     15836\n",
      "   macro avg       0.66      0.65      0.65     15836\n",
      "weighted avg       0.80      0.83      0.82     15836\n",
      "\n",
      "[[5228  298   86]\n",
      " [ 355 7789  548]\n",
      " [ 182 1169  181]]\n"
     ]
    }
   ],
   "source": [
    "# Model Accuracy, how often is the Decision Tree correct?\n",
    "print(\"F1 Score:\",metrics.f1_score(Y_test, Y_pred, average='weighted'))\n",
    "\n",
    "# We are going to look at the classification report and also the confusion matrix for the Decision Tree  \n",
    "print(metrics.classification_report(Y_test, Y_pred))\n",
    "print(metrics.confusion_matrix(Y_test, Y_pred))"
   ]
  },
  {
   "cell_type": "code",
   "execution_count": 27,
   "metadata": {},
   "outputs": [
    {
     "data": {
      "text/plain": [
       "f3     0.163534\n",
       "f12    0.163315\n",
       "f77    0.094203\n",
       "f2     0.058696\n",
       "f0     0.049692\n",
       "f1     0.048849\n",
       "f24    0.035964\n",
       "f23    0.035674\n",
       "f25    0.035212\n",
       "f8     0.020645\n",
       "f9     0.019849\n",
       "f15    0.018216\n",
       "f11    0.018212\n",
       "f16    0.017425\n",
       "f10    0.016483\n",
       "f20    0.016194\n",
       "f14    0.015660\n",
       "f7     0.014618\n",
       "f22    0.014176\n",
       "f6     0.013843\n",
       "f18    0.009821\n",
       "f74    0.008674\n",
       "f59    0.008360\n",
       "f32    0.008030\n",
       "f31    0.006071\n",
       "f64    0.006043\n",
       "f19    0.005661\n",
       "f45    0.005186\n",
       "f55    0.004861\n",
       "f26    0.004614\n",
       "         ...   \n",
       "f30    0.001334\n",
       "f35    0.001122\n",
       "f40    0.001053\n",
       "f73    0.001040\n",
       "f68    0.000944\n",
       "f53    0.000924\n",
       "f72    0.000896\n",
       "f49    0.000703\n",
       "f63    0.000657\n",
       "f61    0.000524\n",
       "f70    0.000524\n",
       "f66    0.000474\n",
       "f76    0.000468\n",
       "f71    0.000455\n",
       "f43    0.000443\n",
       "f38    0.000431\n",
       "f58    0.000411\n",
       "f46    0.000387\n",
       "f69    0.000382\n",
       "f41    0.000335\n",
       "f27    0.000317\n",
       "f60    0.000307\n",
       "f28    0.000170\n",
       "f67    0.000157\n",
       "f65    0.000104\n",
       "f52    0.000076\n",
       "f47    0.000019\n",
       "f21    0.000000\n",
       "f5     0.000000\n",
       "f4     0.000000\n",
       "Length: 78, dtype: float64"
      ]
     },
     "execution_count": 27,
     "metadata": {},
     "output_type": "execute_result"
    }
   ],
   "source": [
    "# define the feature importance variable\n",
    "rf_feature_imp = pd.Series(rf.feature_importances_,index=df.iloc[:,:-1].columns).sort_values(ascending=False)\n",
    "\n",
    "# print the results \n",
    "rf_feature_imp"
   ]
  },
  {
   "cell_type": "code",
   "execution_count": 28,
   "metadata": {},
   "outputs": [],
   "source": [
    "dfi_rf = pd.DataFrame(rf_feature_imp)\n",
    "dfi_rf.to_csv('feature_imp/tweaked_mm_tt_rf.csv')"
   ]
  },
  {
   "cell_type": "code",
   "execution_count": 29,
   "metadata": {},
   "outputs": [
    {
     "data": {
      "image/png": "[encoded data removed]",
      "text/plain": [
       "<Figure size 1440x1440 with 1 Axes>"
      ]
     },
     "metadata": {
      "needs_background": "light"
     },
     "output_type": "display_data"
    },
    {
     "data": {
      "text/plain": [
       "<Figure size 1440x720 with 0 Axes>"
      ]
     },
     "metadata": {},
     "output_type": "display_data"
    }
   ],
   "source": [
    "# visualize the feature importance values \n",
    "plt.figure(figsize=(20,20))\n",
    "\n",
    "# Creating a bar plot\n",
    "sns.barplot(y=rf_feature_imp.index, x=rf_feature_imp)\n",
    "\n",
    "# Add labels\n",
    "plt.xlabel('Random Forest Feature Importance Score')\n",
    "plt.ylabel('Features')\n",
    "plt.title(\"Visualizing Random Forest Important Features\")\n",
    "plt.show()\n",
    "plt.savefig('images/mm_tt_rf_feature_importance.PNG')"
   ]
  },
  {
   "cell_type": "code",
   "execution_count": null,
   "metadata": {},
   "outputs": [],
   "source": []
  }
 ],
 "metadata": {
  "kernelspec": {
   "display_name": "Python 3",
   "language": "python",
   "name": "python3"
  },
  "language_info": {
   "codemirror_mode": {
    "name": "ipython",
    "version": 3
   },
   "file_extension": ".py",
   "mimetype": "text/x-python",
   "name": "python",
   "nbconvert_exporter": "python",
   "pygments_lexer": "ipython3",
   "version": "3.6.7"
  }
 },
 "nbformat": 4,
 "nbformat_minor": 2
}
