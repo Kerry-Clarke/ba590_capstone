{
 "cells": [
  {
   "cell_type": "code",
   "execution_count": 2,
   "metadata": {},
   "outputs": [],
   "source": [
    "# import packages needed for data handling \n",
    "import numpy as np\n",
    "import pandas as pd\n",
    "import matplotlib.pyplot as plt\n",
    "%matplotlib inline\n",
    "plt.style.use('ggplot')\n",
    "import seaborn as sns\n",
    "sns.set(style=\"darkgrid\")\n",
    "\n",
    "# import packages to split the data \n",
    "from sklearn import model_selection\n",
    "from sklearn.model_selection import train_test_split\n",
    "\n",
    "# import models \n",
    "import xgboost as xgb\n",
    "\n",
    "# import required packages for evaluating models\n",
    "from sklearn import metrics\n",
    "from sklearn.metrics import f1_score\n",
    "from sklearn.metrics import precision_recall_fscore_support\n",
    "from sklearn.model_selection import cross_val_score"
   ]
  },
  {
   "cell_type": "code",
   "execution_count": 3,
   "metadata": {},
   "outputs": [
    {
     "data": {
      "text/html": [
       "<div>\n",
       "<style scoped>\n",
       "    .dataframe tbody tr th:only-of-type {\n",
       "        vertical-align: middle;\n",
       "    }\n",
       "\n",
       "    .dataframe tbody tr th {\n",
       "        vertical-align: top;\n",
       "    }\n",
       "\n",
       "    .dataframe thead th {\n",
       "        text-align: right;\n",
       "    }\n",
       "</style>\n",
       "<table border=\"1\" class=\"dataframe\">\n",
       "  <thead>\n",
       "    <tr style=\"text-align: right;\">\n",
       "      <th></th>\n",
       "      <th>f0</th>\n",
       "      <th>f1</th>\n",
       "      <th>f2</th>\n",
       "      <th>f3</th>\n",
       "      <th>f4</th>\n",
       "      <th>f5</th>\n",
       "      <th>f6</th>\n",
       "      <th>f7</th>\n",
       "      <th>f8</th>\n",
       "      <th>f9</th>\n",
       "      <th>...</th>\n",
       "      <th>f69</th>\n",
       "      <th>f70</th>\n",
       "      <th>f71</th>\n",
       "      <th>f72</th>\n",
       "      <th>f73</th>\n",
       "      <th>f74</th>\n",
       "      <th>f75</th>\n",
       "      <th>f76</th>\n",
       "      <th>f77</th>\n",
       "      <th>Y</th>\n",
       "    </tr>\n",
       "  </thead>\n",
       "  <tbody>\n",
       "    <tr>\n",
       "      <th>0</th>\n",
       "      <td>-0.010433</td>\n",
       "      <td>-0.018399</td>\n",
       "      <td>-0.018279</td>\n",
       "      <td>-2.896385</td>\n",
       "      <td>-0.024231</td>\n",
       "      <td>-0.02066</td>\n",
       "      <td>4.079933</td>\n",
       "      <td>-1.414801</td>\n",
       "      <td>-3.011022</td>\n",
       "      <td>1</td>\n",
       "      <td>...</td>\n",
       "      <td>0</td>\n",
       "      <td>0</td>\n",
       "      <td>0</td>\n",
       "      <td>0</td>\n",
       "      <td>0</td>\n",
       "      <td>0</td>\n",
       "      <td>0</td>\n",
       "      <td>0</td>\n",
       "      <td>9.0</td>\n",
       "      <td>0</td>\n",
       "    </tr>\n",
       "    <tr>\n",
       "      <th>1</th>\n",
       "      <td>-3.182200</td>\n",
       "      <td>-3.260786</td>\n",
       "      <td>-3.270119</td>\n",
       "      <td>-2.037297</td>\n",
       "      <td>-0.024231</td>\n",
       "      <td>-0.02066</td>\n",
       "      <td>3.366161</td>\n",
       "      <td>-3.683655</td>\n",
       "      <td>-3.011022</td>\n",
       "      <td>1</td>\n",
       "      <td>...</td>\n",
       "      <td>0</td>\n",
       "      <td>0</td>\n",
       "      <td>0</td>\n",
       "      <td>0</td>\n",
       "      <td>0</td>\n",
       "      <td>0</td>\n",
       "      <td>0</td>\n",
       "      <td>0</td>\n",
       "      <td>9.0</td>\n",
       "      <td>0</td>\n",
       "    </tr>\n",
       "  </tbody>\n",
       "</table>\n",
       "<p>2 rows × 79 columns</p>\n",
       "</div>"
      ],
      "text/plain": [
       "         f0        f1        f2        f3        f4       f5        f6  \\\n",
       "0 -0.010433 -0.018399 -0.018279 -2.896385 -0.024231 -0.02066  4.079933   \n",
       "1 -3.182200 -3.260786 -3.270119 -2.037297 -0.024231 -0.02066  3.366161   \n",
       "\n",
       "         f7        f8  f9 ...  f69  f70  f71  f72  f73  f74  f75  f76  f77  Y  \n",
       "0 -1.414801 -3.011022   1 ...    0    0    0    0    0    0    0    0  9.0  0  \n",
       "1 -3.683655 -3.011022   1 ...    0    0    0    0    0    0    0    0  9.0  0  \n",
       "\n",
       "[2 rows x 79 columns]"
      ]
     },
     "execution_count": 3,
     "metadata": {},
     "output_type": "execute_result"
    }
   ],
   "source": [
    "# make a list of new column names \n",
    "\"\"\"cols = ['f0', 'f1', 'f2', 'f3', 'f4', 'f5', 'f6', 'f7', 'f8', 'f9', 'f10',\n",
    "       'f11', 'f12', 'f13', 'f14', 'f15', 'f16', 'f17', 'f18', 'f19', 'f20',\n",
    "       'f21', 'f22', 'f23', 'f24', 'f25', 'f26', 'f27', 'f28', 'f29', 'f30',\n",
    "       'f31', 'f32', 'f33', 'f34', 'f35', 'f36', 'f37', 'f38', 'f39', 'f40',\n",
    "       'f41', 'f42', 'f43', 'f44', 'f45', 'f46', 'f47', 'f48', 'f49', 'f50',\n",
    "       'f51', 'f52', 'f53', 'f54', 'f55', 'f56', 'f57', 'f58', 'f59', 'f60',\n",
    "       'f61', 'f62', 'f63', 'f64', 'f65', 'f66', 'f67', 'f68', 'f69', 'f70',\n",
    "       'f71', 'f72', 'f73', 'f74', 'f75', 'f76', 'f77', 'Y1', 'Y2']\"\"\"\n",
    "\n",
    "# read in modeling datafile and rename columns \n",
    "df = pd.read_csv('data/multiclass_modeling.csv', header=0)\n",
    "df.head(2)"
   ]
  },
  {
   "cell_type": "code",
   "execution_count": 4,
   "metadata": {},
   "outputs": [
    {
     "name": "stderr",
     "output_type": "stream",
     "text": [
      "/opt/tljh/user/lib/python3.6/site-packages/xgboost/core.py:587: FutureWarning: Series.base is deprecated and will be removed in a future version\n",
      "  if getattr(data, 'base', None) is not None and \\\n",
      "/opt/tljh/user/lib/python3.6/site-packages/xgboost/core.py:588: FutureWarning: Series.base is deprecated and will be removed in a future version\n",
      "  data.base is not None and isinstance(data, np.ndarray) \\\n",
      "/opt/tljh/user/lib/python3.6/site-packages/sklearn/externals/six.py:31: DeprecationWarning: The module is deprecated in version 0.21 and will be removed in version 0.23 since we've dropped support for Python 2.7. Please rely on the official version of six (https://pypi.org/project/six/).\n",
      "  \"(https://pypi.org/project/six/).\", DeprecationWarning)\n"
     ]
    }
   ],
   "source": [
    "# Split data into features and targets\n",
    "X = df.iloc[:, :-1] # Features\n",
    "Y = df.Y # Target \n",
    "\n",
    "# data matrix will be used in cv of xgboost model \n",
    "data_dmatrix = xgb.DMatrix(data=X,label=Y)\n",
    "\n",
    "# Split dataset into training set and test set using a 70/30 split\n",
    "X_train, X_test, Y_train, Y_test = train_test_split(X, Y, test_size=0.3, random_state=2019)\n",
    "\n",
    "# import the RandomOverSampler package from imblearn\n",
    "# this package will help address the imbalanced nature of the targets \n",
    "from imblearn.over_sampling import RandomOverSampler\n",
    "\n",
    "# define the RandomOverSampler (ros) model\n",
    "ros = RandomOverSampler(random_state=2019)\n",
    "\n",
    "# fit the training data only to the RandomOverSampler model\n",
    "X_train_resample, Y_train_resample = ros.fit_resample(X_train, Y_train)"
   ]
  },
  {
   "cell_type": "code",
   "execution_count": 6,
   "metadata": {},
   "outputs": [],
   "source": [
    "# build xgboost model\n",
    "xg = xgb.XGBClassifier(n_estimators=100, random_state=2019)\n",
    "\n",
    "# fit the training data to the model\n",
    "xg = xg.fit(X_train_resample,Y_train_resample) \n",
    "\n",
    "# predict target \n",
    "Y_pred=xg.predict(X_test)"
   ]
  },
  {
   "cell_type": "code",
   "execution_count": 7,
   "metadata": {},
   "outputs": [
    {
     "name": "stdout",
     "output_type": "stream",
     "text": [
      "F1 Score: 0.7726303813846935\n"
     ]
    }
   ],
   "source": [
    "print(\"F1 Score:\",metrics.f1_score(Y_test, Y_pred, average='weighted'))"
   ]
  },
  {
   "cell_type": "markdown",
   "metadata": {},
   "source": [
    "## CV "
   ]
  },
  {
   "cell_type": "code",
   "execution_count": 11,
   "metadata": {},
   "outputs": [],
   "source": [
    "params = {'colsample_bytree': 0.3,'learning_rate': 0.1,'max_depth': 5, 'alpha': 10}\n",
    "\n",
    "cv_results = xgb.cv(dtrain=data_dmatrix, params=params, nfold=3,\n",
    "                    num_boost_round=50,early_stopping_rounds=10,metrics=\"rmse\", seed=2019)"
   ]
  },
  {
   "cell_type": "code",
   "execution_count": 19,
   "metadata": {},
   "outputs": [
    {
     "data": {
      "text/plain": [
       "<matplotlib.axes._subplots.AxesSubplot at 0x7fcb5dae9f60>"
      ]
     },
     "execution_count": 19,
     "metadata": {},
     "output_type": "execute_result"
    },
    {
     "data": {
      "image/png": "[encoded data removed]",
      "text/plain": [
       "<Figure size 432x288 with 1 Axes>"
      ]
     },
     "metadata": {
      "needs_background": "light"
     },
     "output_type": "display_data"
    }
   ],
   "source": [
    "cv_results['test-rmse-mean'].plot()"
   ]
  },
  {
   "cell_type": "code",
   "execution_count": 17,
   "metadata": {},
   "outputs": [
    {
     "name": "stdout",
     "output_type": "stream",
     "text": [
      "[0]\tvalidation_0-merror:0.154046\tvalidation_1-merror:0.157237\n",
      "[1]\tvalidation_0-merror:0.154046\tvalidation_1-merror:0.157237\n",
      "[2]\tvalidation_0-merror:0.154046\tvalidation_1-merror:0.157237\n",
      "[3]\tvalidation_0-merror:0.154046\tvalidation_1-merror:0.157237\n",
      "[4]\tvalidation_0-merror:0.154046\tvalidation_1-merror:0.157237\n",
      "[5]\tvalidation_0-merror:0.145034\tvalidation_1-merror:0.148017\n",
      "[6]\tvalidation_0-merror:0.145034\tvalidation_1-merror:0.148017\n",
      "[7]\tvalidation_0-merror:0.145034\tvalidation_1-merror:0.148017\n",
      "[8]\tvalidation_0-merror:0.145034\tvalidation_1-merror:0.148017\n",
      "[9]\tvalidation_0-merror:0.146252\tvalidation_1-merror:0.148964\n",
      "[10]\tvalidation_0-merror:0.146252\tvalidation_1-merror:0.148964\n",
      "[11]\tvalidation_0-merror:0.144303\tvalidation_1-merror:0.147323\n",
      "[12]\tvalidation_0-merror:0.144303\tvalidation_1-merror:0.147323\n",
      "[13]\tvalidation_0-merror:0.144303\tvalidation_1-merror:0.147323\n",
      "[14]\tvalidation_0-merror:0.144303\tvalidation_1-merror:0.147323\n",
      "[15]\tvalidation_0-merror:0.144303\tvalidation_1-merror:0.147386\n",
      "[16]\tvalidation_0-merror:0.144303\tvalidation_1-merror:0.147386\n",
      "[17]\tvalidation_0-merror:0.144303\tvalidation_1-merror:0.147386\n",
      "[18]\tvalidation_0-merror:0.144303\tvalidation_1-merror:0.147449\n",
      "[19]\tvalidation_0-merror:0.144357\tvalidation_1-merror:0.147512\n",
      "[20]\tvalidation_0-merror:0.144438\tvalidation_1-merror:0.147638\n",
      "[21]\tvalidation_0-merror:0.139811\tvalidation_1-merror:0.142397\n",
      "[22]\tvalidation_0-merror:0.139838\tvalidation_1-merror:0.142334\n",
      "[23]\tvalidation_0-merror:0.14\tvalidation_1-merror:0.14246\n",
      "[24]\tvalidation_0-merror:0.139432\tvalidation_1-merror:0.141639\n",
      "[25]\tvalidation_0-merror:0.139405\tvalidation_1-merror:0.141639\n",
      "[26]\tvalidation_0-merror:0.139378\tvalidation_1-merror:0.141639\n",
      "[27]\tvalidation_0-merror:0.139378\tvalidation_1-merror:0.141639\n",
      "[28]\tvalidation_0-merror:0.139378\tvalidation_1-merror:0.141702\n",
      "[29]\tvalidation_0-merror:0.139405\tvalidation_1-merror:0.141702\n",
      "[30]\tvalidation_0-merror:0.139323\tvalidation_1-merror:0.141702\n",
      "[31]\tvalidation_0-merror:0.13935\tvalidation_1-merror:0.141702\n",
      "[32]\tvalidation_0-merror:0.13935\tvalidation_1-merror:0.141639\n",
      "[33]\tvalidation_0-merror:0.139432\tvalidation_1-merror:0.141702\n",
      "[34]\tvalidation_0-merror:0.139405\tvalidation_1-merror:0.141639\n",
      "[35]\tvalidation_0-merror:0.139459\tvalidation_1-merror:0.141702\n",
      "[36]\tvalidation_0-merror:0.139459\tvalidation_1-merror:0.141766\n",
      "[37]\tvalidation_0-merror:0.13954\tvalidation_1-merror:0.141702\n",
      "[38]\tvalidation_0-merror:0.139486\tvalidation_1-merror:0.141766\n",
      "[39]\tvalidation_0-merror:0.139486\tvalidation_1-merror:0.141766\n",
      "[40]\tvalidation_0-merror:0.139459\tvalidation_1-merror:0.141766\n",
      "[41]\tvalidation_0-merror:0.139486\tvalidation_1-merror:0.141829\n",
      "[42]\tvalidation_0-merror:0.138755\tvalidation_1-merror:0.14126\n",
      "[43]\tvalidation_0-merror:0.138593\tvalidation_1-merror:0.141387\n",
      "[44]\tvalidation_0-merror:0.137916\tvalidation_1-merror:0.140187\n",
      "[45]\tvalidation_0-merror:0.137889\tvalidation_1-merror:0.14025\n",
      "[46]\tvalidation_0-merror:0.137348\tvalidation_1-merror:0.138608\n",
      "[47]\tvalidation_0-merror:0.1377\tvalidation_1-merror:0.138987\n",
      "[48]\tvalidation_0-merror:0.13659\tvalidation_1-merror:0.138671\n",
      "[49]\tvalidation_0-merror:0.136346\tvalidation_1-merror:0.138545\n",
      "[50]\tvalidation_0-merror:0.136401\tvalidation_1-merror:0.138545\n",
      "[51]\tvalidation_0-merror:0.136292\tvalidation_1-merror:0.138482\n",
      "[52]\tvalidation_0-merror:0.136157\tvalidation_1-merror:0.138482\n",
      "[53]\tvalidation_0-merror:0.136915\tvalidation_1-merror:0.138545\n",
      "[54]\tvalidation_0-merror:0.136834\tvalidation_1-merror:0.138671\n",
      "[55]\tvalidation_0-merror:0.136752\tvalidation_1-merror:0.138608\n",
      "[56]\tvalidation_0-merror:0.136617\tvalidation_1-merror:0.138608\n",
      "[57]\tvalidation_0-merror:0.136509\tvalidation_1-merror:0.138735\n",
      "[58]\tvalidation_0-merror:0.136482\tvalidation_1-merror:0.138419\n",
      "[59]\tvalidation_0-merror:0.136617\tvalidation_1-merror:0.138482\n",
      "[60]\tvalidation_0-merror:0.136698\tvalidation_1-merror:0.138924\n",
      "[61]\tvalidation_0-merror:0.136238\tvalidation_1-merror:0.138924\n",
      "[62]\tvalidation_0-merror:0.13567\tvalidation_1-merror:0.138166\n",
      "[63]\tvalidation_0-merror:0.135291\tvalidation_1-merror:0.137661\n",
      "[64]\tvalidation_0-merror:0.135237\tvalidation_1-merror:0.137598\n",
      "[65]\tvalidation_0-merror:0.135318\tvalidation_1-merror:0.137724\n",
      "[66]\tvalidation_0-merror:0.135426\tvalidation_1-merror:0.137408\n",
      "[67]\tvalidation_0-merror:0.135264\tvalidation_1-merror:0.137156\n",
      "[68]\tvalidation_0-merror:0.135345\tvalidation_1-merror:0.137345\n",
      "[69]\tvalidation_0-merror:0.135345\tvalidation_1-merror:0.137408\n",
      "[70]\tvalidation_0-merror:0.135399\tvalidation_1-merror:0.137345\n",
      "[71]\tvalidation_0-merror:0.135372\tvalidation_1-merror:0.137345\n",
      "[72]\tvalidation_0-merror:0.135291\tvalidation_1-merror:0.137345\n",
      "[73]\tvalidation_0-merror:0.135399\tvalidation_1-merror:0.137282\n",
      "[74]\tvalidation_0-merror:0.135291\tvalidation_1-merror:0.137219\n",
      "[75]\tvalidation_0-merror:0.13521\tvalidation_1-merror:0.137156\n",
      "[76]\tvalidation_0-merror:0.13521\tvalidation_1-merror:0.137156\n",
      "[77]\tvalidation_0-merror:0.13521\tvalidation_1-merror:0.136903\n",
      "[78]\tvalidation_0-merror:0.135399\tvalidation_1-merror:0.13684\n",
      "[79]\tvalidation_0-merror:0.135426\tvalidation_1-merror:0.136777\n",
      "[80]\tvalidation_0-merror:0.135372\tvalidation_1-merror:0.136714\n",
      "[81]\tvalidation_0-merror:0.135399\tvalidation_1-merror:0.136714\n",
      "[82]\tvalidation_0-merror:0.135047\tvalidation_1-merror:0.136903\n",
      "[83]\tvalidation_0-merror:0.135129\tvalidation_1-merror:0.136461\n",
      "[84]\tvalidation_0-merror:0.135101\tvalidation_1-merror:0.136966\n",
      "[85]\tvalidation_0-merror:0.134831\tvalidation_1-merror:0.136903\n",
      "[86]\tvalidation_0-merror:0.134939\tvalidation_1-merror:0.136714\n",
      "[87]\tvalidation_0-merror:0.13475\tvalidation_1-merror:0.136903\n",
      "[88]\tvalidation_0-merror:0.134723\tvalidation_1-merror:0.136966\n",
      "[89]\tvalidation_0-merror:0.134723\tvalidation_1-merror:0.136651\n",
      "[90]\tvalidation_0-merror:0.134506\tvalidation_1-merror:0.13684\n",
      "[91]\tvalidation_0-merror:0.134614\tvalidation_1-merror:0.13684\n",
      "[92]\tvalidation_0-merror:0.134587\tvalidation_1-merror:0.136903\n",
      "[93]\tvalidation_0-merror:0.134398\tvalidation_1-merror:0.13684\n",
      "[94]\tvalidation_0-merror:0.134425\tvalidation_1-merror:0.136588\n",
      "[95]\tvalidation_0-merror:0.134398\tvalidation_1-merror:0.136777\n",
      "[96]\tvalidation_0-merror:0.134425\tvalidation_1-merror:0.136524\n",
      "[97]\tvalidation_0-merror:0.134398\tvalidation_1-merror:0.136588\n",
      "[98]\tvalidation_0-merror:0.134506\tvalidation_1-merror:0.136777\n",
      "[99]\tvalidation_0-merror:0.134452\tvalidation_1-merror:0.13684\n",
      "CPU times: user 21.2 s, sys: 28.4 ms, total: 21.2 s\n",
      "Wall time: 21.2 s\n"
     ]
    },
    {
     "data": {
      "text/plain": [
       "XGBClassifier(base_score=0.5, booster='gbtree', colsample_bylevel=1,\n",
       "              colsample_bytree=1, gamma=0, learning_rate=0.1, max_delta_step=0,\n",
       "              max_depth=3, min_child_weight=1, missing=None, n_estimators=100,\n",
       "              n_jobs=1, nthread=None, objective='multi:softprob',\n",
       "              random_state=2019, reg_alpha=0, reg_lambda=1, scale_pos_weight=1,\n",
       "              seed=None, silent=True, subsample=1)"
      ]
     },
     "execution_count": 17,
     "metadata": {},
     "output_type": "execute_result"
    }
   ],
   "source": [
    "eval_set = [(X_train, Y_train), (X_test, Y_test)]\n",
    "eval_metric = [\"merror\"]\n",
    "%time xg.fit(X_train, Y_train, eval_metric=eval_metric, eval_set=eval_set, verbose=True)"
   ]
  },
  {
   "cell_type": "code",
   "execution_count": null,
   "metadata": {},
   "outputs": [],
   "source": []
  }
 ],
 "metadata": {
  "kernelspec": {
   "display_name": "Python 3",
   "language": "python",
   "name": "python3"
  },
  "language_info": {
   "codemirror_mode": {
    "name": "ipython",
    "version": 3
   },
   "file_extension": ".py",
   "mimetype": "text/x-python",
   "name": "python",
   "nbconvert_exporter": "python",
   "pygments_lexer": "ipython3",
   "version": "3.6.7"
  }
 },
 "nbformat": 4,
 "nbformat_minor": 2
}
