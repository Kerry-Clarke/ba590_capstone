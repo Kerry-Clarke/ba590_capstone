{
 "cells": [
  {
   "cell_type": "markdown",
   "metadata": {},
   "source": [
    "## Multi-Class Modeling using Train-Test-Split"
   ]
  },
  {
   "cell_type": "code",
   "execution_count": 1,
   "metadata": {},
   "outputs": [],
   "source": [
    "# import packages needed for data handling \n",
    "import numpy as np\n",
    "import pandas as pd\n",
    "import matplotlib.pyplot as plt\n",
    "%matplotlib inline\n",
    "plt.style.use('ggplot')\n",
    "import seaborn as sns\n",
    "sns.set(style=\"darkgrid\")\n",
    "\n",
    "# import packages to split the data \n",
    "from sklearn import model_selection\n",
    "from sklearn.model_selection import train_test_split\n",
    "\n",
    "# import models \n",
    "from sklearn.linear_model import LogisticRegression\n",
    "from sklearn.tree import DecisionTreeClassifier  \n",
    "from sklearn.svm import SVC\n",
    "import xgboost as xgb\n",
    "\n",
    "# import required packages for evaluating models\n",
    "from sklearn import metrics\n",
    "from sklearn.metrics import roc_auc_score\n",
    "from sklearn.metrics import f1_score\n",
    "from sklearn.metrics import precision_recall_fscore_support\n",
    "from sklearn.model_selection import cross_val_score"
   ]
  },
  {
   "cell_type": "code",
   "execution_count": 2,
   "metadata": {},
   "outputs": [
    {
     "data": {
      "text/html": [
       "<div>\n",
       "<style scoped>\n",
       "    .dataframe tbody tr th:only-of-type {\n",
       "        vertical-align: middle;\n",
       "    }\n",
       "\n",
       "    .dataframe tbody tr th {\n",
       "        vertical-align: top;\n",
       "    }\n",
       "\n",
       "    .dataframe thead th {\n",
       "        text-align: right;\n",
       "    }\n",
       "</style>\n",
       "<table border=\"1\" class=\"dataframe\">\n",
       "  <thead>\n",
       "    <tr style=\"text-align: right;\">\n",
       "      <th></th>\n",
       "      <th>f0</th>\n",
       "      <th>f1</th>\n",
       "      <th>f2</th>\n",
       "      <th>f3</th>\n",
       "      <th>f4</th>\n",
       "      <th>f5</th>\n",
       "      <th>f6</th>\n",
       "      <th>f7</th>\n",
       "      <th>f8</th>\n",
       "      <th>f9</th>\n",
       "      <th>...</th>\n",
       "      <th>f70</th>\n",
       "      <th>f71</th>\n",
       "      <th>f72</th>\n",
       "      <th>f73</th>\n",
       "      <th>f74</th>\n",
       "      <th>f75</th>\n",
       "      <th>f76</th>\n",
       "      <th>f77</th>\n",
       "      <th>Y1</th>\n",
       "      <th>Y2</th>\n",
       "    </tr>\n",
       "  </thead>\n",
       "  <tbody>\n",
       "    <tr>\n",
       "      <th>0</th>\n",
       "      <td>-0.01821</td>\n",
       "      <td>-0.010433</td>\n",
       "      <td>-0.018399</td>\n",
       "      <td>-0.018279</td>\n",
       "      <td>-2.896385</td>\n",
       "      <td>-0.024231</td>\n",
       "      <td>-0.02066</td>\n",
       "      <td>4.079933</td>\n",
       "      <td>-1.414801</td>\n",
       "      <td>-3.011022</td>\n",
       "      <td>...</td>\n",
       "      <td>0</td>\n",
       "      <td>0</td>\n",
       "      <td>0</td>\n",
       "      <td>0</td>\n",
       "      <td>0</td>\n",
       "      <td>0</td>\n",
       "      <td>0</td>\n",
       "      <td>9.0</td>\n",
       "      <td>0</td>\n",
       "      <td>0</td>\n",
       "    </tr>\n",
       "    <tr>\n",
       "      <th>1</th>\n",
       "      <td>-0.01821</td>\n",
       "      <td>-3.182200</td>\n",
       "      <td>-3.260786</td>\n",
       "      <td>-3.270119</td>\n",
       "      <td>-2.037297</td>\n",
       "      <td>-0.024231</td>\n",
       "      <td>-0.02066</td>\n",
       "      <td>3.366161</td>\n",
       "      <td>-3.683655</td>\n",
       "      <td>-3.011022</td>\n",
       "      <td>...</td>\n",
       "      <td>0</td>\n",
       "      <td>0</td>\n",
       "      <td>0</td>\n",
       "      <td>0</td>\n",
       "      <td>0</td>\n",
       "      <td>0</td>\n",
       "      <td>0</td>\n",
       "      <td>9.0</td>\n",
       "      <td>0</td>\n",
       "      <td>0</td>\n",
       "    </tr>\n",
       "  </tbody>\n",
       "</table>\n",
       "<p>2 rows × 80 columns</p>\n",
       "</div>"
      ],
      "text/plain": [
       "        f0        f1        f2        f3        f4        f5       f6  \\\n",
       "0 -0.01821 -0.010433 -0.018399 -0.018279 -2.896385 -0.024231 -0.02066   \n",
       "1 -0.01821 -3.182200 -3.260786 -3.270119 -2.037297 -0.024231 -0.02066   \n",
       "\n",
       "         f7        f8        f9 ...  f70  f71  f72  f73  f74  f75  f76  f77  \\\n",
       "0  4.079933 -1.414801 -3.011022 ...    0    0    0    0    0    0    0  9.0   \n",
       "1  3.366161 -3.683655 -3.011022 ...    0    0    0    0    0    0    0  9.0   \n",
       "\n",
       "   Y1  Y2  \n",
       "0   0   0  \n",
       "1   0   0  \n",
       "\n",
       "[2 rows x 80 columns]"
      ]
     },
     "execution_count": 2,
     "metadata": {},
     "output_type": "execute_result"
    }
   ],
   "source": [
    "# read in modeling data file\n",
    "cols = ['f0', 'f1', 'f2', 'f3', 'f4', 'f5', 'f6', 'f7', 'f8', 'f9', 'f10',\n",
    "       'f11', 'f12', 'f13', 'f14', 'f15', 'f16', 'f17', 'f18', 'f19', 'f20',\n",
    "       'f21', 'f22', 'f23', 'f24', 'f25', 'f26', 'f27', 'f28', 'f29', 'f30',\n",
    "       'f31', 'f32', 'f33', 'f34', 'f35', 'f36', 'f37', 'f38', 'f39', 'f40',\n",
    "       'f41', 'f42', 'f43', 'f44', 'f45', 'f46', 'f47', 'f48', 'f49', 'f50',\n",
    "       'f51', 'f52', 'f53', 'f54', 'f55', 'f56', 'f57', 'f58', 'f59', 'f60',\n",
    "       'f61', 'f62', 'f63', 'f64', 'f65', 'f66', 'f67', 'f68', 'f69', 'f70',\n",
    "       'f71', 'f72', 'f73', 'f74', 'f75', 'f76', 'f77', 'Y1', 'Y2']\n",
    "\n",
    "df = pd.read_csv('data/modeling.csv', header=0, names=cols)\n",
    "df.head(2)"
   ]
  },
  {
   "cell_type": "code",
   "execution_count": 3,
   "metadata": {},
   "outputs": [
    {
     "data": {
      "text/html": [
       "<div>\n",
       "<style scoped>\n",
       "    .dataframe tbody tr th:only-of-type {\n",
       "        vertical-align: middle;\n",
       "    }\n",
       "\n",
       "    .dataframe tbody tr th {\n",
       "        vertical-align: top;\n",
       "    }\n",
       "\n",
       "    .dataframe thead th {\n",
       "        text-align: right;\n",
       "    }\n",
       "</style>\n",
       "<table border=\"1\" class=\"dataframe\">\n",
       "  <thead>\n",
       "    <tr style=\"text-align: right;\">\n",
       "      <th></th>\n",
       "      <th>f0</th>\n",
       "      <th>f1</th>\n",
       "      <th>f2</th>\n",
       "      <th>f3</th>\n",
       "      <th>f4</th>\n",
       "      <th>f5</th>\n",
       "      <th>f6</th>\n",
       "      <th>f7</th>\n",
       "      <th>f8</th>\n",
       "      <th>f9</th>\n",
       "      <th>...</th>\n",
       "      <th>f71</th>\n",
       "      <th>f72</th>\n",
       "      <th>f73</th>\n",
       "      <th>f74</th>\n",
       "      <th>f75</th>\n",
       "      <th>f76</th>\n",
       "      <th>f77</th>\n",
       "      <th>Y1</th>\n",
       "      <th>Y2</th>\n",
       "      <th>Y</th>\n",
       "    </tr>\n",
       "  </thead>\n",
       "  <tbody>\n",
       "    <tr>\n",
       "      <th>0</th>\n",
       "      <td>-0.01821</td>\n",
       "      <td>-0.010433</td>\n",
       "      <td>-0.018399</td>\n",
       "      <td>-0.018279</td>\n",
       "      <td>-2.896385</td>\n",
       "      <td>-0.024231</td>\n",
       "      <td>-0.02066</td>\n",
       "      <td>4.079933</td>\n",
       "      <td>-1.414801</td>\n",
       "      <td>-3.011022</td>\n",
       "      <td>...</td>\n",
       "      <td>0</td>\n",
       "      <td>0</td>\n",
       "      <td>0</td>\n",
       "      <td>0</td>\n",
       "      <td>0</td>\n",
       "      <td>0</td>\n",
       "      <td>9.0</td>\n",
       "      <td>0</td>\n",
       "      <td>0</td>\n",
       "      <td>0</td>\n",
       "    </tr>\n",
       "    <tr>\n",
       "      <th>1</th>\n",
       "      <td>-0.01821</td>\n",
       "      <td>-3.182200</td>\n",
       "      <td>-3.260786</td>\n",
       "      <td>-3.270119</td>\n",
       "      <td>-2.037297</td>\n",
       "      <td>-0.024231</td>\n",
       "      <td>-0.02066</td>\n",
       "      <td>3.366161</td>\n",
       "      <td>-3.683655</td>\n",
       "      <td>-3.011022</td>\n",
       "      <td>...</td>\n",
       "      <td>0</td>\n",
       "      <td>0</td>\n",
       "      <td>0</td>\n",
       "      <td>0</td>\n",
       "      <td>0</td>\n",
       "      <td>0</td>\n",
       "      <td>9.0</td>\n",
       "      <td>0</td>\n",
       "      <td>0</td>\n",
       "      <td>0</td>\n",
       "    </tr>\n",
       "  </tbody>\n",
       "</table>\n",
       "<p>2 rows × 81 columns</p>\n",
       "</div>"
      ],
      "text/plain": [
       "        f0        f1        f2        f3        f4        f5       f6  \\\n",
       "0 -0.01821 -0.010433 -0.018399 -0.018279 -2.896385 -0.024231 -0.02066   \n",
       "1 -0.01821 -3.182200 -3.260786 -3.270119 -2.037297 -0.024231 -0.02066   \n",
       "\n",
       "         f7        f8        f9 ...  f71  f72  f73  f74  f75  f76  f77  Y1  \\\n",
       "0  4.079933 -1.414801 -3.011022 ...    0    0    0    0    0    0  9.0   0   \n",
       "1  3.366161 -3.683655 -3.011022 ...    0    0    0    0    0    0  9.0   0   \n",
       "\n",
       "   Y2  Y  \n",
       "0   0  0  \n",
       "1   0  0  \n",
       "\n",
       "[2 rows x 81 columns]"
      ]
     },
     "execution_count": 3,
     "metadata": {},
     "output_type": "execute_result"
    }
   ],
   "source": [
    "df['Y']=df['Y1']+df['Y2']\n",
    "df.head(2)"
   ]
  },
  {
   "cell_type": "code",
   "execution_count": 4,
   "metadata": {},
   "outputs": [],
   "source": [
    "df=df.drop(['Y1','Y2'],axis=1)\n",
    "df[df.Y==1].head(2)\n",
    "df.to_csv('data/multiclass_modeling.csv',index=0)"
   ]
  },
  {
   "cell_type": "code",
   "execution_count": 5,
   "metadata": {},
   "outputs": [
    {
     "name": "stderr",
     "output_type": "stream",
     "text": [
      "/opt/tljh/user/lib/python3.6/site-packages/sklearn/externals/six.py:31: DeprecationWarning: The module is deprecated in version 0.21 and will be removed in version 0.23 since we've dropped support for Python 2.7. Please rely on the official version of six (https://pypi.org/project/six/).\n",
      "  \"(https://pypi.org/project/six/).\", DeprecationWarning)\n"
     ]
    }
   ],
   "source": [
    "# Splitting up our data into features and targets\n",
    "X = df.iloc[:, :-1] # Features\n",
    "Y = df.Y # Target \n",
    "\n",
    "# Split dataset into training set and test set using a 70/30 split\n",
    "X_train, X_test, Y_train, Y_test = train_test_split(X, Y, test_size=0.3, random_state=2019)\n",
    "\n",
    "# import the RandomOverSampler package from imblearn\n",
    "# this package will help address the imbalanced nature of the targets \n",
    "from imblearn.over_sampling import RandomOverSampler\n",
    "\n",
    "# define the RandomOverSampler (ros) model\n",
    "ros = RandomOverSampler(random_state=2019)\n",
    "\n",
    "# fit the training data only to the RandomOverSampler model\n",
    "X_train_resample, Y_train_resample = ros.fit_resample(X_train, Y_train)"
   ]
  },
  {
   "cell_type": "markdown",
   "metadata": {},
   "source": [
    "## 1. Decision Tree"
   ]
  },
  {
   "cell_type": "code",
   "execution_count": 6,
   "metadata": {},
   "outputs": [],
   "source": [
    "# build decision tree \n",
    "dt = DecisionTreeClassifier(random_state=2019)\n",
    "\n",
    "# Train Decision Tree Classifer\n",
    "dt = dt.fit(X_train_resample,Y_train_resample)\n",
    "\n",
    "# Predict the target for the test data \n",
    "Y_pred = dt.predict(X_test)"
   ]
  },
  {
   "cell_type": "code",
   "execution_count": 7,
   "metadata": {},
   "outputs": [
    {
     "name": "stdout",
     "output_type": "stream",
     "text": [
      "F1 Score: 0.7750283953721373\n",
      "              precision    recall  f1-score   support\n",
      "\n",
      "           0       0.88      0.88      0.88      5612\n",
      "           1       0.83      0.80      0.81      8692\n",
      "           2       0.16      0.19      0.17      1532\n",
      "\n",
      "    accuracy                           0.77     15836\n",
      "   macro avg       0.62      0.62      0.62     15836\n",
      "weighted avg       0.78      0.77      0.78     15836\n",
      "\n",
      "[[4946  397  269]\n",
      " [ 453 6923 1316]\n",
      " [ 195 1044  293]]\n"
     ]
    }
   ],
   "source": [
    "# Model Accuracy, how often is the Decision Tree correct?\n",
    "print(\"F1 Score:\",metrics.f1_score(Y_test, Y_pred, average='weighted'))\n",
    "\n",
    "# We are going to look at the classification report and also the confusion matrix for the Decision Tree  \n",
    "print(metrics.classification_report(Y_test, Y_pred))\n",
    "print(metrics.confusion_matrix(Y_test, Y_pred))"
   ]
  },
  {
   "cell_type": "code",
   "execution_count": 8,
   "metadata": {},
   "outputs": [
    {
     "data": {
      "text/plain": [
       "f13    0.249884\n",
       "f4     0.121741\n",
       "f23    0.106666\n",
       "f3     0.055055\n",
       "f0     0.041641\n",
       "f1     0.038000\n",
       "f2     0.036830\n",
       "f24    0.029938\n",
       "f25    0.028849\n",
       "f77    0.027980\n",
       "f9     0.017194\n",
       "f12    0.017138\n",
       "f16    0.015297\n",
       "f17    0.015168\n",
       "f8     0.014115\n",
       "f11    0.014065\n",
       "f21    0.012453\n",
       "f10    0.012053\n",
       "f32    0.010785\n",
       "f7     0.010269\n",
       "f74    0.010220\n",
       "f19    0.007851\n",
       "f31    0.007662\n",
       "f20    0.005993\n",
       "f55    0.005949\n",
       "f64    0.005761\n",
       "f26    0.005463\n",
       "f59    0.005195\n",
       "f45    0.004871\n",
       "f34    0.004787\n",
       "         ...   \n",
       "f49    0.001341\n",
       "f37    0.001266\n",
       "f73    0.001193\n",
       "f42    0.001120\n",
       "f53    0.001076\n",
       "f76    0.000803\n",
       "f72    0.000702\n",
       "f68    0.000682\n",
       "f71    0.000557\n",
       "f69    0.000538\n",
       "f58    0.000498\n",
       "f35    0.000460\n",
       "f66    0.000430\n",
       "f61    0.000383\n",
       "f41    0.000378\n",
       "f46    0.000365\n",
       "f27    0.000326\n",
       "f38    0.000288\n",
       "f70    0.000266\n",
       "f60    0.000240\n",
       "f43    0.000240\n",
       "f63    0.000192\n",
       "f28    0.000191\n",
       "f65    0.000147\n",
       "f52    0.000081\n",
       "f67    0.000054\n",
       "f22    0.000000\n",
       "f47    0.000000\n",
       "f6     0.000000\n",
       "f5     0.000000\n",
       "Length: 78, dtype: float64"
      ]
     },
     "execution_count": 8,
     "metadata": {},
     "output_type": "execute_result"
    }
   ],
   "source": [
    "# define the feature importance variable \n",
    "feature_imp = pd.Series(dt.feature_importances_,index=df.iloc[:,:-1].columns).sort_values(ascending=False)\n",
    "\n",
    "# print the results \n",
    "feature_imp"
   ]
  },
  {
   "cell_type": "code",
   "execution_count": 9,
   "metadata": {},
   "outputs": [
    {
     "data": {
      "image/png": "[encoded data removed]",
      "text/plain": [
       "<Figure size 1800x720 with 1 Axes>"
      ]
     },
     "metadata": {
      "needs_background": "light"
     },
     "output_type": "display_data"
    }
   ],
   "source": [
    "# visualize the feature importance values \n",
    "plt.figure(figsize=(25,10))\n",
    "\n",
    "# Creating a bar plot\n",
    "sns.barplot(x=feature_imp.index, y=feature_imp)\n",
    "\n",
    "# Add labels\n",
    "plt.ylabel('Feature Importance Score')\n",
    "plt.xlabel('Features')\n",
    "plt.title(\"Visualizing Important Features\")\n",
    "\n",
    "plt.show()"
   ]
  },
  {
   "cell_type": "markdown",
   "metadata": {},
   "source": [
    "## 2. SVM"
   ]
  },
  {
   "cell_type": "code",
   "execution_count": 10,
   "metadata": {},
   "outputs": [],
   "source": [
    "# define the svm model \n",
    "svc = SVC(kernel='rbf', gamma='auto', random_state=2019)\n",
    "\n",
    "# fit svm model \n",
    "svc = svc.fit(X_train_resample, Y_train_resample)\n",
    "\n",
    "# predict the target using the testing data \n",
    "Y_pred = svc.predict(X_test)"
   ]
  },
  {
   "cell_type": "code",
   "execution_count": 11,
   "metadata": {},
   "outputs": [
    {
     "name": "stdout",
     "output_type": "stream",
     "text": [
      "F1 Score: 0.7632018452830728\n",
      "              precision    recall  f1-score   support\n",
      "\n",
      "           0       0.92      0.91      0.91      5612\n",
      "           1       0.87      0.66      0.75      8692\n",
      "           2       0.20      0.48      0.29      1532\n",
      "\n",
      "    accuracy                           0.73     15836\n",
      "   macro avg       0.66      0.68      0.65     15836\n",
      "weighted avg       0.82      0.73      0.76     15836\n",
      "\n",
      "[[5090  265  257]\n",
      " [ 287 5764 2641]\n",
      " [ 173  622  737]]\n"
     ]
    }
   ],
   "source": [
    "# Model Accuracy, how often is the Decision Tree correct?\n",
    "print(\"F1 Score:\",metrics.f1_score(Y_test, Y_pred, average='weighted'))\n",
    "\n",
    "# We are going to look at the classification report and also the confusion matrix for the Decision Tree  \n",
    "print(metrics.classification_report(Y_test, Y_pred))\n",
    "print(metrics.confusion_matrix(Y_test, Y_pred))"
   ]
  },
  {
   "cell_type": "markdown",
   "metadata": {},
   "source": [
    "### 3. KNeighbors"
   ]
  },
  {
   "cell_type": "code",
   "execution_count": null,
   "metadata": {},
   "outputs": [],
   "source": [
    "# define the svm model \n",
    "kn = KNeighborsClassifier()\n",
    "\n",
    "# fit svm model \n",
    "kn = kn.fit(X_train_resample, Y_train_resample)\n",
    "\n",
    "# predict the target using the testing data \n",
    "Y_pred = kn.predict(X_test)"
   ]
  },
  {
   "cell_type": "code",
   "execution_count": null,
   "metadata": {},
   "outputs": [],
   "source": [
    "# Model Accuracy, how often is the Decision Tree correct?\n",
    "print(\"F1 Score:\",metrics.f1_score(Y_test, Y_pred, average='weighted'))\n",
    "\n",
    "# We are going to look at the classification report and also the confusion matrix for the Decision Tree  \n",
    "print(metrics.classification_report(Y_test, Y_pred))\n",
    "print(metrics.confusion_matrix(Y_test, Y_pred))"
   ]
  },
  {
   "cell_type": "markdown",
   "metadata": {},
   "source": [
    "### 4. AdaBoost"
   ]
  },
  {
   "cell_type": "code",
   "execution_count": null,
   "metadata": {},
   "outputs": [],
   "source": [
    "# define the svm model \n",
    "ada = AdaBoostClassifier(random_state=2019)\n",
    "\n",
    "# fit svm model \n",
    "ada = ada.fit(X_train_resample, Y_train_resample)\n",
    "\n",
    "# predict the target using the testing data \n",
    "Y_pred = ada.predict(X_test)"
   ]
  },
  {
   "cell_type": "code",
   "execution_count": null,
   "metadata": {},
   "outputs": [],
   "source": [
    "# Model Accuracy, how often is the Decision Tree correct?\n",
    "print(\"F1 Score:\",metrics.f1_score(Y_test, Y_pred, average='weighted'))\n",
    "\n",
    "# We are going to look at the classification report and also the confusion matrix for the Decision Tree  \n",
    "print(metrics.classification_report(Y_test, Y_pred))\n",
    "print(metrics.confusion_matrix(Y_test, Y_pred))"
   ]
  },
  {
   "cell_type": "markdown",
   "metadata": {},
   "source": [
    "### 5. XGBoost"
   ]
  },
  {
   "cell_type": "code",
   "execution_count": 12,
   "metadata": {},
   "outputs": [],
   "source": [
    "# build xgboost model\n",
    "xg = xgb.XGBClassifier(n_estimators=100, random_state=2019)\n",
    "\n",
    "# fit the training data to the model\n",
    "xg = xg.fit(X_train_resample,Y_train_resample) \n",
    "\n",
    "# run the model using test data \n",
    "Y_pred=xg.predict(X_test)"
   ]
  },
  {
   "cell_type": "code",
   "execution_count": 13,
   "metadata": {},
   "outputs": [
    {
     "name": "stdout",
     "output_type": "stream",
     "text": [
      "F1 Score: 0.7632550411392073\n",
      "              precision    recall  f1-score   support\n",
      "\n",
      "           0       0.91      0.92      0.91      5612\n",
      "           1       0.87      0.66      0.75      8692\n",
      "           2       0.20      0.46      0.28      1532\n",
      "\n",
      "    accuracy                           0.73     15836\n",
      "   macro avg       0.66      0.68      0.65     15836\n",
      "weighted avg       0.82      0.73      0.76     15836\n",
      "\n",
      "[[5163  238  211]\n",
      " [ 328 5745 2619]\n",
      " [ 186  634  712]]\n"
     ]
    }
   ],
   "source": [
    "# evluate xgboost\n",
    "print(\"F1 Score:\",metrics.f1_score(Y_test, Y_pred, average='weighted'))\n",
    "\n",
    "# We are going to look at the classification report and also the confusion matrix for the Decision Tree  \n",
    "print(metrics.classification_report(Y_test, Y_pred))\n",
    "print(metrics.confusion_matrix(Y_test, Y_pred))"
   ]
  },
  {
   "cell_type": "code",
   "execution_count": null,
   "metadata": {},
   "outputs": [],
   "source": [
    "# visualize the feature importances according to the xgboost model\n",
    "xgb.plot_importance(xg)\n",
    "plt.rcParams['figure.figsize'] = [20, 10]\n",
    "plt.show()"
   ]
  },
  {
   "cell_type": "markdown",
   "metadata": {},
   "source": [
    "## 6. Random Forest"
   ]
  },
  {
   "cell_type": "code",
   "execution_count": null,
   "metadata": {},
   "outputs": [],
   "source": [
    "# build decision tree \n",
    "rf = RandomForestClassifier(n_estimators=100, random_state=2019)\n",
    "\n",
    "# Train Decision Tree Classifer\n",
    "rf = rf.fit(X_train_resample, Y_train_resample)\n",
    "\n",
    "# Predict the target for the test data \n",
    "Y_pred = rf.predict(X_test)"
   ]
  },
  {
   "cell_type": "code",
   "execution_count": null,
   "metadata": {},
   "outputs": [],
   "source": [
    "# Model Accuracy, how often is the Decision Tree correct?\n",
    "print(\"F1 Score:\",metrics.f1_score(Y_test, Y_pred, average='weighted'))\n",
    "\n",
    "# We are going to look at the classification report and also the confusion matrix for the Decision Tree  \n",
    "print(metrics.classification_report(Y_test, Y_pred))\n",
    "print(metrics.confusion_matrix(Y_test, Y_pred))"
   ]
  },
  {
   "cell_type": "code",
   "execution_count": null,
   "metadata": {},
   "outputs": [],
   "source": []
  }
 ],
 "metadata": {
  "kernelspec": {
   "display_name": "Python 3",
   "language": "python",
   "name": "python3"
  },
  "language_info": {
   "codemirror_mode": {
    "name": "ipython",
    "version": 3
   },
   "file_extension": ".py",
   "mimetype": "text/x-python",
   "name": "python",
   "nbconvert_exporter": "python",
   "pygments_lexer": "ipython3",
   "version": "3.6.7"
  }
 },
 "nbformat": 4,
 "nbformat_minor": 2
}
