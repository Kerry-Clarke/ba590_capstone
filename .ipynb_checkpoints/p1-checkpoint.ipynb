{
 "cells": [
  {
   "cell_type": "code",
   "execution_count": 1,
   "metadata": {},
   "outputs": [],
   "source": [
    "# import preprocessing packages \n",
    "import numpy as np\n",
    "import pandas as pd\n",
    "import matplotlib.pyplot as plt\n",
    "%matplotlib inline\n",
    "plt.style.use('ggplot')\n",
    "import seaborn as sns\n",
    "sns.set(style=\"darkgrid\")"
   ]
  },
  {
   "cell_type": "code",
   "execution_count": 2,
   "metadata": {},
   "outputs": [
    {
     "data": {
      "text/html": [
       "<div>\n",
       "<style scoped>\n",
       "    .dataframe tbody tr th:only-of-type {\n",
       "        vertical-align: middle;\n",
       "    }\n",
       "\n",
       "    .dataframe tbody tr th {\n",
       "        vertical-align: top;\n",
       "    }\n",
       "\n",
       "    .dataframe thead th {\n",
       "        text-align: right;\n",
       "    }\n",
       "</style>\n",
       "<table border=\"1\" class=\"dataframe\">\n",
       "  <thead>\n",
       "    <tr style=\"text-align: right;\">\n",
       "      <th></th>\n",
       "      <th>ACT</th>\n",
       "      <th>SAT Math USE</th>\n",
       "      <th>SAT Reading USE</th>\n",
       "      <th>RGPA</th>\n",
       "      <th>Class Rank</th>\n",
       "      <th>Class Size</th>\n",
       "      <th>Class Percentile</th>\n",
       "      <th>Rating</th>\n",
       "    </tr>\n",
       "  </thead>\n",
       "  <tbody>\n",
       "    <tr>\n",
       "      <th>0</th>\n",
       "      <td>NaN</td>\n",
       "      <td>NaN</td>\n",
       "      <td>NaN</td>\n",
       "      <td>2.15</td>\n",
       "      <td>213.0</td>\n",
       "      <td>213.0</td>\n",
       "      <td>0.00</td>\n",
       "      <td>9.0</td>\n",
       "    </tr>\n",
       "    <tr>\n",
       "      <th>1</th>\n",
       "      <td>NaN</td>\n",
       "      <td>450.0</td>\n",
       "      <td>440.0</td>\n",
       "      <td>2.52</td>\n",
       "      <td>137.0</td>\n",
       "      <td>138.0</td>\n",
       "      <td>0.01</td>\n",
       "      <td>9.0</td>\n",
       "    </tr>\n",
       "    <tr>\n",
       "      <th>2</th>\n",
       "      <td>18.0</td>\n",
       "      <td>NaN</td>\n",
       "      <td>NaN</td>\n",
       "      <td>1.24</td>\n",
       "      <td>65.0</td>\n",
       "      <td>66.0</td>\n",
       "      <td>0.02</td>\n",
       "      <td>9.0</td>\n",
       "    </tr>\n",
       "    <tr>\n",
       "      <th>3</th>\n",
       "      <td>NaN</td>\n",
       "      <td>NaN</td>\n",
       "      <td>NaN</td>\n",
       "      <td>1.90</td>\n",
       "      <td>121.0</td>\n",
       "      <td>125.0</td>\n",
       "      <td>0.03</td>\n",
       "      <td>9.0</td>\n",
       "    </tr>\n",
       "    <tr>\n",
       "      <th>4</th>\n",
       "      <td>NaN</td>\n",
       "      <td>NaN</td>\n",
       "      <td>NaN</td>\n",
       "      <td>NaN</td>\n",
       "      <td>109.0</td>\n",
       "      <td>113.0</td>\n",
       "      <td>0.04</td>\n",
       "      <td>NaN</td>\n",
       "    </tr>\n",
       "  </tbody>\n",
       "</table>\n",
       "</div>"
      ],
      "text/plain": [
       "    ACT  SAT Math USE  SAT Reading USE  RGPA  Class Rank  Class Size  \\\n",
       "0   NaN           NaN              NaN  2.15       213.0       213.0   \n",
       "1   NaN         450.0            440.0  2.52       137.0       138.0   \n",
       "2  18.0           NaN              NaN  1.24        65.0        66.0   \n",
       "3   NaN           NaN              NaN  1.90       121.0       125.0   \n",
       "4   NaN           NaN              NaN   NaN       109.0       113.0   \n",
       "\n",
       "   Class Percentile  Rating  \n",
       "0              0.00     9.0  \n",
       "1              0.01     9.0  \n",
       "2              0.02     9.0  \n",
       "3              0.03     9.0  \n",
       "4              0.04     NaN  "
      ]
     },
     "execution_count": 2,
     "metadata": {},
     "output_type": "execute_result"
    }
   ],
   "source": [
    "df = pd.read_csv('data/continuous.csv')\n",
    "df.head()"
   ]
  },
  {
   "cell_type": "code",
   "execution_count": 3,
   "metadata": {},
   "outputs": [
    {
     "name": "stdout",
     "output_type": "stream",
     "text": [
      "['ACT'] [ACT                 41479\n",
      "SAT Math USE        30941\n",
      "SAT Reading USE     30940\n",
      "RGPA                13145\n",
      "Class Rank          46848\n",
      "Class Size          46849\n",
      "Class Percentile    47475\n",
      "Rating              12362\n",
      "dtype: int64]\n"
     ]
    }
   ],
   "source": [
    "# count how many missing values each feature in the main dataframe has \n",
    "names = []\n",
    "val = []\n",
    "\n",
    "for col in df.columns:\n",
    "    names.append(col)\n",
    "    val.append(df[df.columns].isnull().sum())\n",
    "    break\n",
    "# print out results as (column_name, # of null values in column_name)\n",
    "print(names, val)"
   ]
  },
  {
   "cell_type": "code",
   "execution_count": 18,
   "metadata": {},
   "outputs": [
    {
     "data": {
      "image/png": "[encoded data removed]",
      "text/plain": [
       "<Figure size 432x288 with 9 Axes>"
      ]
     },
     "metadata": {
      "needs_background": "light"
     },
     "output_type": "display_data"
    }
   ],
   "source": [
    "# exmaine the features in the dfcont dataframe \n",
    "for col in df.columns:\n",
    "    #fig = plt.figure(figsize=(50,30))\n",
    "    df.hist(color='blue')\n",
    "    break\n",
    "plt.show()"
   ]
  },
  {
   "cell_type": "code",
   "execution_count": 5,
   "metadata": {},
   "outputs": [
    {
     "data": {
      "text/html": [
       "<div>\n",
       "<style scoped>\n",
       "    .dataframe tbody tr th:only-of-type {\n",
       "        vertical-align: middle;\n",
       "    }\n",
       "\n",
       "    .dataframe tbody tr th {\n",
       "        vertical-align: top;\n",
       "    }\n",
       "\n",
       "    .dataframe thead th {\n",
       "        text-align: right;\n",
       "    }\n",
       "</style>\n",
       "<table border=\"1\" class=\"dataframe\">\n",
       "  <thead>\n",
       "    <tr style=\"text-align: right;\">\n",
       "      <th></th>\n",
       "      <th>ACT</th>\n",
       "      <th>SAT Math USE</th>\n",
       "      <th>SAT Reading USE</th>\n",
       "      <th>RGPA</th>\n",
       "      <th>Class Rank</th>\n",
       "      <th>Class Size</th>\n",
       "      <th>Class Percentile</th>\n",
       "      <th>Rating</th>\n",
       "    </tr>\n",
       "  </thead>\n",
       "  <tbody>\n",
       "    <tr>\n",
       "      <th>count</th>\n",
       "      <td>12899.000000</td>\n",
       "      <td>23437.000000</td>\n",
       "      <td>23438.000000</td>\n",
       "      <td>41233.000000</td>\n",
       "      <td>7530.00000</td>\n",
       "      <td>7529.000000</td>\n",
       "      <td>6903.000000</td>\n",
       "      <td>42016.000000</td>\n",
       "    </tr>\n",
       "    <tr>\n",
       "      <th>mean</th>\n",
       "      <td>27.098302</td>\n",
       "      <td>615.207151</td>\n",
       "      <td>627.147368</td>\n",
       "      <td>3.395161</td>\n",
       "      <td>70.44927</td>\n",
       "      <td>270.219418</td>\n",
       "      <td>20.109756</td>\n",
       "      <td>4.535463</td>\n",
       "    </tr>\n",
       "    <tr>\n",
       "      <th>std</th>\n",
       "      <td>3.435485</td>\n",
       "      <td>78.432632</td>\n",
       "      <td>69.332167</td>\n",
       "      <td>0.527110</td>\n",
       "      <td>70.95937</td>\n",
       "      <td>161.465704</td>\n",
       "      <td>33.889749</td>\n",
       "      <td>1.679363</td>\n",
       "    </tr>\n",
       "    <tr>\n",
       "      <th>min</th>\n",
       "      <td>12.000000</td>\n",
       "      <td>200.000000</td>\n",
       "      <td>260.000000</td>\n",
       "      <td>0.560000</td>\n",
       "      <td>1.00000</td>\n",
       "      <td>12.000000</td>\n",
       "      <td>0.000000</td>\n",
       "      <td>1.000000</td>\n",
       "    </tr>\n",
       "    <tr>\n",
       "      <th>25%</th>\n",
       "      <td>25.000000</td>\n",
       "      <td>570.000000</td>\n",
       "      <td>590.000000</td>\n",
       "      <td>3.050000</td>\n",
       "      <td>22.00000</td>\n",
       "      <td>153.000000</td>\n",
       "      <td>0.660000</td>\n",
       "      <td>3.000000</td>\n",
       "    </tr>\n",
       "    <tr>\n",
       "      <th>50%</th>\n",
       "      <td>27.000000</td>\n",
       "      <td>620.000000</td>\n",
       "      <td>640.000000</td>\n",
       "      <td>3.440000</td>\n",
       "      <td>50.00000</td>\n",
       "      <td>237.000000</td>\n",
       "      <td>0.860000</td>\n",
       "      <td>4.000000</td>\n",
       "    </tr>\n",
       "    <tr>\n",
       "      <th>75%</th>\n",
       "      <td>30.000000</td>\n",
       "      <td>670.000000</td>\n",
       "      <td>680.000000</td>\n",
       "      <td>3.790000</td>\n",
       "      <td>95.00000</td>\n",
       "      <td>368.000000</td>\n",
       "      <td>34.500000</td>\n",
       "      <td>6.000000</td>\n",
       "    </tr>\n",
       "    <tr>\n",
       "      <th>max</th>\n",
       "      <td>36.000000</td>\n",
       "      <td>800.000000</td>\n",
       "      <td>800.000000</td>\n",
       "      <td>6.020000</td>\n",
       "      <td>805.00000</td>\n",
       "      <td>1617.000000</td>\n",
       "      <td>99.000000</td>\n",
       "      <td>9.000000</td>\n",
       "    </tr>\n",
       "  </tbody>\n",
       "</table>\n",
       "</div>"
      ],
      "text/plain": [
       "                ACT  SAT Math USE  SAT Reading USE          RGPA  Class Rank  \\\n",
       "count  12899.000000  23437.000000     23438.000000  41233.000000  7530.00000   \n",
       "mean      27.098302    615.207151       627.147368      3.395161    70.44927   \n",
       "std        3.435485     78.432632        69.332167      0.527110    70.95937   \n",
       "min       12.000000    200.000000       260.000000      0.560000     1.00000   \n",
       "25%       25.000000    570.000000       590.000000      3.050000    22.00000   \n",
       "50%       27.000000    620.000000       640.000000      3.440000    50.00000   \n",
       "75%       30.000000    670.000000       680.000000      3.790000    95.00000   \n",
       "max       36.000000    800.000000       800.000000      6.020000   805.00000   \n",
       "\n",
       "        Class Size  Class Percentile        Rating  \n",
       "count  7529.000000       6903.000000  42016.000000  \n",
       "mean    270.219418         20.109756      4.535463  \n",
       "std     161.465704         33.889749      1.679363  \n",
       "min      12.000000          0.000000      1.000000  \n",
       "25%     153.000000          0.660000      3.000000  \n",
       "50%     237.000000          0.860000      4.000000  \n",
       "75%     368.000000         34.500000      6.000000  \n",
       "max    1617.000000         99.000000      9.000000  "
      ]
     },
     "execution_count": 5,
     "metadata": {},
     "output_type": "execute_result"
    }
   ],
   "source": [
    "df.describe()"
   ]
  },
  {
   "cell_type": "code",
   "execution_count": 6,
   "metadata": {},
   "outputs": [
    {
     "name": "stdout",
     "output_type": "stream",
     "text": [
      "[0, 0, 0, 0, 0, 0, 0, 0]\n"
     ]
    }
   ],
   "source": [
    "# replace null value with mean because we have continuous variables and the features are too skewed to use the mode \n",
    "for value in df.columns:\n",
    "    df.fillna(df.mean(), inplace=True)\n",
    "print(df.isnull().sum(axis=0).tolist())"
   ]
  },
  {
   "cell_type": "code",
   "execution_count": 21,
   "metadata": {},
   "outputs": [
    {
     "data": {
      "text/html": [
       "<div>\n",
       "<style scoped>\n",
       "    .dataframe tbody tr th:only-of-type {\n",
       "        vertical-align: middle;\n",
       "    }\n",
       "\n",
       "    .dataframe tbody tr th {\n",
       "        vertical-align: top;\n",
       "    }\n",
       "\n",
       "    .dataframe thead th {\n",
       "        text-align: right;\n",
       "    }\n",
       "</style>\n",
       "<table border=\"1\" class=\"dataframe\">\n",
       "  <thead>\n",
       "    <tr style=\"text-align: right;\">\n",
       "      <th></th>\n",
       "      <th>ACT</th>\n",
       "      <th>SAT Math USE</th>\n",
       "      <th>SAT Reading USE</th>\n",
       "      <th>RGPA</th>\n",
       "      <th>Class Rank</th>\n",
       "      <th>Class Size</th>\n",
       "      <th>Class Percentile</th>\n",
       "      <th>Rating</th>\n",
       "    </tr>\n",
       "  </thead>\n",
       "  <tbody>\n",
       "    <tr>\n",
       "      <th>count</th>\n",
       "      <td>54378.000000</td>\n",
       "      <td>54378.000000</td>\n",
       "      <td>54378.000000</td>\n",
       "      <td>54378.000000</td>\n",
       "      <td>54378.000000</td>\n",
       "      <td>54378.000000</td>\n",
       "      <td>54378.000000</td>\n",
       "      <td>54378.000000</td>\n",
       "    </tr>\n",
       "    <tr>\n",
       "      <th>mean</th>\n",
       "      <td>27.098302</td>\n",
       "      <td>615.207151</td>\n",
       "      <td>627.147368</td>\n",
       "      <td>3.395161</td>\n",
       "      <td>70.449270</td>\n",
       "      <td>270.219418</td>\n",
       "      <td>20.109756</td>\n",
       "      <td>4.535463</td>\n",
       "    </tr>\n",
       "    <tr>\n",
       "      <th>std</th>\n",
       "      <td>1.673176</td>\n",
       "      <td>51.490951</td>\n",
       "      <td>45.517475</td>\n",
       "      <td>0.458998</td>\n",
       "      <td>26.404064</td>\n",
       "      <td>60.077586</td>\n",
       "      <td>12.073918</td>\n",
       "      <td>1.476179</td>\n",
       "    </tr>\n",
       "    <tr>\n",
       "      <th>min</th>\n",
       "      <td>12.000000</td>\n",
       "      <td>200.000000</td>\n",
       "      <td>260.000000</td>\n",
       "      <td>0.560000</td>\n",
       "      <td>1.000000</td>\n",
       "      <td>12.000000</td>\n",
       "      <td>0.000000</td>\n",
       "      <td>1.000000</td>\n",
       "    </tr>\n",
       "    <tr>\n",
       "      <th>25%</th>\n",
       "      <td>27.098302</td>\n",
       "      <td>615.207151</td>\n",
       "      <td>627.147368</td>\n",
       "      <td>3.190000</td>\n",
       "      <td>70.449270</td>\n",
       "      <td>270.219418</td>\n",
       "      <td>20.109756</td>\n",
       "      <td>4.000000</td>\n",
       "    </tr>\n",
       "    <tr>\n",
       "      <th>50%</th>\n",
       "      <td>27.098302</td>\n",
       "      <td>615.207151</td>\n",
       "      <td>627.147368</td>\n",
       "      <td>3.395161</td>\n",
       "      <td>70.449270</td>\n",
       "      <td>270.219418</td>\n",
       "      <td>20.109756</td>\n",
       "      <td>4.535463</td>\n",
       "    </tr>\n",
       "    <tr>\n",
       "      <th>75%</th>\n",
       "      <td>27.098302</td>\n",
       "      <td>615.207151</td>\n",
       "      <td>627.147368</td>\n",
       "      <td>3.670000</td>\n",
       "      <td>70.449270</td>\n",
       "      <td>270.219418</td>\n",
       "      <td>20.109756</td>\n",
       "      <td>5.000000</td>\n",
       "    </tr>\n",
       "    <tr>\n",
       "      <th>max</th>\n",
       "      <td>36.000000</td>\n",
       "      <td>800.000000</td>\n",
       "      <td>800.000000</td>\n",
       "      <td>6.020000</td>\n",
       "      <td>805.000000</td>\n",
       "      <td>1617.000000</td>\n",
       "      <td>99.000000</td>\n",
       "      <td>9.000000</td>\n",
       "    </tr>\n",
       "  </tbody>\n",
       "</table>\n",
       "</div>"
      ],
      "text/plain": [
       "                ACT  SAT Math USE  SAT Reading USE          RGPA  \\\n",
       "count  54378.000000  54378.000000     54378.000000  54378.000000   \n",
       "mean      27.098302    615.207151       627.147368      3.395161   \n",
       "std        1.673176     51.490951        45.517475      0.458998   \n",
       "min       12.000000    200.000000       260.000000      0.560000   \n",
       "25%       27.098302    615.207151       627.147368      3.190000   \n",
       "50%       27.098302    615.207151       627.147368      3.395161   \n",
       "75%       27.098302    615.207151       627.147368      3.670000   \n",
       "max       36.000000    800.000000       800.000000      6.020000   \n",
       "\n",
       "         Class Rank    Class Size  Class Percentile        Rating  \n",
       "count  54378.000000  54378.000000      54378.000000  54378.000000  \n",
       "mean      70.449270    270.219418         20.109756      4.535463  \n",
       "std       26.404064     60.077586         12.073918      1.476179  \n",
       "min        1.000000     12.000000          0.000000      1.000000  \n",
       "25%       70.449270    270.219418         20.109756      4.000000  \n",
       "50%       70.449270    270.219418         20.109756      4.535463  \n",
       "75%       70.449270    270.219418         20.109756      5.000000  \n",
       "max      805.000000   1617.000000         99.000000      9.000000  "
      ]
     },
     "execution_count": 21,
     "metadata": {},
     "output_type": "execute_result"
    }
   ],
   "source": [
    "df.describe()"
   ]
  },
  {
   "cell_type": "code",
   "execution_count": 15,
   "metadata": {},
   "outputs": [
    {
     "data": {
      "image/png": "[encoded data removed]",
      "text/plain": [
       "<Figure size 1080x720 with 1 Axes>"
      ]
     },
     "metadata": {
      "needs_background": "light"
     },
     "output_type": "display_data"
    }
   ],
   "source": [
    "# exmaine the features in the dfcont dataframe \n",
    "for col in df.columns:\n",
    "    fig = plt.figure(figsize=(15,10))\n",
    "    df.boxplot()\n",
    "    break\n",
    "plt.show()"
   ]
  },
  {
   "cell_type": "code",
   "execution_count": 19,
   "metadata": {},
   "outputs": [
    {
     "name": "stdout",
     "output_type": "stream",
     "text": [
      "ACT                 0.00\n",
      "SAT Math USE        0.00\n",
      "SAT Reading USE     0.00\n",
      "RGPA                0.48\n",
      "Class Rank          0.00\n",
      "Class Size          0.00\n",
      "Class Percentile    0.00\n",
      "Rating              1.00\n",
      "dtype: float64\n"
     ]
    }
   ],
   "source": [
    "# finding IQR for each column\n",
    "Q1 = df.quantile(0.25)\n",
    "Q3 = df.quantile(0.75)\n",
    "IQR = Q3 - Q1\n",
    "print(IQR)"
   ]
  },
  {
   "cell_type": "code",
   "execution_count": 20,
   "metadata": {},
   "outputs": [],
   "source": [
    "# define upper bound\n",
    "upper = Q3 + 1.5 * IQR\n",
    "# define lower bound \n",
    "lower = Q1 - 1.5 * IQR\n",
    "# define outlier variable \n",
    "# below is equivalent to this formula: outlier = (df < (Q1 - 1.5 * IQR)) | (df > (Q3 + 1.5 * IQR))\n",
    "outlier = (df < lower) | (df > upper)"
   ]
  },
  {
   "cell_type": "code",
   "execution_count": 22,
   "metadata": {},
   "outputs": [],
   "source": [
    "# define upper and lower lists\n",
    "upper = []\n",
    "lower = []\n",
    "\n",
    "# create for loop that will iterate over each value in every column\n",
    "for i in df.columns:\n",
    "    # define Q1 and Q3 for each column\n",
    "    Q1 = df[i].quantile(0.25)\n",
    "    Q3 = df[i].quantile(0.75)\n",
    "    # define IQR for each column\n",
    "    IQR = Q3 - Q1\n",
    "    # append empty lists upper and lower\n",
    "    upper_list = Q3 + 1.5 * IQR\n",
    "    upper.append(upper_list)\n",
    "    lower_list = Q1 - 1.5 * IQR\n",
    "    lower.append(lower_list)"
   ]
  },
  {
   "cell_type": "code",
   "execution_count": 23,
   "metadata": {},
   "outputs": [],
   "source": [
    "# define the function that will replace outlier values in each column with the appropriate upper or lower limit \n",
    "def outlier_handling(x, upper, lower):\n",
    "    if x > upper:\n",
    "        x = upper\n",
    "    elif x < lower:\n",
    "            x = lower\n",
    "    else:\n",
    "        pass\n",
    "    return x"
   ]
  },
  {
   "cell_type": "code",
   "execution_count": 24,
   "metadata": {},
   "outputs": [],
   "source": [
    "# apply the outlier handling function to the df dataframe to replace the outlier values in each column\n",
    "for col in df.columns:\n",
    "    q1 = df.loc[:, col].quantile(0.25)\n",
    "    q3 = df.loc[:, col].quantile(0.75)\n",
    "    IQR = q3 - q1\n",
    "    lbound = q1 - 1.5*IQR\n",
    "    ubound = q3 + 1.5*IQR\n",
    "    df.loc[:, col] = df.loc[:, col].apply(lambda x: outlier_handling(x, ubound,lbound))"
   ]
  },
  {
   "cell_type": "code",
   "execution_count": 25,
   "metadata": {},
   "outputs": [
    {
     "data": {
      "image/png": "[encoded data removed]",
      "text/plain": [
       "<Figure size 1080x720 with 1 Axes>"
      ]
     },
     "metadata": {
      "needs_background": "light"
     },
     "output_type": "display_data"
    }
   ],
   "source": [
    "# exmaine the features in the dfcont dataframe \n",
    "for col in df.columns:\n",
    "    fig = plt.figure(figsize=(15,10))\n",
    "    df.boxplot()\n",
    "    break\n",
    "plt.show()"
   ]
  },
  {
   "cell_type": "code",
   "execution_count": null,
   "metadata": {},
   "outputs": [],
   "source": []
  }
 ],
 "metadata": {
  "kernelspec": {
   "display_name": "Python 3",
   "language": "python",
   "name": "python3"
  },
  "language_info": {
   "codemirror_mode": {
    "name": "ipython",
    "version": 3
   },
   "file_extension": ".py",
   "mimetype": "text/x-python",
   "name": "python",
   "nbconvert_exporter": "python",
   "pygments_lexer": "ipython3",
   "version": "3.6.7"
  }
 },
 "nbformat": 4,
 "nbformat_minor": 2
}
