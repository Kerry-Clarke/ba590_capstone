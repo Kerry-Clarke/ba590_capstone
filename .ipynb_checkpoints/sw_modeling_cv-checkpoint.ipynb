{
 "cells": [
  {
   "cell_type": "markdown",
   "metadata": {},
   "source": [
    "## Step-Wise Modeling using Cross Validation"
   ]
  },
  {
   "cell_type": "code",
   "execution_count": 1,
   "metadata": {},
   "outputs": [],
   "source": [
    "# import basic packages \n",
    "import numpy as np\n",
    "import pandas as pd\n",
    "import matplotlib.pyplot as plt\n",
    "%matplotlib inline\n",
    "plt.style.use('ggplot')\n",
    "import seaborn as sns\n",
    "sns.set(style=\"darkgrid\")\n",
    "\n",
    "# import packages for Cross Validation\n",
    "from sklearn.model_selection import cross_val_score\n",
    "from sklearn.model_selection import StratifiedKFold\n",
    "\n",
    "# import modeling packages \n",
    "from sklearn.linear_model import LogisticRegression\n",
    "from sklearn.tree import DecisionTreeClassifier\n",
    "from sklearn.neighbors import KNeighborsClassifier\n",
    "from sklearn.svm import SVC\n",
    "from sklearn.ensemble import AdaBoostClassifier\n",
    "import xgboost as xgb"
   ]
  },
  {
   "cell_type": "code",
   "execution_count": 2,
   "metadata": {},
   "outputs": [
    {
     "data": {
      "text/html": [
       "<div>\n",
       "<style scoped>\n",
       "    .dataframe tbody tr th:only-of-type {\n",
       "        vertical-align: middle;\n",
       "    }\n",
       "\n",
       "    .dataframe tbody tr th {\n",
       "        vertical-align: top;\n",
       "    }\n",
       "\n",
       "    .dataframe thead th {\n",
       "        text-align: right;\n",
       "    }\n",
       "</style>\n",
       "<table border=\"1\" class=\"dataframe\">\n",
       "  <thead>\n",
       "    <tr style=\"text-align: right;\">\n",
       "      <th></th>\n",
       "      <th>f0</th>\n",
       "      <th>f1</th>\n",
       "      <th>f2</th>\n",
       "      <th>f3</th>\n",
       "      <th>f4</th>\n",
       "      <th>f5</th>\n",
       "      <th>f6</th>\n",
       "      <th>f7</th>\n",
       "      <th>f8</th>\n",
       "      <th>f9</th>\n",
       "      <th>...</th>\n",
       "      <th>f70</th>\n",
       "      <th>f71</th>\n",
       "      <th>f72</th>\n",
       "      <th>f73</th>\n",
       "      <th>f74</th>\n",
       "      <th>f75</th>\n",
       "      <th>f76</th>\n",
       "      <th>f77</th>\n",
       "      <th>Y1</th>\n",
       "      <th>Y2</th>\n",
       "    </tr>\n",
       "  </thead>\n",
       "  <tbody>\n",
       "    <tr>\n",
       "      <th>0</th>\n",
       "      <td>-0.01821</td>\n",
       "      <td>-0.010433</td>\n",
       "      <td>-0.018399</td>\n",
       "      <td>-0.018279</td>\n",
       "      <td>-2.896385</td>\n",
       "      <td>-0.024231</td>\n",
       "      <td>-0.02066</td>\n",
       "      <td>4.079933</td>\n",
       "      <td>-1.414801</td>\n",
       "      <td>-3.011022</td>\n",
       "      <td>...</td>\n",
       "      <td>0</td>\n",
       "      <td>0</td>\n",
       "      <td>0</td>\n",
       "      <td>0</td>\n",
       "      <td>0</td>\n",
       "      <td>0</td>\n",
       "      <td>0</td>\n",
       "      <td>9.0</td>\n",
       "      <td>0</td>\n",
       "      <td>0</td>\n",
       "    </tr>\n",
       "    <tr>\n",
       "      <th>1</th>\n",
       "      <td>-0.01821</td>\n",
       "      <td>-3.182200</td>\n",
       "      <td>-3.260786</td>\n",
       "      <td>-3.270119</td>\n",
       "      <td>-2.037297</td>\n",
       "      <td>-0.024231</td>\n",
       "      <td>-0.02066</td>\n",
       "      <td>3.366161</td>\n",
       "      <td>-3.683655</td>\n",
       "      <td>-3.011022</td>\n",
       "      <td>...</td>\n",
       "      <td>0</td>\n",
       "      <td>0</td>\n",
       "      <td>0</td>\n",
       "      <td>0</td>\n",
       "      <td>0</td>\n",
       "      <td>0</td>\n",
       "      <td>0</td>\n",
       "      <td>9.0</td>\n",
       "      <td>0</td>\n",
       "      <td>0</td>\n",
       "    </tr>\n",
       "  </tbody>\n",
       "</table>\n",
       "<p>2 rows × 80 columns</p>\n",
       "</div>"
      ],
      "text/plain": [
       "        f0        f1        f2        f3        f4        f5       f6  \\\n",
       "0 -0.01821 -0.010433 -0.018399 -0.018279 -2.896385 -0.024231 -0.02066   \n",
       "1 -0.01821 -3.182200 -3.260786 -3.270119 -2.037297 -0.024231 -0.02066   \n",
       "\n",
       "         f7        f8        f9 ...  f70  f71  f72  f73  f74  f75  f76  f77  \\\n",
       "0  4.079933 -1.414801 -3.011022 ...    0    0    0    0    0    0    0  9.0   \n",
       "1  3.366161 -3.683655 -3.011022 ...    0    0    0    0    0    0    0  9.0   \n",
       "\n",
       "   Y1  Y2  \n",
       "0   0   0  \n",
       "1   0   0  \n",
       "\n",
       "[2 rows x 80 columns]"
      ]
     },
     "execution_count": 2,
     "metadata": {},
     "output_type": "execute_result"
    }
   ],
   "source": [
    "# read in modeling data file\n",
    "cols = ['f0', 'f1', 'f2', 'f3', 'f4', 'f5', 'f6', 'f7', 'f8', 'f9', 'f10',\n",
    "       'f11', 'f12', 'f13', 'f14', 'f15', 'f16', 'f17', 'f18', 'f19', 'f20',\n",
    "       'f21', 'f22', 'f23', 'f24', 'f25', 'f26', 'f27', 'f28', 'f29', 'f30',\n",
    "       'f31', 'f32', 'f33', 'f34', 'f35', 'f36', 'f37', 'f38', 'f39', 'f40',\n",
    "       'f41', 'f42', 'f43', 'f44', 'f45', 'f46', 'f47', 'f48', 'f49', 'f50',\n",
    "       'f51', 'f52', 'f53', 'f54', 'f55', 'f56', 'f57', 'f58', 'f59', 'f60',\n",
    "       'f61', 'f62', 'f63', 'f64', 'f65', 'f66', 'f67', 'f68', 'f69', 'f70',\n",
    "       'f71', 'f72', 'f73', 'f74', 'f75', 'f76', 'f77', 'Y1', 'Y2']\n",
    "\n",
    "df = pd.read_csv('data/modeling.csv', header=0, names=cols)\n",
    "df.head(2)"
   ]
  },
  {
   "cell_type": "markdown",
   "metadata": {},
   "source": [
    "### Target: Y1 (AACP)"
   ]
  },
  {
   "cell_type": "code",
   "execution_count": 3,
   "metadata": {},
   "outputs": [
    {
     "name": "stderr",
     "output_type": "stream",
     "text": [
      "/opt/tljh/user/lib/python3.6/site-packages/sklearn/externals/six.py:31: DeprecationWarning: The module is deprecated in version 0.21 and will be removed in version 0.23 since we've dropped support for Python 2.7. Please rely on the official version of six (https://pypi.org/project/six/).\n",
      "  \"(https://pypi.org/project/six/).\", DeprecationWarning)\n"
     ]
    }
   ],
   "source": [
    "# Splitting up our data into features and target\n",
    "# for this modeling approach I will only be using 1 target at a time \n",
    "# the first target will be Accept (ACCP)\n",
    "X = df.iloc[:, :-2] # Features\n",
    "Y = df.Y1 # Target\n",
    "\n",
    "# import the RandomOverSampler package from imblearn \n",
    "from imblearn.over_sampling import RandomOverSampler\n",
    "\n",
    "# define the model\n",
    "ros = RandomOverSampler(random_state=2019)\n",
    "\n",
    "# fit the training data only to the RandomOverSampler model\n",
    "# this will help address the imbalanced nature of the target variable \n",
    "X_resample, Y_resample = ros.fit_resample(X, Y)"
   ]
  },
  {
   "cell_type": "code",
   "execution_count": 4,
   "metadata": {},
   "outputs": [
    {
     "name": "stdout",
     "output_type": "stream",
     "text": [
      "Model:LogisticRegression, F1 Score: mean=0.93540, var=0.00001\n",
      "Model:DecisionTreeClassifier, F1 Score: mean=0.94646, var=0.00009\n",
      "Model:KNeighborsClassifier, F1 Score: mean=0.91302, var=0.00004\n",
      "Model:SVC, F1 Score: mean=0.93608, var=0.00001\n",
      "Model:AdaBoostClassifier, F1 Score: mean=0.93572, var=0.00001\n",
      "Model:XGBoost, F1 Score: mean=0.93985, var=0.00000\n",
      "Model:LogisticRegression, AUC Score: mean=0.98141, var=0.00000\n",
      "Model:DecisionTreeClassifier, AUC Score: mean=0.95699, var=0.00010\n",
      "Model:KNeighborsClassifier, AUC Score: mean=0.96407, var=0.00003\n",
      "Model:SVC, AUC Score: mean=0.97925, var=0.00000\n",
      "Model:AdaBoostClassifier, AUC Score: mean=0.98326, var=0.00000\n",
      "Model:XGBoost, AUC Score: mean=0.98547, var=0.00000\n"
     ]
    }
   ],
   "source": [
    "# save features and targets as the X_resample and Y_resample variables \n",
    "features, targets = X_resample, Y_resample\n",
    "\n",
    "# define an empty list that the following models will feed into\n",
    "models = []\n",
    "\n",
    "# append the list with all the desired models \n",
    "\n",
    "models.append(('LogisticRegression', LogisticRegression(solver='liblinear', random_state=2019)))\n",
    "models.append(('DecisionTreeClassifier', DecisionTreeClassifier(random_state=2019)))\n",
    "models.append(('KNeighborsClassifier', KNeighborsClassifier()))\n",
    "models.append(('SVC', SVC(kernel='rbf',gamma='auto',random_state=2019)))\n",
    "models.append(('AdaBoostClassifier', AdaBoostClassifier(random_state=2019)))\n",
    "models.append(('XGBoost', xgb.XGBClassifier(n_estimators=100, random_state=2019)))\n",
    "\n",
    "# use Cross Validation in the model with a 'stratify' option using the StratifiedKFolds package from sklearn\n",
    "# specifiy that the scoring method is F1 \n",
    "cv = StratifiedKFold(n_splits=10, shuffle=True, random_state=2019)\n",
    "for name, model in models:\n",
    "    score = cross_val_score(model, features, targets, cv=cv, scoring='f1')\n",
    "    print(\"Model:{0}, F1 Score: mean={1:0.5f}, var={2:0.5f}\".format(name, score.mean(), score.var()))\n",
    "    \n",
    "    \n",
    "# Same as above but the scoring option has beeen changed to AUC\n",
    "cv1 = StratifiedKFold(n_splits=10, shuffle=True, random_state=2019)\n",
    "for name, model in models:\n",
    "    score = cross_val_score(model, features, targets, cv=cv1, scoring='roc_auc')\n",
    "    print(\"Model:{0}, AUC Score: mean={1:0.5f}, var={2:0.5f}\".format(name, score.mean(), score.var()))"
   ]
  },
  {
   "cell_type": "markdown",
   "metadata": {},
   "source": [
    "### Target: Y2 (CONF)"
   ]
  },
  {
   "cell_type": "code",
   "execution_count": 3,
   "metadata": {},
   "outputs": [
    {
     "name": "stderr",
     "output_type": "stream",
     "text": [
      "/opt/tljh/user/lib/python3.6/site-packages/sklearn/externals/six.py:31: DeprecationWarning: The module is deprecated in version 0.21 and will be removed in version 0.23 since we've dropped support for Python 2.7. Please rely on the official version of six (https://pypi.org/project/six/).\n",
      "  \"(https://pypi.org/project/six/).\", DeprecationWarning)\n"
     ]
    }
   ],
   "source": [
    "# Reassign the target to Y2\n",
    "X = df.iloc[:, :-2] # Features\n",
    "Y = df.Y2 # Target\n",
    "\n",
    "# import the RandomOverSampler package from imblearn \n",
    "from imblearn.over_sampling import RandomOverSampler\n",
    "\n",
    "# define the model\n",
    "ros = RandomOverSampler(random_state=2019)\n",
    "\n",
    "# fit the training data only to the RandomOverSampler model\n",
    "# this will help address the imbalanced nature of the target variable \n",
    "X_resample, Y_resample = ros.fit_resample(X, Y)"
   ]
  },
  {
   "cell_type": "code",
   "execution_count": null,
   "metadata": {},
   "outputs": [
    {
     "name": "stdout",
     "output_type": "stream",
     "text": [
      "Model:LogisticRegression, F1 Score: mean=0.67923, var=0.00002\n",
      "Model:DecisionTreeClassifier, F1 Score: mean=0.94111, var=0.00000\n"
     ]
    }
   ],
   "source": [
    "# save features and targets as the X_resample and Y_resample variables \n",
    "features, targets = X_resample, Y_resample\n",
    "\n",
    "# define an empty list that the following models will feed into\n",
    "models = []\n",
    "\n",
    "# append the list with all the desired models \n",
    "\n",
    "models.append(('LogisticRegression', LogisticRegression(solver='liblinear', random_state=2019)))\n",
    "models.append(('DecisionTreeClassifier', DecisionTreeClassifier(random_state=2019)))\n",
    "models.append(('KNeighborsClassifier', KNeighborsClassifier()))\n",
    "models.append(('SVC', SVC(kernel='rbf',gamma='auto',random_state=2019)))\n",
    "models.append(('AdaBoostClassifier', AdaBoostClassifier(random_state=2019)))\n",
    "models.append(('XGBoost', xgb.XGBClassifier(n_estimators=100, random_state=2019)))\n",
    "\n",
    "# use Cross Validation in the model with a 'stratify' option using the StratifiedKFolds package from sklearn\n",
    "# specifiy that the scoring method is F1 \n",
    "cv2 = StratifiedKFold(n_splits=10, shuffle=True, random_state=2019)\n",
    "for name, model in models:\n",
    "    score = cross_val_score(model, features, targets, cv=cv2, scoring='f1')\n",
    "    print(\"Model:{0}, F1 Score: mean={1:0.5f}, var={2:0.5f}\".format(name, score.mean(), score.var()))\n",
    "    \n",
    "    \n",
    "# Same as above but the scoring option has beeen changed to AUC\n",
    "cv3 = StratifiedKFold(n_splits=10, shuffle=True, random_state=2019)\n",
    "for name, model in models:\n",
    "    score = cross_val_score(model, features, targets, cv=cv3, scoring='roc_auc')\n",
    "    print(\"Model:{0}, AUC Score: mean={1:0.5f}, var={2:0.5f}\".format(name, score.mean(), score.var()))"
   ]
  },
  {
   "cell_type": "code",
   "execution_count": null,
   "metadata": {},
   "outputs": [],
   "source": []
  }
 ],
 "metadata": {
  "kernelspec": {
   "display_name": "Python 3",
   "language": "python",
   "name": "python3"
  },
  "language_info": {
   "codemirror_mode": {
    "name": "ipython",
    "version": 3
   },
   "file_extension": ".py",
   "mimetype": "text/x-python",
   "name": "python",
   "nbconvert_exporter": "python",
   "pygments_lexer": "ipython3",
   "version": "3.6.7"
  }
 },
 "nbformat": 4,
 "nbformat_minor": 2
}
