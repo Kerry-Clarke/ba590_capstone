{
 "cells": [
  {
   "cell_type": "markdown",
   "metadata": {},
   "source": [
    "## Step-Wise Modeling using Train-Test_Split"
   ]
  },
  {
   "cell_type": "code",
   "execution_count": 1,
   "metadata": {},
   "outputs": [],
   "source": [
    "# import packages needed for data handling \n",
    "import numpy as np\n",
    "import pandas as pd\n",
    "import matplotlib.pyplot as plt\n",
    "%matplotlib inline\n",
    "plt.style.use('ggplot')\n",
    "import seaborn as sns\n",
    "sns.set(style=\"darkgrid\")\n",
    "\n",
    "# import packages to split the data \n",
    "from sklearn import model_selection\n",
    "from sklearn.model_selection import train_test_split\n",
    "\n",
    "# import models \n",
    "from sklearn.linear_model import LogisticRegression\n",
    "from sklearn.tree import DecisionTreeClassifier  \n",
    "from sklearn.neighbors import KNeighborsClassifier\n",
    "from sklearn.svm import SVC\n",
    "from sklearn.ensemble import AdaBoostClassifier\n",
    "import xgboost as xgb\n",
    "from sklearn.ensemble import RandomForestClassifier\n",
    "\n",
    "\n",
    "# import required packages for evaluating models\n",
    "from sklearn import metrics\n",
    "from sklearn.metrics import roc_auc_score\n",
    "from sklearn.metrics import f1_score\n",
    "from sklearn.metrics import precision_recall_fscore_support\n",
    "from sklearn.model_selection import cross_val_score"
   ]
  },
  {
   "cell_type": "code",
   "execution_count": 2,
   "metadata": {},
   "outputs": [
    {
     "data": {
      "text/html": [
       "<div>\n",
       "<style scoped>\n",
       "    .dataframe tbody tr th:only-of-type {\n",
       "        vertical-align: middle;\n",
       "    }\n",
       "\n",
       "    .dataframe tbody tr th {\n",
       "        vertical-align: top;\n",
       "    }\n",
       "\n",
       "    .dataframe thead th {\n",
       "        text-align: right;\n",
       "    }\n",
       "</style>\n",
       "<table border=\"1\" class=\"dataframe\">\n",
       "  <thead>\n",
       "    <tr style=\"text-align: right;\">\n",
       "      <th></th>\n",
       "      <th>f0</th>\n",
       "      <th>f1</th>\n",
       "      <th>f2</th>\n",
       "      <th>f3</th>\n",
       "      <th>f4</th>\n",
       "      <th>f5</th>\n",
       "      <th>f6</th>\n",
       "      <th>f7</th>\n",
       "      <th>f8</th>\n",
       "      <th>f9</th>\n",
       "      <th>...</th>\n",
       "      <th>f71</th>\n",
       "      <th>f72</th>\n",
       "      <th>f73</th>\n",
       "      <th>f74</th>\n",
       "      <th>f75</th>\n",
       "      <th>f76</th>\n",
       "      <th>f77</th>\n",
       "      <th>f78</th>\n",
       "      <th>Y1</th>\n",
       "      <th>Y2</th>\n",
       "    </tr>\n",
       "  </thead>\n",
       "  <tbody>\n",
       "    <tr>\n",
       "      <th>0</th>\n",
       "      <td>-0.01821</td>\n",
       "      <td>-0.010433</td>\n",
       "      <td>-0.018399</td>\n",
       "      <td>-0.018279</td>\n",
       "      <td>-2.896385</td>\n",
       "      <td>-0.024231</td>\n",
       "      <td>-0.02066</td>\n",
       "      <td>4.079933</td>\n",
       "      <td>-1.414801</td>\n",
       "      <td>-3.011022</td>\n",
       "      <td>...</td>\n",
       "      <td>0</td>\n",
       "      <td>0</td>\n",
       "      <td>0</td>\n",
       "      <td>0</td>\n",
       "      <td>0</td>\n",
       "      <td>0</td>\n",
       "      <td>0</td>\n",
       "      <td>9.0</td>\n",
       "      <td>0</td>\n",
       "      <td>0</td>\n",
       "    </tr>\n",
       "    <tr>\n",
       "      <th>1</th>\n",
       "      <td>-0.01821</td>\n",
       "      <td>-3.182200</td>\n",
       "      <td>-3.260786</td>\n",
       "      <td>-3.270119</td>\n",
       "      <td>-2.037297</td>\n",
       "      <td>-0.024231</td>\n",
       "      <td>-0.02066</td>\n",
       "      <td>3.366161</td>\n",
       "      <td>-3.683655</td>\n",
       "      <td>-3.011022</td>\n",
       "      <td>...</td>\n",
       "      <td>0</td>\n",
       "      <td>0</td>\n",
       "      <td>0</td>\n",
       "      <td>0</td>\n",
       "      <td>0</td>\n",
       "      <td>0</td>\n",
       "      <td>0</td>\n",
       "      <td>9.0</td>\n",
       "      <td>0</td>\n",
       "      <td>0</td>\n",
       "    </tr>\n",
       "  </tbody>\n",
       "</table>\n",
       "<p>2 rows × 81 columns</p>\n",
       "</div>"
      ],
      "text/plain": [
       "        f0        f1        f2        f3        f4        f5       f6  \\\n",
       "0 -0.01821 -0.010433 -0.018399 -0.018279 -2.896385 -0.024231 -0.02066   \n",
       "1 -0.01821 -3.182200 -3.260786 -3.270119 -2.037297 -0.024231 -0.02066   \n",
       "\n",
       "         f7        f8        f9 ...  f71  f72  f73  f74  f75  f76  f77  f78  \\\n",
       "0  4.079933 -1.414801 -3.011022 ...    0    0    0    0    0    0    0  9.0   \n",
       "1  3.366161 -3.683655 -3.011022 ...    0    0    0    0    0    0    0  9.0   \n",
       "\n",
       "   Y1  Y2  \n",
       "0   0   0  \n",
       "1   0   0  \n",
       "\n",
       "[2 rows x 81 columns]"
      ]
     },
     "execution_count": 2,
     "metadata": {},
     "output_type": "execute_result"
    }
   ],
   "source": [
    "# make a list of new column names that will be better for modeling \n",
    "cols = ['f0', 'f1', 'f2', 'f3', 'f4', 'f5', 'f6', 'f7', 'f8', 'f9', 'f10',\n",
    "       'f11', 'f12', 'f13', 'f14', 'f15', 'f16', 'f17', 'f18', 'f19', 'f20',\n",
    "       'f21', 'f22', 'f23', 'f24', 'f25', 'f26', 'f27', 'f28', 'f29', 'f30',\n",
    "       'f31', 'f32', 'f33', 'f34', 'f35', 'f36', 'f37', 'f38', 'f39', 'f40',\n",
    "       'f41', 'f42', 'f43', 'f44', 'f45', 'f46', 'f47', 'f48', 'f49', 'f50',\n",
    "       'f51', 'f52', 'f53', 'f54', 'f55', 'f56', 'f57', 'f58', 'f59', 'f60',\n",
    "       'f61', 'f62', 'f63', 'f64', 'f65', 'f66', 'f67', 'f68', 'f69', 'f70',\n",
    "       'f71', 'f72', 'f73', 'f74', 'f75', 'f76', 'f77', 'f78','Y1', 'Y2']\n",
    "\n",
    "# read in the modeling data file and rename the columns\n",
    "df = pd.read_csv('data/modeling.csv', header=0, names=cols)\n",
    "df.head(2)"
   ]
  },
  {
   "cell_type": "code",
   "execution_count": 3,
   "metadata": {},
   "outputs": [
    {
     "data": {
      "text/plain": [
       "f0     float64\n",
       "f1     float64\n",
       "f2     float64\n",
       "f3     float64\n",
       "f4     float64\n",
       "f5     float64\n",
       "f6     float64\n",
       "f7     float64\n",
       "f8     float64\n",
       "f9     float64\n",
       "f10      int64\n",
       "f11      int64\n",
       "f12      int64\n",
       "f13      int64\n",
       "f14      int64\n",
       "f15      int64\n",
       "f16      int64\n",
       "f17      int64\n",
       "f18      int64\n",
       "f19      int64\n",
       "f20      int64\n",
       "f21      int64\n",
       "f22      int64\n",
       "f23      int64\n",
       "f24      int64\n",
       "f25      int64\n",
       "f26      int64\n",
       "f27      int64\n",
       "f28      int64\n",
       "f29      int64\n",
       "        ...   \n",
       "f51      int64\n",
       "f52      int64\n",
       "f53      int64\n",
       "f54      int64\n",
       "f55      int64\n",
       "f56      int64\n",
       "f57      int64\n",
       "f58      int64\n",
       "f59      int64\n",
       "f60      int64\n",
       "f61      int64\n",
       "f62      int64\n",
       "f63      int64\n",
       "f64      int64\n",
       "f65      int64\n",
       "f66      int64\n",
       "f67      int64\n",
       "f68      int64\n",
       "f69      int64\n",
       "f70      int64\n",
       "f71      int64\n",
       "f72      int64\n",
       "f73      int64\n",
       "f74      int64\n",
       "f75      int64\n",
       "f76      int64\n",
       "f77      int64\n",
       "f78    float64\n",
       "Y1       int64\n",
       "Y2       int64\n",
       "Length: 81, dtype: object"
      ]
     },
     "execution_count": 3,
     "metadata": {},
     "output_type": "execute_result"
    }
   ],
   "source": [
    "# double check the dtypes of the columns\n",
    "df.dtypes"
   ]
  },
  {
   "cell_type": "code",
   "execution_count": 4,
   "metadata": {},
   "outputs": [
    {
     "data": {
      "text/plain": [
       "(52786, 81)"
      ]
     },
     "execution_count": 4,
     "metadata": {},
     "output_type": "execute_result"
    }
   ],
   "source": [
    "# double check the shape of the dataframe\n",
    "df.shape"
   ]
  },
  {
   "cell_type": "markdown",
   "metadata": {},
   "source": [
    "### Split and Resample Data before Modeling "
   ]
  },
  {
   "cell_type": "code",
   "execution_count": 5,
   "metadata": {},
   "outputs": [
    {
     "name": "stderr",
     "output_type": "stream",
     "text": [
      "/opt/tljh/user/lib/python3.6/site-packages/sklearn/externals/six.py:31: DeprecationWarning: The module is deprecated in version 0.21 and will be removed in version 0.23 since we've dropped support for Python 2.7. Please rely on the official version of six (https://pypi.org/project/six/).\n",
      "  \"(https://pypi.org/project/six/).\", DeprecationWarning)\n"
     ]
    }
   ],
   "source": [
    "# Split data into features and target\n",
    "# for this modeling approach I will only be using 1 target at a time \n",
    "# the first target will be Y1 (ACCP)\n",
    "X = df.iloc[:, :-2] # Features\n",
    "Y = df.Y1 # Target\n",
    "\n",
    "# Split dataset into training set and test set using a 70/30 split\n",
    "X_train, X_test, Y_train, Y_test = train_test_split(X, Y, test_size=0.3, random_state=2019)\n",
    "\n",
    "# import the RandomOverSampler package from imblearn\n",
    "# this package will help address the imbalanced nature of the ACCP target \n",
    "from imblearn.over_sampling import RandomOverSampler\n",
    "\n",
    "# define the RandomOverSampler (ros) model\n",
    "ros = RandomOverSampler(random_state=2019)\n",
    "\n",
    "# fit the training data only to the RandomOverSampler model\n",
    "X_train_resample, Y_train_resample = ros.fit_resample(X_train, Y_train)"
   ]
  },
  {
   "cell_type": "markdown",
   "metadata": {},
   "source": [
    "## Target: Y1 (ACCP)\n",
    "### 1. Decicion Tree"
   ]
  },
  {
   "cell_type": "code",
   "execution_count": 6,
   "metadata": {},
   "outputs": [],
   "source": [
    "# build decision tree \n",
    "dt = DecisionTreeClassifier(random_state=2019, max_features=)\n",
    "\n",
    "# Train Decision Tree Classifer\n",
    "dt = dt.fit(X_train_resample,Y_train_resample)\n",
    "\n",
    "# Predict the target for the test data \n",
    "Y_pred = dt.predict(X_test)"
   ]
  },
  {
   "cell_type": "code",
   "execution_count": 7,
   "metadata": {},
   "outputs": [
    {
     "name": "stdout",
     "output_type": "stream",
     "text": [
      "F1 Score: 0.9305969749472937\n",
      "AUC Score: 0.9241090799170568\n",
      "              precision    recall  f1-score   support\n",
      "\n",
      "           0       0.90      0.90      0.90      5612\n",
      "           1       0.95      0.95      0.95     10224\n",
      "\n",
      "    accuracy                           0.93     15836\n",
      "   macro avg       0.92      0.92      0.92     15836\n",
      "weighted avg       0.93      0.93      0.93     15836\n",
      "\n",
      "[[5061  551]\n",
      " [ 548 9676]]\n"
     ]
    }
   ],
   "source": [
    "# print F1 and AUC Scores for Y1 decision tree \n",
    "print(\"F1 Score:\",metrics.f1_score(Y_test, Y_pred, average='weighted'))\n",
    "print(\"AUC Score:\",metrics.roc_auc_score(Y_test, Y_pred, average='weighted'))\n",
    "\n",
    "# print classification report and confusion matrix for the Y1 decision tree  \n",
    "print(metrics.classification_report(Y_test, Y_pred))\n",
    "print(metrics.confusion_matrix(Y_test, Y_pred))"
   ]
  },
  {
   "cell_type": "markdown",
   "metadata": {},
   "source": [
    "### Feature Importance Based on Decision Tree"
   ]
  },
  {
   "cell_type": "code",
   "execution_count": 31,
   "metadata": {},
   "outputs": [
    {
     "data": {
      "text/plain": [
       "f13    0.620670\n",
       "f26    0.212213\n",
       "f3     0.027494\n",
       "f4     0.015373\n",
       "f1     0.010536\n",
       "f0     0.010456\n",
       "f25    0.010141\n",
       "f2     0.009621\n",
       "f24    0.008610\n",
       "f10    0.007009\n",
       "f9     0.005989\n",
       "f17    0.004251\n",
       "f16    0.004244\n",
       "f75    0.003323\n",
       "f21    0.003283\n",
       "f12    0.002744\n",
       "f11    0.002651\n",
       "f33    0.002556\n",
       "f78    0.002204\n",
       "f35    0.002197\n",
       "f19    0.002160\n",
       "f15    0.001876\n",
       "f46    0.001732\n",
       "f56    0.001690\n",
       "f20    0.001647\n",
       "f14    0.001616\n",
       "f76    0.001529\n",
       "f32    0.001457\n",
       "f65    0.001449\n",
       "f58    0.001340\n",
       "         ...   \n",
       "f60    0.000315\n",
       "f43    0.000288\n",
       "f36    0.000286\n",
       "f54    0.000263\n",
       "f23    0.000210\n",
       "f61    0.000208\n",
       "f72    0.000196\n",
       "f62    0.000194\n",
       "f69    0.000180\n",
       "f50    0.000179\n",
       "f64    0.000177\n",
       "f67    0.000137\n",
       "f47    0.000114\n",
       "f59    0.000114\n",
       "f57    0.000096\n",
       "f73    0.000091\n",
       "f39    0.000082\n",
       "f66    0.000068\n",
       "f42    0.000047\n",
       "f53    0.000036\n",
       "f28    0.000035\n",
       "f29    0.000030\n",
       "f68    0.000000\n",
       "f70    0.000000\n",
       "f71    0.000000\n",
       "f22    0.000000\n",
       "f6     0.000000\n",
       "f5     0.000000\n",
       "f44    0.000000\n",
       "f48    0.000000\n",
       "Length: 79, dtype: float64"
      ]
     },
     "execution_count": 31,
     "metadata": {},
     "output_type": "execute_result"
    }
   ],
   "source": [
    "# define the Y1 decision tree feature importance variable \n",
    "feature_imp = pd.Series(dt.feature_importances_,index=df.iloc[:,:-2].columns).sort_values(ascending=False)\n",
    "\n",
    "# print the results \n",
    "feature_imp"
   ]
  },
  {
   "cell_type": "code",
   "execution_count": 58,
   "metadata": {},
   "outputs": [],
   "source": [
    "# save the feature importance results to a dataframe and csv file \n",
    "dffi = pd.DataFrame(feature_imp)\n",
    "dffi.to_csv('feature_imp/sw_tt_dt.csv')"
   ]
  },
  {
   "cell_type": "code",
   "execution_count": 9,
   "metadata": {},
   "outputs": [
    {
     "data": {
      "image/png": "[encoded data removed]",
      "text/plain": [
       "<Figure size 1440x1440 with 1 Axes>"
      ]
     },
     "metadata": {
      "needs_background": "light"
     },
     "output_type": "display_data"
    },
    {
     "data": {
      "text/plain": [
       "<Figure size 432x288 with 0 Axes>"
      ]
     },
     "metadata": {},
     "output_type": "display_data"
    }
   ],
   "source": [
    "# visualize the decision tree feature importance results  \n",
    "plt.figure(figsize=(20,20))\n",
    "\n",
    "# Create the plot\n",
    "sns.barplot(y=feature_imp.index, x=feature_imp)\n",
    "\n",
    "# Add labels & title \n",
    "plt.xlabel('Feature Importance Score')\n",
    "plt.ylabel('Features')\n",
    "plt.title(\"Visualizing Important Features\")\n",
    "plt.show()\n",
    "\n",
    "# save figure to a png file \n",
    "plt.savefig('images/sw_tt_dty1_feature_importance.PNG')"
   ]
  },
  {
   "cell_type": "markdown",
   "metadata": {},
   "source": [
    "### 2. Logistic Regression"
   ]
  },
  {
   "cell_type": "code",
   "execution_count": 10,
   "metadata": {},
   "outputs": [],
   "source": [
    "# build logistic regression\n",
    "# specify a solver to aviod a warning message \n",
    "logreg = LogisticRegression(solver='liblinear',random_state=2019)\n",
    "\n",
    "# fit the training data to the model\n",
    "logreg = logreg.fit(X_train_resample,Y_train_resample) \n",
    "\n",
    "# run the model using test data \n",
    "Y_pred=logreg.predict(X_test)"
   ]
  },
  {
   "cell_type": "code",
   "execution_count": 11,
   "metadata": {},
   "outputs": [
    {
     "name": "stdout",
     "output_type": "stream",
     "text": [
      "F1 Score: 0.9383680111778925\n",
      "AUC Score: 0.9400707125464437\n",
      "              precision    recall  f1-score   support\n",
      "\n",
      "           0       0.89      0.95      0.92      5612\n",
      "           1       0.97      0.93      0.95     10224\n",
      "\n",
      "    accuracy                           0.94     15836\n",
      "   macro avg       0.93      0.94      0.93     15836\n",
      "weighted avg       0.94      0.94      0.94     15836\n",
      "\n",
      "[[5317  295]\n",
      " [ 688 9536]]\n"
     ]
    }
   ],
   "source": [
    "# Model Accuracy, how often is the Decision Tree correct?\n",
    "print(\"F1 Score:\",metrics.f1_score(Y_test, Y_pred, average='weighted'))\n",
    "print(\"AUC Score:\",metrics.roc_auc_score(Y_test, Y_pred, average='weighted'))\n",
    "\n",
    "# We are going to look at the classification report and also the confusion matrix for the Decision Tree  \n",
    "print(metrics.classification_report(Y_test, Y_pred))\n",
    "print(metrics.confusion_matrix(Y_test, Y_pred))"
   ]
  },
  {
   "cell_type": "markdown",
   "metadata": {},
   "source": [
    "### 3. SVM"
   ]
  },
  {
   "cell_type": "code",
   "execution_count": 12,
   "metadata": {},
   "outputs": [],
   "source": [
    "# define the svm model \n",
    "svc = SVC(kernel='rbf', gamma='auto', random_state=2019)\n",
    "\n",
    "# fit svm model \n",
    "svc = svc.fit(X_train_resample, Y_train_resample)\n",
    "\n",
    "# predict the target using the testing data \n",
    "Y_pred = svc.predict(X_test)"
   ]
  },
  {
   "cell_type": "code",
   "execution_count": 13,
   "metadata": {},
   "outputs": [
    {
     "name": "stdout",
     "output_type": "stream",
     "text": [
      "F1 Score: 0.9386640058703242\n",
      "AUC Score: 0.9438258351486922\n",
      "              precision    recall  f1-score   support\n",
      "\n",
      "           0       0.87      0.96      0.92      5612\n",
      "           1       0.98      0.92      0.95     10224\n",
      "\n",
      "    accuracy                           0.94     15836\n",
      "   macro avg       0.93      0.94      0.93     15836\n",
      "weighted avg       0.94      0.94      0.94     15836\n",
      "\n",
      "[[5408  204]\n",
      " [ 777 9447]]\n"
     ]
    }
   ],
   "source": [
    "# Model Accuracy, how often is the Decision Tree correct?\n",
    "print(\"F1 Score:\",metrics.f1_score(Y_test, Y_pred, average='weighted'))\n",
    "print(\"AUC Score:\",metrics.roc_auc_score(Y_test, Y_pred, average='weighted'))\n",
    "\n",
    "# We are going to look at the classification report and also the confusion matrix for the Decision Tree  \n",
    "print(metrics.classification_report(Y_test, Y_pred))\n",
    "print(metrics.confusion_matrix(Y_test, Y_pred))"
   ]
  },
  {
   "cell_type": "markdown",
   "metadata": {},
   "source": [
    "### 4. KNeighbors"
   ]
  },
  {
   "cell_type": "code",
   "execution_count": 14,
   "metadata": {},
   "outputs": [],
   "source": [
    "# define the svm model \n",
    "kn = KNeighborsClassifier()\n",
    "\n",
    "# fit svm model \n",
    "kn = kn.fit(X_train_resample, Y_train_resample)\n",
    "\n",
    "# predict the target using the testing data \n",
    "Y_pred = kn.predict(X_test)"
   ]
  },
  {
   "cell_type": "code",
   "execution_count": 15,
   "metadata": {},
   "outputs": [
    {
     "name": "stdout",
     "output_type": "stream",
     "text": [
      "F1 Score: 0.9122656700379741\n",
      "AUC Score: 0.9102904281235047\n",
      "              precision    recall  f1-score   support\n",
      "\n",
      "           0       0.85      0.91      0.88      5612\n",
      "           1       0.95      0.92      0.93     10224\n",
      "\n",
      "    accuracy                           0.91     15836\n",
      "   macro avg       0.90      0.91      0.90     15836\n",
      "weighted avg       0.91      0.91      0.91     15836\n",
      "\n",
      "[[5081  531]\n",
      " [ 867 9357]]\n"
     ]
    }
   ],
   "source": [
    "# Model Accuracy, how often is the Decision Tree correct?\n",
    "print(\"F1 Score:\",metrics.f1_score(Y_test, Y_pred, average='weighted'))\n",
    "print(\"AUC Score:\",metrics.roc_auc_score(Y_test, Y_pred, average='weighted'))\n",
    "\n",
    "# We are going to look at the classification report and also the confusion matrix for the Decision Tree  \n",
    "print(metrics.classification_report(Y_test, Y_pred))\n",
    "print(metrics.confusion_matrix(Y_test, Y_pred))"
   ]
  },
  {
   "cell_type": "markdown",
   "metadata": {},
   "source": [
    "### 5. AdaBoost"
   ]
  },
  {
   "cell_type": "code",
   "execution_count": 16,
   "metadata": {},
   "outputs": [],
   "source": [
    "# define the svm model \n",
    "ada = AdaBoostClassifier(random_state=2019)\n",
    "\n",
    "# fit svm model \n",
    "ada = ada.fit(X_train_resample, Y_train_resample)\n",
    "\n",
    "# predict the target using the testing data \n",
    "Y_pred = ada.predict(X_test)"
   ]
  },
  {
   "cell_type": "code",
   "execution_count": 17,
   "metadata": {},
   "outputs": [
    {
     "name": "stdout",
     "output_type": "stream",
     "text": [
      "F1 Score: 0.9418837304750196\n",
      "AUC Score: 0.9480883379790902\n",
      "              precision    recall  f1-score   support\n",
      "\n",
      "           0       0.88      0.97      0.92      5612\n",
      "           1       0.98      0.92      0.95     10224\n",
      "\n",
      "    accuracy                           0.94     15836\n",
      "   macro avg       0.93      0.95      0.94     15836\n",
      "weighted avg       0.95      0.94      0.94     15836\n",
      "\n",
      "[[5452  160]\n",
      " [ 770 9454]]\n"
     ]
    }
   ],
   "source": [
    "# Model Accuracy, how often is the Decision Tree correct?\n",
    "print(\"F1 Score:\",metrics.f1_score(Y_test, Y_pred, average='weighted'))\n",
    "print(\"AUC Score:\",metrics.roc_auc_score(Y_test, Y_pred, average='weighted'))\n",
    "\n",
    "# We are going to look at the classification report and also the confusion matrix for the Decision Tree  \n",
    "print(metrics.classification_report(Y_test, Y_pred))\n",
    "print(metrics.confusion_matrix(Y_test, Y_pred))"
   ]
  },
  {
   "cell_type": "code",
   "execution_count": 18,
   "metadata": {},
   "outputs": [
    {
     "data": {
      "text/plain": [
       "f78    0.18\n",
       "f26    0.16\n",
       "f13    0.12\n",
       "f23    0.10\n",
       "f4     0.08\n",
       "f3     0.06\n",
       "f9     0.06\n",
       "f17    0.04\n",
       "f16    0.02\n",
       "f34    0.02\n",
       "f24    0.02\n",
       "f55    0.02\n",
       "f19    0.02\n",
       "f18    0.02\n",
       "f60    0.02\n",
       "f58    0.02\n",
       "f10    0.02\n",
       "f2     0.02\n",
       "f15    0.00\n",
       "f25    0.00\n",
       "f35    0.00\n",
       "f1     0.00\n",
       "f33    0.00\n",
       "f32    0.00\n",
       "f31    0.00\n",
       "f30    0.00\n",
       "f29    0.00\n",
       "f28    0.00\n",
       "f27    0.00\n",
       "f5     0.00\n",
       "       ... \n",
       "f67    0.00\n",
       "f68    0.00\n",
       "f69    0.00\n",
       "f70    0.00\n",
       "f71    0.00\n",
       "f72    0.00\n",
       "f73    0.00\n",
       "f74    0.00\n",
       "f75    0.00\n",
       "f76    0.00\n",
       "f61    0.00\n",
       "f57    0.00\n",
       "f77    0.00\n",
       "f56    0.00\n",
       "f40    0.00\n",
       "f41    0.00\n",
       "f42    0.00\n",
       "f43    0.00\n",
       "f44    0.00\n",
       "f45    0.00\n",
       "f46    0.00\n",
       "f47    0.00\n",
       "f48    0.00\n",
       "f49    0.00\n",
       "f50    0.00\n",
       "f51    0.00\n",
       "f52    0.00\n",
       "f53    0.00\n",
       "f54    0.00\n",
       "f0     0.00\n",
       "Length: 79, dtype: float64"
      ]
     },
     "execution_count": 18,
     "metadata": {},
     "output_type": "execute_result"
    }
   ],
   "source": [
    "# define the feature importance variable \n",
    "ada_feature_imp = pd.Series(ada.feature_importances_,index=df.iloc[:,:-2].columns).sort_values(ascending=False)\n",
    "\n",
    "# print the results \n",
    "ada_feature_imp"
   ]
  },
  {
   "cell_type": "code",
   "execution_count": 59,
   "metadata": {},
   "outputs": [],
   "source": [
    "ada_fi = pd.DataFrame(ada_feature_imp)\n",
    "ada_fi.to_csv('feature_imp/sw_tt_ada.csv')"
   ]
  },
  {
   "cell_type": "code",
   "execution_count": 19,
   "metadata": {},
   "outputs": [
    {
     "data": {
      "image/png": "[encoded data removed]",
      "text/plain": [
       "<Figure size 1440x1440 with 1 Axes>"
      ]
     },
     "metadata": {
      "needs_background": "light"
     },
     "output_type": "display_data"
    },
    {
     "data": {
      "text/plain": [
       "<Figure size 432x288 with 0 Axes>"
      ]
     },
     "metadata": {},
     "output_type": "display_data"
    }
   ],
   "source": [
    "# visualize the feature importance values \n",
    "plt.figure(figsize=(20,20))\n",
    "\n",
    "# Creating a bar plot\n",
    "sns.barplot(y=ada_feature_imp.index, x=ada_feature_imp)\n",
    "\n",
    "# Add labels\n",
    "plt.xlabel('AdaBoost Feature Importance Score')\n",
    "plt.ylabel('Features')\n",
    "plt.title(\"Visualizing AdaBoost Important Features\")\n",
    "plt.show()\n",
    "plt.savefig('images/sw_tt_aday1_feature_importance.PNG')"
   ]
  },
  {
   "cell_type": "markdown",
   "metadata": {},
   "source": [
    "### 6. XGBoost"
   ]
  },
  {
   "cell_type": "code",
   "execution_count": 20,
   "metadata": {},
   "outputs": [],
   "source": [
    "# build xgboost model\n",
    "xg = xgb.XGBClassifier(n_estimators=100, random_state=2019)\n",
    "\n",
    "# fit the training data to the model\n",
    "xg = xg.fit(X_train_resample,Y_train_resample) \n",
    "\n",
    "# run the model using test data \n",
    "Y_pred=xg.predict(X_test)"
   ]
  },
  {
   "cell_type": "code",
   "execution_count": 21,
   "metadata": {},
   "outputs": [
    {
     "name": "stdout",
     "output_type": "stream",
     "text": [
      "F1 Score: 0.9467068476395548\n",
      "AUC Score: 0.9521440335208368\n",
      "              precision    recall  f1-score   support\n",
      "\n",
      "           0       0.89      0.97      0.93      5612\n",
      "           1       0.98      0.93      0.96     10224\n",
      "\n",
      "    accuracy                           0.95     15836\n",
      "   macro avg       0.94      0.95      0.94     15836\n",
      "weighted avg       0.95      0.95      0.95     15836\n",
      "\n",
      "[[5458  154]\n",
      " [ 698 9526]]\n"
     ]
    }
   ],
   "source": [
    "# evluate xgboost\n",
    "print(\"F1 Score:\",metrics.f1_score(Y_test, Y_pred, average='weighted'))\n",
    "print(\"AUC Score:\",metrics.roc_auc_score(Y_test, Y_pred, average='weighted'))\n",
    "\n",
    "# We are going to look at the classification report and also the confusion matrix for the Decision Tree  \n",
    "print(metrics.classification_report(Y_test, Y_pred))\n",
    "print(metrics.confusion_matrix(Y_test, Y_pred))"
   ]
  },
  {
   "cell_type": "code",
   "execution_count": 62,
   "metadata": {},
   "outputs": [
    {
     "data": {
      "text/plain": [
       "f21    0.103421\n",
       "f78    0.085905\n",
       "f60    0.058796\n",
       "f0     0.048430\n",
       "f26    0.042163\n",
       "f3     0.038388\n",
       "f20    0.037253\n",
       "f10    0.036865\n",
       "f11    0.035403\n",
       "f16    0.026275\n",
       "f13    0.025389\n",
       "f25    0.023053\n",
       "f24    0.022952\n",
       "f38    0.017414\n",
       "f4     0.016639\n",
       "f75    0.016089\n",
       "f33    0.016077\n",
       "f36    0.014162\n",
       "f37    0.013953\n",
       "f18    0.013623\n",
       "f63    0.013573\n",
       "f9     0.013470\n",
       "f7     0.013321\n",
       "f1     0.013231\n",
       "f14    0.012290\n",
       "f52    0.012090\n",
       "f27    0.012064\n",
       "f62    0.012020\n",
       "f8     0.011790\n",
       "f51    0.011743\n",
       "         ...   \n",
       "f55    0.002533\n",
       "f40    0.001073\n",
       "f61    0.000000\n",
       "f72    0.000000\n",
       "f71    0.000000\n",
       "f70    0.000000\n",
       "f69    0.000000\n",
       "f5     0.000000\n",
       "f6     0.000000\n",
       "f68    0.000000\n",
       "f67    0.000000\n",
       "f66    0.000000\n",
       "f73    0.000000\n",
       "f64    0.000000\n",
       "f41    0.000000\n",
       "f45    0.000000\n",
       "f59    0.000000\n",
       "f29    0.000000\n",
       "f44    0.000000\n",
       "f31    0.000000\n",
       "f54    0.000000\n",
       "f76    0.000000\n",
       "f22    0.000000\n",
       "f23    0.000000\n",
       "f53    0.000000\n",
       "f50    0.000000\n",
       "f48    0.000000\n",
       "f47    0.000000\n",
       "f28    0.000000\n",
       "f15    0.000000\n",
       "Length: 79, dtype: float32"
      ]
     },
     "execution_count": 62,
     "metadata": {},
     "output_type": "execute_result"
    }
   ],
   "source": [
    "# define the feature importance variable \n",
    "xgb_feature_imp = pd.Series(xg.feature_importances_,index=df.iloc[:,:-2].columns).sort_values(ascending=False)\n",
    "\n",
    "# print the results \n",
    "xgb_feature_imp"
   ]
  },
  {
   "cell_type": "code",
   "execution_count": 63,
   "metadata": {},
   "outputs": [],
   "source": [
    "dfi_xg = pd.DataFrame(xgb_feature_imp)\n",
    "dfi_xg.to_csv('feature_imp/sw_tt_xgb.csv')"
   ]
  },
  {
   "cell_type": "code",
   "execution_count": 23,
   "metadata": {},
   "outputs": [
    {
     "data": {
      "image/png": "[encoded data removed]",
      "text/plain": [
       "<Figure size 1440x720 with 1 Axes>"
      ]
     },
     "metadata": {
      "needs_background": "light"
     },
     "output_type": "display_data"
    },
    {
     "data": {
      "text/plain": [
       "<Figure size 1440x720 with 0 Axes>"
      ]
     },
     "metadata": {},
     "output_type": "display_data"
    }
   ],
   "source": [
    "# visualize the feature importances according to the xgboost model\n",
    "xgb.plot_importance(xg)\n",
    "plt.rcParams['figure.figsize'] = [20, 10]\n",
    "plt.show()\n",
    "plt.savefig('images/sw_tt_xgby1_feature_importance.PNG')"
   ]
  },
  {
   "cell_type": "markdown",
   "metadata": {},
   "source": [
    "### 7. Random Forest: ACCP (Y1)"
   ]
  },
  {
   "cell_type": "code",
   "execution_count": 24,
   "metadata": {},
   "outputs": [],
   "source": [
    "# build decision tree \n",
    "rfy1 = RandomForestClassifier(n_estimators=100, random_state=2019)\n",
    "\n",
    "# Train Decision Tree Classifer\n",
    "rfy1 = rfy1.fit(X_train_resample, Y_train_resample)\n",
    "\n",
    "# Predict the target for the test data \n",
    "Y_pred = rfy1.predict(X_test)"
   ]
  },
  {
   "cell_type": "code",
   "execution_count": 25,
   "metadata": {},
   "outputs": [
    {
     "name": "stdout",
     "output_type": "stream",
     "text": [
      "F1 Score: 0.9469998748223369\n",
      "AUC Score: 0.9452380713360705\n",
      "              precision    recall  f1-score   support\n",
      "\n",
      "           0       0.91      0.94      0.93      5612\n",
      "           1       0.97      0.95      0.96     10224\n",
      "\n",
      "    accuracy                           0.95     15836\n",
      "   macro avg       0.94      0.95      0.94     15836\n",
      "weighted avg       0.95      0.95      0.95     15836\n",
      "\n",
      "[[5274  338]\n",
      " [ 504 9720]]\n"
     ]
    }
   ],
   "source": [
    "# Model Accuracy, how often is the Decision Tree correct?\n",
    "print(\"F1 Score:\",metrics.f1_score(Y_test, Y_pred, average='weighted'))\n",
    "print(\"AUC Score:\",metrics.roc_auc_score(Y_test, Y_pred, average='weighted'))\n",
    "\n",
    "# We are going to look at the classification report and also the confusion matrix for the Decision Tree  \n",
    "print(metrics.classification_report(Y_test, Y_pred))\n",
    "print(metrics.confusion_matrix(Y_test, Y_pred))"
   ]
  },
  {
   "cell_type": "code",
   "execution_count": 27,
   "metadata": {
    "scrolled": true
   },
   "outputs": [
    {
     "data": {
      "text/plain": [
       "f13    0.375843\n",
       "f78    0.141014\n",
       "f4     0.091111\n",
       "f26    0.054975\n",
       "f3     0.041556\n",
       "f2     0.037327\n",
       "f1     0.034506\n",
       "f0     0.024148\n",
       "f23    0.020824\n",
       "f10    0.017345\n",
       "f15    0.016816\n",
       "f24    0.012960\n",
       "f25    0.012629\n",
       "f9     0.011966\n",
       "f12    0.011127\n",
       "f60    0.010820\n",
       "f17    0.010622\n",
       "f16    0.009120\n",
       "f11    0.005547\n",
       "f7     0.004964\n",
       "f21    0.004957\n",
       "f19    0.003499\n",
       "f8     0.003269\n",
       "f75    0.003065\n",
       "f20    0.002738\n",
       "f33    0.002716\n",
       "f18    0.002634\n",
       "f65    0.002232\n",
       "f32    0.001995\n",
       "f14    0.001776\n",
       "         ...   \n",
       "f34    0.000501\n",
       "f41    0.000498\n",
       "f54    0.000493\n",
       "f31    0.000474\n",
       "f77    0.000471\n",
       "f57    0.000402\n",
       "f73    0.000368\n",
       "f69    0.000271\n",
       "f72    0.000260\n",
       "f62    0.000184\n",
       "f64    0.000178\n",
       "f71    0.000173\n",
       "f39    0.000167\n",
       "f47    0.000160\n",
       "f50    0.000157\n",
       "f61    0.000149\n",
       "f59    0.000139\n",
       "f29    0.000130\n",
       "f67    0.000119\n",
       "f42    0.000109\n",
       "f44    0.000094\n",
       "f66    0.000090\n",
       "f28    0.000070\n",
       "f70    0.000059\n",
       "f53    0.000058\n",
       "f68    0.000029\n",
       "f48    0.000008\n",
       "f5     0.000000\n",
       "f6     0.000000\n",
       "f22    0.000000\n",
       "Length: 79, dtype: float64"
      ]
     },
     "execution_count": 27,
     "metadata": {},
     "output_type": "execute_result"
    }
   ],
   "source": [
    "# define the feature importance variable\n",
    "rfy1_feature_imp = pd.Series(rfy1.feature_importances_,index=df.iloc[:,:-2].columns).sort_values(ascending=False)\n",
    "\n",
    "# print the results \n",
    "rfy1_feature_imp"
   ]
  },
  {
   "cell_type": "code",
   "execution_count": 64,
   "metadata": {},
   "outputs": [],
   "source": [
    "dfi_rfy1 = pd.DataFrame(rfy1_feature_imp)\n",
    "dfi_rfy1.to_csv('feature_imp/sw_tt_rfy1.csv')"
   ]
  },
  {
   "cell_type": "code",
   "execution_count": 28,
   "metadata": {},
   "outputs": [
    {
     "data": {
      "image/png": "[encoded data removed]",
      "text/plain": [
       "<Figure size 1440x1440 with 1 Axes>"
      ]
     },
     "metadata": {
      "needs_background": "light"
     },
     "output_type": "display_data"
    },
    {
     "data": {
      "text/plain": [
       "<Figure size 1440x720 with 0 Axes>"
      ]
     },
     "metadata": {},
     "output_type": "display_data"
    }
   ],
   "source": [
    "# visualize the feature importance values \n",
    "plt.figure(figsize=(20,20))\n",
    "\n",
    "# Creating a bar plot\n",
    "sns.barplot(y=rfy1_feature_imp.index, x=rfy1_feature_imp)\n",
    "\n",
    "# Add labels\n",
    "plt.xlabel('Random Forest Y1 Feature Importance Score')\n",
    "plt.ylabel('Features')\n",
    "plt.title(\"Visualizing Random Forest Y1 Important Features\")\n",
    "plt.show()\n",
    "plt.savefig('images/sw_tt_rfy1_feature_importance.PNG')"
   ]
  },
  {
   "cell_type": "markdown",
   "metadata": {},
   "source": [
    "## Step-Wise Modeling: CONF"
   ]
  },
  {
   "cell_type": "code",
   "execution_count": 32,
   "metadata": {},
   "outputs": [
    {
     "data": {
      "text/plain": [
       "(33956, 81)"
      ]
     },
     "execution_count": 32,
     "metadata": {},
     "output_type": "execute_result"
    }
   ],
   "source": [
    "# filter out the students that were not accepted (where ACCP=0)\n",
    "df = df[df.Y1 != 0]\n",
    "#df = df.drop(['Y1'], axis=1)\n",
    "df.shape"
   ]
  },
  {
   "cell_type": "code",
   "execution_count": 33,
   "metadata": {},
   "outputs": [
    {
     "data": {
      "text/html": [
       "<div>\n",
       "<style scoped>\n",
       "    .dataframe tbody tr th:only-of-type {\n",
       "        vertical-align: middle;\n",
       "    }\n",
       "\n",
       "    .dataframe tbody tr th {\n",
       "        vertical-align: top;\n",
       "    }\n",
       "\n",
       "    .dataframe thead th {\n",
       "        text-align: right;\n",
       "    }\n",
       "</style>\n",
       "<table border=\"1\" class=\"dataframe\">\n",
       "  <thead>\n",
       "    <tr style=\"text-align: right;\">\n",
       "      <th></th>\n",
       "      <th>f0</th>\n",
       "      <th>f1</th>\n",
       "      <th>f2</th>\n",
       "      <th>f3</th>\n",
       "      <th>f4</th>\n",
       "      <th>f5</th>\n",
       "      <th>f6</th>\n",
       "      <th>f7</th>\n",
       "      <th>f8</th>\n",
       "      <th>f9</th>\n",
       "      <th>...</th>\n",
       "      <th>f71</th>\n",
       "      <th>f72</th>\n",
       "      <th>f73</th>\n",
       "      <th>f74</th>\n",
       "      <th>f75</th>\n",
       "      <th>f76</th>\n",
       "      <th>f77</th>\n",
       "      <th>f78</th>\n",
       "      <th>Y1</th>\n",
       "      <th>Y2</th>\n",
       "    </tr>\n",
       "  </thead>\n",
       "  <tbody>\n",
       "    <tr>\n",
       "      <th>48</th>\n",
       "      <td>0.649921</td>\n",
       "      <td>-0.010433</td>\n",
       "      <td>-0.018399</td>\n",
       "      <td>-0.018279</td>\n",
       "      <td>0.029160</td>\n",
       "      <td>-0.024231</td>\n",
       "      <td>-0.02066</td>\n",
       "      <td>0.968218</td>\n",
       "      <td>-3.701231</td>\n",
       "      <td>-3.011022</td>\n",
       "      <td>...</td>\n",
       "      <td>0</td>\n",
       "      <td>0</td>\n",
       "      <td>0</td>\n",
       "      <td>0</td>\n",
       "      <td>0</td>\n",
       "      <td>0</td>\n",
       "      <td>0</td>\n",
       "      <td>5.0</td>\n",
       "      <td>1</td>\n",
       "      <td>0</td>\n",
       "    </tr>\n",
       "    <tr>\n",
       "      <th>67</th>\n",
       "      <td>-0.018210</td>\n",
       "      <td>-0.010433</td>\n",
       "      <td>-0.018399</td>\n",
       "      <td>-0.018279</td>\n",
       "      <td>-0.156589</td>\n",
       "      <td>-0.024231</td>\n",
       "      <td>-0.02066</td>\n",
       "      <td>2.848948</td>\n",
       "      <td>-2.593895</td>\n",
       "      <td>-3.011022</td>\n",
       "      <td>...</td>\n",
       "      <td>0</td>\n",
       "      <td>0</td>\n",
       "      <td>0</td>\n",
       "      <td>0</td>\n",
       "      <td>0</td>\n",
       "      <td>0</td>\n",
       "      <td>0</td>\n",
       "      <td>5.0</td>\n",
       "      <td>1</td>\n",
       "      <td>0</td>\n",
       "    </tr>\n",
       "  </tbody>\n",
       "</table>\n",
       "<p>2 rows × 81 columns</p>\n",
       "</div>"
      ],
      "text/plain": [
       "          f0        f1        f2        f3        f4        f5       f6  \\\n",
       "48  0.649921 -0.010433 -0.018399 -0.018279  0.029160 -0.024231 -0.02066   \n",
       "67 -0.018210 -0.010433 -0.018399 -0.018279 -0.156589 -0.024231 -0.02066   \n",
       "\n",
       "          f7        f8        f9 ...  f71  f72  f73  f74  f75  f76  f77  f78  \\\n",
       "48  0.968218 -3.701231 -3.011022 ...    0    0    0    0    0    0    0  5.0   \n",
       "67  2.848948 -2.593895 -3.011022 ...    0    0    0    0    0    0    0  5.0   \n",
       "\n",
       "    Y1  Y2  \n",
       "48   1   0  \n",
       "67   1   0  \n",
       "\n",
       "[2 rows x 81 columns]"
      ]
     },
     "execution_count": 33,
     "metadata": {},
     "output_type": "execute_result"
    }
   ],
   "source": [
    "df.head(2)"
   ]
  },
  {
   "cell_type": "markdown",
   "metadata": {},
   "source": [
    "### Re-Split and Re-Balance the Data"
   ]
  },
  {
   "cell_type": "code",
   "execution_count": 34,
   "metadata": {},
   "outputs": [],
   "source": [
    "# Splitting up our data into features and target\n",
    "# for this modeling approach I will only be using 1 target at a time \n",
    "# the second target is Confirm (CONF)\n",
    "X = df.iloc[:, :-2] # Features\n",
    "Y = df.Y2 # Target\n",
    "\n",
    "# Split dataset into training set and test set using a 70/30 split\n",
    "X_train, X_test, Y_train, Y_test = train_test_split(X, Y, test_size=0.3, random_state=2019)\n",
    "\n",
    "# import the RandomOverSampler package from imblearn\n",
    "# this package will help address the imbalanced nature of the ACCP target \n",
    "from imblearn.over_sampling import RandomOverSampler\n",
    "\n",
    "# define the RandomOverSampler (ros) model\n",
    "ros = RandomOverSampler(random_state=2019)\n",
    "\n",
    "# fit the training data only to the RandomOverSampler model\n",
    "X_train_resample, Y_train_resample = ros.fit_resample(X_train, Y_train)"
   ]
  },
  {
   "cell_type": "markdown",
   "metadata": {},
   "source": [
    "### 1. Decision Tree"
   ]
  },
  {
   "cell_type": "code",
   "execution_count": 35,
   "metadata": {},
   "outputs": [],
   "source": [
    "# build decision tree \n",
    "dt = DecisionTreeClassifier(random_state=2019)\n",
    "\n",
    "# Train Decision Tree Classifer\n",
    "dt = dt.fit(X_train_resample,Y_train_resample)\n",
    "\n",
    "# Predict the target for the test data \n",
    "Y_pred = dt.predict(X_test)"
   ]
  },
  {
   "cell_type": "code",
   "execution_count": 36,
   "metadata": {},
   "outputs": [
    {
     "name": "stdout",
     "output_type": "stream",
     "text": [
      "F1 Score: 0.7646020405642995\n",
      "AUC Score: 0.5465709004101271\n",
      "              precision    recall  f1-score   support\n",
      "\n",
      "           0       0.87      0.84      0.86      8696\n",
      "           1       0.22      0.25      0.23      1491\n",
      "\n",
      "    accuracy                           0.76     10187\n",
      "   macro avg       0.54      0.55      0.54     10187\n",
      "weighted avg       0.77      0.76      0.76     10187\n",
      "\n",
      "[[7348 1348]\n",
      " [1121  370]]\n"
     ]
    }
   ],
   "source": [
    "# Model Accuracy, how often is the Decision Tree correct?\n",
    "print(\"F1 Score:\",metrics.f1_score(Y_test, Y_pred, average='weighted'))\n",
    "print(\"AUC Score:\",metrics.roc_auc_score(Y_test, Y_pred, average='weighted'))\n",
    "\n",
    "# We are going to look at the classification report and also the confusion matrix for the Decision Tree  \n",
    "print(metrics.classification_report(Y_test, Y_pred))\n",
    "print(metrics.confusion_matrix(Y_test, Y_pred))"
   ]
  },
  {
   "cell_type": "code",
   "execution_count": 37,
   "metadata": {},
   "outputs": [
    {
     "data": {
      "text/plain": [
       "f4     0.206898\n",
       "f78    0.068890\n",
       "f3     0.064683\n",
       "f1     0.057224\n",
       "f0     0.056951\n",
       "f2     0.054284\n",
       "f25    0.044768\n",
       "f24    0.041005\n",
       "f12    0.026683\n",
       "f9     0.024744\n",
       "f8     0.023747\n",
       "f17    0.021275\n",
       "f10    0.020418\n",
       "f26    0.020025\n",
       "f21    0.019679\n",
       "f75    0.018082\n",
       "f7     0.017307\n",
       "f16    0.015461\n",
       "f11    0.015375\n",
       "f32    0.014046\n",
       "f33    0.010765\n",
       "f19    0.010173\n",
       "f27    0.009062\n",
       "f65    0.008682\n",
       "f60    0.008317\n",
       "f20    0.008230\n",
       "f56    0.008120\n",
       "f46    0.008091\n",
       "f35    0.006577\n",
       "f15    0.006416\n",
       "         ...   \n",
       "f31    0.002046\n",
       "f50    0.001585\n",
       "f38    0.001520\n",
       "f74    0.001343\n",
       "f54    0.001306\n",
       "f44    0.001270\n",
       "f71    0.001207\n",
       "f64    0.001058\n",
       "f47    0.000976\n",
       "f69    0.000890\n",
       "f70    0.000686\n",
       "f36    0.000656\n",
       "f73    0.000531\n",
       "f72    0.000482\n",
       "f62    0.000398\n",
       "f77    0.000393\n",
       "f42    0.000342\n",
       "f39    0.000328\n",
       "f67    0.000284\n",
       "f29    0.000254\n",
       "f59    0.000206\n",
       "f53    0.000160\n",
       "f66    0.000080\n",
       "f28    0.000044\n",
       "f61    0.000000\n",
       "f6     0.000000\n",
       "f5     0.000000\n",
       "f48    0.000000\n",
       "f68    0.000000\n",
       "f22    0.000000\n",
       "Length: 79, dtype: float64"
      ]
     },
     "execution_count": 37,
     "metadata": {},
     "output_type": "execute_result"
    }
   ],
   "source": [
    "# define the feature importance variable \n",
    "feature_imp_conf = pd.Series(dt.feature_importances_,index=df.iloc[:,:-2].columns).sort_values(ascending=False)\n",
    "\n",
    "# print the results \n",
    "feature_imp_conf"
   ]
  },
  {
   "cell_type": "code",
   "execution_count": 65,
   "metadata": {},
   "outputs": [],
   "source": [
    "dfi_dt = pd.DataFrame(feature_imp)\n",
    "dfi_dt.to_csv('feature_imp/sw_tt_dty2.csv')"
   ]
  },
  {
   "cell_type": "code",
   "execution_count": 38,
   "metadata": {},
   "outputs": [
    {
     "data": {
      "image/png": "[encoded data removed]",
      "text/plain": [
       "<Figure size 1440x1440 with 1 Axes>"
      ]
     },
     "metadata": {
      "needs_background": "light"
     },
     "output_type": "display_data"
    },
    {
     "data": {
      "text/plain": [
       "<Figure size 1440x720 with 0 Axes>"
      ]
     },
     "metadata": {},
     "output_type": "display_data"
    }
   ],
   "source": [
    "# visualize the feature importance values \n",
    "plt.figure(figsize=(20,20))\n",
    "\n",
    "# Creating a bar plot\n",
    "sns.barplot(y=feature_imp_conf.index, x=feature_imp_conf)\n",
    "\n",
    "# Add labels\n",
    "plt.xlabel('Feature Importance Score')\n",
    "plt.ylabel('Features')\n",
    "plt.title(\"Visualizing Important Features\")\n",
    "plt.show()\n",
    "\n",
    "plt.savefig('images/sw_tt_dty2_feature_importance.PNG')"
   ]
  },
  {
   "cell_type": "markdown",
   "metadata": {},
   "source": [
    "### 2. Logistic Regression"
   ]
  },
  {
   "cell_type": "code",
   "execution_count": 39,
   "metadata": {},
   "outputs": [],
   "source": [
    "# build logistic regression\n",
    "# specify a solver to aviod a warning message \n",
    "logreg = LogisticRegression(solver='liblinear',random_state=2019)\n",
    "\n",
    "# fit the training data to the model\n",
    "logreg = logreg.fit(X_train_resample,Y_train_resample) \n",
    "\n",
    "# run the model using test data \n",
    "Y_pred=logreg.predict(X_test)"
   ]
  },
  {
   "cell_type": "code",
   "execution_count": 40,
   "metadata": {},
   "outputs": [
    {
     "name": "stdout",
     "output_type": "stream",
     "text": [
      "F1 Score: 0.6893017734635529\n",
      "AUC Score: 0.6157786183522478\n",
      "              precision    recall  f1-score   support\n",
      "\n",
      "           0       0.90      0.65      0.75      8696\n",
      "           1       0.22      0.59      0.32      1491\n",
      "\n",
      "    accuracy                           0.64     10187\n",
      "   macro avg       0.56      0.62      0.54     10187\n",
      "weighted avg       0.80      0.64      0.69     10187\n",
      "\n",
      "[[5618 3078]\n",
      " [ 618  873]]\n"
     ]
    }
   ],
   "source": [
    "# print evaluation metrics\n",
    "print(\"F1 Score:\",metrics.f1_score(Y_test, Y_pred, average='weighted'))\n",
    "print(\"AUC Score:\",metrics.roc_auc_score(Y_test, Y_pred, average='weighted'))\n",
    "\n",
    "# We are going to look at the classification report and also the confusion matrix for the Decision Tree  \n",
    "print(metrics.classification_report(Y_test, Y_pred))\n",
    "print(metrics.confusion_matrix(Y_test, Y_pred))"
   ]
  },
  {
   "cell_type": "markdown",
   "metadata": {},
   "source": [
    "### 3. SVM"
   ]
  },
  {
   "cell_type": "code",
   "execution_count": 41,
   "metadata": {},
   "outputs": [],
   "source": [
    "# define the svm model \n",
    "svc = SVC(kernel='rbf', gamma='auto', random_state=2019)\n",
    "\n",
    "# fit svm model \n",
    "svc = svc.fit(X_train_resample, Y_train_resample)\n",
    "\n",
    "# predict the target using the testing data \n",
    "Y_pred = svc.predict(X_test)"
   ]
  },
  {
   "cell_type": "code",
   "execution_count": 42,
   "metadata": {},
   "outputs": [
    {
     "name": "stdout",
     "output_type": "stream",
     "text": [
      "F1 Score: 0.709779318542164\n",
      "AUC Score: 0.6233986254231924\n",
      "              precision    recall  f1-score   support\n",
      "\n",
      "           0       0.90      0.68      0.77      8696\n",
      "           1       0.23      0.57      0.33      1491\n",
      "\n",
      "    accuracy                           0.66     10187\n",
      "   macro avg       0.57      0.62      0.55     10187\n",
      "weighted avg       0.80      0.66      0.71     10187\n",
      "\n",
      "[[5908 2788]\n",
      " [ 645  846]]\n"
     ]
    }
   ],
   "source": [
    "# Model Accuracy, how often is the Decision Tree correct?\n",
    "print(\"F1 Score:\",metrics.f1_score(Y_test, Y_pred, average='weighted'))\n",
    "print(\"AUC Score:\",metrics.roc_auc_score(Y_test, Y_pred, average='weighted'))\n",
    "\n",
    "# We are going to look at the classification report and also the confusion matrix for the Decision Tree  \n",
    "print(metrics.classification_report(Y_test, Y_pred))\n",
    "print(metrics.confusion_matrix(Y_test, Y_pred))"
   ]
  },
  {
   "cell_type": "markdown",
   "metadata": {},
   "source": [
    "### 4. KNeighbors"
   ]
  },
  {
   "cell_type": "code",
   "execution_count": 43,
   "metadata": {},
   "outputs": [],
   "source": [
    "# define the svm model \n",
    "kn = KNeighborsClassifier()\n",
    "\n",
    "# fit svm model \n",
    "kn = kn.fit(X_train_resample, Y_train_resample)\n",
    "\n",
    "# predict the target using the testing data \n",
    "Y_pred = kn.predict(X_test)"
   ]
  },
  {
   "cell_type": "code",
   "execution_count": 44,
   "metadata": {},
   "outputs": [
    {
     "name": "stdout",
     "output_type": "stream",
     "text": [
      "F1 Score: 0.6878289711023273\n",
      "AUC Score: 0.5531864523541125\n",
      "              precision    recall  f1-score   support\n",
      "\n",
      "           0       0.87      0.67      0.76      8696\n",
      "           1       0.19      0.43      0.26      1491\n",
      "\n",
      "    accuracy                           0.64     10187\n",
      "   macro avg       0.53      0.55      0.51     10187\n",
      "weighted avg       0.77      0.64      0.69     10187\n",
      "\n",
      "[[5865 2831]\n",
      " [ 847  644]]\n"
     ]
    }
   ],
   "source": [
    "# Model Accuracy, how often is the Decision Tree correct?\n",
    "print(\"F1 Score:\",metrics.f1_score(Y_test, Y_pred, average='weighted'))\n",
    "print(\"AUC Score:\",metrics.roc_auc_score(Y_test, Y_pred, average='weighted'))\n",
    "\n",
    "# We are going to look at the classification report and also the confusion matrix for the Decision Tree  \n",
    "print(metrics.classification_report(Y_test, Y_pred))\n",
    "print(metrics.confusion_matrix(Y_test, Y_pred))"
   ]
  },
  {
   "cell_type": "markdown",
   "metadata": {},
   "source": [
    "### 5. AdaBoost"
   ]
  },
  {
   "cell_type": "code",
   "execution_count": 45,
   "metadata": {},
   "outputs": [],
   "source": [
    "# define the svm model \n",
    "ada = AdaBoostClassifier(random_state=2019)\n",
    "\n",
    "# fit svm model \n",
    "ada = ada.fit(X_train_resample, Y_train_resample)\n",
    "\n",
    "# predict the target using the testing data \n",
    "Y_pred = ada.predict(X_test)"
   ]
  },
  {
   "cell_type": "code",
   "execution_count": 46,
   "metadata": {},
   "outputs": [
    {
     "name": "stdout",
     "output_type": "stream",
     "text": [
      "F1 Score: 0.6873724528663828\n",
      "AUC Score: 0.6113998464876965\n",
      "              precision    recall  f1-score   support\n",
      "\n",
      "           0       0.90      0.64      0.75      8696\n",
      "           1       0.22      0.58      0.32      1491\n",
      "\n",
      "    accuracy                           0.63     10187\n",
      "   macro avg       0.56      0.61      0.53     10187\n",
      "weighted avg       0.80      0.63      0.69     10187\n",
      "\n",
      "[[5606 3090]\n",
      " [ 629  862]]\n"
     ]
    }
   ],
   "source": [
    "# Model Accuracy, how often is the Decision Tree correct?\n",
    "print(\"F1 Score:\",metrics.f1_score(Y_test, Y_pred, average='weighted'))\n",
    "print(\"AUC Score:\",metrics.roc_auc_score(Y_test, Y_pred, average='weighted'))\n",
    "\n",
    "# We are going to look at the classification report and also the confusion matrix for the Decision Tree  \n",
    "print(metrics.classification_report(Y_test, Y_pred))\n",
    "print(metrics.confusion_matrix(Y_test, Y_pred))"
   ]
  },
  {
   "cell_type": "code",
   "execution_count": 47,
   "metadata": {},
   "outputs": [
    {
     "data": {
      "text/plain": [
       "f26    0.16\n",
       "f78    0.10\n",
       "f3     0.08\n",
       "f4     0.06\n",
       "f0     0.06\n",
       "f16    0.04\n",
       "f2     0.04\n",
       "f9     0.04\n",
       "f10    0.04\n",
       "f19    0.02\n",
       "f37    0.02\n",
       "f25    0.02\n",
       "f24    0.02\n",
       "f21    0.02\n",
       "f20    0.02\n",
       "f36    0.02\n",
       "f18    0.02\n",
       "f77    0.02\n",
       "f11    0.02\n",
       "f8     0.02\n",
       "f7     0.02\n",
       "f1     0.02\n",
       "f38    0.02\n",
       "f39    0.02\n",
       "f70    0.02\n",
       "f60    0.02\n",
       "f62    0.02\n",
       "f63    0.02\n",
       "f54    0.00\n",
       "f13    0.00\n",
       "       ... \n",
       "f71    0.00\n",
       "f58    0.00\n",
       "f27    0.00\n",
       "f53    0.00\n",
       "f41    0.00\n",
       "f52    0.00\n",
       "f51    0.00\n",
       "f50    0.00\n",
       "f49    0.00\n",
       "f48    0.00\n",
       "f47    0.00\n",
       "f46    0.00\n",
       "f45    0.00\n",
       "f44    0.00\n",
       "f43    0.00\n",
       "f42    0.00\n",
       "f40    0.00\n",
       "f28    0.00\n",
       "f55    0.00\n",
       "f56    0.00\n",
       "f57    0.00\n",
       "f72    0.00\n",
       "f35    0.00\n",
       "f34    0.00\n",
       "f33    0.00\n",
       "f32    0.00\n",
       "f31    0.00\n",
       "f30    0.00\n",
       "f29    0.00\n",
       "f73    0.00\n",
       "Length: 79, dtype: float64"
      ]
     },
     "execution_count": 47,
     "metadata": {},
     "output_type": "execute_result"
    }
   ],
   "source": [
    "# define the feature importance variable \n",
    "ada_feature_imp = pd.Series(ada.feature_importances_,index=df.iloc[:,:-2].columns).sort_values(ascending=False)\n",
    "\n",
    "# print the results \n",
    "ada_feature_imp"
   ]
  },
  {
   "cell_type": "code",
   "execution_count": 66,
   "metadata": {},
   "outputs": [],
   "source": [
    "dfi_ada = pd.DataFrame(ada_feature_imp)\n",
    "dfi_ada.to_csv('feature_imp/sw_tt_aday2.csv')"
   ]
  },
  {
   "cell_type": "code",
   "execution_count": 48,
   "metadata": {},
   "outputs": [
    {
     "data": {
      "image/png": "[encoded data removed]",
      "text/plain": [
       "<Figure size 1440x1440 with 1 Axes>"
      ]
     },
     "metadata": {
      "needs_background": "light"
     },
     "output_type": "display_data"
    },
    {
     "data": {
      "text/plain": [
       "<Figure size 1440x720 with 0 Axes>"
      ]
     },
     "metadata": {},
     "output_type": "display_data"
    }
   ],
   "source": [
    "# visualize the feature importance values \n",
    "plt.figure(figsize=(20,20))\n",
    "\n",
    "# Creating a bar plot\n",
    "sns.barplot(y=ada_feature_imp.index, x=ada_feature_imp)\n",
    "\n",
    "# Add labels\n",
    "plt.xlabel('AdaBoost Feature Importance Score')\n",
    "plt.ylabel('Features')\n",
    "plt.title(\"Visualizing AdaBoost Important Features\")\n",
    "plt.show()\n",
    "plt.savefig('images/sw_tt_aday2_feature_importance.PNG')"
   ]
  },
  {
   "cell_type": "markdown",
   "metadata": {},
   "source": [
    "### 6. XGBoost"
   ]
  },
  {
   "cell_type": "code",
   "execution_count": 49,
   "metadata": {},
   "outputs": [],
   "source": [
    "# build xgboost model\n",
    "xg = xgb.XGBClassifier(n_estimators=100, random_state=2019)\n",
    "\n",
    "# fit the training data to the model\n",
    "xg = xg.fit(X_train_resample,Y_train_resample) \n",
    "\n",
    "# run the model using test data \n",
    "Y_pred=xg.predict(X_test)"
   ]
  },
  {
   "cell_type": "code",
   "execution_count": 50,
   "metadata": {},
   "outputs": [
    {
     "name": "stdout",
     "output_type": "stream",
     "text": [
      "F1 Score: 0.7065513558324499\n",
      "AUC Score: 0.6204855243080686\n",
      "              precision    recall  f1-score   support\n",
      "\n",
      "           0       0.90      0.67      0.77      8696\n",
      "           1       0.23      0.57      0.33      1491\n",
      "\n",
      "    accuracy                           0.66     10187\n",
      "   macro avg       0.57      0.62      0.55     10187\n",
      "weighted avg       0.80      0.66      0.71     10187\n",
      "\n",
      "[[5869 2827]\n",
      " [ 647  844]]\n"
     ]
    }
   ],
   "source": [
    "# evluate xgboost\n",
    "print(\"F1 Score:\",metrics.f1_score(Y_test, Y_pred, average='weighted'))\n",
    "print(\"AUC Score:\",metrics.roc_auc_score(Y_test, Y_pred, average='weighted'))\n",
    "\n",
    "# We are going to look at the classification report and also the confusion matrix for the Decision Tree  \n",
    "print(metrics.classification_report(Y_test, Y_pred))\n",
    "print(metrics.confusion_matrix(Y_test, Y_pred))"
   ]
  },
  {
   "cell_type": "code",
   "execution_count": 67,
   "metadata": {},
   "outputs": [
    {
     "data": {
      "text/plain": [
       "f21    0.103421\n",
       "f78    0.085905\n",
       "f60    0.058796\n",
       "f0     0.048430\n",
       "f26    0.042163\n",
       "f3     0.038388\n",
       "f20    0.037253\n",
       "f10    0.036865\n",
       "f11    0.035403\n",
       "f16    0.026275\n",
       "f13    0.025389\n",
       "f25    0.023053\n",
       "f24    0.022952\n",
       "f38    0.017414\n",
       "f4     0.016639\n",
       "f75    0.016089\n",
       "f33    0.016077\n",
       "f36    0.014162\n",
       "f37    0.013953\n",
       "f18    0.013623\n",
       "f63    0.013573\n",
       "f9     0.013470\n",
       "f7     0.013321\n",
       "f1     0.013231\n",
       "f14    0.012290\n",
       "f52    0.012090\n",
       "f27    0.012064\n",
       "f62    0.012020\n",
       "f8     0.011790\n",
       "f51    0.011743\n",
       "         ...   \n",
       "f55    0.002533\n",
       "f40    0.001073\n",
       "f61    0.000000\n",
       "f72    0.000000\n",
       "f71    0.000000\n",
       "f70    0.000000\n",
       "f69    0.000000\n",
       "f5     0.000000\n",
       "f6     0.000000\n",
       "f68    0.000000\n",
       "f67    0.000000\n",
       "f66    0.000000\n",
       "f73    0.000000\n",
       "f64    0.000000\n",
       "f41    0.000000\n",
       "f45    0.000000\n",
       "f59    0.000000\n",
       "f29    0.000000\n",
       "f44    0.000000\n",
       "f31    0.000000\n",
       "f54    0.000000\n",
       "f76    0.000000\n",
       "f22    0.000000\n",
       "f23    0.000000\n",
       "f53    0.000000\n",
       "f50    0.000000\n",
       "f48    0.000000\n",
       "f47    0.000000\n",
       "f28    0.000000\n",
       "f15    0.000000\n",
       "Length: 79, dtype: float32"
      ]
     },
     "execution_count": 67,
     "metadata": {},
     "output_type": "execute_result"
    }
   ],
   "source": [
    "# define the feature importance variable \n",
    "xgb_feature_imp = pd.Series(xg.feature_importances_,index=df.iloc[:,:-2].columns).sort_values(ascending=False)\n",
    "\n",
    "# print the results \n",
    "xgb_feature_imp"
   ]
  },
  {
   "cell_type": "code",
   "execution_count": 68,
   "metadata": {},
   "outputs": [],
   "source": [
    "dfi_xgb = pd.DataFrame(xgb_feature_imp)\n",
    "dfi_xg.to_csv('feature_imp/sw_tt_xbgy2.csv')"
   ]
  },
  {
   "cell_type": "code",
   "execution_count": 51,
   "metadata": {},
   "outputs": [
    {
     "data": {
      "image/png": "[encoded data removed]",
      "text/plain": [
       "<Figure size 1440x720 with 1 Axes>"
      ]
     },
     "metadata": {
      "needs_background": "light"
     },
     "output_type": "display_data"
    },
    {
     "data": {
      "text/plain": [
       "<Figure size 1440x720 with 0 Axes>"
      ]
     },
     "metadata": {},
     "output_type": "display_data"
    }
   ],
   "source": [
    "# visualize the feature importances according to the xgboost model\n",
    "xgb.plot_importance(xg)\n",
    "plt.rcParams['figure.figsize'] = [20, 10]\n",
    "plt.show()\n",
    "plt.savefig('images/sw_tt_xgby2_feature_importance.PNG')"
   ]
  },
  {
   "cell_type": "markdown",
   "metadata": {},
   "source": [
    "### 7. Random Forest: CONF (Y2)"
   ]
  },
  {
   "cell_type": "code",
   "execution_count": 52,
   "metadata": {},
   "outputs": [],
   "source": [
    "# build decision tree \n",
    "rfy2 = RandomForestClassifier(n_estimators=100, random_state=2019)\n",
    "\n",
    "# Train Decision Tree Classifer\n",
    "rfy2 = rfy2.fit(X_train_resample, Y_train_resample)\n",
    "\n",
    "# Predict the target for the test data \n",
    "Y_pred = rfy2.predict(X_test)"
   ]
  },
  {
   "cell_type": "code",
   "execution_count": 53,
   "metadata": {},
   "outputs": [
    {
     "name": "stdout",
     "output_type": "stream",
     "text": [
      "F1 Score: 0.8029162439941496\n",
      "AUC Score: 0.5629908321440449\n",
      "              precision    recall  f1-score   support\n",
      "\n",
      "           0       0.87      0.93      0.90      8696\n",
      "           1       0.32      0.20      0.24      1491\n",
      "\n",
      "    accuracy                           0.82     10187\n",
      "   macro avg       0.60      0.56      0.57     10187\n",
      "weighted avg       0.79      0.82      0.80     10187\n",
      "\n",
      "[[8071  625]\n",
      " [1196  295]]\n"
     ]
    }
   ],
   "source": [
    "# Model Accuracy, how often is the Decision Tree correct?\n",
    "print(\"F1 Score:\",metrics.f1_score(Y_test, Y_pred, average='weighted'))\n",
    "print(\"AUC Score:\",metrics.roc_auc_score(Y_test, Y_pred, average='weighted'))\n",
    "\n",
    "# We are going to look at the classification report and also the confusion matrix for the Decision Tree  \n",
    "print(metrics.classification_report(Y_test, Y_pred))\n",
    "print(metrics.confusion_matrix(Y_test, Y_pred))"
   ]
  },
  {
   "cell_type": "code",
   "execution_count": 54,
   "metadata": {},
   "outputs": [
    {
     "data": {
      "text/plain": [
       "f4     0.183389\n",
       "f3     0.066786\n",
       "f78    0.064912\n",
       "f1     0.062129\n",
       "f0     0.060591\n",
       "f2     0.060472\n",
       "f25    0.045609\n",
       "f24    0.044811\n",
       "f12    0.027844\n",
       "f9     0.026057\n",
       "f10    0.023406\n",
       "f8     0.023332\n",
       "f17    0.022735\n",
       "f16    0.021830\n",
       "f7     0.020989\n",
       "f11    0.019570\n",
       "f26    0.018624\n",
       "f21    0.017974\n",
       "f19    0.012995\n",
       "f75    0.011515\n",
       "f33    0.009644\n",
       "f32    0.008909\n",
       "f20    0.008691\n",
       "f65    0.008161\n",
       "f46    0.007008\n",
       "f56    0.006902\n",
       "f13    0.006640\n",
       "f60    0.006597\n",
       "f27    0.006588\n",
       "f15    0.006476\n",
       "         ...   \n",
       "f43    0.002017\n",
       "f41    0.001536\n",
       "f36    0.001442\n",
       "f50    0.001190\n",
       "f74    0.001176\n",
       "f69    0.001151\n",
       "f54    0.001122\n",
       "f64    0.001019\n",
       "f44    0.000950\n",
       "f42    0.000885\n",
       "f71    0.000848\n",
       "f62    0.000799\n",
       "f73    0.000782\n",
       "f72    0.000678\n",
       "f67    0.000657\n",
       "f70    0.000640\n",
       "f47    0.000571\n",
       "f39    0.000521\n",
       "f77    0.000399\n",
       "f59    0.000393\n",
       "f28    0.000371\n",
       "f61    0.000237\n",
       "f68    0.000203\n",
       "f66    0.000195\n",
       "f29    0.000169\n",
       "f53    0.000166\n",
       "f48    0.000018\n",
       "f6     0.000000\n",
       "f5     0.000000\n",
       "f22    0.000000\n",
       "Length: 79, dtype: float64"
      ]
     },
     "execution_count": 54,
     "metadata": {},
     "output_type": "execute_result"
    }
   ],
   "source": [
    "# define the feature importance variable\n",
    "rfy2_feature_imp = pd.Series(rfy2.feature_importances_,index=df.iloc[:,:-2].columns).sort_values(ascending=False)\n",
    "\n",
    "# print the results \n",
    "rfy2_feature_imp"
   ]
  },
  {
   "cell_type": "code",
   "execution_count": 69,
   "metadata": {},
   "outputs": [],
   "source": [
    "dfi_rf = pd.DataFrame(rfy2_feature_imp)\n",
    "dfi_rf.to_csv('feature_imp/sw_tt_rfy2.csv')"
   ]
  },
  {
   "cell_type": "code",
   "execution_count": 55,
   "metadata": {},
   "outputs": [
    {
     "data": {
      "image/png": "[encoded data removed]",
      "text/plain": [
       "<Figure size 1440x1440 with 1 Axes>"
      ]
     },
     "metadata": {
      "needs_background": "light"
     },
     "output_type": "display_data"
    },
    {
     "data": {
      "text/plain": [
       "<Figure size 1440x720 with 0 Axes>"
      ]
     },
     "metadata": {},
     "output_type": "display_data"
    }
   ],
   "source": [
    "# visualize the feature importance values \n",
    "plt.figure(figsize=(20,20))\n",
    "\n",
    "# Creating a bar plot\n",
    "sns.barplot(y=rfy2_feature_imp.index, x=rfy1_feature_imp)\n",
    "\n",
    "# Add labels\n",
    "plt.xlabel('Random Forest Y2 Feature Importance Score')\n",
    "plt.ylabel('Features')\n",
    "plt.title(\"Visualizing Random Forest Y2 Important Features\")\n",
    "plt.show()\n",
    "plt.savefig('images/sw_tt_rfy2_feature_importance.PNG')"
   ]
  },
  {
   "cell_type": "code",
   "execution_count": null,
   "metadata": {},
   "outputs": [],
   "source": []
  }
 ],
 "metadata": {
  "kernelspec": {
   "display_name": "Python 3",
   "language": "python",
   "name": "python3"
  },
  "language_info": {
   "codemirror_mode": {
    "name": "ipython",
    "version": 3
   },
   "file_extension": ".py",
   "mimetype": "text/x-python",
   "name": "python",
   "nbconvert_exporter": "python",
   "pygments_lexer": "ipython3",
   "version": "3.6.7"
  }
 },
 "nbformat": 4,
 "nbformat_minor": 2
}
