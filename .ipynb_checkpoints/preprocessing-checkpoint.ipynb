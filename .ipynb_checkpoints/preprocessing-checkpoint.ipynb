{
 "cells": [
  {
   "cell_type": "code",
   "execution_count": 1,
   "metadata": {},
   "outputs": [],
   "source": [
    "# import preprocessing packages \n",
    "import numpy as np\n",
    "import pandas as pd\n",
    "import matplotlib.pyplot as plt\n",
    "%matplotlib inline\n",
    "plt.style.use('ggplot')\n",
    "import seaborn as sns\n",
    "sns.set(style=\"darkgrid\")"
   ]
  },
  {
   "cell_type": "code",
   "execution_count": 2,
   "metadata": {},
   "outputs": [
    {
     "data": {
      "text/html": [
       "<div>\n",
       "<style scoped>\n",
       "    .dataframe tbody tr th:only-of-type {\n",
       "        vertical-align: middle;\n",
       "    }\n",
       "\n",
       "    .dataframe tbody tr th {\n",
       "        vertical-align: top;\n",
       "    }\n",
       "\n",
       "    .dataframe thead th {\n",
       "        text-align: right;\n",
       "    }\n",
       "</style>\n",
       "<table border=\"1\" class=\"dataframe\">\n",
       "  <thead>\n",
       "    <tr style=\"text-align: right;\">\n",
       "      <th></th>\n",
       "      <th>ID</th>\n",
       "      <th>Accept</th>\n",
       "      <th>HSCity</th>\n",
       "      <th>HST</th>\n",
       "      <th>College</th>\n",
       "      <th>DEGREE_TYPE</th>\n",
       "      <th>MAJOR_CODE</th>\n",
       "      <th>Major</th>\n",
       "      <th>Major Description</th>\n",
       "      <th>First_GEN</th>\n",
       "      <th>...</th>\n",
       "      <th>ADMIT_TYPE</th>\n",
       "      <th>ADMT_DESC</th>\n",
       "      <th>COMP</th>\n",
       "      <th>APP_ENTRY_TERM</th>\n",
       "      <th>RESIDENT_CODE</th>\n",
       "      <th>ENROLL</th>\n",
       "      <th>JESUIT</th>\n",
       "      <th>HSNATION</th>\n",
       "      <th>RELIGION</th>\n",
       "      <th>APPLIED</th>\n",
       "    </tr>\n",
       "  </thead>\n",
       "  <tbody>\n",
       "    <tr>\n",
       "      <th>0</th>\n",
       "      <td>214717</td>\n",
       "      <td>NaN</td>\n",
       "      <td>North Eastham</td>\n",
       "      <td>MA</td>\n",
       "      <td>Dolan School of Business</td>\n",
       "      <td>BS</td>\n",
       "      <td>Business Undeclared</td>\n",
       "      <td>Business Undeclared</td>\n",
       "      <td>Business Undeclared</td>\n",
       "      <td>34</td>\n",
       "      <td>...</td>\n",
       "      <td>NaN</td>\n",
       "      <td>NaN</td>\n",
       "      <td>NaN</td>\n",
       "      <td>NaN</td>\n",
       "      <td>NaN</td>\n",
       "      <td>NaN</td>\n",
       "      <td>NaN</td>\n",
       "      <td>NaN</td>\n",
       "      <td>NaN</td>\n",
       "      <td>NaN</td>\n",
       "    </tr>\n",
       "    <tr>\n",
       "      <th>1</th>\n",
       "      <td>214861</td>\n",
       "      <td>NaN</td>\n",
       "      <td>Bridgeport</td>\n",
       "      <td>CT</td>\n",
       "      <td>Dolan School of Business</td>\n",
       "      <td>BS</td>\n",
       "      <td>Marketing</td>\n",
       "      <td>Marketing</td>\n",
       "      <td>Marketing</td>\n",
       "      <td>34</td>\n",
       "      <td>...</td>\n",
       "      <td>NaN</td>\n",
       "      <td>NaN</td>\n",
       "      <td>NaN</td>\n",
       "      <td>NaN</td>\n",
       "      <td>NaN</td>\n",
       "      <td>NaN</td>\n",
       "      <td>NaN</td>\n",
       "      <td>NaN</td>\n",
       "      <td>NaN</td>\n",
       "      <td>NaN</td>\n",
       "    </tr>\n",
       "    <tr>\n",
       "      <th>2</th>\n",
       "      <td>211022</td>\n",
       "      <td>NaN</td>\n",
       "      <td>Newark</td>\n",
       "      <td>NJ</td>\n",
       "      <td>Dolan School of Business</td>\n",
       "      <td>BS</td>\n",
       "      <td>Marketing</td>\n",
       "      <td>Marketing</td>\n",
       "      <td>Marketing</td>\n",
       "      <td>N</td>\n",
       "      <td>...</td>\n",
       "      <td>NaN</td>\n",
       "      <td>NaN</td>\n",
       "      <td>NaN</td>\n",
       "      <td>NaN</td>\n",
       "      <td>NaN</td>\n",
       "      <td>NaN</td>\n",
       "      <td>NaN</td>\n",
       "      <td>NaN</td>\n",
       "      <td>NaN</td>\n",
       "      <td>NaN</td>\n",
       "    </tr>\n",
       "    <tr>\n",
       "      <th>3</th>\n",
       "      <td>211015</td>\n",
       "      <td>NaN</td>\n",
       "      <td>New York</td>\n",
       "      <td>NY</td>\n",
       "      <td>College of Arts and Sciences</td>\n",
       "      <td>BA</td>\n",
       "      <td>Undeclared</td>\n",
       "      <td>Undeclared</td>\n",
       "      <td>Undeclared</td>\n",
       "      <td>N</td>\n",
       "      <td>...</td>\n",
       "      <td>NaN</td>\n",
       "      <td>NaN</td>\n",
       "      <td>NaN</td>\n",
       "      <td>NaN</td>\n",
       "      <td>NaN</td>\n",
       "      <td>NaN</td>\n",
       "      <td>NaN</td>\n",
       "      <td>NaN</td>\n",
       "      <td>NaN</td>\n",
       "      <td>NaN</td>\n",
       "    </tr>\n",
       "    <tr>\n",
       "      <th>4</th>\n",
       "      <td>204374</td>\n",
       "      <td>NaN</td>\n",
       "      <td>Danbury</td>\n",
       "      <td>CT</td>\n",
       "      <td>Dolan School of Business</td>\n",
       "      <td>BS</td>\n",
       "      <td>Management</td>\n",
       "      <td>Management</td>\n",
       "      <td>Management</td>\n",
       "      <td>34</td>\n",
       "      <td>...</td>\n",
       "      <td>NaN</td>\n",
       "      <td>NaN</td>\n",
       "      <td>NaN</td>\n",
       "      <td>NaN</td>\n",
       "      <td>NaN</td>\n",
       "      <td>NaN</td>\n",
       "      <td>NaN</td>\n",
       "      <td>NaN</td>\n",
       "      <td>NaN</td>\n",
       "      <td>NaN</td>\n",
       "    </tr>\n",
       "  </tbody>\n",
       "</table>\n",
       "<p>5 rows × 58 columns</p>\n",
       "</div>"
      ],
      "text/plain": [
       "       ID Accept         HSCity HST                       College DEGREE_TYPE  \\\n",
       "0  214717    NaN  North Eastham  MA      Dolan School of Business          BS   \n",
       "1  214861    NaN     Bridgeport  CT      Dolan School of Business          BS   \n",
       "2  211022    NaN         Newark  NJ      Dolan School of Business          BS   \n",
       "3  211015    NaN       New York  NY  College of Arts and Sciences          BA   \n",
       "4  204374    NaN        Danbury  CT      Dolan School of Business          BS   \n",
       "\n",
       "            MAJOR_CODE                Major    Major Description First_GEN  \\\n",
       "0  Business Undeclared  Business Undeclared  Business Undeclared        34   \n",
       "1            Marketing            Marketing            Marketing        34   \n",
       "2            Marketing            Marketing            Marketing         N   \n",
       "3           Undeclared           Undeclared           Undeclared         N   \n",
       "4           Management           Management           Management        34   \n",
       "\n",
       "    ...    ADMIT_TYPE  ADMT_DESC COMP APP_ENTRY_TERM RESIDENT_CODE ENROLL  \\\n",
       "0   ...           NaN        NaN  NaN            NaN           NaN    NaN   \n",
       "1   ...           NaN        NaN  NaN            NaN           NaN    NaN   \n",
       "2   ...           NaN        NaN  NaN            NaN           NaN    NaN   \n",
       "3   ...           NaN        NaN  NaN            NaN           NaN    NaN   \n",
       "4   ...           NaN        NaN  NaN            NaN           NaN    NaN   \n",
       "\n",
       "  JESUIT HSNATION RELIGION APPLIED  \n",
       "0    NaN      NaN      NaN     NaN  \n",
       "1    NaN      NaN      NaN     NaN  \n",
       "2    NaN      NaN      NaN     NaN  \n",
       "3    NaN      NaN      NaN     NaN  \n",
       "4    NaN      NaN      NaN     NaN  \n",
       "\n",
       "[5 rows x 58 columns]"
      ]
     },
     "execution_count": 2,
     "metadata": {},
     "output_type": "execute_result"
    }
   ],
   "source": [
    "# read in the data file\n",
    "df = pd.read_csv('data/admission_master.csv', low_memory=False)\n",
    "df.head()"
   ]
  },
  {
   "cell_type": "code",
   "execution_count": 3,
   "metadata": {},
   "outputs": [
    {
     "data": {
      "text/plain": [
       "Index(['ID', 'Accept', 'HSCity', 'HST', 'College', 'DEGREE_TYPE', 'MAJOR_CODE',\n",
       "       'Major', 'Major Description', 'First_GEN', 'RGPA', 'Rating', 'P_M',\n",
       "       'Merit', 'DEC', 'APP_DESC', 'ACCP', 'CONF', 'Citizen', 'Sex', 'RES',\n",
       "       'Class Rank', 'Class Size', 'Class Percentile', 'Active City',\n",
       "       'Active Region', 'Active Postal', 'Active Country', 'Ethnicity',\n",
       "       'Test Optional', 'Legacy', 'SAT Math OLD', 'SAT WRI OLD',\n",
       "       'SAT Verbal OLD', 'Total SAT OLD', 'ACT', 'SAT Reading USE',\n",
       "       'SAT Math USE', 'SAT Total USE', 'Enroll', 'College Code',\n",
       "       'Sum Ver & Wri', 'SAT Critical Reading - conversion',\n",
       "       'SAT Math - conversion', 'SAT Reading NEW', 'SAT Math NEW',\n",
       "       'SAT Total NEW', 'Ethnicity Code', 'ADMIT_TYPE', 'ADMT_DESC', 'COMP',\n",
       "       'APP_ENTRY_TERM', 'RESIDENT_CODE', 'ENROLL', 'JESUIT', 'HSNATION',\n",
       "       'RELIGION', 'APPLIED'],\n",
       "      dtype='object')"
      ]
     },
     "execution_count": 3,
     "metadata": {},
     "output_type": "execute_result"
    }
   ],
   "source": [
    "# examine columns, determine which ones will need to be imputed/binned/dropped\n",
    "df.columns"
   ]
  },
  {
   "cell_type": "code",
   "execution_count": 4,
   "metadata": {},
   "outputs": [
    {
     "data": {
      "text/plain": [
       "Index(['HSCity', 'HST', 'College', 'DEGREE_TYPE', 'Major', 'First_GEN', 'RGPA',\n",
       "       'Rating', 'P_M', 'Merit', 'DEC', 'APP_DESC', 'ACCP', 'CONF', 'Citizen',\n",
       "       'Sex', 'RES', 'Class Rank', 'Class Size', 'Class Percentile',\n",
       "       'Active City', 'Active Region', 'Active Postal', 'Active Country',\n",
       "       'Ethnicity', 'Test Optional', 'Legacy', 'ACT', 'SAT Reading USE',\n",
       "       'SAT Math USE', 'SAT Total USE', 'RESIDENT_CODE', 'JESUIT', 'RELIGION'],\n",
       "      dtype='object')"
      ]
     },
     "execution_count": 4,
     "metadata": {},
     "output_type": "execute_result"
    }
   ],
   "source": [
    "# drop unecessary or duplicate columns \n",
    "df = df.drop(['ID','Accept','Enroll','ENROLL','SAT Critical Reading - conversion',\n",
    "             'SAT Math - conversion','SAT Reading NEW', 'SAT Math NEW', 'SAT Total NEW', 'Ethnicity Code',\n",
    "       'ADMIT_TYPE', 'ADMT_DESC', 'COMP', 'APP_ENTRY_TERM','SAT Math OLD', 'SAT WRI OLD', 'SAT Verbal OLD',\n",
    "       'Total SAT OLD','HSNATION','Sum Ver & Wri', 'APPLIED','College Code','MAJOR_CODE','Major Description'], axis=1)\n",
    "# verify that columns were dropped \n",
    "df.columns"
   ]
  },
  {
   "cell_type": "code",
   "execution_count": 5,
   "metadata": {},
   "outputs": [
    {
     "data": {
      "text/plain": [
       "Index(['HSCity', 'HST', 'College', 'DEGREE_TYPE', 'Major', 'First_GEN', 'RGPA',\n",
       "       'Rating', 'P_M', 'Merit', 'Citizen', 'Sex', 'RES', 'Class Rank',\n",
       "       'Class Size', 'Class Percentile', 'Active City', 'Active Region',\n",
       "       'Active Postal', 'Active Country', 'Ethnicity', 'Test Optional',\n",
       "       'Legacy', 'ACT', 'SAT Reading USE', 'SAT Math USE', 'SAT Total USE',\n",
       "       'RESIDENT_CODE', 'JESUIT', 'RELIGION'],\n",
       "      dtype='object')"
      ]
     },
     "execution_count": 5,
     "metadata": {},
     "output_type": "execute_result"
    }
   ],
   "source": [
    "# filter out the targets \n",
    "dfy = df.filter(['ACCP','CONF'])\n",
    "dfy.to_csv('data/targets.csv', index=0)\n",
    "\n",
    "# drop the targets from the main dataframe\n",
    "df = df.drop(['ACCP','CONF','APP_DESC','DEC'], axis=1)\n",
    "df.columns"
   ]
  },
  {
   "cell_type": "code",
   "execution_count": 6,
   "metadata": {},
   "outputs": [
    {
     "data": {
      "text/plain": [
       "Index(['ACT', 'SAT Math USE', 'SAT Reading USE', 'RGPA', 'Class Rank',\n",
       "       'Class Size', 'Class Percentile', 'Rating'],\n",
       "      dtype='object')"
      ]
     },
     "execution_count": 6,
     "metadata": {},
     "output_type": "execute_result"
    }
   ],
   "source": [
    "# filter out continuous variables \n",
    "dfcont = df.filter(['ACT','SAT Math USE','SAT Reading USE',' SAT Total USE', 'RGPA','Class Rank','Class Size','Class Percentile','Rating'])\n",
    "dfcont.head()\n",
    "\n",
    "# drop continuous variables from main dataframe\n",
    "df = df.drop(['Rating','Class Rank', 'Class Size','Class Percentile','ACT', 'SAT Reading USE', \n",
    "              'SAT Math USE','SAT Total USE'], axis=1)\n",
    "\n",
    "# verify dfcont features \n",
    "dfcont.columns"
   ]
  },
  {
   "cell_type": "code",
   "execution_count": 7,
   "metadata": {},
   "outputs": [
    {
     "name": "stdout",
     "output_type": "stream",
     "text": [
      "['HSCity'] [HSCity              298\n",
      "HST                2564\n",
      "College               2\n",
      "DEGREE_TYPE           0\n",
      "Major                 0\n",
      "First_GEN         16164\n",
      "RGPA              25525\n",
      "P_M               57016\n",
      "Merit             51243\n",
      "Citizen              10\n",
      "Sex                   0\n",
      "RES               19956\n",
      "Active City       19968\n",
      "Active Region      1520\n",
      "Active Postal     20527\n",
      "Active Country    19968\n",
      "Ethnicity           522\n",
      "Test Optional         0\n",
      "Legacy            80110\n",
      "RESIDENT_CODE     77441\n",
      "JESUIT            96371\n",
      "RELIGION          79063\n",
      "dtype: int64]\n"
     ]
    }
   ],
   "source": [
    "# count how many missing values each feature in the main dataframe has \n",
    "names = []\n",
    "val = []\n",
    "\n",
    "for col in df.columns:\n",
    "    names.append(col)\n",
    "    val.append(df[df.columns].isnull().sum())\n",
    "    break\n",
    "# print out results as (column_name, # of null values in column_name)\n",
    "print(names, val)"
   ]
  },
  {
   "cell_type": "markdown",
   "metadata": {},
   "source": [
    "## Binning"
   ]
  },
  {
   "cell_type": "code",
   "execution_count": 8,
   "metadata": {},
   "outputs": [
    {
     "data": {
      "text/plain": [
       "Text(0.5, 1.0, 'College Bins')"
      ]
     },
     "execution_count": 8,
     "metadata": {},
     "output_type": "execute_result"
    },
    {
     "data": {
      "image/png": "[encoded data removed]",
      "text/plain": [
       "<Figure size 576x432 with 1 Axes>"
      ]
     },
     "metadata": {
      "needs_background": "light"
     },
     "output_type": "display_data"
    }
   ],
   "source": [
    "# function for assigning college bins\n",
    "def assign_college_bins(College):\n",
    "    if College == 'Dolan School of Business': \n",
    "        return(1)\n",
    "    if College == 'College of Arts & Sciences' or College == 'College of Arts and Sciences':\n",
    "        return(2)\n",
    "    if College == 'School of Engineering':\n",
    "        return(3)    \n",
    "    if College == 'Egan School of Nursing & Health Sciences' or College == 'Egan School of Nursing and Health Studies':\n",
    "        return(4)\n",
    "    else:\n",
    "        return(5)\n",
    "\n",
    "# Applying College_Bins function to the DataFrame\n",
    "df['College_Bins'] = df['College'].apply(assign_college_bins)\n",
    "df.head()\n",
    "\n",
    "# verifying College Bins\n",
    "fig = plt.figure(figsize=(8,6))\n",
    "ax = sns.countplot(x=\"College_Bins\", data=df, palette='Set1')\n",
    "plt.title('College Bins')"
   ]
  },
  {
   "cell_type": "code",
   "execution_count": 9,
   "metadata": {},
   "outputs": [
    {
     "data": {
      "text/plain": [
       "Text(0.5, 1.0, 'Legacy Bins')"
      ]
     },
     "execution_count": 9,
     "metadata": {},
     "output_type": "execute_result"
    },
    {
     "data": {
      "image/png": "[encoded data removed]",
      "text/plain": [
       "<Figure size 576x432 with 1 Axes>"
      ]
     },
     "metadata": {
      "needs_background": "light"
     },
     "output_type": "display_data"
    }
   ],
   "source": [
    "# legacy bins funtion\n",
    "def assign_legacy_bins(Legacy):\n",
    "    if Legacy == 'A' or Legacy=='B' or Legacy=='C' or Legacy=='G' or Legacy=='N' or Legacy=='Brother/Sister Current Student' or Legacy=='Brother/Sister of Alumni' or Legacy=='Child/Grandchild of Alumni': \n",
    "        return(1)\n",
    "    else:\n",
    "        return(2)\n",
    "\n",
    "# Applying legacy_bins function to the DataFrame\n",
    "df['Legacy_Bins'] = df['Legacy'].apply(assign_legacy_bins)\n",
    "\n",
    "# verifying Legacy Bins\n",
    "fig = plt.figure(figsize=(8,6))\n",
    "ax = sns.countplot(x=\"Legacy_Bins\", data=df, palette='Set1')\n",
    "plt.title('Legacy Bins')"
   ]
  },
  {
   "cell_type": "code",
   "execution_count": 10,
   "metadata": {},
   "outputs": [
    {
     "data": {
      "text/plain": [
       "Text(0.5, 1.0, 'P_M Bins')"
      ]
     },
     "execution_count": 10,
     "metadata": {},
     "output_type": "execute_result"
    },
    {
     "data": {
      "image/png": "[encoded data removed]",
      "text/plain": [
       "<Figure size 576x432 with 1 Axes>"
      ]
     },
     "metadata": {
      "needs_background": "light"
     },
     "output_type": "display_data"
    }
   ],
   "source": [
    "# P_M bins\n",
    "def assign_pm_bins(P_M):\n",
    "    if P_M == 'MIN' or P_M=='PLUS': \n",
    "        return(1)\n",
    "    else:\n",
    "        return(2)\n",
    "    \n",
    "# Applying pm_bins function to the DataFrame\n",
    "df['PM_Bins'] = df['P_M'].apply(assign_pm_bins)\n",
    "\n",
    "# verifying P_M Bins\n",
    "fig = plt.figure(figsize=(8,6))\n",
    "ax = sns.countplot(x=\"PM_Bins\", data=df, palette='Set1')\n",
    "plt.title('P_M Bins')"
   ]
  },
  {
   "cell_type": "code",
   "execution_count": 11,
   "metadata": {},
   "outputs": [
    {
     "data": {
      "text/plain": [
       "Text(0.5, 1.0, 'Merit Bins')"
      ]
     },
     "execution_count": 11,
     "metadata": {},
     "output_type": "execute_result"
    },
    {
     "data": {
      "image/png": "[encoded data removed]",
      "text/plain": [
       "<Figure size 576x432 with 1 Axes>"
      ]
     },
     "metadata": {
      "needs_background": "light"
     },
     "output_type": "display_data"
    }
   ],
   "source": [
    "# Merit bins\n",
    "def assign_merit_bins(Merit):\n",
    "    if Merit == 'BELL' or Merit=='COMP' or Merit=='COMS' or Merit=='LOY' or Merit=='MAGI' or Merit=='XAV': \n",
    "        return(1)\n",
    "    else:\n",
    "        return(2)\n",
    "    \n",
    "# Applying merit bins function to the DataFrame\n",
    "df['Merit_Bins'] = df['Merit'].apply(assign_merit_bins)\n",
    "\n",
    "# verifying Merit Bins\n",
    "fig = plt.figure(figsize=(8,6))\n",
    "ax = sns.countplot(x=\"Merit_Bins\", data=df, palette='Set1')\n",
    "plt.title('Merit Bins')"
   ]
  },
  {
   "cell_type": "code",
   "execution_count": 12,
   "metadata": {},
   "outputs": [
    {
     "data": {
      "text/plain": [
       "Text(0.5, 1.0, 'Jesuit Bins')"
      ]
     },
     "execution_count": 12,
     "metadata": {},
     "output_type": "execute_result"
    },
    {
     "data": {
      "image/png": "[encoded data removed]",
      "text/plain": [
       "<Figure size 576x432 with 1 Axes>"
      ]
     },
     "metadata": {
      "needs_background": "light"
     },
     "output_type": "display_data"
    }
   ],
   "source": [
    "# Jesuit bins\n",
    "def assign_jesuit_bins(JESUIT):\n",
    "    if JESUIT=='J': \n",
    "        return(1)\n",
    "    else:\n",
    "        return(2)\n",
    "    \n",
    "# Applying jesuit bins function to the DataFrame\n",
    "df['Jesuit_Bins'] = df['JESUIT'].apply(assign_jesuit_bins)\n",
    "\n",
    "# verifying Jesuit Bins\n",
    "fig = plt.figure(figsize=(8,6))\n",
    "ax = sns.countplot(x=\"Jesuit_Bins\", data=df, palette='Set1')\n",
    "plt.title('Jesuit Bins')"
   ]
  },
  {
   "cell_type": "code",
   "execution_count": 13,
   "metadata": {},
   "outputs": [
    {
     "data": {
      "text/plain": [
       "Text(0.5, 1.0, 'Religion Bins')"
      ]
     },
     "execution_count": 13,
     "metadata": {},
     "output_type": "execute_result"
    },
    {
     "data": {
      "image/png": "[encoded data removed]",
      "text/plain": [
       "<Figure size 576x432 with 1 Axes>"
      ]
     },
     "metadata": {
      "needs_background": "light"
     },
     "output_type": "display_data"
    }
   ],
   "source": [
    "# Religion bins\n",
    "def assign_religion_bins(RELIGION):\n",
    "    if RELIGION=='BA' or RELIGION=='BA' or RELIGION=='BU' or RELIGION=='CA' or RELIGION=='CC' or RELIGION=='CH' or RELIGION=='CO' or RELIGION=='CS' or RELIGION=='EP' or RELIGION=='FR' or RELIGION=='HU' or RELIGION=='JE' or RELIGION=='JW' or RELIGION=='LU' or RELIGION=='ME' or RELIGION=='MN' or RELIGION=='MO' or RELIGION=='MU' or RELIGION=='NL' or RELIGION=='NO' or RELIGION=='OC' or RELIGION=='PB' or RELIGION=='PH' or RELIGION=='RE' or RELIGION=='SD' or RELIGION=='SI' or RELIGION=='UN' or RELIGION=='UT': \n",
    "        return(1)\n",
    "    else:\n",
    "        return(2)\n",
    "    \n",
    "# Applying religion function to the DataFrame\n",
    "df['Religion_Bins'] = df['RELIGION'].apply(assign_religion_bins)\n",
    "\n",
    "# verifying religion Bins\n",
    "fig = plt.figure(figsize=(8,6))\n",
    "ax = sns.countplot(x=\"Religion_Bins\", data=df, palette='Set1')\n",
    "plt.title('Religion Bins')"
   ]
  },
  {
   "cell_type": "code",
   "execution_count": 14,
   "metadata": {},
   "outputs": [
    {
     "data": {
      "text/plain": [
       "Text(0.5, 1.0, 'Ethnicity Bins')"
      ]
     },
     "execution_count": 14,
     "metadata": {},
     "output_type": "execute_result"
    },
    {
     "data": {
      "image/png": "[encoded data removed]",
      "text/plain": [
       "<Figure size 576x432 with 1 Axes>"
      ]
     },
     "metadata": {
      "needs_background": "light"
     },
     "output_type": "display_data"
    }
   ],
   "source": [
    "# ethnicity bins\n",
    "def assign_ethnicity_bins(Ethnicity):\n",
    "    if Ethnicity=='White' or Ethnicity=='White,Including Spain/Portugal':\n",
    "        return(1)\n",
    "    else:\n",
    "        return(2)\n",
    "\n",
    "# Applying ethnicity bins function to the DataFrame\n",
    "df['Ethnicity_Bins'] = df['Ethnicity'].apply(assign_ethnicity_bins)\n",
    "\n",
    "# verifying Ethnicity Bins\n",
    "fig = plt.figure(figsize=(8,6))\n",
    "ax = sns.countplot(x=\"Ethnicity_Bins\", data=df, palette='Set1')\n",
    "plt.title('Ethnicity Bins')"
   ]
  },
  {
   "cell_type": "code",
   "execution_count": 15,
   "metadata": {},
   "outputs": [
    {
     "data": {
      "text/plain": [
       "Text(0.5, 1.0, 'First Generation Bins')"
      ]
     },
     "execution_count": 15,
     "metadata": {},
     "output_type": "execute_result"
    },
    {
     "data": {
      "image/png": "[encoded data removed]",
      "text/plain": [
       "<Figure size 576x432 with 1 Axes>"
      ]
     },
     "metadata": {
      "needs_background": "light"
     },
     "output_type": "display_data"
    }
   ],
   "source": [
    "# First Generation bins\n",
    "def assign_generation_bins(First_GEN):\n",
    "    if First_GEN=='Y' or First_GEN=='34':\n",
    "        return(1)\n",
    "    else:\n",
    "        return(2)\n",
    "\n",
    "# Applying first generation bins function to the DataFrame\n",
    "df['First_GEN_Bins'] = df['First_GEN'].apply(assign_generation_bins)\n",
    "\n",
    "# verifying First Generation Bins\n",
    "fig = plt.figure(figsize=(8,6))\n",
    "ax = sns.countplot(x=\"First_GEN_Bins\", data=df, palette='Set1')\n",
    "plt.title('First Generation Bins')"
   ]
  },
  {
   "cell_type": "code",
   "execution_count": 16,
   "metadata": {},
   "outputs": [
    {
     "data": {
      "text/plain": [
       "Text(0.5, 1.0, 'Citizen Bins')"
      ]
     },
     "execution_count": 16,
     "metadata": {},
     "output_type": "execute_result"
    },
    {
     "data": {
      "image/png": "[encoded data removed]",
      "text/plain": [
       "<Figure size 576x432 with 1 Axes>"
      ]
     },
     "metadata": {
      "needs_background": "light"
     },
     "output_type": "display_data"
    }
   ],
   "source": [
    "# Citizen Bins\n",
    "def assign_citizen_bins(Citizen):\n",
    "    if Citizen=='Citizen' or Citizen=='US':\n",
    "        return(1)\n",
    "    else:\n",
    "        return(2)\n",
    "\n",
    "# Applying citizen bins function to the DataFrame\n",
    "df['Citizen_Bins'] = df['Citizen'].apply(assign_citizen_bins)\n",
    "\n",
    "# verifying Citizen Bins\n",
    "fig = plt.figure(figsize=(8,6))\n",
    "ax = sns.countplot(x=\"Citizen_Bins\", data=df, palette='Set1')\n",
    "plt.title('Citizen Bins')"
   ]
  },
  {
   "cell_type": "code",
   "execution_count": 17,
   "metadata": {},
   "outputs": [
    {
     "data": {
      "text/plain": [
       "Text(0.5, 1.0, 'Degree Type Bins')"
      ]
     },
     "execution_count": 17,
     "metadata": {},
     "output_type": "execute_result"
    },
    {
     "data": {
      "image/png": "[encoded data removed]",
      "text/plain": [
       "<Figure size 576x432 with 1 Axes>"
      ]
     },
     "metadata": {
      "needs_background": "light"
     },
     "output_type": "display_data"
    }
   ],
   "source": [
    "# Citizen Bins\n",
    "def assign_degree_type_bins(DEGREE_TYPE):\n",
    "    if DEGREE_TYPE == 'BA':\n",
    "        return(1)\n",
    "    if DEGREE_TYPE == 'BS' or DEGREE_TYPE == 'BSE':\n",
    "        return(2)\n",
    "    else:\n",
    "        return(3)\n",
    "\n",
    "# Applying citizen bins function to the DataFrame\n",
    "df['Degree_Type_Bins'] = df['DEGREE_TYPE'].apply(assign_degree_type_bins)\n",
    "\n",
    "# verifying Degree Type Bins\n",
    "fig = plt.figure(figsize=(8,6))\n",
    "ax = sns.countplot(x=\"Degree_Type_Bins\", data=df, palette='Set1')\n",
    "plt.title('Degree Type Bins')"
   ]
  },
  {
   "cell_type": "code",
   "execution_count": 18,
   "metadata": {},
   "outputs": [
    {
     "name": "stdout",
     "output_type": "stream",
     "text": [
      "<class 'pandas.core.frame.DataFrame'>\n",
      "RangeIndex: 97395 entries, 0 to 97394\n",
      "Data columns (total 20 columns):\n",
      "HSCity              97097 non-null object\n",
      "HST                 94831 non-null object\n",
      "Major               97395 non-null object\n",
      "RGPA                71870 non-null float64\n",
      "RES                 77439 non-null object\n",
      "Active City         77427 non-null object\n",
      "Active Region       95875 non-null object\n",
      "Active Postal       76868 non-null object\n",
      "Active Country      77427 non-null object\n",
      "RESIDENT_CODE       19954 non-null object\n",
      "College_Bins        97395 non-null int64\n",
      "Legacy_Bins         97395 non-null int64\n",
      "PM_Bins             97395 non-null int64\n",
      "Merit_Bins          97395 non-null int64\n",
      "Jesuit_Bins         97395 non-null int64\n",
      "Religion_Bins       97395 non-null int64\n",
      "Ethnicity_Bins      97395 non-null int64\n",
      "First_GEN_Bins      97395 non-null int64\n",
      "Citizen_Bins        97395 non-null int64\n",
      "Degree_Type_Bins    97395 non-null int64\n",
      "dtypes: float64(1), int64(10), object(9)\n",
      "memory usage: 14.9+ MB\n"
     ]
    }
   ],
   "source": [
    "# drop original features that were binned\n",
    "df = df.drop(['College','First_GEN','P_M', 'Merit', 'Citizen', 'Sex','Ethnicity',\n",
    "       'Test Optional', 'Legacy','JESUIT', 'RELIGION','DEGREE_TYPE'], axis=1)\n",
    "df.info()"
   ]
  },
  {
   "cell_type": "markdown",
   "metadata": {},
   "source": [
    "## Imputation of Continuous Variables"
   ]
  },
  {
   "cell_type": "code",
   "execution_count": 19,
   "metadata": {},
   "outputs": [
    {
     "data": {
      "image/png": "[encoded data removed]",
      "text/plain": [
       "<Figure size 432x288 with 9 Axes>"
      ]
     },
     "metadata": {
      "needs_background": "light"
     },
     "output_type": "display_data"
    }
   ],
   "source": [
    "# exmaine the features in the dfcont dataframe \n",
    "for col in dfcont.columns:\n",
    "    dfcont.hist(color='blue')\n",
    "    break\n",
    "plt.show()"
   ]
  },
  {
   "cell_type": "code",
   "execution_count": 20,
   "metadata": {},
   "outputs": [
    {
     "name": "stdout",
     "output_type": "stream",
     "text": [
      "[0, 0, 0, 0, 0, 0, 0, 0]\n"
     ]
    }
   ],
   "source": [
    "# replace null value with mean because we have continuous variables and the features are too skewed to use the mode \n",
    "for value in dfcont.columns:\n",
    "    dfcont.fillna(dfcont.median(), inplace=True)\n",
    "print(dfcont.isnull().sum(axis=0).tolist())"
   ]
  },
  {
   "cell_type": "markdown",
   "metadata": {},
   "source": [
    "## Handling Location Features "
   ]
  },
  {
   "cell_type": "code",
   "execution_count": 22,
   "metadata": {},
   "outputs": [
    {
     "data": {
      "text/html": [
       "<div>\n",
       "<style scoped>\n",
       "    .dataframe tbody tr th:only-of-type {\n",
       "        vertical-align: middle;\n",
       "    }\n",
       "\n",
       "    .dataframe tbody tr th {\n",
       "        vertical-align: top;\n",
       "    }\n",
       "\n",
       "    .dataframe thead th {\n",
       "        text-align: right;\n",
       "    }\n",
       "</style>\n",
       "<table border=\"1\" class=\"dataframe\">\n",
       "  <thead>\n",
       "    <tr style=\"text-align: right;\">\n",
       "      <th></th>\n",
       "      <th>HSCity</th>\n",
       "      <th>HST</th>\n",
       "      <th>Major</th>\n",
       "      <th>RGPA</th>\n",
       "      <th>RES</th>\n",
       "      <th>Active City</th>\n",
       "      <th>Active Region</th>\n",
       "      <th>Active Postal</th>\n",
       "      <th>Active Country</th>\n",
       "      <th>RESIDENT_CODE</th>\n",
       "      <th>College_Bins</th>\n",
       "      <th>Legacy_Bins</th>\n",
       "      <th>PM_Bins</th>\n",
       "      <th>Merit_Bins</th>\n",
       "      <th>Jesuit_Bins</th>\n",
       "      <th>Religion_Bins</th>\n",
       "      <th>Ethnicity_Bins</th>\n",
       "      <th>First_GEN_Bins</th>\n",
       "      <th>Citizen_Bins</th>\n",
       "      <th>Degree_Type_Bins</th>\n",
       "    </tr>\n",
       "  </thead>\n",
       "  <tbody>\n",
       "    <tr>\n",
       "      <th>0</th>\n",
       "      <td>North Eastham</td>\n",
       "      <td>MA</td>\n",
       "      <td>Business Undeclared</td>\n",
       "      <td>2.15</td>\n",
       "      <td>R</td>\n",
       "      <td>South Yarmouth</td>\n",
       "      <td>MA</td>\n",
       "      <td>02664-5229</td>\n",
       "      <td>United States</td>\n",
       "      <td>NaN</td>\n",
       "      <td>1</td>\n",
       "      <td>2</td>\n",
       "      <td>2</td>\n",
       "      <td>2</td>\n",
       "      <td>2</td>\n",
       "      <td>2</td>\n",
       "      <td>2</td>\n",
       "      <td>1</td>\n",
       "      <td>1</td>\n",
       "      <td>2</td>\n",
       "    </tr>\n",
       "    <tr>\n",
       "      <th>1</th>\n",
       "      <td>Bridgeport</td>\n",
       "      <td>CT</td>\n",
       "      <td>Marketing</td>\n",
       "      <td>2.52</td>\n",
       "      <td>C</td>\n",
       "      <td>Bridgeport</td>\n",
       "      <td>CT</td>\n",
       "      <td>06606-4225</td>\n",
       "      <td>United States</td>\n",
       "      <td>NaN</td>\n",
       "      <td>1</td>\n",
       "      <td>2</td>\n",
       "      <td>2</td>\n",
       "      <td>2</td>\n",
       "      <td>2</td>\n",
       "      <td>2</td>\n",
       "      <td>2</td>\n",
       "      <td>1</td>\n",
       "      <td>1</td>\n",
       "      <td>2</td>\n",
       "    </tr>\n",
       "    <tr>\n",
       "      <th>2</th>\n",
       "      <td>Newark</td>\n",
       "      <td>NJ</td>\n",
       "      <td>Marketing</td>\n",
       "      <td>1.24</td>\n",
       "      <td>R</td>\n",
       "      <td>Newark</td>\n",
       "      <td>NJ</td>\n",
       "      <td>07108-1513</td>\n",
       "      <td>United States</td>\n",
       "      <td>NaN</td>\n",
       "      <td>1</td>\n",
       "      <td>2</td>\n",
       "      <td>2</td>\n",
       "      <td>2</td>\n",
       "      <td>2</td>\n",
       "      <td>2</td>\n",
       "      <td>2</td>\n",
       "      <td>2</td>\n",
       "      <td>1</td>\n",
       "      <td>2</td>\n",
       "    </tr>\n",
       "    <tr>\n",
       "      <th>3</th>\n",
       "      <td>New York</td>\n",
       "      <td>NY</td>\n",
       "      <td>Undeclared</td>\n",
       "      <td>1.90</td>\n",
       "      <td>R</td>\n",
       "      <td>Middle Vlg</td>\n",
       "      <td>NY</td>\n",
       "      <td>11379-1960</td>\n",
       "      <td>United States</td>\n",
       "      <td>NaN</td>\n",
       "      <td>2</td>\n",
       "      <td>2</td>\n",
       "      <td>2</td>\n",
       "      <td>2</td>\n",
       "      <td>2</td>\n",
       "      <td>2</td>\n",
       "      <td>1</td>\n",
       "      <td>2</td>\n",
       "      <td>1</td>\n",
       "      <td>1</td>\n",
       "    </tr>\n",
       "    <tr>\n",
       "      <th>4</th>\n",
       "      <td>Danbury</td>\n",
       "      <td>CT</td>\n",
       "      <td>Management</td>\n",
       "      <td>NaN</td>\n",
       "      <td>C</td>\n",
       "      <td>Danbury</td>\n",
       "      <td>CT</td>\n",
       "      <td>06810-6735</td>\n",
       "      <td>United States</td>\n",
       "      <td>NaN</td>\n",
       "      <td>1</td>\n",
       "      <td>2</td>\n",
       "      <td>2</td>\n",
       "      <td>2</td>\n",
       "      <td>2</td>\n",
       "      <td>2</td>\n",
       "      <td>2</td>\n",
       "      <td>1</td>\n",
       "      <td>1</td>\n",
       "      <td>2</td>\n",
       "    </tr>\n",
       "  </tbody>\n",
       "</table>\n",
       "</div>"
      ],
      "text/plain": [
       "          HSCity HST                Major  RGPA RES     Active City  \\\n",
       "0  North Eastham  MA  Business Undeclared  2.15   R  South Yarmouth   \n",
       "1     Bridgeport  CT            Marketing  2.52   C      Bridgeport   \n",
       "2         Newark  NJ            Marketing  1.24   R          Newark   \n",
       "3       New York  NY           Undeclared  1.90   R      Middle Vlg   \n",
       "4        Danbury  CT           Management   NaN   C         Danbury   \n",
       "\n",
       "  Active Region Active Postal Active Country RESIDENT_CODE  College_Bins  \\\n",
       "0            MA    02664-5229  United States           NaN             1   \n",
       "1            CT    06606-4225  United States           NaN             1   \n",
       "2            NJ    07108-1513  United States           NaN             1   \n",
       "3            NY    11379-1960  United States           NaN             2   \n",
       "4            CT    06810-6735  United States           NaN             1   \n",
       "\n",
       "   Legacy_Bins  PM_Bins  Merit_Bins  Jesuit_Bins  Religion_Bins  \\\n",
       "0            2        2           2            2              2   \n",
       "1            2        2           2            2              2   \n",
       "2            2        2           2            2              2   \n",
       "3            2        2           2            2              2   \n",
       "4            2        2           2            2              2   \n",
       "\n",
       "   Ethnicity_Bins  First_GEN_Bins  Citizen_Bins  Degree_Type_Bins  \n",
       "0               2               1             1                 2  \n",
       "1               2               1             1                 2  \n",
       "2               2               2             1                 2  \n",
       "3               1               2             1                 1  \n",
       "4               2               1             1                 2  "
      ]
     },
     "execution_count": 22,
     "metadata": {},
     "output_type": "execute_result"
    }
   ],
   "source": [
    "# drop rows where HSCity was missing > this was a low impact feature because not many were missing\n",
    "# also dropped the one row that was missing MAJOR_CODE\n",
    "df = df.dropna(axis=0, how='any', subset=['HSCity'])\n",
    "df.head()"
   ]
  },
  {
   "cell_type": "code",
   "execution_count": 23,
   "metadata": {},
   "outputs": [
    {
     "name": "stdout",
     "output_type": "stream",
     "text": [
      "<class 'pandas.core.frame.DataFrame'>\n",
      "Int64Index: 97097 entries, 0 to 97394\n",
      "Data columns (total 20 columns):\n",
      "HSCity              97097 non-null object\n",
      "HST                 94814 non-null object\n",
      "Major               97097 non-null object\n",
      "RGPA                71854 non-null float64\n",
      "RES                 77227 non-null object\n",
      "Active City         77215 non-null object\n",
      "Active Region       95728 non-null object\n",
      "Active Postal       76722 non-null object\n",
      "Active Country      77215 non-null object\n",
      "RESIDENT_CODE       19868 non-null object\n",
      "College_Bins        97097 non-null int64\n",
      "Legacy_Bins         97097 non-null int64\n",
      "PM_Bins             97097 non-null int64\n",
      "Merit_Bins          97097 non-null int64\n",
      "Jesuit_Bins         97097 non-null int64\n",
      "Religion_Bins       97097 non-null int64\n",
      "Ethnicity_Bins      97097 non-null int64\n",
      "First_GEN_Bins      97097 non-null int64\n",
      "Citizen_Bins        97097 non-null int64\n",
      "Degree_Type_Bins    97097 non-null int64\n",
      "dtypes: float64(1), int64(10), object(9)\n",
      "memory usage: 15.6+ MB\n"
     ]
    }
   ],
   "source": [
    "df.info()"
   ]
  },
  {
   "cell_type": "code",
   "execution_count": 24,
   "metadata": {},
   "outputs": [
    {
     "name": "stdout",
     "output_type": "stream",
     "text": [
      "['HSCity'] [HSCity                  0\n",
      "HST                  2283\n",
      "Major                   0\n",
      "RGPA                25243\n",
      "RES                 19870\n",
      "Active City         19882\n",
      "Active Region        1369\n",
      "Active Postal       20375\n",
      "Active Country      19882\n",
      "RESIDENT_CODE       77229\n",
      "College_Bins            0\n",
      "Legacy_Bins             0\n",
      "PM_Bins                 0\n",
      "Merit_Bins              0\n",
      "Jesuit_Bins             0\n",
      "Religion_Bins           0\n",
      "Ethnicity_Bins          0\n",
      "First_GEN_Bins          0\n",
      "Citizen_Bins            0\n",
      "Degree_Type_Bins        0\n",
      "dtype: int64]\n"
     ]
    }
   ],
   "source": [
    "# count how many missing values each feature in the main dataframe has \n",
    "names = []\n",
    "val = []\n",
    "\n",
    "for col in df.columns:\n",
    "    names.append(col)\n",
    "    val.append(df[df.columns].isnull().sum())\n",
    "    break\n",
    "# print out results as (column_name, # of null values in column_name)\n",
    "print(names, val)"
   ]
  },
  {
   "cell_type": "code",
   "execution_count": null,
   "metadata": {},
   "outputs": [],
   "source": []
  }
 ],
 "metadata": {
  "kernelspec": {
   "display_name": "Python 3",
   "language": "python",
   "name": "python3"
  },
  "language_info": {
   "codemirror_mode": {
    "name": "ipython",
    "version": 3
   },
   "file_extension": ".py",
   "mimetype": "text/x-python",
   "name": "python",
   "nbconvert_exporter": "python",
   "pygments_lexer": "ipython3",
   "version": "3.6.7"
  }
 },
 "nbformat": 4,
 "nbformat_minor": 2
}
